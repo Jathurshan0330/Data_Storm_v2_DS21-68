{
  "nbformat": 4,
  "nbformat_minor": 0,
  "metadata": {
    "colab": {
      "name": " DataStorm2.0 Day 2- Sub1.ipynb",
      "provenance": [],
      "collapsed_sections": [
        "KvcMYg7Eg7Mp",
        "oD1VC3Ntrt1o",
        "Y8QYGdzrsMLz",
        "SJ9fLI4PhB-F",
        "pyDUk13liskQ",
        "3HrriTpoiyaD",
        "CYo0sRZEu673",
        "iSM8d-t6wqyH",
        "gpVIPCAA31Ir",
        "sYXslpnd_gNj",
        "HyH6Ku3CAU3a",
        "EFfqO5nIDMdv",
        "tMVdeHLoA-5V",
        "YYLNXH6JAFmR",
        "GQJoQ1ALFzlt",
        "eZyhpjSRkKP0",
        "dyUkW5lnkjZj",
        "_gorpXkYk0DB",
        "Tz8G7CNjk90q",
        "_KibxSrOmO7g",
        "H1QoIIBvL7gH",
        "mRUR6NojwRxg",
        "Y2FHQ8Do-IOA"
      ]
    },
    "kernelspec": {
      "name": "python3",
      "display_name": "Python 3"
    },
    "accelerator": "GPU"
  },
  "cells": [
    {
      "cell_type": "markdown",
      "metadata": {
        "id": "KvcMYg7Eg7Mp"
      },
      "source": [
        "#Import Libraries"
      ]
    },
    {
      "cell_type": "markdown",
      "metadata": {
        "id": "oD1VC3Ntrt1o"
      },
      "source": [
        "##Neptune Ai"
      ]
    },
    {
      "cell_type": "code",
      "metadata": {
        "colab": {
          "base_uri": "https://localhost:8080/"
        },
        "id": "_r09JJunrtPs",
        "outputId": "2b76470b-0f6d-4eca-cc73-4234b9a49ffb"
      },
      "source": [
        "! pip install neptune-client==0.4.132\r\n"
      ],
      "execution_count": 1,
      "outputs": [
        {
          "output_type": "stream",
          "text": [
            "Collecting neptune-client==0.4.132\n",
            "\u001b[?25l  Downloading https://files.pythonhosted.org/packages/de/15/42e29c15a2f17c76038a6d707bc6d46f6e66a9db30cc4c2d54f0712b5ae4/neptune-client-0.4.132.tar.gz (110kB)\n",
            "\u001b[K     |████████████████████████████████| 112kB 14.0MB/s \n",
            "\u001b[?25hCollecting bravado\n",
            "  Downloading https://files.pythonhosted.org/packages/21/ed/03b0c36b5bcafbe2938ed222f9a164a6c0367ce99a9d2d502e462853571d/bravado-11.0.3-py2.py3-none-any.whl\n",
            "Requirement already satisfied: click>=7.0 in /usr/local/lib/python3.7/dist-packages (from neptune-client==0.4.132) (7.1.2)\n",
            "Collecting future>=0.17.1\n",
            "\u001b[?25l  Downloading https://files.pythonhosted.org/packages/45/0b/38b06fd9b92dc2b68d58b75f900e97884c45bedd2ff83203d933cf5851c9/future-0.18.2.tar.gz (829kB)\n",
            "\u001b[K     |████████████████████████████████| 829kB 29.3MB/s \n",
            "\u001b[?25hRequirement already satisfied: oauthlib>=2.1.0 in /usr/local/lib/python3.7/dist-packages (from neptune-client==0.4.132) (3.1.0)\n",
            "Requirement already satisfied: pandas in /usr/local/lib/python3.7/dist-packages (from neptune-client==0.4.132) (1.1.5)\n",
            "Requirement already satisfied: Pillow>=1.1.6 in /usr/local/lib/python3.7/dist-packages (from neptune-client==0.4.132) (7.0.0)\n",
            "Collecting PyJWT\n",
            "  Downloading https://files.pythonhosted.org/packages/b4/9b/8850f99027ed029af6828199cc87179eaccbbf1f9e6e373e7f0177d32dad/PyJWT-2.0.1-py3-none-any.whl\n",
            "Requirement already satisfied: requests>=2.20.0 in /usr/local/lib/python3.7/dist-packages (from neptune-client==0.4.132) (2.23.0)\n",
            "Requirement already satisfied: requests-oauthlib>=1.0.0 in /usr/local/lib/python3.7/dist-packages (from neptune-client==0.4.132) (1.3.0)\n",
            "Requirement already satisfied: six>=1.12.0 in /usr/local/lib/python3.7/dist-packages (from neptune-client==0.4.132) (1.15.0)\n",
            "Collecting websocket-client>=0.35.0\n",
            "\u001b[?25l  Downloading https://files.pythonhosted.org/packages/08/33/80e0d4f60e84a1ddd9a03f340be1065a2a363c47ce65c4bd3bae65ce9631/websocket_client-0.58.0-py2.py3-none-any.whl (61kB)\n",
            "\u001b[K     |████████████████████████████████| 61kB 9.1MB/s \n",
            "\u001b[?25hCollecting GitPython>=2.0.8\n",
            "\u001b[?25l  Downloading https://files.pythonhosted.org/packages/a6/99/98019716955ba243657daedd1de8f3a88ca1f5b75057c38e959db22fb87b/GitPython-3.1.14-py3-none-any.whl (159kB)\n",
            "\u001b[K     |████████████████████████████████| 163kB 44.9MB/s \n",
            "\u001b[?25hRequirement already satisfied: packaging in /usr/local/lib/python3.7/dist-packages (from neptune-client==0.4.132) (20.9)\n",
            "Requirement already satisfied: typing-extensions in /usr/local/lib/python3.7/dist-packages (from bravado->neptune-client==0.4.132) (3.7.4.3)\n",
            "Collecting monotonic\n",
            "  Downloading https://files.pythonhosted.org/packages/ac/aa/063eca6a416f397bd99552c534c6d11d57f58f2e94c14780f3bbf818c4cf/monotonic-1.5-py2.py3-none-any.whl\n",
            "Requirement already satisfied: python-dateutil in /usr/local/lib/python3.7/dist-packages (from bravado->neptune-client==0.4.132) (2.8.1)\n",
            "Requirement already satisfied: pyyaml in /usr/local/lib/python3.7/dist-packages (from bravado->neptune-client==0.4.132) (3.13)\n",
            "Requirement already satisfied: msgpack in /usr/local/lib/python3.7/dist-packages (from bravado->neptune-client==0.4.132) (1.0.2)\n",
            "Collecting bravado-core>=5.16.1\n",
            "\u001b[?25l  Downloading https://files.pythonhosted.org/packages/76/11/18e9d28a156c33f2d5f15a5e155dc7130250acb0a569255a2b6b307b596d/bravado_core-5.17.0-py2.py3-none-any.whl (67kB)\n",
            "\u001b[K     |████████████████████████████████| 71kB 10.2MB/s \n",
            "\u001b[?25hCollecting simplejson\n",
            "\u001b[?25l  Downloading https://files.pythonhosted.org/packages/a8/04/377418ac1e530ce2a196b54c6552c018fdf1fe776718053efb1f216bffcd/simplejson-3.17.2-cp37-cp37m-manylinux2010_x86_64.whl (128kB)\n",
            "\u001b[K     |████████████████████████████████| 133kB 50.3MB/s \n",
            "\u001b[?25hRequirement already satisfied: numpy>=1.15.4 in /usr/local/lib/python3.7/dist-packages (from pandas->neptune-client==0.4.132) (1.19.5)\n",
            "Requirement already satisfied: pytz>=2017.2 in /usr/local/lib/python3.7/dist-packages (from pandas->neptune-client==0.4.132) (2018.9)\n",
            "Requirement already satisfied: chardet<4,>=3.0.2 in /usr/local/lib/python3.7/dist-packages (from requests>=2.20.0->neptune-client==0.4.132) (3.0.4)\n",
            "Requirement already satisfied: idna<3,>=2.5 in /usr/local/lib/python3.7/dist-packages (from requests>=2.20.0->neptune-client==0.4.132) (2.10)\n",
            "Requirement already satisfied: urllib3!=1.25.0,!=1.25.1,<1.26,>=1.21.1 in /usr/local/lib/python3.7/dist-packages (from requests>=2.20.0->neptune-client==0.4.132) (1.24.3)\n",
            "Requirement already satisfied: certifi>=2017.4.17 in /usr/local/lib/python3.7/dist-packages (from requests>=2.20.0->neptune-client==0.4.132) (2020.12.5)\n",
            "Collecting gitdb<5,>=4.0.1\n",
            "\u001b[?25l  Downloading https://files.pythonhosted.org/packages/48/11/d1800bca0a3bae820b84b7d813ad1eff15a48a64caea9c823fc8c1b119e8/gitdb-4.0.5-py3-none-any.whl (63kB)\n",
            "\u001b[K     |████████████████████████████████| 71kB 9.8MB/s \n",
            "\u001b[?25hRequirement already satisfied: pyparsing>=2.0.2 in /usr/local/lib/python3.7/dist-packages (from packaging->neptune-client==0.4.132) (2.4.7)\n",
            "Collecting swagger-spec-validator>=2.0.1\n",
            "  Downloading https://files.pythonhosted.org/packages/09/de/e78cefbf5838b434b63a789264b79821cb2267f1498fbed23ef8590133e4/swagger_spec_validator-2.7.3-py2.py3-none-any.whl\n",
            "Requirement already satisfied: jsonschema[format]>=2.5.1 in /usr/local/lib/python3.7/dist-packages (from bravado-core>=5.16.1->bravado->neptune-client==0.4.132) (2.6.0)\n",
            "Collecting jsonref\n",
            "  Downloading https://files.pythonhosted.org/packages/07/92/f8e4ac824b14af77e613984e480fa818397c72d4141fc466decb26752749/jsonref-0.2-py3-none-any.whl\n",
            "Collecting smmap<4,>=3.0.1\n",
            "  Downloading https://files.pythonhosted.org/packages/d5/1e/6130925131f639b2acde0f7f18b73e33ce082ff2d90783c436b52040af5a/smmap-3.0.5-py2.py3-none-any.whl\n",
            "Collecting rfc3987; extra == \"format\"\n",
            "  Downloading https://files.pythonhosted.org/packages/65/d4/f7407c3d15d5ac779c3dd34fbbc6ea2090f77bd7dd12f207ccf881551208/rfc3987-1.3.8-py2.py3-none-any.whl\n",
            "Collecting webcolors; extra == \"format\"\n",
            "  Downloading https://files.pythonhosted.org/packages/12/05/3350559de9714b202e443a9e6312937341bd5f79f4e4f625744295e7dd17/webcolors-1.11.1-py3-none-any.whl\n",
            "Collecting strict-rfc3339; extra == \"format\"\n",
            "  Downloading https://files.pythonhosted.org/packages/56/e4/879ef1dbd6ddea1c77c0078cd59b503368b0456bcca7d063a870ca2119d3/strict-rfc3339-0.7.tar.gz\n",
            "Building wheels for collected packages: neptune-client, future, strict-rfc3339\n",
            "  Building wheel for neptune-client (setup.py) ... \u001b[?25l\u001b[?25hdone\n",
            "  Created wheel for neptune-client: filename=neptune_client-0.4.132-py2.py3-none-any.whl size=166223 sha256=ae6f32138f21c5b19db136e07c7c593e0a9954d4fe9b397ea080d0a326b3156f\n",
            "  Stored in directory: /root/.cache/pip/wheels/ef/17/bc/2f8eef68e5adb68415d3634a6c70185860f4461b00c1c6a37b\n",
            "  Building wheel for future (setup.py) ... \u001b[?25l\u001b[?25hdone\n",
            "  Created wheel for future: filename=future-0.18.2-cp37-none-any.whl size=491058 sha256=4050a9665e85574ec0a7b0f2f5440df31513e1e9517c9ded922b706754a5a0a2\n",
            "  Stored in directory: /root/.cache/pip/wheels/8b/99/a0/81daf51dcd359a9377b110a8a886b3895921802d2fc1b2397e\n",
            "  Building wheel for strict-rfc3339 (setup.py) ... \u001b[?25l\u001b[?25hdone\n",
            "  Created wheel for strict-rfc3339: filename=strict_rfc3339-0.7-cp37-none-any.whl size=18121 sha256=f5322ea5f96524b1da276020339a3725299bb1c4110ff753bb0ce586afcd5634\n",
            "  Stored in directory: /root/.cache/pip/wheels/bb/af/c9/b6e9fb5f9b2470e4ed2a7241c9ab3a8cdd3bc8555ae02ca2e6\n",
            "Successfully built neptune-client future strict-rfc3339\n",
            "Installing collected packages: monotonic, swagger-spec-validator, jsonref, simplejson, bravado-core, bravado, future, PyJWT, websocket-client, smmap, gitdb, GitPython, neptune-client, rfc3987, webcolors, strict-rfc3339\n",
            "  Found existing installation: future 0.16.0\n",
            "    Uninstalling future-0.16.0:\n",
            "      Successfully uninstalled future-0.16.0\n",
            "Successfully installed GitPython-3.1.14 PyJWT-2.0.1 bravado-11.0.3 bravado-core-5.17.0 future-0.18.2 gitdb-4.0.5 jsonref-0.2 monotonic-1.5 neptune-client-0.4.132 rfc3987-1.3.8 simplejson-3.17.2 smmap-3.0.5 strict-rfc3339-0.7 swagger-spec-validator-2.7.3 webcolors-1.11.1 websocket-client-0.58.0\n"
          ],
          "name": "stdout"
        }
      ]
    },
    {
      "cell_type": "code",
      "metadata": {
        "colab": {
          "base_uri": "https://localhost:8080/"
        },
        "id": "D1Bu88-Ks_Ij",
        "outputId": "f7cb0ee0-d53d-4d08-c899-83497945fcbb"
      },
      "source": [
        "pip install  neptune-contrib neptune-client\r\n"
      ],
      "execution_count": 2,
      "outputs": [
        {
          "output_type": "stream",
          "text": [
            "Collecting neptune-contrib\n",
            "\u001b[?25l  Downloading https://files.pythonhosted.org/packages/b7/ab/58a6f3c0531faa575222097b390a3f654870c07fea63b8e7f055a976c8a1/neptune-contrib-0.27.1.tar.gz (69kB)\n",
            "\r\u001b[K     |████▊                           | 10kB 24.7MB/s eta 0:00:01\r\u001b[K     |█████████▌                      | 20kB 30.7MB/s eta 0:00:01\r\u001b[K     |██████████████▏                 | 30kB 22.8MB/s eta 0:00:01\r\u001b[K     |███████████████████             | 40kB 26.3MB/s eta 0:00:01\r\u001b[K     |███████████████████████▊        | 51kB 25.3MB/s eta 0:00:01\r\u001b[K     |████████████████████████████▍   | 61kB 28.0MB/s eta 0:00:01\r\u001b[K     |████████████████████████████████| 71kB 7.9MB/s \n",
            "\u001b[?25hRequirement already satisfied: neptune-client in /usr/local/lib/python3.7/dist-packages (0.4.132)\n",
            "Collecting attrdict>=2.0.0\n",
            "  Downloading https://files.pythonhosted.org/packages/ef/97/28fe7e68bc7adfce67d4339756e85e9fcf3c6fd7f0c0781695352b70472c/attrdict-2.0.1-py2.py3-none-any.whl\n",
            "Requirement already satisfied: joblib>=0.13 in /usr/local/lib/python3.7/dist-packages (from neptune-contrib) (1.0.1)\n",
            "Requirement already satisfied: pandas in /usr/local/lib/python3.7/dist-packages (from neptune-contrib) (1.1.5)\n",
            "Requirement already satisfied: matplotlib in /usr/local/lib/python3.7/dist-packages (from neptune-contrib) (3.2.2)\n",
            "Requirement already satisfied: Pillow>=6.2.0 in /usr/local/lib/python3.7/dist-packages (from neptune-contrib) (7.0.0)\n",
            "Requirement already satisfied: requests>=2.20.0 in /usr/local/lib/python3.7/dist-packages (from neptune-client) (2.23.0)\n",
            "Requirement already satisfied: click>=7.0 in /usr/local/lib/python3.7/dist-packages (from neptune-client) (7.1.2)\n",
            "Requirement already satisfied: oauthlib>=2.1.0 in /usr/local/lib/python3.7/dist-packages (from neptune-client) (3.1.0)\n",
            "Requirement already satisfied: requests-oauthlib>=1.0.0 in /usr/local/lib/python3.7/dist-packages (from neptune-client) (1.3.0)\n",
            "Requirement already satisfied: six>=1.12.0 in /usr/local/lib/python3.7/dist-packages (from neptune-client) (1.15.0)\n",
            "Requirement already satisfied: websocket-client>=0.35.0 in /usr/local/lib/python3.7/dist-packages (from neptune-client) (0.58.0)\n",
            "Requirement already satisfied: PyJWT in /usr/local/lib/python3.7/dist-packages (from neptune-client) (2.0.1)\n",
            "Requirement already satisfied: bravado in /usr/local/lib/python3.7/dist-packages (from neptune-client) (11.0.3)\n",
            "Requirement already satisfied: packaging in /usr/local/lib/python3.7/dist-packages (from neptune-client) (20.9)\n",
            "Requirement already satisfied: GitPython>=2.0.8 in /usr/local/lib/python3.7/dist-packages (from neptune-client) (3.1.14)\n",
            "Requirement already satisfied: future>=0.17.1 in /usr/local/lib/python3.7/dist-packages (from neptune-client) (0.18.2)\n",
            "Requirement already satisfied: numpy>=1.15.4 in /usr/local/lib/python3.7/dist-packages (from pandas->neptune-contrib) (1.19.5)\n",
            "Requirement already satisfied: pytz>=2017.2 in /usr/local/lib/python3.7/dist-packages (from pandas->neptune-contrib) (2018.9)\n",
            "Requirement already satisfied: python-dateutil>=2.7.3 in /usr/local/lib/python3.7/dist-packages (from pandas->neptune-contrib) (2.8.1)\n",
            "Requirement already satisfied: cycler>=0.10 in /usr/local/lib/python3.7/dist-packages (from matplotlib->neptune-contrib) (0.10.0)\n",
            "Requirement already satisfied: kiwisolver>=1.0.1 in /usr/local/lib/python3.7/dist-packages (from matplotlib->neptune-contrib) (1.3.1)\n",
            "Requirement already satisfied: pyparsing!=2.0.4,!=2.1.2,!=2.1.6,>=2.0.1 in /usr/local/lib/python3.7/dist-packages (from matplotlib->neptune-contrib) (2.4.7)\n",
            "Requirement already satisfied: chardet<4,>=3.0.2 in /usr/local/lib/python3.7/dist-packages (from requests>=2.20.0->neptune-client) (3.0.4)\n",
            "Requirement already satisfied: certifi>=2017.4.17 in /usr/local/lib/python3.7/dist-packages (from requests>=2.20.0->neptune-client) (2020.12.5)\n",
            "Requirement already satisfied: idna<3,>=2.5 in /usr/local/lib/python3.7/dist-packages (from requests>=2.20.0->neptune-client) (2.10)\n",
            "Requirement already satisfied: urllib3!=1.25.0,!=1.25.1,<1.26,>=1.21.1 in /usr/local/lib/python3.7/dist-packages (from requests>=2.20.0->neptune-client) (1.24.3)\n",
            "Requirement already satisfied: simplejson in /usr/local/lib/python3.7/dist-packages (from bravado->neptune-client) (3.17.2)\n",
            "Requirement already satisfied: monotonic in /usr/local/lib/python3.7/dist-packages (from bravado->neptune-client) (1.5)\n",
            "Requirement already satisfied: bravado-core>=5.16.1 in /usr/local/lib/python3.7/dist-packages (from bravado->neptune-client) (5.17.0)\n",
            "Requirement already satisfied: typing-extensions in /usr/local/lib/python3.7/dist-packages (from bravado->neptune-client) (3.7.4.3)\n",
            "Requirement already satisfied: pyyaml in /usr/local/lib/python3.7/dist-packages (from bravado->neptune-client) (3.13)\n",
            "Requirement already satisfied: msgpack in /usr/local/lib/python3.7/dist-packages (from bravado->neptune-client) (1.0.2)\n",
            "Requirement already satisfied: gitdb<5,>=4.0.1 in /usr/local/lib/python3.7/dist-packages (from GitPython>=2.0.8->neptune-client) (4.0.5)\n",
            "Requirement already satisfied: jsonref in /usr/local/lib/python3.7/dist-packages (from bravado-core>=5.16.1->bravado->neptune-client) (0.2)\n",
            "Requirement already satisfied: swagger-spec-validator>=2.0.1 in /usr/local/lib/python3.7/dist-packages (from bravado-core>=5.16.1->bravado->neptune-client) (2.7.3)\n",
            "Requirement already satisfied: jsonschema[format]>=2.5.1 in /usr/local/lib/python3.7/dist-packages (from bravado-core>=5.16.1->bravado->neptune-client) (2.6.0)\n",
            "Requirement already satisfied: smmap<4,>=3.0.1 in /usr/local/lib/python3.7/dist-packages (from gitdb<5,>=4.0.1->GitPython>=2.0.8->neptune-client) (3.0.5)\n",
            "Requirement already satisfied: strict-rfc3339; extra == \"format\" in /usr/local/lib/python3.7/dist-packages (from jsonschema[format]>=2.5.1->bravado-core>=5.16.1->bravado->neptune-client) (0.7)\n",
            "Requirement already satisfied: webcolors; extra == \"format\" in /usr/local/lib/python3.7/dist-packages (from jsonschema[format]>=2.5.1->bravado-core>=5.16.1->bravado->neptune-client) (1.11.1)\n",
            "Requirement already satisfied: rfc3987; extra == \"format\" in /usr/local/lib/python3.7/dist-packages (from jsonschema[format]>=2.5.1->bravado-core>=5.16.1->bravado->neptune-client) (1.3.8)\n",
            "Building wheels for collected packages: neptune-contrib\n",
            "  Building wheel for neptune-contrib (setup.py) ... \u001b[?25l\u001b[?25hdone\n",
            "  Created wheel for neptune-contrib: filename=neptune_contrib-0.27.1-cp37-none-any.whl size=81334 sha256=9808a6e326c5d73a673bf2a6ddd44d914c2c0e9332bc236ad248699d0d4a98fc\n",
            "  Stored in directory: /root/.cache/pip/wheels/81/79/bc/e5458e541cc4714c4fc233b1cd6deb076f310ca411f31062b4\n",
            "Successfully built neptune-contrib\n",
            "Installing collected packages: attrdict, neptune-contrib\n",
            "Successfully installed attrdict-2.0.1 neptune-contrib-0.27.1\n"
          ],
          "name": "stdout"
        }
      ]
    },
    {
      "cell_type": "code",
      "metadata": {
        "colab": {
          "base_uri": "https://localhost:8080/"
        },
        "id": "xODauqvZr2_e",
        "outputId": "0a4720f3-cc1c-4d98-dfd3-afd315fdeb57"
      },
      "source": [
        "import neptune\r\n",
        "from neptunecontrib.monitoring.keras import NeptuneMonitor\r\n",
        "neptune.init(project_qualified_name='jathurshan0330/DataStorm2-round1', # change this to your `workspace_name/project_name`\r\n",
        "             api_token='eyJhcGlfYWRkcmVzcyI6Imh0dHBzOi8vdWkubmVwdHVuZS5haSIsImFwaV91cmwiOiJodHRwczovL3VpLm5lcHR1bmUuYWkiLCJhcGlfa2V5IjoiZmJkZjYxNGYtMTA0ZC00ZTc1LWJiMTYtNzczNjgwZWQ3OTUzIn0=', # change this to your api token\r\n",
        "            )"
      ],
      "execution_count": 3,
      "outputs": [
        {
          "output_type": "execute_result",
          "data": {
            "text/plain": [
              "Project(jathurshan0330/DataStorm2-round1)"
            ]
          },
          "metadata": {
            "tags": []
          },
          "execution_count": 3
        }
      ]
    },
    {
      "cell_type": "markdown",
      "metadata": {
        "id": "Y8QYGdzrsMLz"
      },
      "source": [
        "##other necessary libraries"
      ]
    },
    {
      "cell_type": "code",
      "metadata": {
        "id": "vgWUBI95eR_-"
      },
      "source": [
        "import os\r\n",
        "import sys\r\n",
        "import numpy as np\r\n",
        "import pandas as pd\r\n",
        "import matplotlib.pyplot as plt\r\n",
        "import scipy.io\r\n",
        "import seaborn as sns\r\n",
        "from sklearn.model_selection import train_test_split\r\n",
        "import tensorflow as tf\r\n",
        "from scipy import stats \r\n",
        "from tensorflow.keras.models import Sequential,Model\r\n",
        "from tensorflow.keras.layers import Dense, Input,LSTM,Reshape,Conv2D,Flatten,Dropout,BatchNormalization, LeakyReLU, concatenate, GRU, GlobalMaxPooling1D, GlobalMaxPooling2D, Bidirectional"
      ],
      "execution_count": 4,
      "outputs": []
    },
    {
      "cell_type": "code",
      "metadata": {
        "colab": {
          "base_uri": "https://localhost:8080/"
        },
        "id": "qVw6UsLvAk8y",
        "outputId": "133bfb41-f008-4b7f-fbb5-e0eec471ac56"
      },
      "source": [
        "!pip install scikit-plot"
      ],
      "execution_count": 5,
      "outputs": [
        {
          "output_type": "stream",
          "text": [
            "Collecting scikit-plot\n",
            "  Downloading https://files.pythonhosted.org/packages/7c/47/32520e259340c140a4ad27c1b97050dd3254fdc517b1d59974d47037510e/scikit_plot-0.3.7-py3-none-any.whl\n",
            "Requirement already satisfied: scikit-learn>=0.18 in /usr/local/lib/python3.7/dist-packages (from scikit-plot) (0.22.2.post1)\n",
            "Requirement already satisfied: matplotlib>=1.4.0 in /usr/local/lib/python3.7/dist-packages (from scikit-plot) (3.2.2)\n",
            "Requirement already satisfied: joblib>=0.10 in /usr/local/lib/python3.7/dist-packages (from scikit-plot) (1.0.1)\n",
            "Requirement already satisfied: scipy>=0.9 in /usr/local/lib/python3.7/dist-packages (from scikit-plot) (1.4.1)\n",
            "Requirement already satisfied: numpy>=1.11.0 in /usr/local/lib/python3.7/dist-packages (from scikit-learn>=0.18->scikit-plot) (1.19.5)\n",
            "Requirement already satisfied: pyparsing!=2.0.4,!=2.1.2,!=2.1.6,>=2.0.1 in /usr/local/lib/python3.7/dist-packages (from matplotlib>=1.4.0->scikit-plot) (2.4.7)\n",
            "Requirement already satisfied: python-dateutil>=2.1 in /usr/local/lib/python3.7/dist-packages (from matplotlib>=1.4.0->scikit-plot) (2.8.1)\n",
            "Requirement already satisfied: kiwisolver>=1.0.1 in /usr/local/lib/python3.7/dist-packages (from matplotlib>=1.4.0->scikit-plot) (1.3.1)\n",
            "Requirement already satisfied: cycler>=0.10 in /usr/local/lib/python3.7/dist-packages (from matplotlib>=1.4.0->scikit-plot) (0.10.0)\n",
            "Requirement already satisfied: six>=1.5 in /usr/local/lib/python3.7/dist-packages (from python-dateutil>=2.1->matplotlib>=1.4.0->scikit-plot) (1.15.0)\n",
            "Installing collected packages: scikit-plot\n",
            "Successfully installed scikit-plot-0.3.7\n"
          ],
          "name": "stdout"
        }
      ]
    },
    {
      "cell_type": "markdown",
      "metadata": {
        "id": "SJ9fLI4PhB-F"
      },
      "source": [
        "#Read Data"
      ]
    },
    {
      "cell_type": "markdown",
      "metadata": {
        "id": "pyDUk13liskQ"
      },
      "source": [
        "##Mount Drive"
      ]
    },
    {
      "cell_type": "code",
      "metadata": {
        "colab": {
          "base_uri": "https://localhost:8080/"
        },
        "id": "8tMfAusZeXlc",
        "outputId": "f23e186f-4836-430f-e2c7-b8eb9f54ade4"
      },
      "source": [
        "from google.colab import drive\r\n",
        "drive.mount('/content/drive')"
      ],
      "execution_count": 13,
      "outputs": [
        {
          "output_type": "stream",
          "text": [
            "Drive already mounted at /content/drive; to attempt to forcibly remount, call drive.mount(\"/content/drive\", force_remount=True).\n"
          ],
          "name": "stdout"
        }
      ]
    },
    {
      "cell_type": "code",
      "metadata": {
        "colab": {
          "base_uri": "https://localhost:8080/"
        },
        "id": "h73RjtZveaoz",
        "outputId": "e1dc35e8-5cab-4c12-937e-66d04dfe8389"
      },
      "source": [
        "cd '/content/drive/My Drive/Datastorm2.0'"
      ],
      "execution_count": 14,
      "outputs": [
        {
          "output_type": "stream",
          "text": [
            "/content/drive/My Drive/Datastorm2.0\n"
          ],
          "name": "stdout"
        }
      ]
    },
    {
      "cell_type": "code",
      "metadata": {
        "colab": {
          "base_uri": "https://localhost:8080/"
        },
        "id": "0kMFX-PPefgF",
        "outputId": "58cb084b-3465-4e2c-8b50-3c238a31d725"
      },
      "source": [
        "!ls '/content/drive/My Drive/Datastorm2.0'"
      ],
      "execution_count": 15,
      "outputs": [
        {
          "output_type": "stream",
          "text": [
            "DataStorm2.0_Q1-v2.pdf\n",
            "Hotel-A-data-dictionary.csv\n",
            "Hotel-A-test.csv\n",
            "Hotel-A-train.csv\n",
            "Hotel-A-validation.csv\n",
            "submission_KNN_upsampled_0.33_0.33_0.33.csv\n",
            "submission_XGBoost_upsampled_0.33_0.33_0.33_hypertuned_0.3694.csv\n",
            "submission_XGBoost_upsampled_0.33_0.33_0.33_hypertuned_03694.csv\n",
            "submission_XGBoost_upsampled_0.33_0.33_0.33_selected_feature_16.csv\n",
            "train_data_upsamp_2.csv\n",
            "train_data_upsamp_3.csv\n",
            "train_data_upsamp_4.csv\n",
            "train_data_upsamp_5.csv\n",
            "train_data_upsamp.csv\n",
            "train_labels_upsamp_2.csv\n",
            "train_labels_upsamp_3.csv\n",
            "train_labels_upsamp_4.csv\n",
            "train_labels_upsamp_5.csv\n",
            "train_labels_upsamp.csv\n"
          ],
          "name": "stdout"
        }
      ]
    },
    {
      "cell_type": "markdown",
      "metadata": {
        "id": "3HrriTpoiyaD"
      },
      "source": [
        "##Data"
      ]
    },
    {
      "cell_type": "code",
      "metadata": {
        "colab": {
          "base_uri": "https://localhost:8080/"
        },
        "id": "7NolRjB3fyDJ",
        "outputId": "39905838-4609-4f59-c5f3-0ad3054adb79"
      },
      "source": [
        "train_data = pd.read_csv('Hotel-A-train.csv')\r\n",
        "print(train_data.head()) \r\n",
        "print(train_data.shape)\r\n",
        "val_data = pd.read_csv('Hotel-A-validation.csv')\r\n",
        "print(val_data.head()) \r\n",
        "print(val_data.shape)\r\n",
        "test_data = pd.read_csv('Hotel-A-test.csv')\r\n",
        "print(test_data.head())\r\n",
        "print(test_data.shape) \r\n",
        "\r\n"
      ],
      "execution_count": 16,
      "outputs": [
        {
          "output_type": "stream",
          "text": [
            "   Reservation-id Gender  Age  ... Use_Promotion Discount_Rate Room_Rate\n",
            "0        39428300      F   40  ...           Yes            10       218\n",
            "1        77491756      F   49  ...            No             0       185\n",
            "2        73747291      F   42  ...            No             0       119\n",
            "3        67301739      M   25  ...           Yes             5       144\n",
            "4        77222321      F   62  ...           Yes            10       242\n",
            "\n",
            "[5 rows x 24 columns]\n",
            "(27499, 24)\n",
            "   Reservation-id Gender  Age  ... Use_Promotion Discount_Rate Room_Rate\n",
            "0        45716350      M   56  ...           Yes            15       192\n",
            "1        88857401      M   60  ...            No             0       187\n",
            "2        16074440      F   58  ...           Yes            10       227\n",
            "3        10992124      F   23  ...           Yes            25       189\n",
            "4        15934351      F   47  ...           Yes            10       218\n",
            "\n",
            "[5 rows x 24 columns]\n",
            "(2749, 24)\n",
            "   Reservation-id Gender  Age  ... Use_Promotion Discount_Rate Room_Rate\n",
            "0        62931593      F   52  ...           Yes            10       153\n",
            "1        70586099      F   47  ...            No             0       210\n",
            "2         4230648      F   28  ...           Yes             5       117\n",
            "3        25192322      F   65  ...           Yes            10       107\n",
            "4        80931528      M   45  ...            No             0       119\n",
            "\n",
            "[5 rows x 23 columns]\n",
            "(4318, 23)\n"
          ],
          "name": "stdout"
        }
      ]
    },
    {
      "cell_type": "code",
      "metadata": {
        "colab": {
          "base_uri": "https://localhost:8080/"
        },
        "id": "_-FAXfn0nCLi",
        "outputId": "93d2df7e-66ae-4ba9-c91a-e840037e892b"
      },
      "source": [
        "print(train_data.isna().sum())\r\n",
        "print(val_data.isna().sum())\r\n",
        "print(test_data.isna().sum())"
      ],
      "execution_count": 17,
      "outputs": [
        {
          "output_type": "stream",
          "text": [
            "Reservation-id            0\n",
            "Gender                    0\n",
            "Age                       0\n",
            "Ethnicity                 0\n",
            "Educational_Level         0\n",
            "Income                    0\n",
            "Country_region            0\n",
            "Hotel_Type                0\n",
            "Expected_checkin          0\n",
            "Expected_checkout         0\n",
            "Booking_date              0\n",
            "Adults                    0\n",
            "Children                  0\n",
            "Babies                    0\n",
            "Meal_Type                 0\n",
            "Visted_Previously         0\n",
            "Previous_Cancellations    0\n",
            "Deposit_type              0\n",
            "Booking_channel           0\n",
            "Required_Car_Parking      0\n",
            "Reservation_Status        0\n",
            "Use_Promotion             0\n",
            "Discount_Rate             0\n",
            "Room_Rate                 0\n",
            "dtype: int64\n",
            "Reservation-id            0\n",
            "Gender                    0\n",
            "Age                       0\n",
            "Ethnicity                 0\n",
            "Educational_Level         0\n",
            "Income                    0\n",
            "Country_region            0\n",
            "Hotel_Type                0\n",
            "Expected_checkin          0\n",
            "Expected_checkout         0\n",
            "Booking_date              0\n",
            "Adults                    0\n",
            "Children                  0\n",
            "Babies                    0\n",
            "Meal_Type                 0\n",
            "Visted_Previously         0\n",
            "Previous_Cancellations    0\n",
            "Deposit_type              0\n",
            "Booking_channel           0\n",
            "Required_Car_Parking      0\n",
            "Reservation_Status        0\n",
            "Use_Promotion             0\n",
            "Discount_Rate             0\n",
            "Room_Rate                 0\n",
            "dtype: int64\n",
            "Reservation-id            0\n",
            "Gender                    0\n",
            "Age                       0\n",
            "Ethnicity                 0\n",
            "Educational_Level         0\n",
            "Income                    0\n",
            "Country_region            0\n",
            "Hotel_Type                0\n",
            "Expected_checkin          0\n",
            "Expected_checkout         0\n",
            "Booking_date              0\n",
            "Adults                    0\n",
            "Children                  0\n",
            "Babies                    0\n",
            "Meal_Type                 0\n",
            "Visted_Previously         0\n",
            "Previous_Cancellations    0\n",
            "Deposit_type              0\n",
            "Booking_channel           0\n",
            "Required_Car_Parking      0\n",
            "Use_Promotion             0\n",
            "Discount_Rate             0\n",
            "Room_Rate                 0\n",
            "dtype: int64\n"
          ],
          "name": "stdout"
        }
      ]
    },
    {
      "cell_type": "code",
      "metadata": {
        "colab": {
          "base_uri": "https://localhost:8080/"
        },
        "id": "6nBOmQmHhSew",
        "outputId": "49d0e86f-ba78-442c-db0b-82a64754185d"
      },
      "source": [
        "train_labels = train_data.pop(\"Reservation_Status\")\r\n",
        "print(train_labels.head())\r\n",
        "\r\n",
        "for i in range (len(train_labels)):\r\n",
        "  if train_labels[i] == 'Check-In':\r\n",
        "    train_labels[i] = 1\r\n",
        "  if train_labels[i] == 'Canceled':\r\n",
        "    train_labels[i] = 2\r\n",
        "  if train_labels[i] == 'No-Show':\r\n",
        "    train_labels[i] = 3\r\n",
        "\r\n",
        "print(train_labels.head()) \r\n",
        "\r\n",
        "val_labels = val_data.pop(\"Reservation_Status\")\r\n",
        "print(val_labels.head())\r\n",
        "\r\n",
        "for i in range (len(val_labels)):\r\n",
        "  if val_labels[i] == 'Check-In':\r\n",
        "    val_labels[i] = 1\r\n",
        "   \r\n",
        "  if val_labels[i] == 'Canceled':\r\n",
        "    val_labels[i] = 2\r\n",
        "  if val_labels[i] == 'No-Show':\r\n",
        "    val_labels[i] = 3\r\n",
        "\r\n",
        "print(val_labels.head()) "
      ],
      "execution_count": 18,
      "outputs": [
        {
          "output_type": "stream",
          "text": [
            "0    Check-In\n",
            "1    Check-In\n",
            "2    Check-In\n",
            "3    Check-In\n",
            "4    Check-In\n",
            "Name: Reservation_Status, dtype: object\n",
            "0    1\n",
            "1    1\n",
            "2    1\n",
            "3    1\n",
            "4    1\n",
            "Name: Reservation_Status, dtype: object\n",
            "0     No-Show\n",
            "1    Canceled\n",
            "2    Canceled\n",
            "3    Check-In\n",
            "4    Check-In\n",
            "Name: Reservation_Status, dtype: object\n",
            "0    3\n",
            "1    2\n",
            "2    2\n",
            "3    1\n",
            "4    1\n",
            "Name: Reservation_Status, dtype: object\n"
          ],
          "name": "stdout"
        }
      ]
    },
    {
      "cell_type": "code",
      "metadata": {
        "colab": {
          "base_uri": "https://localhost:8080/"
        },
        "id": "2WU1t035i8WK",
        "outputId": "5c8d3c27-372c-455d-e4e9-1eb7a5038568"
      },
      "source": [
        "print(\"No of Check-In in training data : \" +str((train_labels == 1).sum()))\r\n",
        "print(\"No of Canceled in training data : \" +str((train_labels == 2).sum()))\r\n",
        "print(\"No of No-Show in training data : \" +str((train_labels == 3).sum()))\r\n",
        "tot=(train_labels == 1).sum()+(train_labels == 2).sum()+(train_labels == 3).sum()\r\n",
        "print(\"Ratio of Check-In : Canceled : No-Show  in training data = \" +str((train_labels == 1).sum()/tot)+' : '+str((train_labels == 2).sum()/tot)+' : '+str((train_labels == 3).sum()/tot))\r\n",
        "\r\n",
        "\r\n",
        "print(\"No of Check-In in validation data : \" +str((val_labels == 1).sum()))\r\n",
        "print(\"No of Canceled in validation data : \" +str((val_labels == 2).sum()))\r\n",
        "print(\"No of No-Show in validation data : \" +str((val_labels == 3).sum()))\r\n",
        "tot=(val_labels == 1).sum()+(val_labels == 2).sum()+(val_labels == 3).sum()\r\n",
        "print(\"Ratio of Check-In : Canceled : No-Show  in Validation data = \" +str((val_labels == 1).sum()/tot)+' : '+str((val_labels == 2).sum()/tot)+' : '+str((val_labels == 3).sum()/tot))\r\n"
      ],
      "execution_count": 19,
      "outputs": [
        {
          "output_type": "stream",
          "text": [
            "No of Check-In in training data : 21240\n",
            "No of Canceled in training data : 4134\n",
            "No of No-Show in training data : 2125\n",
            "Ratio of Check-In : Canceled : No-Show  in training data = 0.772391723335394 : 0.15033273937234082 : 0.07727553729226518\n",
            "No of Check-In in validation data : 1610\n",
            "No of Canceled in validation data : 741\n",
            "No of No-Show in validation data : 398\n",
            "Ratio of Check-In : Canceled : No-Show  in Validation data = 0.5856675154601674 : 0.26955256456893417 : 0.1447799199708985\n"
          ],
          "name": "stdout"
        }
      ]
    },
    {
      "cell_type": "markdown",
      "metadata": {
        "id": "7OdcsXyr1LTH"
      },
      "source": [
        "#Data Preprocessing"
      ]
    },
    {
      "cell_type": "markdown",
      "metadata": {
        "id": "CYo0sRZEu673"
      },
      "source": [
        "##Extracting features from Check in and reservation date"
      ]
    },
    {
      "cell_type": "code",
      "metadata": {
        "id": "_FFfbgsg_gMP"
      },
      "source": [
        "from datetime import datetime\r\n",
        "def days(start_date, end_date):\r\n",
        "  start_date = datetime.strptime(start_date, \"%m/%d/%Y\")\r\n",
        "  end_date = datetime.strptime(end_date, \"%m/%d/%Y\")\r\n",
        "  #print((end_date - start_date).days)\r\n",
        "  return (end_date - start_date).days\r\n",
        "\r\n",
        "def weekday(date):\r\n",
        "  year = datetime.strptime(str(date), '%m/%d/%Y').year\r\n",
        "  month = datetime.strptime(str(date), '%m/%d/%Y').month\r\n",
        "  day = datetime.strptime(str(date), '%m/%d/%Y').day\r\n",
        "  #print(year,month,day)\r\n",
        "  x = datetime(year,month,day)\r\n",
        "  week_no = x.strftime(\"%w\")   #0 = Sunday, 1 = Monday, 2 = Tuesday, 3 = Wednesday, 4 = Thurday, 5 = Friday, 6 = Saturday\r\n",
        "  return int(week_no)\r\n",
        "  \r\n",
        "def weekend(start_date, end_date):\r\n",
        "  weeklist = [0,1,2,3,4,5,6,0,1,2,3,4,5,6]\r\n",
        "  start = weekday(start_date)\r\n",
        "  end = weekday(end_date)\r\n",
        "  duration = days(start_date, end_date)\r\n",
        "  if duration >= 7:\r\n",
        "    return 1\r\n",
        "  else:\r\n",
        "    stayed = weeklist[start : start + duration]\r\n",
        "    #print(\"start day :\", start, \"; end day :\", end)\r\n",
        "    #print(start,duration,stayed)\r\n",
        "    if (0 or 1) in stayed:\r\n",
        "      return 1\r\n",
        "    else:\r\n",
        "      return 0\r\n"
      ],
      "execution_count": 20,
      "outputs": []
    },
    {
      "cell_type": "code",
      "metadata": {
        "colab": {
          "base_uri": "https://localhost:8080/"
        },
        "id": "Vt5YwGoFvKj1",
        "outputId": "abb6b026-3be2-4efc-9824-872f6e14f367"
      },
      "source": [
        "#for training data\r\n",
        "week_end_train = []\r\n",
        "stay_duration = []\r\n",
        "reserve_duration = []\r\n",
        "a = 0\r\n",
        "temp_a = []\r\n",
        "b = 0\r\n",
        "temp_b = []\r\n",
        "for i in range(len(train_labels)):\r\n",
        "  checkin = train_data[\"Expected_checkin\"][i]\r\n",
        "  checkout = train_data[\"Expected_checkout\"][i]\r\n",
        "  reserve = train_data[\"Booking_date\"][i]\r\n",
        "  if days(reserve,checkin ) == 0 and train_labels[i] != 1:\r\n",
        "    a+=1\r\n",
        "    temp_a.append(i)\r\n",
        "  if days(reserve,checkout ) < 0 and train_labels[i] != 1:\r\n",
        "    b+=1\r\n",
        "    temp_b.append(i)\r\n",
        "  stay_duration.append(days(checkin,checkout))\r\n",
        "  reserve_duration.append(days(reserve,checkout ))\r\n",
        "  week_end_train.append(weekend(checkin, checkout))\r\n",
        "\r\n",
        "stay_duration = pd.DataFrame(stay_duration, columns=['stay_duration'])\r\n",
        "reserve_duration = pd.DataFrame(reserve_duration, columns=['reserve_duration'])\r\n",
        "week_end_train = pd.DataFrame(week_end_train, columns=['week_end'])\r\n",
        "print(temp_a)\r\n",
        "print(temp_b)\r\n",
        "#print(train_data[\"Expected_checkin\"][6])\r\n",
        "#print(train_data[\"Booking_date\"][6])\r\n",
        "print(a)\r\n",
        "print(b)\r\n",
        "print(stay_duration.head())\r\n",
        "print(stay_duration.shape)\r\n",
        "print(week_end_train.head())\r\n",
        "print(week_end_train.shape)\r\n",
        "print(reserve_duration.head())\r\n",
        "print(reserve_duration.shape)"
      ],
      "execution_count": 21,
      "outputs": [
        {
          "output_type": "stream",
          "text": [
            "[13037, 13670, 13914, 14353, 14413, 14917, 17124, 17370, 17409, 18272, 18855, 20622, 21445, 21558, 22491, 23216, 23739, 24359, 24505, 24988, 25506, 26021, 27049, 27285]\n",
            "[]\n",
            "24\n",
            "0\n",
            "   stay_duration\n",
            "0              1\n",
            "1              1\n",
            "2              4\n",
            "3              1\n",
            "4              1\n",
            "(27499, 1)\n",
            "   week_end\n",
            "0         0\n",
            "1         0\n",
            "2         0\n",
            "3         0\n",
            "4         0\n",
            "(27499, 1)\n",
            "   reserve_duration\n",
            "0                42\n",
            "1                37\n",
            "2                 7\n",
            "3                13\n",
            "4                14\n",
            "(27499, 1)\n"
          ],
          "name": "stdout"
        }
      ]
    },
    {
      "cell_type": "code",
      "metadata": {
        "colab": {
          "base_uri": "https://localhost:8080/"
        },
        "id": "HcCEEDIq2qWs",
        "outputId": "cea5a46d-9f59-44b4-d094-97360c32926e"
      },
      "source": [
        "#for validation data\r\n",
        "week_end_val = []\r\n",
        "stay_duration_val = []\r\n",
        "reserve_duration_val = []\r\n",
        "a = 0\r\n",
        "temp_a = []\r\n",
        "b = 0\r\n",
        "temp_b = []\r\n",
        "for i in range(len(val_labels)):\r\n",
        "  checkin = val_data[\"Expected_checkin\"][i]\r\n",
        "  checkout = val_data[\"Expected_checkout\"][i]\r\n",
        "  reserve = val_data[\"Booking_date\"][i]\r\n",
        "  if days(reserve,checkin ) == 0 and val_labels[i] != 1:\r\n",
        "    a+=1\r\n",
        "    temp_a.append(i)\r\n",
        "  if days(reserve,checkin ) < 0 and val_labels[i] != 1:\r\n",
        "    b+=1\r\n",
        "    temp_b.append(i)\r\n",
        "  stay_duration_val.append(days(checkin,checkout))\r\n",
        "  reserve_duration_val.append(days(reserve,checkout ))\r\n",
        "  week_end_val.append(weekend(checkin, checkout))\r\n",
        "\r\n",
        "stay_duration_val = pd.DataFrame(stay_duration_val, columns=['stay_duration'])\r\n",
        "reserve_duration_val = pd.DataFrame(reserve_duration_val, columns=['reserve_duration'])\r\n",
        "week_end_val = pd.DataFrame(week_end_val, columns=['week_end'])\r\n",
        "print(temp_a)\r\n",
        "print(temp_b)\r\n",
        "#print(train_data[\"Expected_checkin\"][6])\r\n",
        "#print(train_data[\"Booking_date\"][6])\r\n",
        "print(a)\r\n",
        "print(b)\r\n",
        "print(stay_duration_val.head())\r\n",
        "print(stay_duration_val.shape)\r\n",
        "print(week_end_val.head())\r\n",
        "print(week_end_val.shape)\r\n",
        "print(reserve_duration_val.head())\r\n",
        "print(reserve_duration_val.shape)"
      ],
      "execution_count": 22,
      "outputs": [
        {
          "output_type": "stream",
          "text": [
            "[286, 1862, 1924, 1928]\n",
            "[200, 256, 780, 1066, 1338, 1384, 1789, 2324]\n",
            "4\n",
            "8\n",
            "   stay_duration\n",
            "0              2\n",
            "1              4\n",
            "2              1\n",
            "3              2\n",
            "4              1\n",
            "(2749, 1)\n",
            "   week_end\n",
            "0         0\n",
            "1         0\n",
            "2         0\n",
            "3         0\n",
            "4         0\n",
            "(2749, 1)\n",
            "   reserve_duration\n",
            "0               197\n",
            "1               179\n",
            "2               194\n",
            "3               105\n",
            "4                93\n",
            "(2749, 1)\n"
          ],
          "name": "stdout"
        }
      ]
    },
    {
      "cell_type": "code",
      "metadata": {
        "colab": {
          "base_uri": "https://localhost:8080/"
        },
        "id": "1qWjnxVA4G-P",
        "outputId": "7c739d10-b78b-4300-a706-65221a8c4cfe"
      },
      "source": [
        "#for test data\r\n",
        "week_end_test = []\r\n",
        "stay_duration_test = []\r\n",
        "reserve_duration_test = []\r\n",
        "a = 0\r\n",
        "temp_a = []\r\n",
        "b = 0\r\n",
        "temp_b = []\r\n",
        "for i in range(len(test_data[\"Expected_checkin\"])):\r\n",
        "  checkin = test_data[\"Expected_checkin\"][i]\r\n",
        "  checkout = test_data[\"Expected_checkout\"][i]\r\n",
        "  reserve = test_data[\"Booking_date\"][i]\r\n",
        "  if days(reserve,checkin ) == 0:\r\n",
        "    a+=1\r\n",
        "    temp_a.append(i)\r\n",
        "  if days(reserve,checkin ) < 0 :\r\n",
        "    b+=1\r\n",
        "    temp_b.append(i)\r\n",
        "  stay_duration_test.append(days(checkin,checkout))\r\n",
        "  reserve_duration_test.append(days(reserve,checkout ))\r\n",
        "  week_end_test.append(weekend(checkin, checkout))\r\n",
        "\r\n",
        "stay_duration_test = pd.DataFrame(stay_duration_test, columns=['stay_duration'])\r\n",
        "reserve_duration_test = pd.DataFrame(reserve_duration_test, columns=['reserve_duration'])\r\n",
        "week_end_test = pd.DataFrame(week_end_test, columns=['week_end'])\r\n",
        "print(temp_a)\r\n",
        "print(temp_b)\r\n",
        "#print(train_data[\"Expected_checkin\"][6])\r\n",
        "#print(train_data[\"Booking_date\"][6])\r\n",
        "print(a)\r\n",
        "print(b)\r\n",
        "print(stay_duration_test.head())\r\n",
        "print(stay_duration_test.shape)\r\n",
        "print(week_end_test.head())\r\n",
        "print(week_end_test.shape)\r\n",
        "print(reserve_duration_test.head())\r\n",
        "print(reserve_duration_test.shape)"
      ],
      "execution_count": 23,
      "outputs": [
        {
          "output_type": "stream",
          "text": [
            "[134, 449, 470, 604, 690, 767, 982, 1157, 1557, 1824, 2490, 2601, 2709, 2813, 2973, 3041, 3300, 3923, 3978, 4209, 4248, 4317]\n",
            "[72, 439, 465, 487, 632, 803, 915, 918, 1070, 1406, 1469, 1521, 1580, 1797, 1891, 1900, 1914, 2082, 2176, 2313, 2789, 3063, 3375, 3444, 3476, 3478, 3535]\n",
            "22\n",
            "27\n",
            "   stay_duration\n",
            "0              1\n",
            "1              1\n",
            "2              3\n",
            "3              2\n",
            "4              2\n",
            "(4318, 1)\n",
            "   week_end\n",
            "0         0\n",
            "1         0\n",
            "2         0\n",
            "3         0\n",
            "4         0\n",
            "(4318, 1)\n",
            "   reserve_duration\n",
            "0                22\n",
            "1               105\n",
            "2                23\n",
            "3               184\n",
            "4                20\n",
            "(4318, 1)\n"
          ],
          "name": "stdout"
        }
      ]
    },
    {
      "cell_type": "code",
      "metadata": {
        "colab": {
          "base_uri": "https://localhost:8080/"
        },
        "id": "AGTBnWN5PU75",
        "outputId": "bfc27424-32c3-4422-ffb1-4a54f77676cb"
      },
      "source": [
        "#concat features\r\n",
        "\r\n",
        "train_data=pd.concat([train_data,week_end_train],axis=1)\r\n",
        "train_data=pd.concat([train_data,stay_duration],axis=1)\r\n",
        "train_data=pd.concat([train_data,reserve_duration],axis=1)\r\n",
        "\r\n",
        "val_data=pd.concat([val_data,week_end_val],axis=1)\r\n",
        "val_data=pd.concat([val_data,stay_duration_val],axis=1)\r\n",
        "val_data=pd.concat([val_data,reserve_duration_val],axis=1)\r\n",
        "\r\n",
        "test_data=pd.concat([test_data,week_end_test],axis=1)\r\n",
        "test_data=pd.concat([test_data,stay_duration_test],axis=1)\r\n",
        "test_data=pd.concat([test_data,reserve_duration_test],axis=1)\r\n",
        "\r\n",
        "print(train_data.shape)\r\n",
        "print(val_data.shape)\r\n",
        "print(test_data.shape)"
      ],
      "execution_count": 24,
      "outputs": [
        {
          "output_type": "stream",
          "text": [
            "(27499, 26)\n",
            "(2749, 26)\n",
            "(4318, 26)\n"
          ],
          "name": "stdout"
        }
      ]
    },
    {
      "cell_type": "markdown",
      "metadata": {
        "id": "zHyuG1ul-gNf"
      },
      "source": [
        "##Imbalanced Data Handling"
      ]
    },
    {
      "cell_type": "markdown",
      "metadata": {
        "id": "sYXslpnd_gNj"
      },
      "source": [
        "###READ previously saved data"
      ]
    },
    {
      "cell_type": "code",
      "metadata": {
        "colab": {
          "base_uri": "https://localhost:8080/"
        },
        "id": "bCvSDfRz_kcO",
        "outputId": "c3658875-b292-4a6c-ed6d-be5a89b3dd68"
      },
      "source": [
        "train_data = pd.read_csv('train_data_upsamp_3.csv')          # 3 is best\r\n",
        "print(train_data.head()) \r\n",
        "print(train_data.shape)\r\n",
        "train_labels = pd.read_csv('train_labels_upsamp_3.csv')\r\n",
        "print(train_labels.head()) \r\n",
        "print(train_labels.shape)\r\n",
        "\r\n"
      ],
      "execution_count": 25,
      "outputs": [
        {
          "output_type": "stream",
          "text": [
            "   Reservation-id Gender  Age  ... week_end stay_duration reserve_duration\n",
            "0        39428300      F   40  ...        0             1               42\n",
            "1        77491756      F   49  ...        0             1               37\n",
            "2        73747291      F   42  ...        0             4                7\n",
            "3        67301739      M   25  ...        0             1               13\n",
            "4        77222321      F   62  ...        0             1               14\n",
            "\n",
            "[5 rows x 26 columns]\n",
            "(61035, 26)\n",
            "   0\n",
            "0  1\n",
            "1  1\n",
            "2  1\n",
            "3  1\n",
            "4  1\n",
            "(61035, 1)\n"
          ],
          "name": "stdout"
        }
      ]
    },
    {
      "cell_type": "markdown",
      "metadata": {
        "id": "UEQwgPDXANnq"
      },
      "source": [
        "###Upsampling"
      ]
    },
    {
      "cell_type": "code",
      "metadata": {
        "id": "ktV9K9ZE-kja"
      },
      "source": [
        "#Up Sampling   data.iloc [[3, 4], [1, 2]]\r\n",
        "temp = train_labels.copy()\r\n",
        "for i in range(len(temp)):\r\n",
        "  if i%(len(temp)//10)==0:\r\n",
        "    print('.',end='')\r\n",
        "  if temp[i]==2:\r\n",
        "    x = train_data.iloc[i,:]\r\n",
        "    x1 = pd.Series(data={'Reservation_Status':2})\r\n",
        "  \r\n",
        "    train_data = train_data.append(x, ignore_index = True) \r\n",
        "    train_data = train_data.append(x, ignore_index = True) \r\n",
        "    train_data = train_data.append(x, ignore_index = True) \r\n",
        "    train_data = train_data.append(x, ignore_index = True) \r\n",
        "     \r\n",
        "\r\n",
        "    train_labels = train_labels.append(x1, ignore_index = True)\r\n",
        "    train_labels = train_labels.append(x1, ignore_index = True)\r\n",
        "    train_labels = train_labels.append(x1, ignore_index = True)\r\n",
        "    train_labels = train_labels.append(x1, ignore_index = True)\r\n",
        "    \r\n",
        "\r\n",
        "  if temp[i]==3:\r\n",
        "    x=train_data.iloc[i,:]\r\n",
        "    x1 = pd.Series(data={'Reservation_Status':3})\r\n",
        "    train_data = train_data.append(x, ignore_index = True) \r\n",
        "    train_data = train_data.append(x, ignore_index = True) \r\n",
        "    train_data = train_data.append(x, ignore_index = True) \r\n",
        "    train_data = train_data.append(x, ignore_index = True) \r\n",
        "    train_data = train_data.append(x, ignore_index = True) \r\n",
        "    train_data = train_data.append(x, ignore_index = True) \r\n",
        "    train_data = train_data.append(x, ignore_index = True) \r\n",
        "    train_data = train_data.append(x, ignore_index = True)\r\n",
        "    \r\n",
        "    train_labels = train_labels.append(x1, ignore_index = True)\r\n",
        "    train_labels = train_labels.append(x1, ignore_index = True)\r\n",
        "    train_labels = train_labels.append(x1, ignore_index = True)\r\n",
        "    train_labels = train_labels.append(x1, ignore_index = True)\r\n",
        "    train_labels = train_labels.append(x1, ignore_index = True)\r\n",
        "    train_labels = train_labels.append(x1, ignore_index = True)\r\n",
        "    train_labels = train_labels.append(x1, ignore_index = True)\r\n",
        "    train_labels = train_labels.append(x1, ignore_index = True)\r\n",
        "    #break\r\n",
        "\r\n",
        "print(train_data.shape)\r\n",
        "print(x)\r\n",
        "print(train_data.iloc[-1,:])\r\n",
        "print(train_labels.shape)\r\n",
        "print(train_labels.iloc[-1])\r\n",
        "print(x1)"
      ],
      "execution_count": null,
      "outputs": []
    },
    {
      "cell_type": "code",
      "metadata": {
        "id": "8i1YIEa_T3O7"
      },
      "source": [
        "#Save upsampled data\r\n",
        "train_data.to_csv('train_data_upsamp_5.csv',index=False)\r\n",
        "train_labels.to_csv('train_labels_upsamp_5.csv',index=False)"
      ],
      "execution_count": null,
      "outputs": []
    },
    {
      "cell_type": "code",
      "metadata": {
        "colab": {
          "base_uri": "https://localhost:8080/"
        },
        "id": "wte1SDMDJUjQ",
        "outputId": "ccf67ce5-a479-4d04-a37c-d97d84bc3d38"
      },
      "source": [
        "from imblearn.over_sampling import SMOTE , RandomOverSampler\r\n",
        "from imblearn.under_sampling import EditedNearestNeighbours\r\n",
        "sm = EditedNearestNeighbours()\r\n",
        "train_columns = train_data.columns\r\n",
        "#sm = SMOTE() \r\n",
        "train_data, train_label = sm.fit_resample(train_data,train_label)\r\n",
        "train_data = pd.DataFrame(train_data, columns = train_columns) "
      ],
      "execution_count": null,
      "outputs": [
        {
          "output_type": "stream",
          "text": [
            "/usr/local/lib/python3.7/dist-packages/imblearn/utils/_validation.py:93: UserWarning: 'y' should be of types ('binary', 'multiclass', 'multilabel-indicator') only. Got unknown instead.\n",
            "  TARGET_KIND, type_of_target(y)))\n",
            "/usr/local/lib/python3.7/dist-packages/sklearn/utils/deprecation.py:87: FutureWarning: Function safe_indexing is deprecated; safe_indexing is deprecated in version 0.22 and will be removed in version 0.24.\n",
            "  warnings.warn(msg, category=FutureWarning)\n",
            "/usr/local/lib/python3.7/dist-packages/sklearn/utils/deprecation.py:87: FutureWarning: Function safe_indexing is deprecated; safe_indexing is deprecated in version 0.22 and will be removed in version 0.24.\n",
            "  warnings.warn(msg, category=FutureWarning)\n",
            "/usr/local/lib/python3.7/dist-packages/sklearn/utils/deprecation.py:87: FutureWarning: Function safe_indexing is deprecated; safe_indexing is deprecated in version 0.22 and will be removed in version 0.24.\n",
            "  warnings.warn(msg, category=FutureWarning)\n"
          ],
          "name": "stderr"
        }
      ]
    },
    {
      "cell_type": "markdown",
      "metadata": {
        "id": "HyH6Ku3CAU3a"
      },
      "source": [
        "###Checking Ratios\r\n"
      ]
    },
    {
      "cell_type": "code",
      "metadata": {
        "colab": {
          "base_uri": "https://localhost:8080/"
        },
        "id": "gCLUA35uVkt1",
        "outputId": "c63c2665-9be9-4565-e1a3-59dab44aeefa"
      },
      "source": [
        "print(\"No of Check-In in training data : \" +str((train_labels == 1).sum()))\r\n",
        "print(\"No of Canceled in training data : \" +str((train_labels == 2).sum()))\r\n",
        "print(\"No of No-Show in training data : \" +str((train_labels == 3).sum()))\r\n",
        "tot=(train_labels == 1).sum()+(train_labels == 2).sum()+(train_labels == 3).sum()\r\n",
        "print(\"Ratio of Check-In : Canceled : No-Show  in training data = \" +str((train_labels == 1).sum()/tot)+' : '+str((train_labels == 2).sum()/tot)+' : '+str((train_labels == 3).sum()/tot))\r\n",
        "\r\n",
        "\r\n",
        "print(\"No of Check-In in validation data : \" +str((val_labels == 1).sum()))\r\n",
        "print(\"No of Canceled in validation data : \" +str((val_labels == 2).sum()))\r\n",
        "print(\"No of No-Show in validation data : \" +str((val_labels == 3).sum()))\r\n",
        "tot=(val_labels == 1).sum()+(val_labels == 2).sum()+(val_labels == 3).sum()\r\n",
        "print(\"Ratio of Check-In : Canceled : No-Show  in Validation data = \" +str((val_labels == 1).sum()/tot)+' : '+str((val_labels == 2).sum()/tot)+' : '+str((val_labels == 3).sum()/tot))\r\n"
      ],
      "execution_count": 26,
      "outputs": [
        {
          "output_type": "stream",
          "text": [
            "No of Check-In in training data : 0    21240\n",
            "dtype: int64\n",
            "No of Canceled in training data : 0    20670\n",
            "dtype: int64\n",
            "No of No-Show in training data : 0    19125\n",
            "dtype: int64\n",
            "Ratio of Check-In : Canceled : No-Show  in training data = 0    0.347997\n",
            "dtype: float64 : 0    0.338658\n",
            "dtype: float64 : 0    0.313345\n",
            "dtype: float64\n",
            "No of Check-In in validation data : 1610\n",
            "No of Canceled in validation data : 741\n",
            "No of No-Show in validation data : 398\n",
            "Ratio of Check-In : Canceled : No-Show  in Validation data = 0.5856675154601674 : 0.26955256456893417 : 0.1447799199708985\n"
          ],
          "name": "stdout"
        }
      ]
    },
    {
      "cell_type": "markdown",
      "metadata": {
        "id": "64k5nSUH1OMG"
      },
      "source": [
        "## Encoding Categorical data"
      ]
    },
    {
      "cell_type": "code",
      "metadata": {
        "colab": {
          "base_uri": "https://localhost:8080/"
        },
        "id": "uT50RVYZrf2p",
        "outputId": "6eb26f95-537d-43fb-f87f-90b169a6ec86"
      },
      "source": [
        "print(train_data.columns)\r\n",
        "print(len(train_data.columns))\r\n",
        "\r\n",
        "print(val_data.columns)\r\n",
        "print(len(val_data.columns))\r\n",
        "\r\n",
        "print(test_data.columns)\r\n",
        "print(len(test_data.columns))"
      ],
      "execution_count": 27,
      "outputs": [
        {
          "output_type": "stream",
          "text": [
            "Index(['Reservation-id', 'Gender', 'Age', 'Ethnicity', 'Educational_Level',\n",
            "       'Income', 'Country_region', 'Hotel_Type', 'Expected_checkin',\n",
            "       'Expected_checkout', 'Booking_date', 'Adults', 'Children', 'Babies',\n",
            "       'Meal_Type', 'Visted_Previously', 'Previous_Cancellations',\n",
            "       'Deposit_type', 'Booking_channel', 'Required_Car_Parking',\n",
            "       'Use_Promotion', 'Discount_Rate', 'Room_Rate', 'week_end',\n",
            "       'stay_duration', 'reserve_duration'],\n",
            "      dtype='object')\n",
            "26\n",
            "Index(['Reservation-id', 'Gender', 'Age', 'Ethnicity', 'Educational_Level',\n",
            "       'Income', 'Country_region', 'Hotel_Type', 'Expected_checkin',\n",
            "       'Expected_checkout', 'Booking_date', 'Adults', 'Children', 'Babies',\n",
            "       'Meal_Type', 'Visted_Previously', 'Previous_Cancellations',\n",
            "       'Deposit_type', 'Booking_channel', 'Required_Car_Parking',\n",
            "       'Use_Promotion', 'Discount_Rate', 'Room_Rate', 'week_end',\n",
            "       'stay_duration', 'reserve_duration'],\n",
            "      dtype='object')\n",
            "26\n",
            "Index(['Reservation-id', 'Gender', 'Age', 'Ethnicity', 'Educational_Level',\n",
            "       'Income', 'Country_region', 'Hotel_Type', 'Expected_checkin',\n",
            "       'Expected_checkout', 'Booking_date', 'Adults', 'Children', 'Babies',\n",
            "       'Meal_Type', 'Visted_Previously', 'Previous_Cancellations',\n",
            "       'Deposit_type', 'Booking_channel', 'Required_Car_Parking',\n",
            "       'Use_Promotion', 'Discount_Rate', 'Room_Rate', 'week_end',\n",
            "       'stay_duration', 'reserve_duration'],\n",
            "      dtype='object')\n",
            "26\n"
          ],
          "name": "stdout"
        }
      ]
    },
    {
      "cell_type": "code",
      "metadata": {
        "colab": {
          "base_uri": "https://localhost:8080/"
        },
        "id": "2xBgwQPDryDt",
        "outputId": "d0d34dce-55e8-466a-b8f5-126866cbec22"
      },
      "source": [
        "#train data\r\n",
        "gender_dummies=pd.get_dummies(train_data['Gender'],drop_first=True, prefix='Gen')\r\n",
        "gender=train_data.pop('Gender')\r\n",
        "train_data=pd.concat([train_data,gender_dummies],axis=1)\r\n",
        "\r\n",
        "eth_dummies=pd.get_dummies(train_data['Ethnicity'],drop_first=False, prefix='Eth')\r\n",
        "eth=train_data.pop('Ethnicity')\r\n",
        "train_data=pd.concat([train_data,eth_dummies],axis=1)\r\n",
        "\r\n",
        "edu_dummies=pd.get_dummies(train_data['Educational_Level'],drop_first=False, prefix='Edu')\r\n",
        "edu=train_data.pop('Educational_Level')\r\n",
        "train_data=pd.concat([train_data,edu_dummies],axis=1)\r\n",
        "\r\n",
        "in_dummies=pd.get_dummies(train_data['Income'],drop_first=False, prefix='In')\r\n",
        "in_dummies=in_dummies.rename(columns={'In_25K --50K': 'In_25K_50K', 'In_50K -- 100K': 'In_50K_100K', 'In_<25K':'In_below25K', 'In_>100K':'In_above100K' })\r\n",
        "income=train_data.pop('Income')\r\n",
        "train_data=pd.concat([train_data,in_dummies],axis=1)\r\n",
        "\r\n",
        "region_dummies=pd.get_dummies(train_data['Country_region'],drop_first=False, prefix='Coun')\r\n",
        "region=train_data.pop('Country_region')\r\n",
        "train_data=pd.concat([train_data,region_dummies],axis=1)\r\n",
        "\r\n",
        "hotel_dummies=pd.get_dummies(train_data['Hotel_Type'],drop_first=False, prefix='Hotel')\r\n",
        "hotel=train_data.pop('Hotel_Type')\r\n",
        "train_data=pd.concat([train_data,hotel_dummies],axis=1)\r\n",
        "\r\n",
        "meal_dummies=pd.get_dummies(train_data['Meal_Type'],drop_first=False, prefix='Meal')\r\n",
        "meal=train_data.pop('Meal_Type')\r\n",
        "train_data=pd.concat([train_data,meal_dummies],axis=1)\r\n",
        "\r\n",
        "visit_prev_dummies=pd.get_dummies(train_data['Visted_Previously'],drop_first=True, prefix='Visit')\r\n",
        "visit_prev=train_data.pop('Visted_Previously')\r\n",
        "train_data=pd.concat([train_data,visit_prev_dummies],axis=1)\r\n",
        "\r\n",
        "prev_can_dummies=pd.get_dummies(train_data['Previous_Cancellations'],drop_first=True, prefix='Prev_can')\r\n",
        "prev_can=train_data.pop('Previous_Cancellations')\r\n",
        "train_data=pd.concat([train_data,prev_can_dummies],axis=1)\r\n",
        "\r\n",
        "dep_dummies=pd.get_dummies(train_data['Deposit_type'],drop_first=False, prefix='Dep')\r\n",
        "dep=train_data.pop('Deposit_type')\r\n",
        "train_data=pd.concat([train_data,dep_dummies],axis=1)\r\n",
        "\r\n",
        "book_dummies=pd.get_dummies(train_data['Booking_channel'],drop_first=False, prefix='Book')\r\n",
        "book=train_data.pop('Booking_channel')\r\n",
        "train_data=pd.concat([train_data,book_dummies],axis=1)\r\n",
        "\r\n",
        "car_dummies=pd.get_dummies(train_data['Required_Car_Parking'],drop_first=True, prefix='Car')\r\n",
        "car=train_data.pop('Required_Car_Parking')\r\n",
        "train_data=pd.concat([train_data,car_dummies],axis=1)\r\n",
        "\r\n",
        "promo_dummies=pd.get_dummies(train_data['Use_Promotion'],drop_first=True, prefix='Promo')\r\n",
        "promo=train_data.pop('Use_Promotion')\r\n",
        "train_data=pd.concat([train_data,promo_dummies],axis=1)\r\n",
        "\r\n",
        "\r\n",
        "\r\n",
        "print(train_data.columns)\r\n",
        "print(train_data.head())"
      ],
      "execution_count": 28,
      "outputs": [
        {
          "output_type": "stream",
          "text": [
            "Index(['Reservation-id', 'Age', 'Expected_checkin', 'Expected_checkout',\n",
            "       'Booking_date', 'Adults', 'Children', 'Babies', 'Discount_Rate',\n",
            "       'Room_Rate', 'week_end', 'stay_duration', 'reserve_duration', 'Gen_M',\n",
            "       'Eth_African American', 'Eth_Asian American', 'Eth_Latino',\n",
            "       'Eth_caucasian', 'Edu_College', 'Edu_Grad', 'Edu_High-School',\n",
            "       'Edu_Mid-School', 'In_25K_50K', 'In_50K_100K', 'In_below25K',\n",
            "       'In_above100K', 'Coun_East', 'Coun_North', 'Coun_South', 'Coun_West',\n",
            "       'Hotel_Airport Hotels', 'Hotel_City Hotel', 'Hotel_Resort', 'Meal_BB',\n",
            "       'Meal_FB', 'Meal_HB', 'Visit_Yes', 'Prev_can_Yes', 'Dep_No Deposit',\n",
            "       'Dep_Non-Refundable', 'Dep_Refundable', 'Book_Agent', 'Book_Direct',\n",
            "       'Book_Online', 'Car_Yes', 'Promo_Yes'],\n",
            "      dtype='object')\n",
            "   Reservation-id  Age Expected_checkin  ... Book_Online Car_Yes  Promo_Yes\n",
            "0        39428300   40         7/1/2015  ...           1       1          1\n",
            "1        77491756   49         7/1/2015  ...           1       1          0\n",
            "2        73747291   42         7/2/2015  ...           1       1          0\n",
            "3        67301739   25         7/2/2015  ...           0       1          1\n",
            "4        77222321   62         7/3/2015  ...           0       0          1\n",
            "\n",
            "[5 rows x 46 columns]\n"
          ],
          "name": "stdout"
        }
      ]
    },
    {
      "cell_type": "code",
      "metadata": {
        "colab": {
          "base_uri": "https://localhost:8080/"
        },
        "id": "Nr3piP9Z2_aX",
        "outputId": "78493cfc-f3e8-4857-e285-5cd2d673be0c"
      },
      "source": [
        "#Val data\r\n",
        "gender_dummies=pd.get_dummies(val_data['Gender'],drop_first=True, prefix='Gen')\r\n",
        "gender=val_data.pop('Gender')\r\n",
        "val_data=pd.concat([val_data,gender_dummies],axis=1)\r\n",
        "\r\n",
        "eth_dummies=pd.get_dummies(val_data['Ethnicity'],drop_first=False, prefix='Eth')\r\n",
        "eth=val_data.pop('Ethnicity')\r\n",
        "val_data=pd.concat([val_data,eth_dummies],axis=1)\r\n",
        "\r\n",
        "edu_dummies=pd.get_dummies(val_data['Educational_Level'],drop_first=False, prefix='Edu')\r\n",
        "edu=val_data.pop('Educational_Level')\r\n",
        "val_data=pd.concat([val_data,edu_dummies],axis=1)\r\n",
        "\r\n",
        "in_dummies=pd.get_dummies(val_data['Income'],drop_first=False, prefix='In')\r\n",
        "in_dummies=in_dummies.rename(columns={'In_25K --50K': 'In_25K_50K', 'In_50K -- 100K': 'In_50K_100K', 'In_<25K':'In_below25K', 'In_>100K':'In_above100K' })\r\n",
        "income=val_data.pop('Income')\r\n",
        "val_data=pd.concat([val_data,in_dummies],axis=1)\r\n",
        "\r\n",
        "region_dummies=pd.get_dummies(val_data['Country_region'],drop_first=False, prefix='Coun')\r\n",
        "region=val_data.pop('Country_region')\r\n",
        "val_data=pd.concat([val_data,region_dummies],axis=1)\r\n",
        "\r\n",
        "hotel_dummies=pd.get_dummies(val_data['Hotel_Type'],drop_first=False, prefix='Hotel')\r\n",
        "hotel=val_data.pop('Hotel_Type')\r\n",
        "val_data=pd.concat([val_data,hotel_dummies],axis=1)\r\n",
        "\r\n",
        "meal_dummies=pd.get_dummies(val_data['Meal_Type'],drop_first=False, prefix='Meal')\r\n",
        "meal=val_data.pop('Meal_Type')\r\n",
        "val_data=pd.concat([val_data,meal_dummies],axis=1)\r\n",
        "\r\n",
        "visit_prev_dummies=pd.get_dummies(val_data['Visted_Previously'],drop_first=True, prefix='Visit')\r\n",
        "visit_prev=val_data.pop('Visted_Previously')\r\n",
        "val_data=pd.concat([val_data,visit_prev_dummies],axis=1)\r\n",
        "\r\n",
        "prev_can_dummies=pd.get_dummies(val_data['Previous_Cancellations'],drop_first=True, prefix='Prev_can')\r\n",
        "prev_can=val_data.pop('Previous_Cancellations')\r\n",
        "val_data=pd.concat([val_data,prev_can_dummies],axis=1)\r\n",
        "\r\n",
        "dep_dummies=pd.get_dummies(val_data['Deposit_type'],drop_first=False, prefix='Dep')\r\n",
        "dep=val_data.pop('Deposit_type')\r\n",
        "val_data=pd.concat([val_data,dep_dummies],axis=1)\r\n",
        "\r\n",
        "book_dummies=pd.get_dummies(val_data['Booking_channel'],drop_first=False, prefix='Book')\r\n",
        "book=val_data.pop('Booking_channel')\r\n",
        "val_data=pd.concat([val_data,book_dummies],axis=1)\r\n",
        "\r\n",
        "car_dummies=pd.get_dummies(val_data['Required_Car_Parking'],drop_first=True, prefix='Car')\r\n",
        "car=val_data.pop('Required_Car_Parking')\r\n",
        "val_data=pd.concat([val_data,car_dummies],axis=1)\r\n",
        "\r\n",
        "promo_dummies=pd.get_dummies(val_data['Use_Promotion'],drop_first=True, prefix='Promo')\r\n",
        "promo=val_data.pop('Use_Promotion')\r\n",
        "val_data=pd.concat([val_data,promo_dummies],axis=1)\r\n",
        "\r\n",
        "\r\n",
        "\r\n",
        "print(val_data.columns)\r\n",
        "print(val_data.head())"
      ],
      "execution_count": 29,
      "outputs": [
        {
          "output_type": "stream",
          "text": [
            "Index(['Reservation-id', 'Age', 'Expected_checkin', 'Expected_checkout',\n",
            "       'Booking_date', 'Adults', 'Children', 'Babies', 'Discount_Rate',\n",
            "       'Room_Rate', 'week_end', 'stay_duration', 'reserve_duration', 'Gen_M',\n",
            "       'Eth_African American', 'Eth_Asian American', 'Eth_Latino',\n",
            "       'Eth_caucasian', 'Edu_College', 'Edu_Grad', 'Edu_High-School',\n",
            "       'Edu_Mid-School', 'In_25K_50K', 'In_50K_100K', 'In_below25K',\n",
            "       'In_above100K', 'Coun_East', 'Coun_North', 'Coun_South', 'Coun_West',\n",
            "       'Hotel_Airport Hotels', 'Hotel_City Hotel', 'Hotel_Resort', 'Meal_BB',\n",
            "       'Meal_FB', 'Meal_HB', 'Visit_Yes', 'Prev_can_Yes', 'Dep_No Deposit',\n",
            "       'Dep_Non-Refundable', 'Dep_Refundable', 'Book_Agent', 'Book_Direct',\n",
            "       'Book_Online', 'Car_Yes', 'Promo_Yes'],\n",
            "      dtype='object')\n",
            "   Reservation-id  Age Expected_checkin  ... Book_Online Car_Yes  Promo_Yes\n",
            "0        45716350   56        8/31/2016  ...           0       0          1\n",
            "1        88857401   60        8/31/2016  ...           1       1          0\n",
            "2        16074440   58         9/1/2016  ...           0       0          1\n",
            "3        10992124   23        8/31/2016  ...           0       0          1\n",
            "4        15934351   47        8/31/2016  ...           1       1          1\n",
            "\n",
            "[5 rows x 46 columns]\n"
          ],
          "name": "stdout"
        }
      ]
    },
    {
      "cell_type": "code",
      "metadata": {
        "colab": {
          "base_uri": "https://localhost:8080/"
        },
        "id": "02iRprdrxcou",
        "outputId": "79633962-e8a5-4953-c5be-19805b39ecfa"
      },
      "source": [
        "#test data\r\n",
        "gender_dummies=pd.get_dummies(test_data['Gender'],drop_first=True, prefix='Gen')\r\n",
        "gender=test_data.pop('Gender')\r\n",
        "test_data=pd.concat([test_data,gender_dummies],axis=1)\r\n",
        "\r\n",
        "eth_dummies=pd.get_dummies(test_data['Ethnicity'],drop_first=False, prefix='Eth')\r\n",
        "eth=test_data.pop('Ethnicity')\r\n",
        "test_data=pd.concat([test_data,eth_dummies],axis=1)\r\n",
        "\r\n",
        "edu_dummies=pd.get_dummies(test_data['Educational_Level'],drop_first=False, prefix='Edu')\r\n",
        "edu=test_data.pop('Educational_Level')\r\n",
        "test_data=pd.concat([test_data,edu_dummies],axis=1)\r\n",
        "\r\n",
        "in_dummies=pd.get_dummies(test_data['Income'],drop_first=False, prefix='In')\r\n",
        "in_dummies=in_dummies.rename(columns={'In_25K --50K': 'In_25K_50K', 'In_50K -- 100K': 'In_50K_100K', 'In_<25K':'In_below25K', 'In_>100K':'In_above100K' })\r\n",
        "income=test_data.pop('Income')\r\n",
        "test_data=pd.concat([test_data,in_dummies],axis=1)\r\n",
        "\r\n",
        "region_dummies=pd.get_dummies(test_data['Country_region'],drop_first=False, prefix='Coun')\r\n",
        "region=test_data.pop('Country_region')\r\n",
        "test_data=pd.concat([test_data,region_dummies],axis=1)\r\n",
        "\r\n",
        "hotel_dummies=pd.get_dummies(test_data['Hotel_Type'],drop_first=False, prefix='Hotel')\r\n",
        "hotel=test_data.pop('Hotel_Type')\r\n",
        "test_data=pd.concat([test_data,hotel_dummies],axis=1)\r\n",
        "\r\n",
        "meal_dummies=pd.get_dummies(test_data['Meal_Type'],drop_first=False, prefix='Meal')\r\n",
        "meal=test_data.pop('Meal_Type')\r\n",
        "test_data=pd.concat([test_data,meal_dummies],axis=1)\r\n",
        "\r\n",
        "visit_prev_dummies=pd.get_dummies(test_data['Visted_Previously'],drop_first=True, prefix='Visit')\r\n",
        "visit_prev=test_data.pop('Visted_Previously')\r\n",
        "test_data=pd.concat([test_data,visit_prev_dummies],axis=1)\r\n",
        "\r\n",
        "prev_can_dummies=pd.get_dummies(test_data['Previous_Cancellations'],drop_first=True, prefix='Prev_can')\r\n",
        "prev_can=test_data.pop('Previous_Cancellations')\r\n",
        "test_data=pd.concat([test_data,prev_can_dummies],axis=1)\r\n",
        "\r\n",
        "dep_dummies=pd.get_dummies(test_data['Deposit_type'],drop_first=False, prefix='Dep')\r\n",
        "dep=test_data.pop('Deposit_type')\r\n",
        "test_data=pd.concat([test_data,dep_dummies],axis=1)\r\n",
        "\r\n",
        "book_dummies=pd.get_dummies(test_data['Booking_channel'],drop_first=False, prefix='Book')\r\n",
        "book=test_data.pop('Booking_channel')\r\n",
        "test_data=pd.concat([test_data,book_dummies],axis=1)\r\n",
        "\r\n",
        "car_dummies=pd.get_dummies(test_data['Required_Car_Parking'],drop_first=True, prefix='Car')\r\n",
        "car=test_data.pop('Required_Car_Parking')\r\n",
        "test_data=pd.concat([test_data,car_dummies],axis=1)\r\n",
        "\r\n",
        "promo_dummies=pd.get_dummies(test_data['Use_Promotion'],drop_first=True, prefix='Promo')\r\n",
        "promo=test_data.pop('Use_Promotion')\r\n",
        "test_data=pd.concat([test_data,promo_dummies],axis=1)\r\n",
        "\r\n",
        "\r\n",
        "\r\n",
        "print(test_data.columns)\r\n",
        "print(test_data.head())"
      ],
      "execution_count": 30,
      "outputs": [
        {
          "output_type": "stream",
          "text": [
            "Index(['Reservation-id', 'Age', 'Expected_checkin', 'Expected_checkout',\n",
            "       'Booking_date', 'Adults', 'Children', 'Babies', 'Discount_Rate',\n",
            "       'Room_Rate', 'week_end', 'stay_duration', 'reserve_duration', 'Gen_M',\n",
            "       'Eth_African American', 'Eth_Asian American', 'Eth_Latino',\n",
            "       'Eth_caucasian', 'Edu_College', 'Edu_Grad', 'Edu_High-School',\n",
            "       'Edu_Mid-School', 'In_25K_50K', 'In_50K_100K', 'In_below25K',\n",
            "       'In_above100K', 'Coun_East', 'Coun_North', 'Coun_South', 'Coun_West',\n",
            "       'Hotel_Airport Hotels', 'Hotel_City Hotel', 'Hotel_Resort', 'Meal_BB',\n",
            "       'Meal_FB', 'Meal_HB', 'Visit_Yes', 'Prev_can_Yes', 'Dep_No Deposit',\n",
            "       'Dep_Non-Refundable', 'Dep_Refundable', 'Book_Agent', 'Book_Direct',\n",
            "       'Book_Online', 'Car_Yes', 'Promo_Yes'],\n",
            "      dtype='object')\n",
            "   Reservation-id  Age Expected_checkin  ... Book_Online Car_Yes  Promo_Yes\n",
            "0        62931593   52       11/18/2016  ...           0       1          1\n",
            "1        70586099   47       11/18/2016  ...           1       0          0\n",
            "2         4230648   28        4/28/2017  ...           0       0          1\n",
            "3        25192322   65       11/18/2016  ...           1       1          1\n",
            "4        80931528   45       11/18/2016  ...           0       0          0\n",
            "\n",
            "[5 rows x 46 columns]\n"
          ],
          "name": "stdout"
        }
      ]
    },
    {
      "cell_type": "code",
      "metadata": {
        "id": "lzxIiA4iyyo6"
      },
      "source": [
        "for i in train_data.columns:\r\n",
        "  if i not in test_data.columns:\r\n",
        "    print(i)"
      ],
      "execution_count": 31,
      "outputs": []
    },
    {
      "cell_type": "markdown",
      "metadata": {
        "id": "EFfqO5nIDMdv"
      },
      "source": [
        "##Label Encoding\r\n"
      ]
    },
    {
      "cell_type": "code",
      "metadata": {
        "colab": {
          "base_uri": "https://localhost:8080/"
        },
        "id": "7Pq4KZq_DQj_",
        "outputId": "7ae271d1-6abd-4a00-8862-37e89644f428"
      },
      "source": [
        "from sklearn import preprocessing\r\n",
        "le = preprocessing.LabelEncoder()\r\n",
        "le.fit(train_labels)\r\n",
        "print(le.classes_)\r\n",
        "train_label=le.transform(train_labels)\r\n",
        "\r\n",
        "le = preprocessing.LabelEncoder()\r\n",
        "le.fit(val_labels)\r\n",
        "print(le.classes_)\r\n",
        "val_label=le.transform(val_labels)"
      ],
      "execution_count": 32,
      "outputs": [
        {
          "output_type": "stream",
          "text": [
            "[1 2 3]\n",
            "[1 2 3]\n"
          ],
          "name": "stdout"
        },
        {
          "output_type": "stream",
          "text": [
            "/usr/local/lib/python3.7/dist-packages/sklearn/preprocessing/_label.py:235: DataConversionWarning: A column-vector y was passed when a 1d array was expected. Please change the shape of y to (n_samples, ), for example using ravel().\n",
            "  y = column_or_1d(y, warn=True)\n",
            "/usr/local/lib/python3.7/dist-packages/sklearn/preprocessing/_label.py:268: DataConversionWarning: A column-vector y was passed when a 1d array was expected. Please change the shape of y to (n_samples, ), for example using ravel().\n",
            "  y = column_or_1d(y, warn=True)\n"
          ],
          "name": "stderr"
        }
      ]
    },
    {
      "cell_type": "markdown",
      "metadata": {
        "id": "tMVdeHLoA-5V"
      },
      "source": [
        "##Remove unnecessary columns"
      ]
    },
    {
      "cell_type": "code",
      "metadata": {
        "colab": {
          "base_uri": "https://localhost:8080/"
        },
        "id": "stSzwpKa9v19",
        "outputId": "df3684c2-821f-4521-e399-5144cb5b17d4"
      },
      "source": [
        "train_data.pop('Reservation-id')\r\n",
        "val_data.pop('Reservation-id')\r\n",
        "test_reservation=test_data['Reservation-id']\r\n",
        "test_data.pop('Reservation-id')\r\n",
        "\r\n",
        "train_data.pop('Expected_checkin')\r\n",
        "val_data.pop('Expected_checkin')\r\n",
        "test_data.pop('Expected_checkin')\r\n",
        "\r\n",
        "train_data.pop('Expected_checkout')\r\n",
        "val_data.pop('Expected_checkout')\r\n",
        "test_data.pop('Expected_checkout')\r\n",
        "\r\n",
        "train_data.pop('Booking_date')\r\n",
        "val_data.pop('Booking_date')\r\n",
        "test_data.pop('Booking_date')"
      ],
      "execution_count": 33,
      "outputs": [
        {
          "output_type": "execute_result",
          "data": {
            "text/plain": [
              "0       10/28/2016\n",
              "1         8/6/2016\n",
              "2         4/8/2017\n",
              "3        5/20/2016\n",
              "4       10/31/2016\n",
              "           ...    \n",
              "4313     9/11/2016\n",
              "4314     2/10/2017\n",
              "4315     8/26/2016\n",
              "4316      3/4/2017\n",
              "4317     3/29/2017\n",
              "Name: Booking_date, Length: 4318, dtype: object"
            ]
          },
          "metadata": {
            "tags": []
          },
          "execution_count": 33
        }
      ]
    },
    {
      "cell_type": "markdown",
      "metadata": {
        "id": "uBiIdXTUtSJ9"
      },
      "source": [
        "#Neptune Create Experiment"
      ]
    },
    {
      "cell_type": "code",
      "metadata": {
        "colab": {
          "base_uri": "https://localhost:8080/"
        },
        "id": "LjjNq-PBtV8c",
        "outputId": "69220061-c098-4ec2-b0f1-64dd8f1e0263"
      },
      "source": [
        "neptune.create_experiment(name = 'Experiment without dates data and testing on multiple models - upsampled to 0.333 ratio - All features with new 3 features')"
      ],
      "execution_count": null,
      "outputs": [
        {
          "output_type": "stream",
          "text": [
            "https://ui.neptune.ai/jathurshan0330/DataStorm2-round1/e/DAT-9\n"
          ],
          "name": "stdout"
        },
        {
          "output_type": "execute_result",
          "data": {
            "text/plain": [
              "Experiment(DAT-9)"
            ]
          },
          "metadata": {
            "tags": []
          },
          "execution_count": 74
        }
      ]
    },
    {
      "cell_type": "markdown",
      "metadata": {
        "id": "a7DH4R1Y_JkX"
      },
      "source": [
        "#Model Building"
      ]
    },
    {
      "cell_type": "code",
      "metadata": {
        "id": "5GBW17Hj_Li5"
      },
      "source": [
        "from sklearn.model_selection import train_test_split\r\n",
        "from sklearn.tree import DecisionTreeClassifier\r\n",
        "from sklearn.metrics import accuracy_score, confusion_matrix, f1_score, roc_auc_score, classification_report, plot_confusion_matrix, precision_score, recall_score\r\n",
        "from sklearn import tree, svm\r\n",
        "from sklearn.ensemble import RandomForestClassifier\r\n",
        "import xgboost\r\n",
        "from sklearn.linear_model import LogisticRegression\r\n",
        "from sklearn.neighbors import NearestNeighbors,KNeighborsClassifier"
      ],
      "execution_count": 34,
      "outputs": []
    },
    {
      "cell_type": "code",
      "metadata": {
        "colab": {
          "base_uri": "https://localhost:8080/"
        },
        "id": "_UWOLaqAWoyr",
        "outputId": "4a1493a4-ad72-415e-c5b5-1effe074200a"
      },
      "source": [
        "#train_data=train_data[['Age','Adults','Discount_Rate','Room_Rate','week_end','stay_duration','reserve_duration','Eth_African American','Eth_caucasian','Coun_East','Hotel_Airport Hotels','Meal_BB','Meal_FB','Visit_Yes','Prev_can_Yes','Dep_No Deposit']]\r\n",
        "#val_data=val_data[['Age','Adults','Discount_Rate','Room_Rate','week_end','stay_duration','reserve_duration','Eth_African American','Eth_caucasian','Coun_East','Hotel_Airport Hotels','Meal_BB','Meal_FB','Visit_Yes','Prev_can_Yes','Dep_No Deposit']]\r\n",
        "#test_data=test_data[['Age','Adults','Discount_Rate','Room_Rate','week_end','stay_duration','reserve_duration','Eth_African American','Eth_caucasian','Coun_East','Hotel_Airport Hotels','Meal_BB','Meal_FB','Visit_Yes','Prev_can_Yes','Dep_No Deposit']]\r\n",
        "\r\n",
        "#train_data = train_data[selected_features]\r\n",
        "#val_data = val_data[selected_features]\r\n",
        "#test_data = test_data[selected_features]\r\n",
        "\r\n",
        "print(train_data.shape)\r\n",
        "print(val_data.shape)\r\n",
        "print(test_data.shape)"
      ],
      "execution_count": 35,
      "outputs": [
        {
          "output_type": "stream",
          "text": [
            "(61035, 42)\n",
            "(2749, 42)\n",
            "(4318, 42)\n"
          ],
          "name": "stdout"
        }
      ]
    },
    {
      "cell_type": "markdown",
      "metadata": {
        "id": "YYLNXH6JAFmR"
      },
      "source": [
        "##logistic regression approach"
      ]
    },
    {
      "cell_type": "code",
      "metadata": {
        "colab": {
          "base_uri": "https://localhost:8080/"
        },
        "id": "7n-apf4__XlR",
        "outputId": "ee18543e-10d1-45d0-cd4c-4a5c629e2dff"
      },
      "source": [
        "model= LogisticRegression(multi_class='multinomial', solver='saga',max_iter=100) \r\n",
        "model.fit(train_data,train_label) \r\n",
        "y_predict=model.predict(val_data)\r\n",
        "print(\"Train accuracy : \"+str(model.score(train_data,train_label)))\r\n",
        "print(\"Validation accuracy : \"+str(model.score(val_data,val_label)))\r\n",
        "print(\"Precision : \"+str(precision_score(val_label,y_predict,average='macro', zero_division=0)))\r\n",
        "print(\"Recall : \"+str(recall_score(val_label,y_predict,average='macro', zero_division=0)))\r\n",
        "print(\"F1-Score : \"+str(f1_score(val_label,y_predict,average='macro', zero_division=0)))\r\n",
        "print(\"Classification Report\")\r\n",
        "print(classification_report(val_label,y_predict,zero_division=0))\r\n",
        "print(\"Confusion Matrix\")\r\n",
        "print(confusion_matrix(val_label,y_predict))\r\n",
        "#fig, ax = plt.subplots()\r\n",
        "#plot_confusion_matrix(val_label, y_predict, ax=ax)\r\n",
        "\r\n",
        "\r\n",
        "#neptune.log_metric('Training Accuracy', model.score(train_data,train_label))\r\n",
        "#neptune.log_metric('Validation Accuracy', model.score(val_data,val_label))\r\n",
        "#neptune.log_metric('Precision',precision_score(val_label,y_predict,average='macro', zero_division=0))\r\n",
        "#neptune.log_metric('Recall', recall_score(val_label,y_predict,average='macro', zero_division=0))\r\n",
        "#neptune.log_metric('F1-Score',f1_score(val_label,y_predict,average='macro', zero_division=0))"
      ],
      "execution_count": 37,
      "outputs": [
        {
          "output_type": "stream",
          "text": [
            "Train accuracy : 0.42514950438273125\n",
            "Validation accuracy : 0.3619497999272463\n",
            "Precision : 0.34582289608245365\n",
            "Recall : 0.34190133378408855\n",
            "F1-Score : 0.3229425236069032\n",
            "Classification Report\n",
            "              precision    recall  f1-score   support\n",
            "\n",
            "           0       0.62      0.36      0.46      1610\n",
            "           1       0.28      0.44      0.34       741\n",
            "           2       0.14      0.23      0.17       398\n",
            "\n",
            "    accuracy                           0.36      2749\n",
            "   macro avg       0.35      0.34      0.32      2749\n",
            "weighted avg       0.46      0.36      0.38      2749\n",
            "\n",
            "Confusion Matrix\n",
            "[[579 672 359]\n",
            " [231 326 184]\n",
            " [125 183  90]]\n"
          ],
          "name": "stdout"
        },
        {
          "output_type": "stream",
          "text": [
            "/usr/local/lib/python3.7/dist-packages/sklearn/linear_model/_sag.py:330: ConvergenceWarning: The max_iter was reached which means the coef_ did not converge\n",
            "  \"the coef_ did not converge\", ConvergenceWarning)\n"
          ],
          "name": "stderr"
        }
      ]
    },
    {
      "cell_type": "markdown",
      "metadata": {
        "id": "GQJoQ1ALFzlt"
      },
      "source": [
        "##Decision Tree Classifier model approach"
      ]
    },
    {
      "cell_type": "code",
      "metadata": {
        "colab": {
          "base_uri": "https://localhost:8080/"
        },
        "id": "zVZ5EWioAjgq",
        "outputId": "162027de-6adb-4be7-ba9f-8fb47b91e0b4"
      },
      "source": [
        "model = DecisionTreeClassifier(max_depth=20, class_weight = 'balanced' ).fit(train_data,train_label)\r\n",
        "y_predict=model.predict(val_data)\r\n",
        "print(\"Train accuracy : \"+str(model.score(train_data,train_label)))\r\n",
        "print(\"Validation accuracy : \"+str(model.score(val_data,val_label)))\r\n",
        "print(\"Precision : \"+str(precision_score(val_label,y_predict,average='macro', zero_division=0)))\r\n",
        "print(\"Recall : \"+str(recall_score(val_label,y_predict,average='macro', zero_division=0)))\r\n",
        "print(\"F1-Score : \"+str(f1_score(val_label,y_predict,average='macro', zero_division=0)))\r\n",
        "print(\"Classification Report\")\r\n",
        "print(classification_report(val_label,y_predict,zero_division=0))\r\n",
        "print(\"Confusion Matrix\")\r\n",
        "print(confusion_matrix(val_label,y_predict))\r\n",
        "#fig, ax = plt.subplots()\r\n",
        "#plot_confusion_matrix(val_label, y_predict, ax=ax)\r\n",
        "\r\n",
        "\r\n",
        "#neptune.log_metric('Training Accuracy', model.score(train_data,train_label))\r\n",
        "#neptune.log_metric('Validation Accuracy', model.score(val_data,val_label))\r\n",
        "#neptune.log_metric('Precision',precision_score(val_label,y_predict,average='macro', zero_division=0))\r\n",
        "#neptune.log_metric('Recall', recall_score(val_label,y_predict,average='macro', zero_division=0))\r\n",
        "#neptune.log_metric('F1-Score',f1_score(val_label,y_predict,average='macro', zero_division=0))"
      ],
      "execution_count": 38,
      "outputs": [
        {
          "output_type": "stream",
          "text": [
            "Train accuracy : 0.942967149995904\n",
            "Validation accuracy : 0.4507093488541288\n",
            "Precision : 0.3350552178729494\n",
            "Recall : 0.3345110941249529\n",
            "F1-Score : 0.33367405149845664\n",
            "Classification Report\n",
            "              precision    recall  f1-score   support\n",
            "\n",
            "           0       0.59      0.63      0.61      1610\n",
            "           1       0.28      0.23      0.25       741\n",
            "           2       0.14      0.15      0.14       398\n",
            "\n",
            "    accuracy                           0.45      2749\n",
            "   macro avg       0.34      0.33      0.33      2749\n",
            "weighted avg       0.44      0.45      0.44      2749\n",
            "\n",
            "Confusion Matrix\n",
            "[[1012  350  248]\n",
            " [ 452  168  121]\n",
            " [ 251   88   59]]\n"
          ],
          "name": "stdout"
        }
      ]
    },
    {
      "cell_type": "code",
      "metadata": {
        "colab": {
          "base_uri": "https://localhost:8080/",
          "height": 0
        },
        "id": "rksmHrHxrHcc",
        "outputId": "78cc75c3-fdd1-4f61-aeb9-423f4021b6a3"
      },
      "source": [
        "#Feature Importance in Decision Tree Classifier\r\n",
        "print(\"Feature Importance\")\r\n",
        "print(model.feature_importances_) #use inbuilt class feature_importances of tree based classifiers\r\n",
        "#plot graph of feature importances for better visualization\r\n",
        "plt.figure(figsize=[10,10])\r\n",
        "feat_importances = pd.Series(model.feature_importances_, index=train_data.columns)\r\n",
        "feat_importances.nlargest(40).plot(kind='barh')\r\n",
        "\r\n",
        "plt.show()\r\n",
        "#print(feat_importances)\r\n",
        "results=pd.DataFrame()\r\n",
        "results['columns']=train_data.columns\r\n",
        "results['importances'] = model.feature_importances_\r\n",
        "results.sort_values(by='importances',ascending=False,inplace=True)\r\n",
        "\r\n",
        "results[:20]\r\n",
        "\r\n",
        "print(results['columns'][:20].tolist())"
      ],
      "execution_count": 39,
      "outputs": [
        {
          "output_type": "stream",
          "text": [
            "Feature Importance\n",
            "[0.12235561 0.03375686 0.02659066 0.0258082  0.05283887 0.13219638\n",
            " 0.01172005 0.03352044 0.17113792 0.01696624 0.01196966 0.00953054\n",
            " 0.01410371 0.01054731 0.01301726 0.00881957 0.01403359 0.00979596\n",
            " 0.01453577 0.01604102 0.01668068 0.01385256 0.01294782 0.01297022\n",
            " 0.01502126 0.01267988 0.0103387  0.01083957 0.01217106 0.02162017\n",
            " 0.00328402 0.         0.01370445 0.01056069 0.01081907 0.00864796\n",
            " 0.00843771 0.01064986 0.01225098 0.01134267 0.01531547 0.00657956]\n"
          ],
          "name": "stdout"
        },
        {
          "output_type": "display_data",
          "data": {
            "image/png": "[encoded data removed]",
            "text/plain": [
              "<Figure size 720x720 with 1 Axes>"
            ]
          },
          "metadata": {
            "tags": [],
            "needs_background": "light"
          }
        },
        {
          "output_type": "stream",
          "text": [
            "['reserve_duration', 'Room_Rate', 'Age', 'Discount_Rate', 'Adults', 'stay_duration', 'Children', 'Babies', 'Meal_BB', 'Gen_M', 'In_below25K', 'In_50K_100K', 'Car_Yes', 'Coun_South', 'In_25K_50K', 'Eth_Latino', 'Edu_High-School', 'In_above100K', 'Visit_Yes', 'Edu_College']\n"
          ],
          "name": "stdout"
        }
      ]
    },
    {
      "cell_type": "code",
      "metadata": {
        "colab": {
          "base_uri": "https://localhost:8080/"
        },
        "id": "B1T79y6xXyfT",
        "outputId": "60c6321f-7689-4c9f-f436-9cdb12eb0df3"
      },
      "source": [
        "['Age','Adults','Discount_Rate','Room_Rate','week_end','stay_duration','reserve_duration','Eth_African American','Eth_caucasian','Coun_East','Hotel_Airport Hotels','Meal_BB','Meal_FB','Visit_Yes','Prev_can_Yes','Dep_No Deposit']"
      ],
      "execution_count": 40,
      "outputs": [
        {
          "output_type": "execute_result",
          "data": {
            "text/plain": [
              "['Age',\n",
              " 'Adults',\n",
              " 'Discount_Rate',\n",
              " 'Room_Rate',\n",
              " 'week_end',\n",
              " 'stay_duration',\n",
              " 'reserve_duration',\n",
              " 'Eth_African American',\n",
              " 'Eth_caucasian',\n",
              " 'Coun_East',\n",
              " 'Hotel_Airport Hotels',\n",
              " 'Meal_BB',\n",
              " 'Meal_FB',\n",
              " 'Visit_Yes',\n",
              " 'Prev_can_Yes',\n",
              " 'Dep_No Deposit']"
            ]
          },
          "metadata": {
            "tags": []
          },
          "execution_count": 40
        }
      ]
    },
    {
      "cell_type": "markdown",
      "metadata": {
        "id": "jyCco_VLIODd"
      },
      "source": [
        "##XGB Boost Approach"
      ]
    },
    {
      "cell_type": "code",
      "metadata": {
        "colab": {
          "base_uri": "https://localhost:8080/"
        },
        "id": "4i3SWgo-GCQi",
        "outputId": "300de997-c6eb-4713-9e10-be00160e557f"
      },
      "source": [
        "clf = DecisionTreeClassifier(max_depth=50, class_weight = 'balanced')\r\n",
        "#model=xgboost.XGBClassifier(base_estimator=clf,max_depth=20,n_estimators=15,objective='multi:softmax',gamma=4.63,learning_rate=0.2,reg_lambda=1).fit(train_data,train_label) # day 2 second submission model\r\n",
        "model=xgboost.XGBClassifier(base_estimator = clf, max_depth = 22, n_estimators = 15, objective = 'multi:softmax', gamma = 4.5, learning_rate = 0.05, reg_lambda = 3.4).fit(train_data,train_label)    #hypertuned model\r\n",
        "y_predict=model.predict(val_data)\r\n",
        "print(\"Train accuracy : \"+str(model.score(train_data,train_label)))\r\n",
        "print(\"Validation accuracy : \"+str(model.score(val_data,val_label)))\r\n",
        "print(\"Precision : \"+str(precision_score(val_label,y_predict,average='macro', zero_division=0)))\r\n",
        "print(\"Recall : \"+str(recall_score(val_label,y_predict,average='macro', zero_division=0)))\r\n",
        "print(\"F1-Score : \"+str(f1_score(val_label,y_predict,average='macro', zero_division=0)))\r\n",
        "print(\"Classification Report\")\r\n",
        "print(classification_report(val_label,y_predict,zero_division=0))\r\n",
        "print(\"Confusion Matrix\")\r\n",
        "print(confusion_matrix(val_label,y_predict))\r\n",
        "#fig, ax = plt.subplots()\r\n",
        "#plot_confusion_matrix(val_label, y_predict, ax=ax)\r\n",
        "\r\n",
        "\r\n",
        "#neptune.log_metric('Training Accuracy', model.score(train_data,train_label))\r\n",
        "#neptune.log_metric('Validation Accuracy', model.score(val_data,val_label))\r\n",
        "#neptune.log_metric('Precision',precision_score(val_label,y_predict,average='macro', zero_division=0))\r\n",
        "#neptune.log_metric('Recall', recall_score(val_label,y_predict,average='macro', zero_division=0))\r\n",
        "#neptune.log_metric('F1-Score',f1_score(val_label,y_predict,average='macro', zero_division=0))"
      ],
      "execution_count": 46,
      "outputs": [
        {
          "output_type": "stream",
          "text": [
            "Train accuracy : 0.9464733349717376\n",
            "Validation accuracy : 0.46562386322299015\n",
            "Precision : 0.37028835806578025\n",
            "Recall : 0.3710159712149064\n",
            "F1-Score : 0.3694423198719916\n",
            "Classification Report\n",
            "              precision    recall  f1-score   support\n",
            "\n",
            "           0       0.63      0.59      0.61      1610\n",
            "           1       0.31      0.37      0.34       741\n",
            "           2       0.17      0.16      0.17       398\n",
            "\n",
            "    accuracy                           0.47      2749\n",
            "   macro avg       0.37      0.37      0.37      2749\n",
            "weighted avg       0.48      0.47      0.47      2749\n",
            "\n",
            "Confusion Matrix\n",
            "[[944 477 189]\n",
            " [359 273 109]\n",
            " [203 132  63]]\n"
          ],
          "name": "stdout"
        }
      ]
    },
    {
      "cell_type": "code",
      "metadata": {
        "colab": {
          "base_uri": "https://localhost:8080/",
          "height": 715
        },
        "id": "Dgv9UNq7SJYB",
        "outputId": "7310dfb6-3144-4bcf-fdfb-ae1f8dc52db7"
      },
      "source": [
        "# Plot non-normalized confusion matrix\r\n",
        "titles_options = [(\"Confusion matrix, without normalization\", None),\r\n",
        "                  (\"Normalized confusion matrix\", 'true')]\r\n",
        "class_names = [\"Check-In\", \"Canceled\", \"No-Show\"]\r\n",
        "for title, normalize in titles_options:\r\n",
        "    disp = plot_confusion_matrix(model, val_data, val_label,\r\n",
        "                                 display_labels=class_names,\r\n",
        "                                 cmap=plt.cm.Blues,\r\n",
        "                                 normalize=normalize)\r\n",
        "    disp.ax_.set_title(title)\r\n",
        "\r\n",
        "    print(title)\r\n",
        "    print(disp.confusion_matrix)\r\n"
      ],
      "execution_count": 47,
      "outputs": [
        {
          "output_type": "stream",
          "text": [
            "Confusion matrix, without normalization\n",
            "[[944 477 189]\n",
            " [359 273 109]\n",
            " [203 132  63]]\n",
            "Normalized confusion matrix\n",
            "[[0.5863354  0.29627329 0.1173913 ]\n",
            " [0.48448043 0.36842105 0.14709852]\n",
            " [0.51005025 0.33165829 0.15829146]]\n"
          ],
          "name": "stdout"
        },
        {
          "output_type": "display_data",
          "data": {
            "image/png": "[encoded data removed]",
            "text/plain": [
              "<Figure size 432x288 with 2 Axes>"
            ]
          },
          "metadata": {
            "tags": [],
            "needs_background": "light"
          }
        },
        {
          "output_type": "display_data",
          "data": {
            "image/png": "[encoded data removed]",
            "text/plain": [
              "<Figure size 432x288 with 2 Axes>"
            ]
          },
          "metadata": {
            "tags": [],
            "needs_background": "light"
          }
        }
      ]
    },
    {
      "cell_type": "code",
      "metadata": {
        "colab": {
          "base_uri": "https://localhost:8080/",
          "height": 772
        },
        "id": "sCNZzsP9HdQN",
        "outputId": "451ddfba-30c0-4479-93e0-11c8aa266f69"
      },
      "source": [
        "#Feature Importance in XGBoost\r\n",
        "print(\"Feature Importance\")\r\n",
        "print(model.feature_importances_) #use inbuilt class feature_importances of tree based classifiers\r\n",
        "#plot graph of feature importances for better visualization\r\n",
        "plt.figure(figsize=[10,10])\r\n",
        "feat_importances = pd.Series(model.feature_importances_, index=train_data.columns)\r\n",
        "feat_importances.nlargest(40).plot(kind='barh')\r\n",
        "\r\n",
        "plt.show()\r\n",
        "#print(feat_importances)\r\n",
        "results=pd.DataFrame()\r\n",
        "results['columns']=train_data.columns\r\n",
        "results['importances'] = model.feature_importances_\r\n",
        "results.sort_values(by='importances',ascending=False,inplace=True)\r\n",
        "\r\n",
        "results[:20]\r\n",
        "selected_features = results['columns'][:20].tolist()\r\n",
        "print(selected_features)"
      ],
      "execution_count": 48,
      "outputs": [
        {
          "output_type": "stream",
          "text": [
            "Feature Importance\n",
            "[0.0103428  0.01034713 0.01041545 0.00950736 0.00996981 0.01031661\n",
            " 0.0103957  0.01029911 0.01352877 0.01126038 0.01022275 0.00938789\n",
            " 0.00994589 0.00998728 0.00980251 0.01045095 0.01053091 0.01020225\n",
            " 0.01013851 0.01031296 0.01080233 0.01051014 0.01032113 0.01004161\n",
            " 0.0099514  0.01050491 0.01126172 0.01019801 0.01042165 0.5326084\n",
            " 0.07323558 0.         0.01092107 0.00998498 0.01005696 0.01024993\n",
            " 0.01009075 0.0098607  0.01080477 0.01094862 0.00986021 0.        ]\n"
          ],
          "name": "stdout"
        },
        {
          "output_type": "display_data",
          "data": {
            "image/png": "[encoded data removed]",
            "text/plain": [
              "<Figure size 720x720 with 1 Axes>"
            ]
          },
          "metadata": {
            "tags": [],
            "needs_background": "light"
          }
        },
        {
          "output_type": "stream",
          "text": [
            "['Meal_BB', 'Meal_FB', 'reserve_duration', 'Hotel_Airport Hotels', 'Gen_M', 'Book_Online', 'Visit_Yes', 'Book_Direct', 'In_below25K', 'Edu_High-School', 'In_above100K', 'Coun_West', 'Edu_Grad', 'Hotel_Resort', 'Children', 'week_end', 'Adults', 'Age', 'Coun_East', 'Room_Rate']\n"
          ],
          "name": "stdout"
        }
      ]
    },
    {
      "cell_type": "markdown",
      "metadata": {
        "id": "eZyhpjSRkKP0"
      },
      "source": [
        "##Support Vector Machine Approach"
      ]
    },
    {
      "cell_type": "code",
      "metadata": {
        "id": "WlUk1KK_GYpW"
      },
      "source": [
        "\r\n",
        "model = svm.SVC(degree=9,decision_function_shape='ovo', class_weight = 'balanced')\r\n",
        "model.fit(train_data,train_label)       \r\n",
        "y_predict=model.predict(val_data)\r\n",
        "print(\"Train accuracy : \"+str(model.score(train_data,train_label)))\r\n",
        "print(\"Validation accuracy : \"+str(model.score(val_data,val_label)))\r\n",
        "print(\"Precision : \"+str(precision_score(val_label,y_predict,average='macro', zero_division=0)))\r\n",
        "print(\"Recall : \"+str(recall_score(val_label,y_predict,average='macro', zero_division=0)))\r\n",
        "print(\"F1-Score : \"+str(f1_score(val_label,y_predict,average='macro', zero_division=0)))\r\n",
        "print(\"Classification Report\")\r\n",
        "print(classification_report(val_label,y_predict,zero_division=0))\r\n",
        "print(\"Confusion Matrix\")\r\n",
        "print(confusion_matrix(val_label,y_predict))\r\n",
        "#fig, ax = plt.subplots()\r\n",
        "#plot_confusion_matrix(val_label, y_predict, ax=ax)\r\n",
        "\r\n",
        "\r\n",
        "neptune.log_metric('Training Accuracy', model.score(train_data,train_label))\r\n",
        "neptune.log_metric('Validation Accuracy', model.score(val_data,val_label))\r\n",
        "neptune.log_metric('Precision',precision_score(val_label,y_predict,average='macro', zero_division=0))\r\n",
        "neptune.log_metric('Recall', recall_score(val_label,y_predict,average='macro', zero_division=0))\r\n",
        "neptune.log_metric('F1-Score',f1_score(val_label,y_predict,average='macro', zero_division=0))"
      ],
      "execution_count": null,
      "outputs": []
    },
    {
      "cell_type": "markdown",
      "metadata": {
        "id": "dyUkW5lnkjZj"
      },
      "source": [
        "##MLP classifier approach"
      ]
    },
    {
      "cell_type": "code",
      "metadata": {
        "colab": {
          "base_uri": "https://localhost:8080/"
        },
        "id": "VwHV9cdakpoD",
        "outputId": "269b61e7-f413-49a9-9f46-a4badc54b98c"
      },
      "source": [
        "from sklearn.neural_network import MLPClassifier\r\n",
        "model = MLPClassifier(solver='adam',learning_rate = 'adaptive',learning_rate_init=0.01,activation= 'relu', alpha=1e-6, hidden_layer_sizes=(150, ), random_state=91,max_iter=400)\r\n",
        "model.fit(train_data,train_label) \r\n",
        "y_predict=model.predict(val_data)\r\n",
        "print(\"Train accuracy : \"+str(model.score(train_data,train_label)))\r\n",
        "print(\"Validation accuracy : \"+str(model.score(val_data,val_label)))\r\n",
        "print(\"Precision : \"+str(precision_score(val_label,y_predict,average='macro', zero_division=0)))\r\n",
        "print(\"Recall : \"+str(recall_score(val_label,y_predict,average='macro', zero_division=0)))\r\n",
        "print(\"F1-Score : \"+str(f1_score(val_label,y_predict,average='macro', zero_division=0)))\r\n",
        "print(\"Classification Report\")\r\n",
        "print(classification_report(val_label,y_predict,zero_division=0))\r\n",
        "print(\"Confusion Matrix\")\r\n",
        "print(confusion_matrix(val_label,y_predict))\r\n",
        "#fig, ax = plt.subplots()\r\n",
        "#plot_confusion_matrix(val_label, y_predict, ax=ax)\r\n",
        "\r\n",
        "\r\n",
        "#neptune.log_metric('Training Accuracy', model.score(train_data,train_label))\r\n",
        "#neptune.log_metric('Validation Accuracy', model.score(val_data,val_label))\r\n",
        "#neptune.log_metric('Precision',precision_score(val_label,y_predict,average='macro', zero_division=0))\r\n",
        "#neptune.log_metric('Recall', recall_score(val_label,y_predict,average='macro', zero_division=0))\r\n",
        "#neptune.log_metric('F1-Score',f1_score(val_label,y_predict,average='macro', zero_division=0))"
      ],
      "execution_count": 49,
      "outputs": [
        {
          "output_type": "stream",
          "text": [
            "Train accuracy : 0.42326533955926926\n",
            "Validation accuracy : 0.39468897781011275\n",
            "Precision : 0.39295560861461\n",
            "Recall : 0.3488040195950457\n",
            "F1-Score : 0.28976634078804725\n",
            "Classification Report\n",
            "              precision    recall  f1-score   support\n",
            "\n",
            "           0       0.61      0.36      0.45      1610\n",
            "           1       0.28      0.68      0.40       741\n",
            "           2       0.29      0.01      0.02       398\n",
            "\n",
            "    accuracy                           0.39      2749\n",
            "   macro avg       0.39      0.35      0.29      2749\n",
            "weighted avg       0.48      0.39      0.38      2749\n",
            "\n",
            "Confusion Matrix\n",
            "[[ 580 1025    5]\n",
            " [ 235  501    5]\n",
            " [ 131  263    4]]\n"
          ],
          "name": "stdout"
        }
      ]
    },
    {
      "cell_type": "markdown",
      "metadata": {
        "id": "_gorpXkYk0DB"
      },
      "source": [
        "##Random Forest approach"
      ]
    },
    {
      "cell_type": "code",
      "metadata": {
        "colab": {
          "base_uri": "https://localhost:8080/"
        },
        "id": "Hig8auxNk0Q2",
        "outputId": "eb45acda-4a09-4101-a9be-b960da11e85f"
      },
      "source": [
        "model = RandomForestClassifier(max_depth=12,n_estimators=75, class_weight = 'balanced' )\r\n",
        "model.fit(train_data,train_label)       \r\n",
        "y_predict=model.predict(val_data)\r\n",
        "print(\"Train accuracy : \"+str(model.score(train_data,train_label)))\r\n",
        "print(\"Validation accuracy : \"+str(model.score(val_data,val_label)))\r\n",
        "print(\"Precision : \"+str(precision_score(val_label,y_predict,average='macro', zero_division=0)))\r\n",
        "print(\"Recall : \"+str(recall_score(val_label,y_predict,average='macro', zero_division=0)))\r\n",
        "print(\"F1-Score : \"+str(f1_score(val_label,y_predict,average='macro', zero_division=0)))\r\n",
        "print(\"Classification Report\")\r\n",
        "print(classification_report(val_label,y_predict,zero_division=0))\r\n",
        "print(\"Confusion Matrix\")\r\n",
        "print(confusion_matrix(val_label,y_predict))\r\n",
        "#fig, ax = plt.subplots()\r\n",
        "#plot_confusion_matrix(val_label, y_predict, ax=ax)\r\n",
        "\r\n",
        "\r\n",
        "#neptune.log_metric('Training Accuracy', model.score(train_data,train_label))\r\n",
        "#neptune.log_metric('Validation Accuracy', model.score(val_data,val_label))\r\n",
        "#neptune.log_metric('Precision',precision_score(val_label,y_predict,average='macro', zero_division=0))\r\n",
        "#neptune.log_metric('Recall', recall_score(val_label,y_predict,average='macro', zero_division=0))\r\n",
        "#neptune.log_metric('F1-Score',f1_score(val_label,y_predict,average='macro', zero_division=0))"
      ],
      "execution_count": 62,
      "outputs": [
        {
          "output_type": "stream",
          "text": [
            "Train accuracy : 0.875268288686819\n",
            "Validation accuracy : 0.41942524554383415\n",
            "Precision : 0.3410835373015364\n",
            "Recall : 0.3431283485375456\n",
            "F1-Score : 0.3378568757691558\n",
            "Classification Report\n",
            "              precision    recall  f1-score   support\n",
            "\n",
            "           0       0.60      0.50      0.54      1610\n",
            "           1       0.29      0.40      0.34       741\n",
            "           2       0.14      0.13      0.13       398\n",
            "\n",
            "    accuracy                           0.42      2749\n",
            "   macro avg       0.34      0.34      0.34      2749\n",
            "weighted avg       0.45      0.42      0.43      2749\n",
            "\n",
            "Confusion Matrix\n",
            "[[806 572 232]\n",
            " [346 295 100]\n",
            " [197 149  52]]\n"
          ],
          "name": "stdout"
        }
      ]
    },
    {
      "cell_type": "markdown",
      "metadata": {
        "id": "Tz8G7CNjk90q"
      },
      "source": [
        "##KNN approach"
      ]
    },
    {
      "cell_type": "code",
      "metadata": {
        "colab": {
          "base_uri": "https://localhost:8080/"
        },
        "id": "6TX_NkuJk-Ji",
        "outputId": "110a8009-17c6-4f01-bc55-7e0a5fe10876"
      },
      "source": [
        "model=KNeighborsClassifier(n_neighbors=3,algorithm='auto',weights='distance')\r\n",
        "model.fit(train_data,train_label)       \r\n",
        "y_predict=model.predict(val_data)\r\n",
        "print(\"Train accuracy : \"+str(model.score(train_data,train_label)))\r\n",
        "print(\"Validation accuracy : \"+str(model.score(val_data,val_label)))\r\n",
        "print(\"Precision : \"+str(precision_score(val_label,y_predict,average='macro', zero_division=0)))\r\n",
        "print(\"Recall : \"+str(recall_score(val_label,y_predict,average='macro', zero_division=0)))\r\n",
        "print(\"F1-Score : \"+str(f1_score(val_label,y_predict,average='macro', zero_division=0)))\r\n",
        "print(\"Classification Report\")\r\n",
        "print(classification_report(val_label,y_predict,zero_division=0))\r\n",
        "print(\"Confusion Matrix\")\r\n",
        "print(confusion_matrix(val_label,y_predict))\r\n",
        "#fig, ax = plt.subplots()\r\n",
        "#plot_confusion_matrix(val_label, y_predict, ax=ax)\r\n",
        "\r\n",
        "\r\n",
        "#neptune.log_metric('Training Accuracy', model.score(train_data,train_label))\r\n",
        "#neptune.log_metric('Validation Accuracy', model.score(val_data,val_label))\r\n",
        "#neptune.log_metric('Precision',precision_score(val_label,y_predict,average='macro', zero_division=0))\r\n",
        "#neptune.log_metric('Recall', recall_score(val_label,y_predict,average='macro', zero_division=0))\r\n",
        "#neptune.log_metric('F1-Score',f1_score(val_label,y_predict,average='macro', zero_division=0))"
      ],
      "execution_count": 52,
      "outputs": [
        {
          "output_type": "stream",
          "text": [
            "Train accuracy : 1.0\n",
            "Validation accuracy : 0.4267006184066933\n",
            "Precision : 0.3273587667102878\n",
            "Recall : 0.32744913184065466\n",
            "F1-Score : 0.32738682807150177\n",
            "Classification Report\n",
            "              precision    recall  f1-score   support\n",
            "\n",
            "           0       0.57      0.57      0.57      1610\n",
            "           1       0.26      0.26      0.26       741\n",
            "           2       0.15      0.15      0.15       398\n",
            "\n",
            "    accuracy                           0.43      2749\n",
            "   macro avg       0.33      0.33      0.33      2749\n",
            "weighted avg       0.43      0.43      0.43      2749\n",
            "\n",
            "Confusion Matrix\n",
            "[[922 442 246]\n",
            " [447 190 104]\n",
            " [238  99  61]]\n"
          ],
          "name": "stdout"
        }
      ]
    },
    {
      "cell_type": "code",
      "metadata": {
        "colab": {
          "base_uri": "https://localhost:8080/",
          "height": 715
        },
        "id": "G-RZNEVgTXo_",
        "outputId": "26aecc48-d0fc-49eb-a732-a6609c3a7c04"
      },
      "source": [
        "# Plot non-normalized confusion matrix\r\n",
        "titles_options = [(\"Confusion matrix, without normalization\", None),\r\n",
        "                  (\"Normalized confusion matrix\", 'true')]\r\n",
        "class_names = [\"Check-In\", \"Canceled\", \"No-Show\"]\r\n",
        "for title, normalize in titles_options:\r\n",
        "    disp = plot_confusion_matrix(model, val_data, val_label,\r\n",
        "                                 display_labels=class_names,\r\n",
        "                                 cmap=plt.cm.Blues,\r\n",
        "                                 normalize=normalize)\r\n",
        "    disp.ax_.set_title(title)\r\n",
        "\r\n",
        "    print(title)\r\n",
        "    print(disp.confusion_matrix)"
      ],
      "execution_count": 53,
      "outputs": [
        {
          "output_type": "stream",
          "text": [
            "Confusion matrix, without normalization\n",
            "[[922 442 246]\n",
            " [447 190 104]\n",
            " [238  99  61]]\n",
            "Normalized confusion matrix\n",
            "[[0.57267081 0.27453416 0.15279503]\n",
            " [0.60323887 0.25641026 0.14035088]\n",
            " [0.59798995 0.24874372 0.15326633]]\n"
          ],
          "name": "stdout"
        },
        {
          "output_type": "display_data",
          "data": {
            "image/png": "[encoded data removed]",
            "text/plain": [
              "<Figure size 432x288 with 2 Axes>"
            ]
          },
          "metadata": {
            "tags": [],
            "needs_background": "light"
          }
        },
        {
          "output_type": "display_data",
          "data": {
            "image/png": "[encoded data removed]",
            "text/plain": [
              "<Figure size 432x288 with 2 Axes>"
            ]
          },
          "metadata": {
            "tags": [],
            "needs_background": "light"
          }
        }
      ]
    },
    {
      "cell_type": "markdown",
      "metadata": {
        "id": "_KibxSrOmO7g"
      },
      "source": [
        "##Ensemble - extra tree classifier approach"
      ]
    },
    {
      "cell_type": "code",
      "metadata": {
        "colab": {
          "base_uri": "https://localhost:8080/"
        },
        "id": "fN0CwJ5OmPHe",
        "outputId": "4f7d779b-bf07-4680-d43c-c9cf3eaf6e26"
      },
      "source": [
        "from sklearn.ensemble import ExtraTreesClassifier\r\n",
        "model = ExtraTreesClassifier(max_depth=12,n_estimators=100, class_weight = 'balanced')\r\n",
        "model.fit(train_data, train_label)\r\n",
        "y_predict= model.predict(val_data)\r\n",
        "print(\"Train accuracy : \"+str(model.score(train_data,train_label)))\r\n",
        "print(\"Validation accuracy : \"+str(model.score(val_data,val_label)))\r\n",
        "print(\"Precision : \"+str(precision_score(val_label,y_predict,average='macro', zero_division=0)))\r\n",
        "print(\"Recall : \"+str(recall_score(val_label,y_predict,average='macro', zero_division=0)))\r\n",
        "print(\"F1-Score : \"+str(f1_score(val_label,y_predict,average='macro', zero_division=0)))\r\n",
        "print(\"Classification Report\")\r\n",
        "print(classification_report(val_label,y_predict,zero_division=0))\r\n",
        "print(\"Confusion Matrix\")\r\n",
        "print(confusion_matrix(val_label,y_predict))\r\n",
        "#fig, ax = plt.subplots()\r\n",
        "#plot_confusion_matrix(val_label, y_predict, ax=ax)\r\n",
        "\r\n",
        "\r\n",
        "#neptune.log_metric('Training Accuracy', model.score(train_data,train_label))\r\n",
        "#neptune.log_metric('Validation Accuracy', model.score(val_data,val_label))\r\n",
        "#neptune.log_metric('Precision',precision_score(val_label,y_predict,average='macro', zero_division=0))\r\n",
        "#neptune.log_metric('Recall', recall_score(val_label,y_predict,average='macro', zero_division=0))\r\n",
        "#neptune.log_metric('F1-Score',f1_score(val_label,y_predict,average='macro', zero_division=0))"
      ],
      "execution_count": 54,
      "outputs": [
        {
          "output_type": "stream",
          "text": [
            "Train accuracy : 0.8822806586384861\n",
            "Validation accuracy : 0.4514368861404147\n",
            "Precision : 0.33676821995966916\n",
            "Recall : 0.3395076221278169\n",
            "F1-Score : 0.33724075488781374\n",
            "Classification Report\n",
            "              precision    recall  f1-score   support\n",
            "\n",
            "           0       0.60      0.60      0.60      1610\n",
            "           1       0.29      0.33      0.31       741\n",
            "           2       0.12      0.09      0.10       398\n",
            "\n",
            "    accuracy                           0.45      2749\n",
            "   macro avg       0.34      0.34      0.34      2749\n",
            "weighted avg       0.45      0.45      0.45      2749\n",
            "\n",
            "Confusion Matrix\n",
            "[[960 466 184]\n",
            " [402 244  95]\n",
            " [228 133  37]]\n"
          ],
          "name": "stdout"
        }
      ]
    },
    {
      "cell_type": "markdown",
      "metadata": {
        "id": "H1QoIIBvL7gH"
      },
      "source": [
        "##Hypertuning the model"
      ]
    },
    {
      "cell_type": "code",
      "metadata": {
        "colab": {
          "base_uri": "https://localhost:8080/"
        },
        "id": "GuBKtqwcL-mP",
        "outputId": "10ad3b18-d4c8-44bb-95be-726ebe99374e"
      },
      "source": [
        "#Hypertuning Parameters for Accuracy F1score and AUC score\r\n",
        "#max_depth\r\n",
        "#learning_rate\r\n",
        "#min_child_weight \r\n",
        "#gamma 4.63\r\n",
        "#colsample_bytree\r\n",
        "#scale_pos_weight \r\n",
        "#subsample\r\n",
        "#reg_lambda\r\n",
        "x=np.linspace(0.1,5,num=50,dtype=float)\r\n",
        "train_acc = []\r\n",
        "val_acc = []\r\n",
        "F = []\r\n",
        "clf = DecisionTreeClassifier(max_depth=50, class_weight = 'balanced')\r\n",
        "for i in x:\r\n",
        "     print(i)\r\n",
        "     model=xgboost.XGBClassifier(base_estimator = clf, max_depth = 22, n_estimators = 15, objective = 'multi:softmax', gamma = 4.5, learning_rate = 0.05, reg_lambda = 3.4).fit(train_data,train_label)\r\n",
        "     y_pred= model.predict(val_data)\r\n",
        "     f=f1_score(val_label,y_pred ,average='macro', zero_division=0)\r\n",
        "     F.append(f)\r\n",
        "     #auc=roc_auc_score(val_label,y_pred,average='macro')\r\n",
        "     #AUC.append(auc)\r\n",
        "     train_acc.append(model.score(train_data,train_label))\r\n",
        "     val_acc.append(model.score(val_data,val_label))\r\n",
        "     if f > 0.3664:\r\n",
        "       print(\"improvement\")\r\n",
        " #ploting hypertuning results\r\n",
        " \r\n",
        "import matplotlib.pyplot as plt\r\n",
        "#plt.plot(x,AUC)\r\n",
        "#plt.title('AUC Score')\r\n",
        "#plt.ylabel('Auc')\r\n",
        "#plt.xlabel('Parameters')\r\n",
        "#plt.show()\r\n",
        "plt.plot(x,F)\r\n",
        "plt.title('F1 Score')\r\n",
        "plt.ylabel('F1')\r\n",
        "plt.xlabel('Parameters')\r\n",
        "plt.show()\r\n",
        "plt.plot(x,train_acc)\r\n",
        "plt.title('Train accuracy')\r\n",
        "plt.ylabel('Acc')\r\n",
        "plt.xlabel('Parameters')\r\n",
        "plt.show()\r\n",
        "plt.plot(x,val_acc)\r\n",
        "plt.title('Validation Accuracy')\r\n",
        "plt.ylabel('Acc')\r\n",
        "plt.xlabel('Parameters')\r\n",
        "plt.show()\r\n",
        "\r\n",
        "print(\"Maximum Training Acc : \"+str(max(train_acc)))\r\n",
        "print(x[train_acc.index(max(train_acc))])\r\n",
        "\r\n",
        "print(\"Maximum Validation Acc : \"+str(max(val_acc)))\r\n",
        "print(x[val_acc.index(max(val_acc))])\r\n",
        "\r\n",
        "print(\"Maximum F1 Score : \"+str(max(F)))\r\n",
        "print(x[F.index(max(F))])\r\n",
        "\r\n",
        "\r\n"
      ],
      "execution_count": null,
      "outputs": [
        {
          "output_type": "stream",
          "text": [
            "0.1\n",
            "0.2\n",
            "0.30000000000000004\n",
            "0.4\n",
            "0.5\n",
            "0.6\n",
            "0.7000000000000001\n",
            "0.8\n",
            "0.9\n",
            "1.0\n",
            "1.1\n",
            "1.2000000000000002\n",
            "improvement\n",
            "1.3000000000000003\n",
            "improvement\n",
            "1.4000000000000001\n",
            "1.5000000000000002\n",
            "improvement\n",
            "1.6\n",
            "1.7000000000000002\n",
            "1.8000000000000003\n",
            "1.9000000000000001\n",
            "2.0\n",
            "2.1\n",
            "improvement\n",
            "2.2\n",
            "2.3000000000000003\n",
            "2.4000000000000004\n",
            "2.5000000000000004\n",
            "2.6\n",
            "2.7\n",
            "2.8000000000000003\n",
            "2.9000000000000004\n",
            "3.0000000000000004\n",
            "3.1\n",
            "3.2\n",
            "3.3000000000000003\n",
            "3.4000000000000004\n",
            "improvement\n",
            "3.5000000000000004\n",
            "3.6\n",
            "3.7\n",
            "3.8000000000000003\n",
            "3.9000000000000004\n",
            "4.0\n",
            "4.1\n",
            "4.2\n",
            "4.3\n",
            "4.3999999999999995\n",
            "4.5\n",
            "4.6\n",
            "4.7\n",
            "4.8\n",
            "4.9\n",
            "improvement\n",
            "5.0\n"
          ],
          "name": "stdout"
        },
        {
          "output_type": "display_data",
          "data": {
            "image/png": "[encoded data removed]",
            "text/plain": [
              "<Figure size 432x288 with 1 Axes>"
            ]
          },
          "metadata": {
            "tags": [],
            "needs_background": "light"
          }
        },
        {
          "output_type": "display_data",
          "data": {
            "image/png": "[encoded data removed]",
            "text/plain": [
              "<Figure size 432x288 with 1 Axes>"
            ]
          },
          "metadata": {
            "tags": [],
            "needs_background": "light"
          }
        },
        {
          "output_type": "display_data",
          "data": {
            "image/png": "[encoded data removed]",
            "text/plain": [
              "<Figure size 432x288 with 1 Axes>"
            ]
          },
          "metadata": {
            "tags": [],
            "needs_background": "light"
          }
        },
        {
          "output_type": "stream",
          "text": [
            "Maximum Training Acc : 0.9847628409928729\n",
            "0.1\n",
            "Maximum Validation Acc : 0.4929065114587123\n",
            "0.6\n",
            "Maximum F1 Score : 0.3694423198719916\n",
            "3.4000000000000004\n"
          ],
          "name": "stdout"
        }
      ]
    },
    {
      "cell_type": "code",
      "metadata": {
        "colab": {
          "base_uri": "https://localhost:8080/"
        },
        "id": "u73R4i_Aa3ED",
        "outputId": "ba43ed65-fd69-40ff-cb10-a5efceb8c374"
      },
      "source": [
        "print(x[F.index(max(F))])"
      ],
      "execution_count": null,
      "outputs": [
        {
          "output_type": "error",
          "ename": "ValueError",
          "evalue": "ignored",
          "traceback": [
            "\u001b[0;31m---------------------------------------------------------------------------\u001b[0m",
            "\u001b[0;31mValueError\u001b[0m                                Traceback (most recent call last)",
            "\u001b[0;32m<ipython-input-43-324e1c9db776>\u001b[0m in \u001b[0;36m<module>\u001b[0;34m()\u001b[0m\n\u001b[0;32m----> 1\u001b[0;31m \u001b[0mprint\u001b[0m\u001b[0;34m(\u001b[0m\u001b[0mx\u001b[0m\u001b[0;34m[\u001b[0m\u001b[0mval_acc\u001b[0m\u001b[0;34m.\u001b[0m\u001b[0mindex\u001b[0m\u001b[0;34m(\u001b[0m\u001b[0mmax\u001b[0m\u001b[0;34m(\u001b[0m\u001b[0mF\u001b[0m\u001b[0;34m)\u001b[0m\u001b[0;34m)\u001b[0m\u001b[0;34m]\u001b[0m\u001b[0;34m)\u001b[0m\u001b[0;34m\u001b[0m\u001b[0;34m\u001b[0m\u001b[0m\n\u001b[0m",
            "\u001b[0;31mValueError\u001b[0m: 0.36587881543503675 is not in list"
          ]
        }
      ]
    },
    {
      "cell_type": "markdown",
      "metadata": {
        "id": "mRUR6NojwRxg"
      },
      "source": [
        "##Neptune log order of Models"
      ]
    },
    {
      "cell_type": "code",
      "metadata": {
        "id": "a7SKhMljwRCf"
      },
      "source": [
        "model_list=['logistic regression','Decision Tree Classifier', 'XGB Boost','MLP classifier', 'Random Forest', 'KNN', 'Ensemble - extra tree classifier'  ]\r\n",
        "for i in model_list:\r\n",
        "  neptune.log_text('Model order',i)\r\n",
        "  "
      ],
      "execution_count": null,
      "outputs": []
    },
    {
      "cell_type": "code",
      "metadata": {
        "id": "Vtb-7X-f7h_d"
      },
      "source": [
        "neptune.stop()"
      ],
      "execution_count": null,
      "outputs": []
    },
    {
      "cell_type": "markdown",
      "metadata": {
        "id": "Y2FHQ8Do-IOA"
      },
      "source": [
        "#Prediction For submission"
      ]
    },
    {
      "cell_type": "code",
      "metadata": {
        "colab": {
          "base_uri": "https://localhost:8080/"
        },
        "id": "TgHPByDBlQ_a",
        "outputId": "5696aea4-5e59-4547-b3b4-b18a1bfc8bcd"
      },
      "source": [
        "y_predict_2= model.predict(test_data)\r\n",
        "y_predict_2\r\n"
      ],
      "execution_count": null,
      "outputs": [
        {
          "output_type": "execute_result",
          "data": {
            "text/plain": [
              "array([2, 0, 0, ..., 1, 0, 1])"
            ]
          },
          "metadata": {
            "tags": []
          },
          "execution_count": 31
        }
      ]
    },
    {
      "cell_type": "code",
      "metadata": {
        "colab": {
          "base_uri": "https://localhost:8080/"
        },
        "id": "S_rvCd4wQVc-",
        "outputId": "4edd7b69-a85d-4e6d-8291-09799d02a205"
      },
      "source": [
        "y_predict_2=le.inverse_transform(y_predict_2)\r\n",
        "y_predict_2"
      ],
      "execution_count": null,
      "outputs": [
        {
          "output_type": "execute_result",
          "data": {
            "text/plain": [
              "array([3, 1, 1, ..., 2, 1, 2], dtype=object)"
            ]
          },
          "metadata": {
            "tags": []
          },
          "execution_count": 32
        }
      ]
    },
    {
      "cell_type": "code",
      "metadata": {
        "colab": {
          "base_uri": "https://localhost:8080/",
          "height": 406
        },
        "id": "AF0UopPkQtGk",
        "outputId": "390d0e2e-0f6c-41b4-cb24-d5ceb62d4096"
      },
      "source": [
        "y_predict_2=pd.DataFrame(y_predict_2,columns=['Reservation_status'] )\r\n",
        "y_predict_2"
      ],
      "execution_count": null,
      "outputs": [
        {
          "output_type": "execute_result",
          "data": {
            "text/html": [
              "<div>\n",
              "<style scoped>\n",
              "    .dataframe tbody tr th:only-of-type {\n",
              "        vertical-align: middle;\n",
              "    }\n",
              "\n",
              "    .dataframe tbody tr th {\n",
              "        vertical-align: top;\n",
              "    }\n",
              "\n",
              "    .dataframe thead th {\n",
              "        text-align: right;\n",
              "    }\n",
              "</style>\n",
              "<table border=\"1\" class=\"dataframe\">\n",
              "  <thead>\n",
              "    <tr style=\"text-align: right;\">\n",
              "      <th></th>\n",
              "      <th>Reservation_status</th>\n",
              "    </tr>\n",
              "  </thead>\n",
              "  <tbody>\n",
              "    <tr>\n",
              "      <th>0</th>\n",
              "      <td>3</td>\n",
              "    </tr>\n",
              "    <tr>\n",
              "      <th>1</th>\n",
              "      <td>1</td>\n",
              "    </tr>\n",
              "    <tr>\n",
              "      <th>2</th>\n",
              "      <td>1</td>\n",
              "    </tr>\n",
              "    <tr>\n",
              "      <th>3</th>\n",
              "      <td>1</td>\n",
              "    </tr>\n",
              "    <tr>\n",
              "      <th>4</th>\n",
              "      <td>1</td>\n",
              "    </tr>\n",
              "    <tr>\n",
              "      <th>...</th>\n",
              "      <td>...</td>\n",
              "    </tr>\n",
              "    <tr>\n",
              "      <th>4313</th>\n",
              "      <td>2</td>\n",
              "    </tr>\n",
              "    <tr>\n",
              "      <th>4314</th>\n",
              "      <td>1</td>\n",
              "    </tr>\n",
              "    <tr>\n",
              "      <th>4315</th>\n",
              "      <td>2</td>\n",
              "    </tr>\n",
              "    <tr>\n",
              "      <th>4316</th>\n",
              "      <td>1</td>\n",
              "    </tr>\n",
              "    <tr>\n",
              "      <th>4317</th>\n",
              "      <td>2</td>\n",
              "    </tr>\n",
              "  </tbody>\n",
              "</table>\n",
              "<p>4318 rows × 1 columns</p>\n",
              "</div>"
            ],
            "text/plain": [
              "     Reservation_status\n",
              "0                     3\n",
              "1                     1\n",
              "2                     1\n",
              "3                     1\n",
              "4                     1\n",
              "...                 ...\n",
              "4313                  2\n",
              "4314                  1\n",
              "4315                  2\n",
              "4316                  1\n",
              "4317                  2\n",
              "\n",
              "[4318 rows x 1 columns]"
            ]
          },
          "metadata": {
            "tags": []
          },
          "execution_count": 33
        }
      ]
    },
    {
      "cell_type": "code",
      "metadata": {
        "colab": {
          "base_uri": "https://localhost:8080/",
          "height": 406
        },
        "id": "52bWVSSXSEj3",
        "outputId": "407af766-58b0-439a-d33e-3f87c468a7fc"
      },
      "source": [
        "test_reservation=pd.DataFrame(test_reservation)\r\n",
        "test_reservation"
      ],
      "execution_count": null,
      "outputs": [
        {
          "output_type": "execute_result",
          "data": {
            "text/html": [
              "<div>\n",
              "<style scoped>\n",
              "    .dataframe tbody tr th:only-of-type {\n",
              "        vertical-align: middle;\n",
              "    }\n",
              "\n",
              "    .dataframe tbody tr th {\n",
              "        vertical-align: top;\n",
              "    }\n",
              "\n",
              "    .dataframe thead th {\n",
              "        text-align: right;\n",
              "    }\n",
              "</style>\n",
              "<table border=\"1\" class=\"dataframe\">\n",
              "  <thead>\n",
              "    <tr style=\"text-align: right;\">\n",
              "      <th></th>\n",
              "      <th>Reservation-id</th>\n",
              "    </tr>\n",
              "  </thead>\n",
              "  <tbody>\n",
              "    <tr>\n",
              "      <th>0</th>\n",
              "      <td>62931593</td>\n",
              "    </tr>\n",
              "    <tr>\n",
              "      <th>1</th>\n",
              "      <td>70586099</td>\n",
              "    </tr>\n",
              "    <tr>\n",
              "      <th>2</th>\n",
              "      <td>4230648</td>\n",
              "    </tr>\n",
              "    <tr>\n",
              "      <th>3</th>\n",
              "      <td>25192322</td>\n",
              "    </tr>\n",
              "    <tr>\n",
              "      <th>4</th>\n",
              "      <td>80931528</td>\n",
              "    </tr>\n",
              "    <tr>\n",
              "      <th>...</th>\n",
              "      <td>...</td>\n",
              "    </tr>\n",
              "    <tr>\n",
              "      <th>4313</th>\n",
              "      <td>39110574</td>\n",
              "    </tr>\n",
              "    <tr>\n",
              "      <th>4314</th>\n",
              "      <td>5496554</td>\n",
              "    </tr>\n",
              "    <tr>\n",
              "      <th>4315</th>\n",
              "      <td>59004046</td>\n",
              "    </tr>\n",
              "    <tr>\n",
              "      <th>4316</th>\n",
              "      <td>65838682</td>\n",
              "    </tr>\n",
              "    <tr>\n",
              "      <th>4317</th>\n",
              "      <td>14474101</td>\n",
              "    </tr>\n",
              "  </tbody>\n",
              "</table>\n",
              "<p>4318 rows × 1 columns</p>\n",
              "</div>"
            ],
            "text/plain": [
              "      Reservation-id\n",
              "0           62931593\n",
              "1           70586099\n",
              "2            4230648\n",
              "3           25192322\n",
              "4           80931528\n",
              "...              ...\n",
              "4313        39110574\n",
              "4314         5496554\n",
              "4315        59004046\n",
              "4316        65838682\n",
              "4317        14474101\n",
              "\n",
              "[4318 rows x 1 columns]"
            ]
          },
          "metadata": {
            "tags": []
          },
          "execution_count": 34
        }
      ]
    },
    {
      "cell_type": "code",
      "metadata": {
        "colab": {
          "base_uri": "https://localhost:8080/",
          "height": 406
        },
        "id": "aR96ORxqQxHa",
        "outputId": "973f0ba7-1114-4fb9-dd33-bd20feb3087b"
      },
      "source": [
        "test_reservation=pd.concat([test_reservation,y_predict_2],axis=1)\r\n",
        "test_reservation"
      ],
      "execution_count": null,
      "outputs": [
        {
          "output_type": "execute_result",
          "data": {
            "text/html": [
              "<div>\n",
              "<style scoped>\n",
              "    .dataframe tbody tr th:only-of-type {\n",
              "        vertical-align: middle;\n",
              "    }\n",
              "\n",
              "    .dataframe tbody tr th {\n",
              "        vertical-align: top;\n",
              "    }\n",
              "\n",
              "    .dataframe thead th {\n",
              "        text-align: right;\n",
              "    }\n",
              "</style>\n",
              "<table border=\"1\" class=\"dataframe\">\n",
              "  <thead>\n",
              "    <tr style=\"text-align: right;\">\n",
              "      <th></th>\n",
              "      <th>Reservation-id</th>\n",
              "      <th>Reservation_status</th>\n",
              "    </tr>\n",
              "  </thead>\n",
              "  <tbody>\n",
              "    <tr>\n",
              "      <th>0</th>\n",
              "      <td>62931593</td>\n",
              "      <td>3</td>\n",
              "    </tr>\n",
              "    <tr>\n",
              "      <th>1</th>\n",
              "      <td>70586099</td>\n",
              "      <td>1</td>\n",
              "    </tr>\n",
              "    <tr>\n",
              "      <th>2</th>\n",
              "      <td>4230648</td>\n",
              "      <td>1</td>\n",
              "    </tr>\n",
              "    <tr>\n",
              "      <th>3</th>\n",
              "      <td>25192322</td>\n",
              "      <td>1</td>\n",
              "    </tr>\n",
              "    <tr>\n",
              "      <th>4</th>\n",
              "      <td>80931528</td>\n",
              "      <td>1</td>\n",
              "    </tr>\n",
              "    <tr>\n",
              "      <th>...</th>\n",
              "      <td>...</td>\n",
              "      <td>...</td>\n",
              "    </tr>\n",
              "    <tr>\n",
              "      <th>4313</th>\n",
              "      <td>39110574</td>\n",
              "      <td>2</td>\n",
              "    </tr>\n",
              "    <tr>\n",
              "      <th>4314</th>\n",
              "      <td>5496554</td>\n",
              "      <td>1</td>\n",
              "    </tr>\n",
              "    <tr>\n",
              "      <th>4315</th>\n",
              "      <td>59004046</td>\n",
              "      <td>2</td>\n",
              "    </tr>\n",
              "    <tr>\n",
              "      <th>4316</th>\n",
              "      <td>65838682</td>\n",
              "      <td>1</td>\n",
              "    </tr>\n",
              "    <tr>\n",
              "      <th>4317</th>\n",
              "      <td>14474101</td>\n",
              "      <td>2</td>\n",
              "    </tr>\n",
              "  </tbody>\n",
              "</table>\n",
              "<p>4318 rows × 2 columns</p>\n",
              "</div>"
            ],
            "text/plain": [
              "      Reservation-id Reservation_status\n",
              "0           62931593                  3\n",
              "1           70586099                  1\n",
              "2            4230648                  1\n",
              "3           25192322                  1\n",
              "4           80931528                  1\n",
              "...              ...                ...\n",
              "4313        39110574                  2\n",
              "4314         5496554                  1\n",
              "4315        59004046                  2\n",
              "4316        65838682                  1\n",
              "4317        14474101                  2\n",
              "\n",
              "[4318 rows x 2 columns]"
            ]
          },
          "metadata": {
            "tags": []
          },
          "execution_count": 35
        }
      ]
    },
    {
      "cell_type": "code",
      "metadata": {
        "id": "YJHlvr10SaS4"
      },
      "source": [
        "#test_reservation.to_csv('submission_XGBoost_upsampled_0.33_0.33_0.33_hypertuned_0.3694.csv',index=False)"
      ],
      "execution_count": null,
      "outputs": []
    },
    {
      "cell_type": "code",
      "metadata": {
        "id": "5qXZnp-qWa-l"
      },
      "source": [
        ""
      ],
      "execution_count": null,
      "outputs": []
    }
  ]
}