{
  "nbformat": 4,
  "nbformat_minor": 0,
  "metadata": {
    "colab": {
      "name": "DataStorm2.0 Day 3-Sub-1.ipynb",
      "provenance": [],
      "collapsed_sections": [
        "KvcMYg7Eg7Mp",
        "oD1VC3Ntrt1o",
        "Y8QYGdzrsMLz",
        "SJ9fLI4PhB-F",
        "pyDUk13liskQ",
        "3HrriTpoiyaD",
        "CYo0sRZEu673",
        "iSM8d-t6wqyH",
        "gpVIPCAA31Ir",
        "sYXslpnd_gNj",
        "HyH6Ku3CAU3a",
        "64k5nSUH1OMG",
        "EFfqO5nIDMdv",
        "tMVdeHLoA-5V",
        "jyCco_VLIODd",
        "eZyhpjSRkKP0",
        "dyUkW5lnkjZj",
        "Tz8G7CNjk90q",
        "_KibxSrOmO7g",
        "mRUR6NojwRxg",
        "Y2FHQ8Do-IOA"
      ]
    },
    "kernelspec": {
      "name": "python3",
      "display_name": "Python 3"
    },
    "accelerator": "GPU"
  },
  "cells": [
    {
      "cell_type": "markdown",
      "metadata": {
        "id": "KvcMYg7Eg7Mp"
      },
      "source": [
        "#Import Libraries"
      ]
    },
    {
      "cell_type": "markdown",
      "metadata": {
        "id": "oD1VC3Ntrt1o"
      },
      "source": [
        "##Neptune Ai"
      ]
    },
    {
      "cell_type": "code",
      "metadata": {
        "colab": {
          "base_uri": "https://localhost:8080/"
        },
        "id": "_r09JJunrtPs",
        "outputId": "9e7cee07-1317-44dc-c922-e8325aa8b8a8"
      },
      "source": [
        "! pip install neptune-client==0.4.132\r\n"
      ],
      "execution_count": 1,
      "outputs": [
        {
          "output_type": "stream",
          "text": [
            "Collecting neptune-client==0.4.132\n",
            "\u001b[?25l  Downloading https://files.pythonhosted.org/packages/de/15/42e29c15a2f17c76038a6d707bc6d46f6e66a9db30cc4c2d54f0712b5ae4/neptune-client-0.4.132.tar.gz (110kB)\n",
            "\u001b[K     |████████████████████████████████| 112kB 17.8MB/s \n",
            "\u001b[?25hCollecting bravado\n",
            "  Downloading https://files.pythonhosted.org/packages/21/ed/03b0c36b5bcafbe2938ed222f9a164a6c0367ce99a9d2d502e462853571d/bravado-11.0.3-py2.py3-none-any.whl\n",
            "Requirement already satisfied: click>=7.0 in /usr/local/lib/python3.7/dist-packages (from neptune-client==0.4.132) (7.1.2)\n",
            "Collecting future>=0.17.1\n",
            "\u001b[?25l  Downloading https://files.pythonhosted.org/packages/45/0b/38b06fd9b92dc2b68d58b75f900e97884c45bedd2ff83203d933cf5851c9/future-0.18.2.tar.gz (829kB)\n",
            "\u001b[K     |████████████████████████████████| 829kB 13.3MB/s \n",
            "\u001b[?25hRequirement already satisfied: oauthlib>=2.1.0 in /usr/local/lib/python3.7/dist-packages (from neptune-client==0.4.132) (3.1.0)\n",
            "Requirement already satisfied: pandas in /usr/local/lib/python3.7/dist-packages (from neptune-client==0.4.132) (1.1.5)\n",
            "Requirement already satisfied: Pillow>=1.1.6 in /usr/local/lib/python3.7/dist-packages (from neptune-client==0.4.132) (7.0.0)\n",
            "Collecting PyJWT\n",
            "  Downloading https://files.pythonhosted.org/packages/b4/9b/8850f99027ed029af6828199cc87179eaccbbf1f9e6e373e7f0177d32dad/PyJWT-2.0.1-py3-none-any.whl\n",
            "Requirement already satisfied: requests>=2.20.0 in /usr/local/lib/python3.7/dist-packages (from neptune-client==0.4.132) (2.23.0)\n",
            "Requirement already satisfied: requests-oauthlib>=1.0.0 in /usr/local/lib/python3.7/dist-packages (from neptune-client==0.4.132) (1.3.0)\n",
            "Requirement already satisfied: six>=1.12.0 in /usr/local/lib/python3.7/dist-packages (from neptune-client==0.4.132) (1.15.0)\n",
            "Collecting websocket-client>=0.35.0\n",
            "\u001b[?25l  Downloading https://files.pythonhosted.org/packages/08/33/80e0d4f60e84a1ddd9a03f340be1065a2a363c47ce65c4bd3bae65ce9631/websocket_client-0.58.0-py2.py3-none-any.whl (61kB)\n",
            "\u001b[K     |████████████████████████████████| 61kB 9.3MB/s \n",
            "\u001b[?25hCollecting GitPython>=2.0.8\n",
            "\u001b[?25l  Downloading https://files.pythonhosted.org/packages/a6/99/98019716955ba243657daedd1de8f3a88ca1f5b75057c38e959db22fb87b/GitPython-3.1.14-py3-none-any.whl (159kB)\n",
            "\u001b[K     |████████████████████████████████| 163kB 52.2MB/s \n",
            "\u001b[?25hRequirement already satisfied: packaging in /usr/local/lib/python3.7/dist-packages (from neptune-client==0.4.132) (20.9)\n",
            "Requirement already satisfied: typing-extensions in /usr/local/lib/python3.7/dist-packages (from bravado->neptune-client==0.4.132) (3.7.4.3)\n",
            "Requirement already satisfied: msgpack in /usr/local/lib/python3.7/dist-packages (from bravado->neptune-client==0.4.132) (1.0.2)\n",
            "Requirement already satisfied: pyyaml in /usr/local/lib/python3.7/dist-packages (from bravado->neptune-client==0.4.132) (3.13)\n",
            "Requirement already satisfied: python-dateutil in /usr/local/lib/python3.7/dist-packages (from bravado->neptune-client==0.4.132) (2.8.1)\n",
            "Collecting monotonic\n",
            "  Downloading https://files.pythonhosted.org/packages/ac/aa/063eca6a416f397bd99552c534c6d11d57f58f2e94c14780f3bbf818c4cf/monotonic-1.5-py2.py3-none-any.whl\n",
            "Collecting bravado-core>=5.16.1\n",
            "\u001b[?25l  Downloading https://files.pythonhosted.org/packages/76/11/18e9d28a156c33f2d5f15a5e155dc7130250acb0a569255a2b6b307b596d/bravado_core-5.17.0-py2.py3-none-any.whl (67kB)\n",
            "\u001b[K     |████████████████████████████████| 71kB 11.3MB/s \n",
            "\u001b[?25hCollecting simplejson\n",
            "\u001b[?25l  Downloading https://files.pythonhosted.org/packages/a8/04/377418ac1e530ce2a196b54c6552c018fdf1fe776718053efb1f216bffcd/simplejson-3.17.2-cp37-cp37m-manylinux2010_x86_64.whl (128kB)\n",
            "\u001b[K     |████████████████████████████████| 133kB 58.0MB/s \n",
            "\u001b[?25hRequirement already satisfied: pytz>=2017.2 in /usr/local/lib/python3.7/dist-packages (from pandas->neptune-client==0.4.132) (2018.9)\n",
            "Requirement already satisfied: numpy>=1.15.4 in /usr/local/lib/python3.7/dist-packages (from pandas->neptune-client==0.4.132) (1.19.5)\n",
            "Requirement already satisfied: chardet<4,>=3.0.2 in /usr/local/lib/python3.7/dist-packages (from requests>=2.20.0->neptune-client==0.4.132) (3.0.4)\n",
            "Requirement already satisfied: urllib3!=1.25.0,!=1.25.1,<1.26,>=1.21.1 in /usr/local/lib/python3.7/dist-packages (from requests>=2.20.0->neptune-client==0.4.132) (1.24.3)\n",
            "Requirement already satisfied: idna<3,>=2.5 in /usr/local/lib/python3.7/dist-packages (from requests>=2.20.0->neptune-client==0.4.132) (2.10)\n",
            "Requirement already satisfied: certifi>=2017.4.17 in /usr/local/lib/python3.7/dist-packages (from requests>=2.20.0->neptune-client==0.4.132) (2020.12.5)\n",
            "Collecting gitdb<5,>=4.0.1\n",
            "\u001b[?25l  Downloading https://files.pythonhosted.org/packages/48/11/d1800bca0a3bae820b84b7d813ad1eff15a48a64caea9c823fc8c1b119e8/gitdb-4.0.5-py3-none-any.whl (63kB)\n",
            "\u001b[K     |████████████████████████████████| 71kB 11.0MB/s \n",
            "\u001b[?25hRequirement already satisfied: pyparsing>=2.0.2 in /usr/local/lib/python3.7/dist-packages (from packaging->neptune-client==0.4.132) (2.4.7)\n",
            "Collecting swagger-spec-validator>=2.0.1\n",
            "  Downloading https://files.pythonhosted.org/packages/09/de/e78cefbf5838b434b63a789264b79821cb2267f1498fbed23ef8590133e4/swagger_spec_validator-2.7.3-py2.py3-none-any.whl\n",
            "Collecting jsonref\n",
            "  Downloading https://files.pythonhosted.org/packages/07/92/f8e4ac824b14af77e613984e480fa818397c72d4141fc466decb26752749/jsonref-0.2-py3-none-any.whl\n",
            "Requirement already satisfied: jsonschema[format]>=2.5.1 in /usr/local/lib/python3.7/dist-packages (from bravado-core>=5.16.1->bravado->neptune-client==0.4.132) (2.6.0)\n",
            "Collecting smmap<4,>=3.0.1\n",
            "  Downloading https://files.pythonhosted.org/packages/d5/1e/6130925131f639b2acde0f7f18b73e33ce082ff2d90783c436b52040af5a/smmap-3.0.5-py2.py3-none-any.whl\n",
            "Collecting rfc3987; extra == \"format\"\n",
            "  Downloading https://files.pythonhosted.org/packages/65/d4/f7407c3d15d5ac779c3dd34fbbc6ea2090f77bd7dd12f207ccf881551208/rfc3987-1.3.8-py2.py3-none-any.whl\n",
            "Collecting strict-rfc3339; extra == \"format\"\n",
            "  Downloading https://files.pythonhosted.org/packages/56/e4/879ef1dbd6ddea1c77c0078cd59b503368b0456bcca7d063a870ca2119d3/strict-rfc3339-0.7.tar.gz\n",
            "Collecting webcolors; extra == \"format\"\n",
            "  Downloading https://files.pythonhosted.org/packages/12/05/3350559de9714b202e443a9e6312937341bd5f79f4e4f625744295e7dd17/webcolors-1.11.1-py3-none-any.whl\n",
            "Building wheels for collected packages: neptune-client, future, strict-rfc3339\n",
            "  Building wheel for neptune-client (setup.py) ... \u001b[?25l\u001b[?25hdone\n",
            "  Created wheel for neptune-client: filename=neptune_client-0.4.132-py2.py3-none-any.whl size=166223 sha256=d6eb5bc435aa7ac1ff91ac1d824a83e4a82f78e0e92866352254bfd0fca0325a\n",
            "  Stored in directory: /root/.cache/pip/wheels/ef/17/bc/2f8eef68e5adb68415d3634a6c70185860f4461b00c1c6a37b\n",
            "  Building wheel for future (setup.py) ... \u001b[?25l\u001b[?25hdone\n",
            "  Created wheel for future: filename=future-0.18.2-cp37-none-any.whl size=491058 sha256=2fe10cf56417cb96d9a662913f7dbabbe4645645590296570b5d475231a65d23\n",
            "  Stored in directory: /root/.cache/pip/wheels/8b/99/a0/81daf51dcd359a9377b110a8a886b3895921802d2fc1b2397e\n",
            "  Building wheel for strict-rfc3339 (setup.py) ... \u001b[?25l\u001b[?25hdone\n",
            "  Created wheel for strict-rfc3339: filename=strict_rfc3339-0.7-cp37-none-any.whl size=18121 sha256=18b48afa48e0925300eb7c9a1a4d127a8de9af77b75056b6d5383698f97534f3\n",
            "  Stored in directory: /root/.cache/pip/wheels/bb/af/c9/b6e9fb5f9b2470e4ed2a7241c9ab3a8cdd3bc8555ae02ca2e6\n",
            "Successfully built neptune-client future strict-rfc3339\n",
            "Installing collected packages: monotonic, swagger-spec-validator, jsonref, simplejson, bravado-core, bravado, future, PyJWT, websocket-client, smmap, gitdb, GitPython, neptune-client, rfc3987, strict-rfc3339, webcolors\n",
            "  Found existing installation: future 0.16.0\n",
            "    Uninstalling future-0.16.0:\n",
            "      Successfully uninstalled future-0.16.0\n",
            "Successfully installed GitPython-3.1.14 PyJWT-2.0.1 bravado-11.0.3 bravado-core-5.17.0 future-0.18.2 gitdb-4.0.5 jsonref-0.2 monotonic-1.5 neptune-client-0.4.132 rfc3987-1.3.8 simplejson-3.17.2 smmap-3.0.5 strict-rfc3339-0.7 swagger-spec-validator-2.7.3 webcolors-1.11.1 websocket-client-0.58.0\n"
          ],
          "name": "stdout"
        }
      ]
    },
    {
      "cell_type": "code",
      "metadata": {
        "colab": {
          "base_uri": "https://localhost:8080/"
        },
        "id": "D1Bu88-Ks_Ij",
        "outputId": "22e2f9b2-b3be-4ea1-a75c-657cfd1ef5cc"
      },
      "source": [
        "pip install  neptune-contrib neptune-client\r\n"
      ],
      "execution_count": 2,
      "outputs": [
        {
          "output_type": "stream",
          "text": [
            "Collecting neptune-contrib\n",
            "\u001b[?25l  Downloading https://files.pythonhosted.org/packages/b7/ab/58a6f3c0531faa575222097b390a3f654870c07fea63b8e7f055a976c8a1/neptune-contrib-0.27.1.tar.gz (69kB)\n",
            "\r\u001b[K     |████▊                           | 10kB 20.0MB/s eta 0:00:01\r\u001b[K     |█████████▌                      | 20kB 27.6MB/s eta 0:00:01\r\u001b[K     |██████████████▏                 | 30kB 23.5MB/s eta 0:00:01\r\u001b[K     |███████████████████             | 40kB 21.1MB/s eta 0:00:01\r\u001b[K     |███████████████████████▊        | 51kB 22.7MB/s eta 0:00:01\r\u001b[K     |████████████████████████████▍   | 61kB 16.5MB/s eta 0:00:01\r\u001b[K     |████████████████████████████████| 71kB 7.0MB/s \n",
            "\u001b[?25hRequirement already satisfied: neptune-client in /usr/local/lib/python3.7/dist-packages (0.4.132)\n",
            "Collecting attrdict>=2.0.0\n",
            "  Downloading https://files.pythonhosted.org/packages/ef/97/28fe7e68bc7adfce67d4339756e85e9fcf3c6fd7f0c0781695352b70472c/attrdict-2.0.1-py2.py3-none-any.whl\n",
            "Requirement already satisfied: joblib>=0.13 in /usr/local/lib/python3.7/dist-packages (from neptune-contrib) (1.0.1)\n",
            "Requirement already satisfied: pandas in /usr/local/lib/python3.7/dist-packages (from neptune-contrib) (1.1.5)\n",
            "Requirement already satisfied: matplotlib in /usr/local/lib/python3.7/dist-packages (from neptune-contrib) (3.2.2)\n",
            "Requirement already satisfied: Pillow>=6.2.0 in /usr/local/lib/python3.7/dist-packages (from neptune-contrib) (7.0.0)\n",
            "Requirement already satisfied: requests-oauthlib>=1.0.0 in /usr/local/lib/python3.7/dist-packages (from neptune-client) (1.3.0)\n",
            "Requirement already satisfied: requests>=2.20.0 in /usr/local/lib/python3.7/dist-packages (from neptune-client) (2.23.0)\n",
            "Requirement already satisfied: PyJWT in /usr/local/lib/python3.7/dist-packages (from neptune-client) (2.0.1)\n",
            "Requirement already satisfied: websocket-client>=0.35.0 in /usr/local/lib/python3.7/dist-packages (from neptune-client) (0.58.0)\n",
            "Requirement already satisfied: packaging in /usr/local/lib/python3.7/dist-packages (from neptune-client) (20.9)\n",
            "Requirement already satisfied: click>=7.0 in /usr/local/lib/python3.7/dist-packages (from neptune-client) (7.1.2)\n",
            "Requirement already satisfied: bravado in /usr/local/lib/python3.7/dist-packages (from neptune-client) (11.0.3)\n",
            "Requirement already satisfied: six>=1.12.0 in /usr/local/lib/python3.7/dist-packages (from neptune-client) (1.15.0)\n",
            "Requirement already satisfied: oauthlib>=2.1.0 in /usr/local/lib/python3.7/dist-packages (from neptune-client) (3.1.0)\n",
            "Requirement already satisfied: future>=0.17.1 in /usr/local/lib/python3.7/dist-packages (from neptune-client) (0.18.2)\n",
            "Requirement already satisfied: GitPython>=2.0.8 in /usr/local/lib/python3.7/dist-packages (from neptune-client) (3.1.14)\n",
            "Requirement already satisfied: pytz>=2017.2 in /usr/local/lib/python3.7/dist-packages (from pandas->neptune-contrib) (2018.9)\n",
            "Requirement already satisfied: python-dateutil>=2.7.3 in /usr/local/lib/python3.7/dist-packages (from pandas->neptune-contrib) (2.8.1)\n",
            "Requirement already satisfied: numpy>=1.15.4 in /usr/local/lib/python3.7/dist-packages (from pandas->neptune-contrib) (1.19.5)\n",
            "Requirement already satisfied: kiwisolver>=1.0.1 in /usr/local/lib/python3.7/dist-packages (from matplotlib->neptune-contrib) (1.3.1)\n",
            "Requirement already satisfied: cycler>=0.10 in /usr/local/lib/python3.7/dist-packages (from matplotlib->neptune-contrib) (0.10.0)\n",
            "Requirement already satisfied: pyparsing!=2.0.4,!=2.1.2,!=2.1.6,>=2.0.1 in /usr/local/lib/python3.7/dist-packages (from matplotlib->neptune-contrib) (2.4.7)\n",
            "Requirement already satisfied: chardet<4,>=3.0.2 in /usr/local/lib/python3.7/dist-packages (from requests>=2.20.0->neptune-client) (3.0.4)\n",
            "Requirement already satisfied: idna<3,>=2.5 in /usr/local/lib/python3.7/dist-packages (from requests>=2.20.0->neptune-client) (2.10)\n",
            "Requirement already satisfied: certifi>=2017.4.17 in /usr/local/lib/python3.7/dist-packages (from requests>=2.20.0->neptune-client) (2020.12.5)\n",
            "Requirement already satisfied: urllib3!=1.25.0,!=1.25.1,<1.26,>=1.21.1 in /usr/local/lib/python3.7/dist-packages (from requests>=2.20.0->neptune-client) (1.24.3)\n",
            "Requirement already satisfied: msgpack in /usr/local/lib/python3.7/dist-packages (from bravado->neptune-client) (1.0.2)\n",
            "Requirement already satisfied: monotonic in /usr/local/lib/python3.7/dist-packages (from bravado->neptune-client) (1.5)\n",
            "Requirement already satisfied: typing-extensions in /usr/local/lib/python3.7/dist-packages (from bravado->neptune-client) (3.7.4.3)\n",
            "Requirement already satisfied: bravado-core>=5.16.1 in /usr/local/lib/python3.7/dist-packages (from bravado->neptune-client) (5.17.0)\n",
            "Requirement already satisfied: simplejson in /usr/local/lib/python3.7/dist-packages (from bravado->neptune-client) (3.17.2)\n",
            "Requirement already satisfied: pyyaml in /usr/local/lib/python3.7/dist-packages (from bravado->neptune-client) (3.13)\n",
            "Requirement already satisfied: gitdb<5,>=4.0.1 in /usr/local/lib/python3.7/dist-packages (from GitPython>=2.0.8->neptune-client) (4.0.5)\n",
            "Requirement already satisfied: jsonref in /usr/local/lib/python3.7/dist-packages (from bravado-core>=5.16.1->bravado->neptune-client) (0.2)\n",
            "Requirement already satisfied: swagger-spec-validator>=2.0.1 in /usr/local/lib/python3.7/dist-packages (from bravado-core>=5.16.1->bravado->neptune-client) (2.7.3)\n",
            "Requirement already satisfied: jsonschema[format]>=2.5.1 in /usr/local/lib/python3.7/dist-packages (from bravado-core>=5.16.1->bravado->neptune-client) (2.6.0)\n",
            "Requirement already satisfied: smmap<4,>=3.0.1 in /usr/local/lib/python3.7/dist-packages (from gitdb<5,>=4.0.1->GitPython>=2.0.8->neptune-client) (3.0.5)\n",
            "Requirement already satisfied: rfc3987; extra == \"format\" in /usr/local/lib/python3.7/dist-packages (from jsonschema[format]>=2.5.1->bravado-core>=5.16.1->bravado->neptune-client) (1.3.8)\n",
            "Requirement already satisfied: strict-rfc3339; extra == \"format\" in /usr/local/lib/python3.7/dist-packages (from jsonschema[format]>=2.5.1->bravado-core>=5.16.1->bravado->neptune-client) (0.7)\n",
            "Requirement already satisfied: webcolors; extra == \"format\" in /usr/local/lib/python3.7/dist-packages (from jsonschema[format]>=2.5.1->bravado-core>=5.16.1->bravado->neptune-client) (1.11.1)\n",
            "Building wheels for collected packages: neptune-contrib\n",
            "  Building wheel for neptune-contrib (setup.py) ... \u001b[?25l\u001b[?25hdone\n",
            "  Created wheel for neptune-contrib: filename=neptune_contrib-0.27.1-cp37-none-any.whl size=81334 sha256=2937f901fb6c20eb4f9b6e508be8f16bf682f44fe8b8430afc36d431d23a591a\n",
            "  Stored in directory: /root/.cache/pip/wheels/81/79/bc/e5458e541cc4714c4fc233b1cd6deb076f310ca411f31062b4\n",
            "Successfully built neptune-contrib\n",
            "Installing collected packages: attrdict, neptune-contrib\n",
            "Successfully installed attrdict-2.0.1 neptune-contrib-0.27.1\n"
          ],
          "name": "stdout"
        }
      ]
    },
    {
      "cell_type": "code",
      "metadata": {
        "colab": {
          "base_uri": "https://localhost:8080/"
        },
        "id": "xODauqvZr2_e",
        "outputId": "0ed24fdf-4af2-473f-fbc5-98acda16ba94"
      },
      "source": [
        "import neptune\r\n",
        "from neptunecontrib.monitoring.keras import NeptuneMonitor\r\n",
        "neptune.init(project_qualified_name='jathurshan0330/DataStorm2-round1', # change this to your `workspace_name/project_name`\r\n",
        "             api_token='eyJhcGlfYWRkcmVzcyI6Imh0dHBzOi8vdWkubmVwdHVuZS5haSIsImFwaV91cmwiOiJodHRwczovL3VpLm5lcHR1bmUuYWkiLCJhcGlfa2V5IjoiZmJkZjYxNGYtMTA0ZC00ZTc1LWJiMTYtNzczNjgwZWQ3OTUzIn0=', # change this to your api token\r\n",
        "            )"
      ],
      "execution_count": 3,
      "outputs": [
        {
          "output_type": "execute_result",
          "data": {
            "text/plain": [
              "Project(jathurshan0330/DataStorm2-round1)"
            ]
          },
          "metadata": {
            "tags": []
          },
          "execution_count": 3
        }
      ]
    },
    {
      "cell_type": "markdown",
      "metadata": {
        "id": "Y8QYGdzrsMLz"
      },
      "source": [
        "##other necessary libraries"
      ]
    },
    {
      "cell_type": "code",
      "metadata": {
        "id": "vgWUBI95eR_-"
      },
      "source": [
        "import os\r\n",
        "import sys\r\n",
        "import numpy as np\r\n",
        "import pandas as pd\r\n",
        "import matplotlib.pyplot as plt\r\n",
        "import scipy.io\r\n",
        "import seaborn as sns\r\n",
        "from sklearn.model_selection import train_test_split\r\n",
        "import tensorflow as tf\r\n",
        "from scipy import stats \r\n",
        "from tensorflow.keras.models import Sequential,Model\r\n",
        "from tensorflow.keras.layers import Dense, Input,LSTM,Reshape,Conv2D,Flatten,Dropout,BatchNormalization, LeakyReLU, concatenate, GRU, GlobalMaxPooling1D, GlobalMaxPooling2D, Bidirectional"
      ],
      "execution_count": 4,
      "outputs": []
    },
    {
      "cell_type": "code",
      "metadata": {
        "colab": {
          "base_uri": "https://localhost:8080/"
        },
        "id": "qVw6UsLvAk8y",
        "outputId": "d5442581-df18-41b0-9a9f-13df7840502c"
      },
      "source": [
        "!pip install scikit-plot"
      ],
      "execution_count": 5,
      "outputs": [
        {
          "output_type": "stream",
          "text": [
            "Collecting scikit-plot\n",
            "  Downloading https://files.pythonhosted.org/packages/7c/47/32520e259340c140a4ad27c1b97050dd3254fdc517b1d59974d47037510e/scikit_plot-0.3.7-py3-none-any.whl\n",
            "Requirement already satisfied: scipy>=0.9 in /usr/local/lib/python3.7/dist-packages (from scikit-plot) (1.4.1)\n",
            "Requirement already satisfied: joblib>=0.10 in /usr/local/lib/python3.7/dist-packages (from scikit-plot) (1.0.1)\n",
            "Requirement already satisfied: matplotlib>=1.4.0 in /usr/local/lib/python3.7/dist-packages (from scikit-plot) (3.2.2)\n",
            "Requirement already satisfied: scikit-learn>=0.18 in /usr/local/lib/python3.7/dist-packages (from scikit-plot) (0.22.2.post1)\n",
            "Requirement already satisfied: numpy>=1.13.3 in /usr/local/lib/python3.7/dist-packages (from scipy>=0.9->scikit-plot) (1.19.5)\n",
            "Requirement already satisfied: cycler>=0.10 in /usr/local/lib/python3.7/dist-packages (from matplotlib>=1.4.0->scikit-plot) (0.10.0)\n",
            "Requirement already satisfied: pyparsing!=2.0.4,!=2.1.2,!=2.1.6,>=2.0.1 in /usr/local/lib/python3.7/dist-packages (from matplotlib>=1.4.0->scikit-plot) (2.4.7)\n",
            "Requirement already satisfied: python-dateutil>=2.1 in /usr/local/lib/python3.7/dist-packages (from matplotlib>=1.4.0->scikit-plot) (2.8.1)\n",
            "Requirement already satisfied: kiwisolver>=1.0.1 in /usr/local/lib/python3.7/dist-packages (from matplotlib>=1.4.0->scikit-plot) (1.3.1)\n",
            "Requirement already satisfied: six in /usr/local/lib/python3.7/dist-packages (from cycler>=0.10->matplotlib>=1.4.0->scikit-plot) (1.15.0)\n",
            "Installing collected packages: scikit-plot\n",
            "Successfully installed scikit-plot-0.3.7\n"
          ],
          "name": "stdout"
        }
      ]
    },
    {
      "cell_type": "markdown",
      "metadata": {
        "id": "SJ9fLI4PhB-F"
      },
      "source": [
        "#Read Data"
      ]
    },
    {
      "cell_type": "markdown",
      "metadata": {
        "id": "pyDUk13liskQ"
      },
      "source": [
        "##Mount Drive"
      ]
    },
    {
      "cell_type": "code",
      "metadata": {
        "colab": {
          "base_uri": "https://localhost:8080/"
        },
        "id": "8tMfAusZeXlc",
        "outputId": "678b39a5-32fa-4af8-ce05-7875f3e85942"
      },
      "source": [
        "from google.colab import drive\r\n",
        "drive.mount('/content/drive')"
      ],
      "execution_count": 11,
      "outputs": [
        {
          "output_type": "stream",
          "text": [
            "Drive already mounted at /content/drive; to attempt to forcibly remount, call drive.mount(\"/content/drive\", force_remount=True).\n"
          ],
          "name": "stdout"
        }
      ]
    },
    {
      "cell_type": "code",
      "metadata": {
        "colab": {
          "base_uri": "https://localhost:8080/"
        },
        "id": "h73RjtZveaoz",
        "outputId": "a98a8386-1f74-4a18-9e9e-5df0a9d26887"
      },
      "source": [
        "cd '/content/drive/My Drive/Datastorm2.0'"
      ],
      "execution_count": 12,
      "outputs": [
        {
          "output_type": "stream",
          "text": [
            "/content/drive/My Drive/Datastorm2.0\n"
          ],
          "name": "stdout"
        }
      ]
    },
    {
      "cell_type": "code",
      "metadata": {
        "colab": {
          "base_uri": "https://localhost:8080/"
        },
        "id": "0kMFX-PPefgF",
        "outputId": "0ce7aa98-1570-423a-bf5b-a8ea1214a22c"
      },
      "source": [
        "!ls '/content/drive/My Drive/Datastorm2.0'"
      ],
      "execution_count": 13,
      "outputs": [
        {
          "output_type": "stream",
          "text": [
            "DataStorm2.0_Q1-v2.pdf\n",
            "Hotel-A-data-dictionary.csv\n",
            "Hotel-A-data-dictionary.gsheet\n",
            "Hotel-A-test.csv\n",
            "Hotel-A-train.csv\n",
            "Hotel-A-train_val.csv\n",
            "Hotel-A-validation.csv\n",
            "submission_DecisionTree_upsampled_0.33_0.33_0.33_hypertuned_28features.csv\n",
            "submission_DecisionTree_upsampled_0.33_0.33_0.33_hypertuned_47features.csv\n",
            "submission_KNN_upsampled_0.33_0.33_0.33.csv\n",
            "submission_Randomforest_upsampled_0.33_0.33_0.33_hypertuned_47features.csv\n",
            "submission_Rsndomforest_upsampled_0.33_0.33_0.33_hypertuned_47features.csv\n",
            "submission_XGBoost_upsampled_0.33_0.33_0.33_hypertuned_0.3694.csv\n",
            "submission_XGBoost_upsampled_0.33_0.33_0.33_hypertuned_03694.csv\n",
            "submission_XGBoost_upsampled_0.33_0.33_0.33_selected_feature_16.csv\n",
            "train_data_cancelled_1.csv\n",
            "train_data_cancelled.csv\n",
            "train_data_check_in_1.csv\n",
            "train_data_check_in.csv\n",
            "train_data_noshow_1.csv\n",
            "train_data_noshow.csv\n",
            "train_data_upsamp_2.csv\n",
            "train_data_upsamp_3.csv\n",
            "train_data_upsamp_4.csv\n",
            "train_data_upsamp_5.csv\n",
            "train_data_upsamp_6.csv\n",
            "train_data_upsamp.csv\n",
            "train_labels_cancelled_1.csv\n",
            "train_labels_cancelled.csv\n",
            "train_labels_check_in_1.csv\n",
            "train_labels_check_in.csv\n",
            "train_labels_noshow_1.csv\n",
            "train_labels_noshow.csv\n",
            "train_labels_upsamp_2.csv\n",
            "train_labels_upsamp_3.csv\n",
            "train_labels_upsamp_4.csv\n",
            "train_labels_upsamp_5.csv\n",
            "train_labels_upsamp_6.csv\n",
            "train_labels_upsamp.csv\n"
          ],
          "name": "stdout"
        }
      ]
    },
    {
      "cell_type": "markdown",
      "metadata": {
        "id": "3HrriTpoiyaD"
      },
      "source": [
        "##Data"
      ]
    },
    {
      "cell_type": "code",
      "metadata": {
        "colab": {
          "base_uri": "https://localhost:8080/"
        },
        "id": "7NolRjB3fyDJ",
        "outputId": "4cb08661-358f-4584-d128-1f07caefe7c4"
      },
      "source": [
        "train_data = pd.read_csv('Hotel-A-train.csv')\r\n",
        "print(train_data.head()) \r\n",
        "print(train_data.shape)\r\n",
        "val_data = pd.read_csv('Hotel-A-validation.csv')\r\n",
        "print(val_data.head()) \r\n",
        "print(val_data.shape)\r\n",
        "test_data = pd.read_csv('Hotel-A-test.csv')\r\n",
        "print(test_data.head())\r\n",
        "print(test_data.shape) \r\n",
        "\r\n"
      ],
      "execution_count": 14,
      "outputs": [
        {
          "output_type": "stream",
          "text": [
            "   Reservation-id Gender  Age  ... Use_Promotion Discount_Rate Room_Rate\n",
            "0        39428300      F   40  ...           Yes            10       218\n",
            "1        77491756      F   49  ...            No             0       185\n",
            "2        73747291      F   42  ...            No             0       119\n",
            "3        67301739      M   25  ...           Yes             5       144\n",
            "4        77222321      F   62  ...           Yes            10       242\n",
            "\n",
            "[5 rows x 24 columns]\n",
            "(27499, 24)\n",
            "   Reservation-id Gender  Age  ... Use_Promotion Discount_Rate Room_Rate\n",
            "0        45716350      M   56  ...           Yes            15       192\n",
            "1        88857401      M   60  ...            No             0       187\n",
            "2        16074440      F   58  ...           Yes            10       227\n",
            "3        10992124      F   23  ...           Yes            25       189\n",
            "4        15934351      F   47  ...           Yes            10       218\n",
            "\n",
            "[5 rows x 24 columns]\n",
            "(2749, 24)\n",
            "   Reservation-id Gender  Age  ... Use_Promotion Discount_Rate Room_Rate\n",
            "0        62931593      F   52  ...           Yes            10       153\n",
            "1        70586099      F   47  ...            No             0       210\n",
            "2         4230648      F   28  ...           Yes             5       117\n",
            "3        25192322      F   65  ...           Yes            10       107\n",
            "4        80931528      M   45  ...            No             0       119\n",
            "\n",
            "[5 rows x 23 columns]\n",
            "(4318, 23)\n"
          ],
          "name": "stdout"
        }
      ]
    },
    {
      "cell_type": "code",
      "metadata": {
        "colab": {
          "base_uri": "https://localhost:8080/"
        },
        "id": "_-FAXfn0nCLi",
        "outputId": "3ecd72ef-37bd-4731-b28c-d4962a09af6d"
      },
      "source": [
        "print(train_data.isna().sum())\r\n",
        "print(val_data.isna().sum())\r\n",
        "print(test_data.isna().sum())"
      ],
      "execution_count": 15,
      "outputs": [
        {
          "output_type": "stream",
          "text": [
            "Reservation-id            0\n",
            "Gender                    0\n",
            "Age                       0\n",
            "Ethnicity                 0\n",
            "Educational_Level         0\n",
            "Income                    0\n",
            "Country_region            0\n",
            "Hotel_Type                0\n",
            "Expected_checkin          0\n",
            "Expected_checkout         0\n",
            "Booking_date              0\n",
            "Adults                    0\n",
            "Children                  0\n",
            "Babies                    0\n",
            "Meal_Type                 0\n",
            "Visted_Previously         0\n",
            "Previous_Cancellations    0\n",
            "Deposit_type              0\n",
            "Booking_channel           0\n",
            "Required_Car_Parking      0\n",
            "Reservation_Status        0\n",
            "Use_Promotion             0\n",
            "Discount_Rate             0\n",
            "Room_Rate                 0\n",
            "dtype: int64\n",
            "Reservation-id            0\n",
            "Gender                    0\n",
            "Age                       0\n",
            "Ethnicity                 0\n",
            "Educational_Level         0\n",
            "Income                    0\n",
            "Country_region            0\n",
            "Hotel_Type                0\n",
            "Expected_checkin          0\n",
            "Expected_checkout         0\n",
            "Booking_date              0\n",
            "Adults                    0\n",
            "Children                  0\n",
            "Babies                    0\n",
            "Meal_Type                 0\n",
            "Visted_Previously         0\n",
            "Previous_Cancellations    0\n",
            "Deposit_type              0\n",
            "Booking_channel           0\n",
            "Required_Car_Parking      0\n",
            "Reservation_Status        0\n",
            "Use_Promotion             0\n",
            "Discount_Rate             0\n",
            "Room_Rate                 0\n",
            "dtype: int64\n",
            "Reservation-id            0\n",
            "Gender                    0\n",
            "Age                       0\n",
            "Ethnicity                 0\n",
            "Educational_Level         0\n",
            "Income                    0\n",
            "Country_region            0\n",
            "Hotel_Type                0\n",
            "Expected_checkin          0\n",
            "Expected_checkout         0\n",
            "Booking_date              0\n",
            "Adults                    0\n",
            "Children                  0\n",
            "Babies                    0\n",
            "Meal_Type                 0\n",
            "Visted_Previously         0\n",
            "Previous_Cancellations    0\n",
            "Deposit_type              0\n",
            "Booking_channel           0\n",
            "Required_Car_Parking      0\n",
            "Use_Promotion             0\n",
            "Discount_Rate             0\n",
            "Room_Rate                 0\n",
            "dtype: int64\n"
          ],
          "name": "stdout"
        }
      ]
    },
    {
      "cell_type": "code",
      "metadata": {
        "colab": {
          "base_uri": "https://localhost:8080/"
        },
        "id": "6nBOmQmHhSew",
        "outputId": "fbd7bd45-f787-4d68-db41-195f6915377e"
      },
      "source": [
        "train_labels = train_data.pop(\"Reservation_Status\")\r\n",
        "print(train_labels.head())\r\n",
        "\r\n",
        "for i in range (len(train_labels)):\r\n",
        "  if train_labels[i] == 'Check-In':\r\n",
        "    train_labels[i] = 1\r\n",
        "  if train_labels[i] == 'Canceled':\r\n",
        "    train_labels[i] = 2\r\n",
        "  if train_labels[i] == 'No-Show':\r\n",
        "    train_labels[i] = 3\r\n",
        "\r\n",
        "print(train_labels.head()) \r\n",
        "\r\n",
        "val_labels = val_data.pop(\"Reservation_Status\")\r\n",
        "print(val_labels.head())\r\n",
        "\r\n",
        "for i in range (len(val_labels)):\r\n",
        "  if val_labels[i] == 'Check-In':\r\n",
        "    val_labels[i] = 1\r\n",
        "   \r\n",
        "  if val_labels[i] == 'Canceled':\r\n",
        "    val_labels[i] = 2\r\n",
        "  if val_labels[i] == 'No-Show':\r\n",
        "    val_labels[i] = 3\r\n",
        "\r\n",
        "print(val_labels.head()) "
      ],
      "execution_count": 16,
      "outputs": [
        {
          "output_type": "stream",
          "text": [
            "0    Check-In\n",
            "1    Check-In\n",
            "2    Check-In\n",
            "3    Check-In\n",
            "4    Check-In\n",
            "Name: Reservation_Status, dtype: object\n",
            "0    1\n",
            "1    1\n",
            "2    1\n",
            "3    1\n",
            "4    1\n",
            "Name: Reservation_Status, dtype: object\n",
            "0     No-Show\n",
            "1    Canceled\n",
            "2    Canceled\n",
            "3    Check-In\n",
            "4    Check-In\n",
            "Name: Reservation_Status, dtype: object\n",
            "0    3\n",
            "1    2\n",
            "2    2\n",
            "3    1\n",
            "4    1\n",
            "Name: Reservation_Status, dtype: object\n"
          ],
          "name": "stdout"
        }
      ]
    },
    {
      "cell_type": "code",
      "metadata": {
        "colab": {
          "base_uri": "https://localhost:8080/"
        },
        "id": "2WU1t035i8WK",
        "outputId": "3f09181f-a40a-410a-e25f-1126582b1e84"
      },
      "source": [
        "print(\"No of Check-In in training data : \" +str((train_labels == 1).sum()))\r\n",
        "print(\"No of Canceled in training data : \" +str((train_labels == 2).sum()))\r\n",
        "print(\"No of No-Show in training data : \" +str((train_labels == 3).sum()))\r\n",
        "tot=(train_labels == 1).sum()+(train_labels == 2).sum()+(train_labels == 3).sum()\r\n",
        "print(\"Ratio of Check-In : Canceled : No-Show  in training data = \" +str((train_labels == 1).sum()/tot)+' : '+str((train_labels == 2).sum()/tot)+' : '+str((train_labels == 3).sum()/tot))\r\n",
        "\r\n",
        "\r\n",
        "print(\"No of Check-In in validation data : \" +str((val_labels == 1).sum()))\r\n",
        "print(\"No of Canceled in validation data : \" +str((val_labels == 2).sum()))\r\n",
        "print(\"No of No-Show in validation data : \" +str((val_labels == 3).sum()))\r\n",
        "tot=(val_labels == 1).sum()+(val_labels == 2).sum()+(val_labels == 3).sum()\r\n",
        "print(\"Ratio of Check-In : Canceled : No-Show  in Validation data = \" +str((val_labels == 1).sum()/tot)+' : '+str((val_labels == 2).sum()/tot)+' : '+str((val_labels == 3).sum()/tot))\r\n"
      ],
      "execution_count": 17,
      "outputs": [
        {
          "output_type": "stream",
          "text": [
            "No of Check-In in training data : 21240\n",
            "No of Canceled in training data : 4134\n",
            "No of No-Show in training data : 2125\n",
            "Ratio of Check-In : Canceled : No-Show  in training data = 0.772391723335394 : 0.15033273937234082 : 0.07727553729226518\n",
            "No of Check-In in validation data : 1610\n",
            "No of Canceled in validation data : 741\n",
            "No of No-Show in validation data : 398\n",
            "Ratio of Check-In : Canceled : No-Show  in Validation data = 0.5856675154601674 : 0.26955256456893417 : 0.1447799199708985\n"
          ],
          "name": "stdout"
        }
      ]
    },
    {
      "cell_type": "markdown",
      "metadata": {
        "id": "7OdcsXyr1LTH"
      },
      "source": [
        "#Data Preprocessing"
      ]
    },
    {
      "cell_type": "markdown",
      "metadata": {
        "id": "CYo0sRZEu673"
      },
      "source": [
        "##Extracting features from Check in and reservation date"
      ]
    },
    {
      "cell_type": "code",
      "metadata": {
        "id": "_FFfbgsg_gMP"
      },
      "source": [
        "from datetime import datetime\r\n",
        "def days(start_date, end_date):\r\n",
        "  start_date = datetime.strptime(start_date, \"%m/%d/%Y\")\r\n",
        "  end_date = datetime.strptime(end_date, \"%m/%d/%Y\")\r\n",
        "  #print((end_date - start_date).days)\r\n",
        "  return (end_date - start_date).days\r\n",
        "\r\n",
        "def weekday(date):\r\n",
        "  year = datetime.strptime(str(date), '%m/%d/%Y').year\r\n",
        "  month = datetime.strptime(str(date), '%m/%d/%Y').month\r\n",
        "  day = datetime.strptime(str(date), '%m/%d/%Y').day\r\n",
        "  #print(year,month,day)\r\n",
        "  x = datetime(year,month,day)\r\n",
        "  week_no = x.strftime(\"%w\")   #0 = Sunday, 1 = Monday, 2 = Tuesday, 3 = Wednesday, 4 = Thurday, 5 = Friday, 6 = Saturday\r\n",
        "  return int(week_no)\r\n",
        "  \r\n",
        "def weekend(start_date, end_date):\r\n",
        "  weeklist = [0,1,2,3,4,5,6,0,1,2,3,4,5,6]\r\n",
        "  start = weekday(start_date)\r\n",
        "  end = weekday(end_date)\r\n",
        "  duration = days(start_date, end_date)\r\n",
        "  if duration >= 7:\r\n",
        "    return 1\r\n",
        "  else:\r\n",
        "    stayed = weeklist[start : start + duration]\r\n",
        "    #print(\"start day :\", start, \"; end day :\", end)\r\n",
        "    #print(start,duration,stayed)\r\n",
        "    if (0 or 1) in stayed:\r\n",
        "      return 1\r\n",
        "    else:\r\n",
        "      return 0\r\n"
      ],
      "execution_count": 18,
      "outputs": []
    },
    {
      "cell_type": "code",
      "metadata": {
        "colab": {
          "base_uri": "https://localhost:8080/"
        },
        "id": "Vt5YwGoFvKj1",
        "outputId": "afc366ab-1306-439a-800f-d0685868e886"
      },
      "source": [
        "#for training data\r\n",
        "week_end_train = []\r\n",
        "stay_duration = []\r\n",
        "reserve_duration = []\r\n",
        "a = 0\r\n",
        "temp_a = []\r\n",
        "b = 0\r\n",
        "temp_b = []\r\n",
        "for i in range(len(train_labels)):\r\n",
        "  checkin = train_data[\"Expected_checkin\"][i]\r\n",
        "  checkout = train_data[\"Expected_checkout\"][i]\r\n",
        "  reserve = train_data[\"Booking_date\"][i]\r\n",
        "  if days(reserve,checkin ) == 0 and train_labels[i] != 1:\r\n",
        "    a+=1\r\n",
        "    temp_a.append(i)\r\n",
        "  if days(reserve,checkout ) < 0 and train_labels[i] != 1:\r\n",
        "    b+=1\r\n",
        "    temp_b.append(i)\r\n",
        "  stay_duration.append(days(checkin,checkout))\r\n",
        "  reserve_duration.append(days(reserve,checkout ))\r\n",
        "  week_end_train.append(weekend(checkin, checkout))\r\n",
        "\r\n",
        "stay_duration = pd.DataFrame(stay_duration, columns=['stay_duration'])\r\n",
        "reserve_duration = pd.DataFrame(reserve_duration, columns=['reserve_duration'])\r\n",
        "week_end_train = pd.DataFrame(week_end_train, columns=['week_end'])\r\n",
        "print(temp_a)\r\n",
        "print(temp_b)\r\n",
        "#print(train_data[\"Expected_checkin\"][6])\r\n",
        "#print(train_data[\"Booking_date\"][6])\r\n",
        "print(a)\r\n",
        "print(b)\r\n",
        "print(stay_duration.head())\r\n",
        "print(stay_duration.shape)\r\n",
        "print(week_end_train.head())\r\n",
        "print(week_end_train.shape)\r\n",
        "print(reserve_duration.head())\r\n",
        "print(reserve_duration.shape)"
      ],
      "execution_count": 19,
      "outputs": [
        {
          "output_type": "stream",
          "text": [
            "[13037, 13670, 13914, 14353, 14413, 14917, 17124, 17370, 17409, 18272, 18855, 20622, 21445, 21558, 22491, 23216, 23739, 24359, 24505, 24988, 25506, 26021, 27049, 27285]\n",
            "[]\n",
            "24\n",
            "0\n",
            "   stay_duration\n",
            "0              1\n",
            "1              1\n",
            "2              4\n",
            "3              1\n",
            "4              1\n",
            "(27499, 1)\n",
            "   week_end\n",
            "0         0\n",
            "1         0\n",
            "2         0\n",
            "3         0\n",
            "4         0\n",
            "(27499, 1)\n",
            "   reserve_duration\n",
            "0                42\n",
            "1                37\n",
            "2                 7\n",
            "3                13\n",
            "4                14\n",
            "(27499, 1)\n"
          ],
          "name": "stdout"
        }
      ]
    },
    {
      "cell_type": "code",
      "metadata": {
        "colab": {
          "base_uri": "https://localhost:8080/"
        },
        "id": "HcCEEDIq2qWs",
        "outputId": "32118d3e-516b-4209-fca7-f3ddb09e7356"
      },
      "source": [
        "#for validation data\r\n",
        "week_end_val = []\r\n",
        "stay_duration_val = []\r\n",
        "reserve_duration_val = []\r\n",
        "a = 0\r\n",
        "temp_a = []\r\n",
        "b = 0\r\n",
        "temp_b = []\r\n",
        "for i in range(len(val_labels)):\r\n",
        "  checkin = val_data[\"Expected_checkin\"][i]\r\n",
        "  checkout = val_data[\"Expected_checkout\"][i]\r\n",
        "  reserve = val_data[\"Booking_date\"][i]\r\n",
        "  if days(reserve,checkin ) == 0 and val_labels[i] != 1:\r\n",
        "    a+=1\r\n",
        "    temp_a.append(i)\r\n",
        "  if days(reserve,checkin ) < 0 and val_labels[i] != 1:\r\n",
        "    b+=1\r\n",
        "    temp_b.append(i)\r\n",
        "  stay_duration_val.append(days(checkin,checkout))\r\n",
        "  reserve_duration_val.append(days(reserve,checkout ))\r\n",
        "  week_end_val.append(weekend(checkin, checkout))\r\n",
        "\r\n",
        "stay_duration_val = pd.DataFrame(stay_duration_val, columns=['stay_duration'])\r\n",
        "reserve_duration_val = pd.DataFrame(reserve_duration_val, columns=['reserve_duration'])\r\n",
        "week_end_val = pd.DataFrame(week_end_val, columns=['week_end'])\r\n",
        "print(temp_a)\r\n",
        "print(temp_b)\r\n",
        "#print(train_data[\"Expected_checkin\"][6])\r\n",
        "#print(train_data[\"Booking_date\"][6])\r\n",
        "print(a)\r\n",
        "print(b)\r\n",
        "print(stay_duration_val.head())\r\n",
        "print(stay_duration_val.shape)\r\n",
        "print(week_end_val.head())\r\n",
        "print(week_end_val.shape)\r\n",
        "print(reserve_duration_val.head())\r\n",
        "print(reserve_duration_val.shape)"
      ],
      "execution_count": 20,
      "outputs": [
        {
          "output_type": "stream",
          "text": [
            "[286, 1862, 1924, 1928]\n",
            "[200, 256, 780, 1066, 1338, 1384, 1789, 2324]\n",
            "4\n",
            "8\n",
            "   stay_duration\n",
            "0              2\n",
            "1              4\n",
            "2              1\n",
            "3              2\n",
            "4              1\n",
            "(2749, 1)\n",
            "   week_end\n",
            "0         0\n",
            "1         0\n",
            "2         0\n",
            "3         0\n",
            "4         0\n",
            "(2749, 1)\n",
            "   reserve_duration\n",
            "0               197\n",
            "1               179\n",
            "2               194\n",
            "3               105\n",
            "4                93\n",
            "(2749, 1)\n"
          ],
          "name": "stdout"
        }
      ]
    },
    {
      "cell_type": "code",
      "metadata": {
        "colab": {
          "base_uri": "https://localhost:8080/"
        },
        "id": "1qWjnxVA4G-P",
        "outputId": "ea4ac8c5-dd88-43c3-aeae-905dd030bd56"
      },
      "source": [
        "#for test data\r\n",
        "week_end_test = []\r\n",
        "stay_duration_test = []\r\n",
        "reserve_duration_test = []\r\n",
        "a = 0\r\n",
        "temp_a = []\r\n",
        "b = 0\r\n",
        "temp_b = []\r\n",
        "for i in range(len(test_data[\"Expected_checkin\"])):\r\n",
        "  checkin = test_data[\"Expected_checkin\"][i]\r\n",
        "  checkout = test_data[\"Expected_checkout\"][i]\r\n",
        "  reserve = test_data[\"Booking_date\"][i]\r\n",
        "  if days(reserve,checkin ) == 0:\r\n",
        "    a+=1\r\n",
        "    temp_a.append(i)\r\n",
        "  if days(reserve,checkin ) < 0 :\r\n",
        "    b+=1\r\n",
        "    temp_b.append(i)\r\n",
        "  stay_duration_test.append(days(checkin,checkout))\r\n",
        "  reserve_duration_test.append(days(reserve,checkout ))\r\n",
        "  week_end_test.append(weekend(checkin, checkout))\r\n",
        "\r\n",
        "stay_duration_test = pd.DataFrame(stay_duration_test, columns=['stay_duration'])\r\n",
        "reserve_duration_test = pd.DataFrame(reserve_duration_test, columns=['reserve_duration'])\r\n",
        "week_end_test = pd.DataFrame(week_end_test, columns=['week_end'])\r\n",
        "print(temp_a)\r\n",
        "print(temp_b)\r\n",
        "#print(train_data[\"Expected_checkin\"][6])\r\n",
        "#print(train_data[\"Booking_date\"][6])\r\n",
        "print(a)\r\n",
        "print(b)\r\n",
        "print(stay_duration_test.head())\r\n",
        "print(stay_duration_test.shape)\r\n",
        "print(week_end_test.head())\r\n",
        "print(week_end_test.shape)\r\n",
        "print(reserve_duration_test.head())\r\n",
        "print(reserve_duration_test.shape)"
      ],
      "execution_count": 21,
      "outputs": [
        {
          "output_type": "stream",
          "text": [
            "[134, 449, 470, 604, 690, 767, 982, 1157, 1557, 1824, 2490, 2601, 2709, 2813, 2973, 3041, 3300, 3923, 3978, 4209, 4248, 4317]\n",
            "[72, 439, 465, 487, 632, 803, 915, 918, 1070, 1406, 1469, 1521, 1580, 1797, 1891, 1900, 1914, 2082, 2176, 2313, 2789, 3063, 3375, 3444, 3476, 3478, 3535]\n",
            "22\n",
            "27\n",
            "   stay_duration\n",
            "0              1\n",
            "1              1\n",
            "2              3\n",
            "3              2\n",
            "4              2\n",
            "(4318, 1)\n",
            "   week_end\n",
            "0         0\n",
            "1         0\n",
            "2         0\n",
            "3         0\n",
            "4         0\n",
            "(4318, 1)\n",
            "   reserve_duration\n",
            "0                22\n",
            "1               105\n",
            "2                23\n",
            "3               184\n",
            "4                20\n",
            "(4318, 1)\n"
          ],
          "name": "stdout"
        }
      ]
    },
    {
      "cell_type": "code",
      "metadata": {
        "colab": {
          "base_uri": "https://localhost:8080/"
        },
        "id": "AGTBnWN5PU75",
        "outputId": "79d4e453-b733-48a4-a468-117807e88293"
      },
      "source": [
        "#concat features\r\n",
        "\r\n",
        "train_data=pd.concat([train_data,week_end_train],axis=1)\r\n",
        "train_data=pd.concat([train_data,stay_duration],axis=1)\r\n",
        "train_data=pd.concat([train_data,reserve_duration],axis=1)\r\n",
        "\r\n",
        "val_data=pd.concat([val_data,week_end_val],axis=1)\r\n",
        "val_data=pd.concat([val_data,stay_duration_val],axis=1)\r\n",
        "val_data=pd.concat([val_data,reserve_duration_val],axis=1)\r\n",
        "\r\n",
        "test_data=pd.concat([test_data,week_end_test],axis=1)\r\n",
        "test_data=pd.concat([test_data,stay_duration_test],axis=1)\r\n",
        "test_data=pd.concat([test_data,reserve_duration_test],axis=1)\r\n",
        "\r\n",
        "print(train_data.shape)\r\n",
        "print(val_data.shape)\r\n",
        "print(test_data.shape)"
      ],
      "execution_count": 22,
      "outputs": [
        {
          "output_type": "stream",
          "text": [
            "(27499, 26)\n",
            "(2749, 26)\n",
            "(4318, 26)\n"
          ],
          "name": "stdout"
        }
      ]
    },
    {
      "cell_type": "markdown",
      "metadata": {
        "id": "iSM8d-t6wqyH"
      },
      "source": [
        "##Features from previous visit and cancellation"
      ]
    },
    {
      "cell_type": "code",
      "metadata": {
        "colab": {
          "base_uri": "https://localhost:8080/"
        },
        "id": "_ebKiCqdw7CZ",
        "outputId": "344ee5a2-a156-4ab7-9c27-5e6e7132b662"
      },
      "source": [
        "# train data\r\n",
        "trust_customer_train = []\r\n",
        "not_trust_customer_train = []\r\n",
        "for i in range(len(train_labels)):\r\n",
        "  if train_data[\"Visted_Previously\"][i] == \"Yes\" and train_data[\"Previous_Cancellations\"][i] == \"Yes\":\r\n",
        "    not_trust_customer_train.append(1)\r\n",
        "    trust_customer_train.append(0)\r\n",
        "  elif train_data[\"Visted_Previously\"][i] == \"Yes\" and train_data[\"Previous_Cancellations\"][i] == \"No\":\r\n",
        "    not_trust_customer_train.append(0)\r\n",
        "    trust_customer_train.append(1)\r\n",
        "  else:\r\n",
        "    not_trust_customer_train.append(0)\r\n",
        "    trust_customer_train.append(0)\r\n",
        "\r\n",
        "trust_customer_train = pd.DataFrame(trust_customer_train, columns=['trust_customer'])\r\n",
        "not_trust_customer_train = pd.DataFrame(not_trust_customer_train, columns=['not_trust_customer'])\r\n",
        "\r\n",
        "\r\n",
        "print(trust_customer_train.head())\r\n",
        "print(trust_customer_train.shape)\r\n",
        "print(not_trust_customer_train.head())\r\n",
        "print(not_trust_customer_train.shape)\r\n"
      ],
      "execution_count": 23,
      "outputs": [
        {
          "output_type": "stream",
          "text": [
            "   trust_customer\n",
            "0               0\n",
            "1               0\n",
            "2               0\n",
            "3               0\n",
            "4               0\n",
            "(27499, 1)\n",
            "   not_trust_customer\n",
            "0                   0\n",
            "1                   0\n",
            "2                   0\n",
            "3                   0\n",
            "4                   0\n",
            "(27499, 1)\n"
          ],
          "name": "stdout"
        }
      ]
    },
    {
      "cell_type": "code",
      "metadata": {
        "colab": {
          "base_uri": "https://localhost:8080/"
        },
        "id": "1sFBXR0X0Q0b",
        "outputId": "aa254efd-9132-4a4c-8442-a8e591b6f64d"
      },
      "source": [
        "# val data\r\n",
        "trust_customer_val = []\r\n",
        "not_trust_customer_val = []\r\n",
        "for i in range(len(val_labels)):\r\n",
        "  if val_data[\"Visted_Previously\"][i] == \"Yes\" and val_data[\"Previous_Cancellations\"][i] == \"Yes\":\r\n",
        "    not_trust_customer_val.append(1)\r\n",
        "    trust_customer_val.append(0)\r\n",
        "  elif val_data[\"Visted_Previously\"][i] == \"Yes\" and val_data[\"Previous_Cancellations\"][i] == \"No\":\r\n",
        "    not_trust_customer_val.append(0)\r\n",
        "    trust_customer_val.append(1)\r\n",
        "  else:\r\n",
        "    not_trust_customer_val.append(0)\r\n",
        "    trust_customer_val.append(0)\r\n",
        "\r\n",
        "trust_customer_val = pd.DataFrame(trust_customer_val, columns=['trust_customer'])\r\n",
        "not_trust_customer_val = pd.DataFrame(not_trust_customer_val, columns=['not_trust_customer'])\r\n",
        "\r\n",
        "\r\n",
        "print(trust_customer_val.head())\r\n",
        "print(trust_customer_val.shape)\r\n",
        "print(not_trust_customer_val.head())\r\n",
        "print(not_trust_customer_val.shape)"
      ],
      "execution_count": 24,
      "outputs": [
        {
          "output_type": "stream",
          "text": [
            "   trust_customer\n",
            "0               0\n",
            "1               1\n",
            "2               0\n",
            "3               1\n",
            "4               1\n",
            "(2749, 1)\n",
            "   not_trust_customer\n",
            "0                   0\n",
            "1                   0\n",
            "2                   0\n",
            "3                   0\n",
            "4                   0\n",
            "(2749, 1)\n"
          ],
          "name": "stdout"
        }
      ]
    },
    {
      "cell_type": "code",
      "metadata": {
        "colab": {
          "base_uri": "https://localhost:8080/"
        },
        "id": "p277jEZ_0Vz_",
        "outputId": "30ca18ac-df64-442e-abac-2d283ca91a97"
      },
      "source": [
        "# test data\r\n",
        "trust_customer_test = []\r\n",
        "not_trust_customer_test = []\r\n",
        "for i in range(len(test_data[\"Visted_Previously\"])):\r\n",
        "  if test_data[\"Visted_Previously\"][i] == \"Yes\" and test_data[\"Previous_Cancellations\"][i] == \"Yes\":\r\n",
        "    not_trust_customer_test.append(1)\r\n",
        "    trust_customer_test.append(0)\r\n",
        "  elif test_data[\"Visted_Previously\"][i] == \"Yes\" and test_data[\"Previous_Cancellations\"][i] == \"No\":\r\n",
        "    not_trust_customer_test.append(0)\r\n",
        "    trust_customer_test.append(1)\r\n",
        "  else:\r\n",
        "    not_trust_customer_test.append(0)\r\n",
        "    trust_customer_test.append(0)\r\n",
        "\r\n",
        "trust_customer_test = pd.DataFrame(trust_customer_test, columns=['trust_customer'])\r\n",
        "not_trust_customer_test = pd.DataFrame(not_trust_customer_test, columns=['not_trust_customer'])\r\n",
        "\r\n",
        "\r\n",
        "print(trust_customer_test.head())\r\n",
        "print(trust_customer_test.shape)\r\n",
        "print(not_trust_customer_test.head())\r\n",
        "print(not_trust_customer_test.shape)"
      ],
      "execution_count": 25,
      "outputs": [
        {
          "output_type": "stream",
          "text": [
            "   trust_customer\n",
            "0               0\n",
            "1               0\n",
            "2               0\n",
            "3               0\n",
            "4               0\n",
            "(4318, 1)\n",
            "   not_trust_customer\n",
            "0                   0\n",
            "1                   0\n",
            "2                   0\n",
            "3                   0\n",
            "4                   0\n",
            "(4318, 1)\n"
          ],
          "name": "stdout"
        }
      ]
    },
    {
      "cell_type": "code",
      "metadata": {
        "colab": {
          "base_uri": "https://localhost:8080/"
        },
        "id": "LaaqFFo61dXw",
        "outputId": "22c10b42-033f-4bc2-e263-fb1ea9378eee"
      },
      "source": [
        "train_data=pd.concat([train_data,trust_customer_train],axis=1)\r\n",
        "train_data=pd.concat([train_data,not_trust_customer_train],axis=1)\r\n",
        "\r\n",
        "val_data=pd.concat([val_data,trust_customer_val],axis=1)\r\n",
        "val_data=pd.concat([val_data,not_trust_customer_val],axis=1)\r\n",
        "\r\n",
        "test_data=pd.concat([test_data,trust_customer_test],axis=1)\r\n",
        "test_data=pd.concat([test_data,not_trust_customer_test],axis=1)\r\n",
        "\r\n",
        "print(train_data.shape)\r\n",
        "print(val_data.shape)\r\n",
        "print(test_data.shape)"
      ],
      "execution_count": 26,
      "outputs": [
        {
          "output_type": "stream",
          "text": [
            "(27499, 28)\n",
            "(2749, 28)\n",
            "(4318, 28)\n"
          ],
          "name": "stdout"
        }
      ]
    },
    {
      "cell_type": "markdown",
      "metadata": {
        "id": "gpVIPCAA31Ir"
      },
      "source": [
        "## Extracting Number of Rooms required and total cost"
      ]
    },
    {
      "cell_type": "code",
      "metadata": {
        "colab": {
          "base_uri": "https://localhost:8080/"
        },
        "id": "RYU_0Uuo4gA1",
        "outputId": "4e26f805-102b-4b40-b476-c2355a340f19"
      },
      "source": [
        "import math\r\n",
        "num_rooms_train = []\r\n",
        "total_cost_train = []\r\n",
        "total_cost_dur_train = []\r\n",
        "\r\n",
        "for i in range(len(train_labels)):\r\n",
        "  rooms = math.ceil((train_data['Adults'][i] + train_data['Children'][i])/5)\r\n",
        "  num_rooms_train.append(rooms)\r\n",
        "  total_cost_train.append(rooms*train_data['Room_Rate'][i])\r\n",
        "  total_cost_dur_train.append(rooms*train_data['Room_Rate'][i]*train_data['stay_duration'][i])\r\n",
        "\r\n",
        "num_rooms_train = pd.DataFrame(num_rooms_train, columns=['num_rooms'])\r\n",
        "total_cost_train = pd.DataFrame(total_cost_train, columns=['tot_cost_per_day'])\r\n",
        "total_cost_dur_train = pd.DataFrame(total_cost_dur_train, columns=['tot_cost'])\r\n",
        "\r\n",
        "print(train_data['stay_duration'].head())\r\n",
        "print(train_data['Adults'].head())\r\n",
        "print(train_data['Children'].head())\r\n",
        "\r\n",
        "print(num_rooms_train.head())\r\n",
        "print(num_rooms_train.shape)\r\n",
        "\r\n",
        "print(total_cost_train.head())\r\n",
        "print(total_cost_train.shape)\r\n",
        "\r\n",
        "print(total_cost_dur_train.head())\r\n",
        "print(total_cost_dur_train.shape)"
      ],
      "execution_count": 27,
      "outputs": [
        {
          "output_type": "stream",
          "text": [
            "0    1\n",
            "1    1\n",
            "2    4\n",
            "3    1\n",
            "4    1\n",
            "Name: stay_duration, dtype: int64\n",
            "0    2\n",
            "1    3\n",
            "2    3\n",
            "3    4\n",
            "4    1\n",
            "Name: Adults, dtype: int64\n",
            "0    2\n",
            "1    3\n",
            "2    3\n",
            "3    3\n",
            "4    1\n",
            "Name: Children, dtype: int64\n",
            "   num_rooms\n",
            "0          1\n",
            "1          2\n",
            "2          2\n",
            "3          2\n",
            "4          1\n",
            "(27499, 1)\n",
            "   tot_cost_per_day\n",
            "0               218\n",
            "1               370\n",
            "2               238\n",
            "3               288\n",
            "4               242\n",
            "(27499, 1)\n",
            "   tot_cost\n",
            "0       218\n",
            "1       370\n",
            "2       952\n",
            "3       288\n",
            "4       242\n",
            "(27499, 1)\n"
          ],
          "name": "stdout"
        }
      ]
    },
    {
      "cell_type": "code",
      "metadata": {
        "colab": {
          "base_uri": "https://localhost:8080/"
        },
        "id": "YrD3JUu36PwQ",
        "outputId": "e9f772e7-3f11-4dc9-ab3d-879ab32a1473"
      },
      "source": [
        "num_rooms_val = []\r\n",
        "total_cost_val = []\r\n",
        "total_cost_dur_val = []\r\n",
        "\r\n",
        "for i in range(len(val_labels)):\r\n",
        "  rooms = math.ceil((val_data['Adults'][i] + val_data['Children'][i])/5)\r\n",
        "  num_rooms_val.append(rooms)\r\n",
        "  total_cost_val.append(rooms*val_data['Room_Rate'][i])\r\n",
        "  total_cost_dur_val.append(rooms*val_data['Room_Rate'][i]*val_data['stay_duration'][i])\r\n",
        "\r\n",
        "num_rooms_val = pd.DataFrame(num_rooms_val, columns=['num_rooms'])\r\n",
        "total_cost_val = pd.DataFrame(total_cost_val, columns=['tot_cost_per_day'])\r\n",
        "total_cost_dur_val = pd.DataFrame(total_cost_dur_val, columns=['tot_cost'])\r\n",
        "\r\n",
        "print(val_data['stay_duration'].head())\r\n",
        "print(val_data['Adults'].head())\r\n",
        "print(val_data['Children'].head())\r\n",
        "\r\n",
        "print(num_rooms_val.head())\r\n",
        "print(num_rooms_val.shape)\r\n",
        "print(total_cost_val.head())\r\n",
        "print(total_cost_val.shape)\r\n",
        "print(total_cost_dur_val.head())\r\n",
        "print(total_cost_dur_val.shape)"
      ],
      "execution_count": 28,
      "outputs": [
        {
          "output_type": "stream",
          "text": [
            "0    2\n",
            "1    4\n",
            "2    1\n",
            "3    2\n",
            "4    1\n",
            "Name: stay_duration, dtype: int64\n",
            "0    2\n",
            "1    2\n",
            "2    3\n",
            "3    1\n",
            "4    1\n",
            "Name: Adults, dtype: int64\n",
            "0    2\n",
            "1    2\n",
            "2    1\n",
            "3    2\n",
            "4    1\n",
            "Name: Children, dtype: int64\n",
            "   num_rooms\n",
            "0          1\n",
            "1          1\n",
            "2          1\n",
            "3          1\n",
            "4          1\n",
            "(2749, 1)\n",
            "   tot_cost_per_day\n",
            "0               192\n",
            "1               187\n",
            "2               227\n",
            "3               189\n",
            "4               218\n",
            "(2749, 1)\n",
            "   tot_cost\n",
            "0       384\n",
            "1       748\n",
            "2       227\n",
            "3       378\n",
            "4       218\n",
            "(2749, 1)\n"
          ],
          "name": "stdout"
        }
      ]
    },
    {
      "cell_type": "code",
      "metadata": {
        "colab": {
          "base_uri": "https://localhost:8080/"
        },
        "id": "h7vbaAxK6fQm",
        "outputId": "c5feee0e-af89-42d0-8650-910b61a3db36"
      },
      "source": [
        "num_rooms_test = []\r\n",
        "total_cost_test = []\r\n",
        "total_cost_dur_test = []\r\n",
        "\r\n",
        "for i in range(len(test_data['Adults'])):\r\n",
        "  rooms = math.ceil((test_data['Adults'][i] + test_data['Children'][i])/5)\r\n",
        "  num_rooms_test.append(rooms)\r\n",
        "  total_cost_test.append(rooms*test_data['Room_Rate'][i])\r\n",
        "  total_cost_dur_test.append(rooms*test_data['Room_Rate'][i]*test_data['stay_duration'][i])\r\n",
        "\r\n",
        "num_rooms_test = pd.DataFrame(num_rooms_test, columns=['num_rooms'])\r\n",
        "total_cost_test = pd.DataFrame(total_cost_test, columns=['tot_cost_per_day'])\r\n",
        "total_cost_dur_test = pd.DataFrame(total_cost_dur_test, columns=['tot_cost'])\r\n",
        "\r\n",
        "print(test_data['stay_duration'].head())\r\n",
        "print(test_data['Adults'].head())\r\n",
        "print(test_data['Children'].head())\r\n",
        "\r\n",
        "print(num_rooms_test.head())\r\n",
        "print(num_rooms_test.shape)\r\n",
        "print(total_cost_test.head())\r\n",
        "print(total_cost_test.shape)\r\n",
        "print(total_cost_dur_test.head())\r\n",
        "print(total_cost_dur_test.shape)"
      ],
      "execution_count": 29,
      "outputs": [
        {
          "output_type": "stream",
          "text": [
            "0    1\n",
            "1    1\n",
            "2    3\n",
            "3    2\n",
            "4    2\n",
            "Name: stay_duration, dtype: int64\n",
            "0    3\n",
            "1    2\n",
            "2    2\n",
            "3    1\n",
            "4    3\n",
            "Name: Adults, dtype: int64\n",
            "0    3\n",
            "1    1\n",
            "2    2\n",
            "3    3\n",
            "4    1\n",
            "Name: Children, dtype: int64\n",
            "   num_rooms\n",
            "0          2\n",
            "1          1\n",
            "2          1\n",
            "3          1\n",
            "4          1\n",
            "(4318, 1)\n",
            "   tot_cost_per_day\n",
            "0               306\n",
            "1               210\n",
            "2               117\n",
            "3               107\n",
            "4               119\n",
            "(4318, 1)\n",
            "   tot_cost\n",
            "0       306\n",
            "1       210\n",
            "2       351\n",
            "3       214\n",
            "4       238\n",
            "(4318, 1)\n"
          ],
          "name": "stdout"
        }
      ]
    },
    {
      "cell_type": "code",
      "metadata": {
        "colab": {
          "base_uri": "https://localhost:8080/"
        },
        "id": "dIdP583u6_jM",
        "outputId": "13c8079e-9927-4b3e-b687-855fc6c65ed7"
      },
      "source": [
        "train_data=pd.concat([train_data,num_rooms_train],axis=1)\r\n",
        "train_data=pd.concat([train_data,total_cost_train],axis=1)\r\n",
        "train_data=pd.concat([train_data,total_cost_dur_train],axis=1)\r\n",
        "\r\n",
        "val_data=pd.concat([val_data,num_rooms_val],axis=1)\r\n",
        "val_data=pd.concat([val_data,total_cost_val],axis=1)\r\n",
        "val_data=pd.concat([val_data,total_cost_dur_val],axis=1)\r\n",
        "\r\n",
        "test_data=pd.concat([test_data,num_rooms_test],axis=1)\r\n",
        "test_data=pd.concat([test_data,total_cost_test],axis=1)\r\n",
        "test_data=pd.concat([test_data,total_cost_dur_test],axis=1)\r\n",
        "\r\n",
        "print(train_data.shape)\r\n",
        "print(val_data.shape)\r\n",
        "print(test_data.shape)"
      ],
      "execution_count": 30,
      "outputs": [
        {
          "output_type": "stream",
          "text": [
            "(27499, 31)\n",
            "(2749, 31)\n",
            "(4318, 31)\n"
          ],
          "name": "stdout"
        }
      ]
    },
    {
      "cell_type": "markdown",
      "metadata": {
        "id": "zHyuG1ul-gNf"
      },
      "source": [
        "##Imbalanced Data Handling"
      ]
    },
    {
      "cell_type": "markdown",
      "metadata": {
        "id": "sYXslpnd_gNj"
      },
      "source": [
        "###READ previously saved data"
      ]
    },
    {
      "cell_type": "code",
      "metadata": {
        "colab": {
          "base_uri": "https://localhost:8080/"
        },
        "id": "bCvSDfRz_kcO",
        "outputId": "1df3a0fc-f88f-435e-f810-e9c44bae64e0"
      },
      "source": [
        "train_data = pd.read_csv('train_data_upsamp_5.csv')          # 3 is best\r\n",
        "print(train_data.head()) \r\n",
        "print(train_data.shape)\r\n",
        "train_labels = pd.read_csv('train_labels_upsamp_5.csv')\r\n",
        "print(train_labels.head()) \r\n",
        "print(train_labels.shape)\r\n",
        "\r\n"
      ],
      "execution_count": 31,
      "outputs": [
        {
          "output_type": "stream",
          "text": [
            "   Reservation-id Gender  Age  ... num_rooms tot_cost_per_day tot_cost\n",
            "0        39428300      F   40  ...         1              218      218\n",
            "1        77491756      F   49  ...         2              370      370\n",
            "2        73747291      F   42  ...         2              238      952\n",
            "3        67301739      M   25  ...         2              288      288\n",
            "4        77222321      F   62  ...         1              242      242\n",
            "\n",
            "[5 rows x 31 columns]\n",
            "(61035, 31)\n",
            "   0\n",
            "0  1\n",
            "1  1\n",
            "2  1\n",
            "3  1\n",
            "4  1\n",
            "(61035, 1)\n"
          ],
          "name": "stdout"
        }
      ]
    },
    {
      "cell_type": "markdown",
      "metadata": {
        "id": "UEQwgPDXANnq"
      },
      "source": [
        "###Upsampling"
      ]
    },
    {
      "cell_type": "code",
      "metadata": {
        "colab": {
          "base_uri": "https://localhost:8080/",
          "height": 601
        },
        "id": "ktV9K9ZE-kja",
        "outputId": "a18e0fba-340a-4fbb-fd27-6154939a9f47"
      },
      "source": [
        "#Up Sampling   data.iloc [[3, 4], [1, 2]]\r\n",
        "temp = train_labels.copy()\r\n",
        "for i in range(len(temp)):\r\n",
        "  if i%(len(temp)//10)==0:\r\n",
        "    print('.',end='')\r\n",
        "  if temp[i]==2:\r\n",
        "    x = train_data.iloc[i,:]\r\n",
        "    x1 = pd.Series(data={'Reservation_Status':2})\r\n",
        "  \r\n",
        "    train_data = train_data.append(x, ignore_index = True) \r\n",
        "    train_data = train_data.append(x, ignore_index = True) \r\n",
        "    train_data = train_data.append(x, ignore_index = True) \r\n",
        "    train_data = train_data.append(x, ignore_index = True) \r\n",
        "     \r\n",
        "\r\n",
        "    train_labels = train_labels.append(x1, ignore_index = True)\r\n",
        "    train_labels = train_labels.append(x1, ignore_index = True)\r\n",
        "    train_labels = train_labels.append(x1, ignore_index = True)\r\n",
        "    train_labels = train_labels.append(x1, ignore_index = True)\r\n",
        "    \r\n",
        "\r\n",
        "  if temp[i]==3:\r\n",
        "    x=train_data.iloc[i,:]\r\n",
        "    x1 = pd.Series(data={'Reservation_Status':3})\r\n",
        "    train_data = train_data.append(x, ignore_index = True) \r\n",
        "    train_data = train_data.append(x, ignore_index = True) \r\n",
        "    train_data = train_data.append(x, ignore_index = True) \r\n",
        "    train_data = train_data.append(x, ignore_index = True) \r\n",
        "    train_data = train_data.append(x, ignore_index = True) \r\n",
        "    train_data = train_data.append(x, ignore_index = True) \r\n",
        "    train_data = train_data.append(x, ignore_index = True) \r\n",
        "    train_data = train_data.append(x, ignore_index = True)\r\n",
        "    \r\n",
        "    train_labels = train_labels.append(x1, ignore_index = True)\r\n",
        "    train_labels = train_labels.append(x1, ignore_index = True)\r\n",
        "    train_labels = train_labels.append(x1, ignore_index = True)\r\n",
        "    train_labels = train_labels.append(x1, ignore_index = True)\r\n",
        "    train_labels = train_labels.append(x1, ignore_index = True)\r\n",
        "    train_labels = train_labels.append(x1, ignore_index = True)\r\n",
        "    train_labels = train_labels.append(x1, ignore_index = True)\r\n",
        "    train_labels = train_labels.append(x1, ignore_index = True)\r\n",
        "    #break\r\n",
        "\r\n",
        "print(train_data.shape)\r\n",
        "print(x)\r\n",
        "print(train_data.iloc[-1,:])\r\n",
        "print(train_labels.shape)\r\n",
        "print(train_labels.iloc[-1])\r\n",
        "print(x1)"
      ],
      "execution_count": 67,
      "outputs": [
        {
          "output_type": "stream",
          "text": [
            "."
          ],
          "name": "stdout"
        },
        {
          "output_type": "error",
          "ename": "KeyError",
          "evalue": "ignored",
          "traceback": [
            "\u001b[0;31m---------------------------------------------------------------------------\u001b[0m",
            "\u001b[0;31mKeyError\u001b[0m                                  Traceback (most recent call last)",
            "\u001b[0;32m/usr/local/lib/python3.7/dist-packages/pandas/core/indexes/base.py\u001b[0m in \u001b[0;36mget_loc\u001b[0;34m(self, key, method, tolerance)\u001b[0m\n\u001b[1;32m   2897\u001b[0m             \u001b[0;32mtry\u001b[0m\u001b[0;34m:\u001b[0m\u001b[0;34m\u001b[0m\u001b[0;34m\u001b[0m\u001b[0m\n\u001b[0;32m-> 2898\u001b[0;31m                 \u001b[0;32mreturn\u001b[0m \u001b[0mself\u001b[0m\u001b[0;34m.\u001b[0m\u001b[0m_engine\u001b[0m\u001b[0;34m.\u001b[0m\u001b[0mget_loc\u001b[0m\u001b[0;34m(\u001b[0m\u001b[0mcasted_key\u001b[0m\u001b[0;34m)\u001b[0m\u001b[0;34m\u001b[0m\u001b[0;34m\u001b[0m\u001b[0m\n\u001b[0m\u001b[1;32m   2899\u001b[0m             \u001b[0;32mexcept\u001b[0m \u001b[0mKeyError\u001b[0m \u001b[0;32mas\u001b[0m \u001b[0merr\u001b[0m\u001b[0;34m:\u001b[0m\u001b[0;34m\u001b[0m\u001b[0;34m\u001b[0m\u001b[0m\n",
            "\u001b[0;32mpandas/_libs/index.pyx\u001b[0m in \u001b[0;36mpandas._libs.index.IndexEngine.get_loc\u001b[0;34m()\u001b[0m\n",
            "\u001b[0;32mpandas/_libs/index.pyx\u001b[0m in \u001b[0;36mpandas._libs.index.IndexEngine.get_loc\u001b[0;34m()\u001b[0m\n",
            "\u001b[0;32mpandas/_libs/hashtable_class_helper.pxi\u001b[0m in \u001b[0;36mpandas._libs.hashtable.PyObjectHashTable.get_item\u001b[0;34m()\u001b[0m\n",
            "\u001b[0;32mpandas/_libs/hashtable_class_helper.pxi\u001b[0m in \u001b[0;36mpandas._libs.hashtable.PyObjectHashTable.get_item\u001b[0;34m()\u001b[0m\n",
            "\u001b[0;31mKeyError\u001b[0m: 0",
            "\nThe above exception was the direct cause of the following exception:\n",
            "\u001b[0;31mKeyError\u001b[0m                                  Traceback (most recent call last)",
            "\u001b[0;32m<ipython-input-67-440e6c7e1d3b>\u001b[0m in \u001b[0;36m<module>\u001b[0;34m()\u001b[0m\n\u001b[1;32m      4\u001b[0m   \u001b[0;32mif\u001b[0m \u001b[0mi\u001b[0m\u001b[0;34m%\u001b[0m\u001b[0;34m(\u001b[0m\u001b[0mlen\u001b[0m\u001b[0;34m(\u001b[0m\u001b[0mtemp\u001b[0m\u001b[0;34m)\u001b[0m\u001b[0;34m//\u001b[0m\u001b[0;36m10\u001b[0m\u001b[0;34m)\u001b[0m\u001b[0;34m==\u001b[0m\u001b[0;36m0\u001b[0m\u001b[0;34m:\u001b[0m\u001b[0;34m\u001b[0m\u001b[0;34m\u001b[0m\u001b[0m\n\u001b[1;32m      5\u001b[0m     \u001b[0mprint\u001b[0m\u001b[0;34m(\u001b[0m\u001b[0;34m'.'\u001b[0m\u001b[0;34m,\u001b[0m\u001b[0mend\u001b[0m\u001b[0;34m=\u001b[0m\u001b[0;34m''\u001b[0m\u001b[0;34m)\u001b[0m\u001b[0;34m\u001b[0m\u001b[0;34m\u001b[0m\u001b[0m\n\u001b[0;32m----> 6\u001b[0;31m   \u001b[0;32mif\u001b[0m \u001b[0mtemp\u001b[0m\u001b[0;34m[\u001b[0m\u001b[0mi\u001b[0m\u001b[0;34m]\u001b[0m\u001b[0;34m==\u001b[0m\u001b[0;36m2\u001b[0m\u001b[0;34m:\u001b[0m\u001b[0;34m\u001b[0m\u001b[0;34m\u001b[0m\u001b[0m\n\u001b[0m\u001b[1;32m      7\u001b[0m     \u001b[0mx\u001b[0m \u001b[0;34m=\u001b[0m \u001b[0mtrain_data\u001b[0m\u001b[0;34m.\u001b[0m\u001b[0miloc\u001b[0m\u001b[0;34m[\u001b[0m\u001b[0mi\u001b[0m\u001b[0;34m,\u001b[0m\u001b[0;34m:\u001b[0m\u001b[0;34m]\u001b[0m\u001b[0;34m\u001b[0m\u001b[0;34m\u001b[0m\u001b[0m\n\u001b[1;32m      8\u001b[0m     \u001b[0mx1\u001b[0m \u001b[0;34m=\u001b[0m \u001b[0mpd\u001b[0m\u001b[0;34m.\u001b[0m\u001b[0mSeries\u001b[0m\u001b[0;34m(\u001b[0m\u001b[0mdata\u001b[0m\u001b[0;34m=\u001b[0m\u001b[0;34m{\u001b[0m\u001b[0;34m'Reservation_Status'\u001b[0m\u001b[0;34m:\u001b[0m\u001b[0;36m2\u001b[0m\u001b[0;34m}\u001b[0m\u001b[0;34m)\u001b[0m\u001b[0;34m\u001b[0m\u001b[0;34m\u001b[0m\u001b[0m\n",
            "\u001b[0;32m/usr/local/lib/python3.7/dist-packages/pandas/core/frame.py\u001b[0m in \u001b[0;36m__getitem__\u001b[0;34m(self, key)\u001b[0m\n\u001b[1;32m   2904\u001b[0m             \u001b[0;32mif\u001b[0m \u001b[0mself\u001b[0m\u001b[0;34m.\u001b[0m\u001b[0mcolumns\u001b[0m\u001b[0;34m.\u001b[0m\u001b[0mnlevels\u001b[0m \u001b[0;34m>\u001b[0m \u001b[0;36m1\u001b[0m\u001b[0;34m:\u001b[0m\u001b[0;34m\u001b[0m\u001b[0;34m\u001b[0m\u001b[0m\n\u001b[1;32m   2905\u001b[0m                 \u001b[0;32mreturn\u001b[0m \u001b[0mself\u001b[0m\u001b[0;34m.\u001b[0m\u001b[0m_getitem_multilevel\u001b[0m\u001b[0;34m(\u001b[0m\u001b[0mkey\u001b[0m\u001b[0;34m)\u001b[0m\u001b[0;34m\u001b[0m\u001b[0;34m\u001b[0m\u001b[0m\n\u001b[0;32m-> 2906\u001b[0;31m             \u001b[0mindexer\u001b[0m \u001b[0;34m=\u001b[0m \u001b[0mself\u001b[0m\u001b[0;34m.\u001b[0m\u001b[0mcolumns\u001b[0m\u001b[0;34m.\u001b[0m\u001b[0mget_loc\u001b[0m\u001b[0;34m(\u001b[0m\u001b[0mkey\u001b[0m\u001b[0;34m)\u001b[0m\u001b[0;34m\u001b[0m\u001b[0;34m\u001b[0m\u001b[0m\n\u001b[0m\u001b[1;32m   2907\u001b[0m             \u001b[0;32mif\u001b[0m \u001b[0mis_integer\u001b[0m\u001b[0;34m(\u001b[0m\u001b[0mindexer\u001b[0m\u001b[0;34m)\u001b[0m\u001b[0;34m:\u001b[0m\u001b[0;34m\u001b[0m\u001b[0;34m\u001b[0m\u001b[0m\n\u001b[1;32m   2908\u001b[0m                 \u001b[0mindexer\u001b[0m \u001b[0;34m=\u001b[0m \u001b[0;34m[\u001b[0m\u001b[0mindexer\u001b[0m\u001b[0;34m]\u001b[0m\u001b[0;34m\u001b[0m\u001b[0;34m\u001b[0m\u001b[0m\n",
            "\u001b[0;32m/usr/local/lib/python3.7/dist-packages/pandas/core/indexes/base.py\u001b[0m in \u001b[0;36mget_loc\u001b[0;34m(self, key, method, tolerance)\u001b[0m\n\u001b[1;32m   2898\u001b[0m                 \u001b[0;32mreturn\u001b[0m \u001b[0mself\u001b[0m\u001b[0;34m.\u001b[0m\u001b[0m_engine\u001b[0m\u001b[0;34m.\u001b[0m\u001b[0mget_loc\u001b[0m\u001b[0;34m(\u001b[0m\u001b[0mcasted_key\u001b[0m\u001b[0;34m)\u001b[0m\u001b[0;34m\u001b[0m\u001b[0;34m\u001b[0m\u001b[0m\n\u001b[1;32m   2899\u001b[0m             \u001b[0;32mexcept\u001b[0m \u001b[0mKeyError\u001b[0m \u001b[0;32mas\u001b[0m \u001b[0merr\u001b[0m\u001b[0;34m:\u001b[0m\u001b[0;34m\u001b[0m\u001b[0;34m\u001b[0m\u001b[0m\n\u001b[0;32m-> 2900\u001b[0;31m                 \u001b[0;32mraise\u001b[0m \u001b[0mKeyError\u001b[0m\u001b[0;34m(\u001b[0m\u001b[0mkey\u001b[0m\u001b[0;34m)\u001b[0m \u001b[0;32mfrom\u001b[0m \u001b[0merr\u001b[0m\u001b[0;34m\u001b[0m\u001b[0;34m\u001b[0m\u001b[0m\n\u001b[0m\u001b[1;32m   2901\u001b[0m \u001b[0;34m\u001b[0m\u001b[0m\n\u001b[1;32m   2902\u001b[0m         \u001b[0;32mif\u001b[0m \u001b[0mtolerance\u001b[0m \u001b[0;32mis\u001b[0m \u001b[0;32mnot\u001b[0m \u001b[0;32mNone\u001b[0m\u001b[0;34m:\u001b[0m\u001b[0;34m\u001b[0m\u001b[0;34m\u001b[0m\u001b[0m\n",
            "\u001b[0;31mKeyError\u001b[0m: 0"
          ]
        }
      ]
    },
    {
      "cell_type": "code",
      "metadata": {
        "id": "8i1YIEa_T3O7"
      },
      "source": [
        "#Save upsampled data\r\n",
        "#train_data.to_csv('train_data_upsamp_6.csv',index=False)\r\n",
        "#train_labels.to_csv('train_labels_upsamp_6.csv',index=False)"
      ],
      "execution_count": null,
      "outputs": []
    },
    {
      "cell_type": "code",
      "metadata": {
        "id": "wte1SDMDJUjQ"
      },
      "source": [
        "from imblearn.over_sampling import SMOTE , RandomOverSampler\r\n",
        "from imblearn.under_sampling import EditedNearestNeighbours\r\n",
        "sm = EditedNearestNeighbours()\r\n",
        "train_columns = train_data.columns\r\n",
        "#sm = SMOTE() \r\n",
        "train_data, train_label = sm.fit_resample(train_data,train_label)\r\n",
        "train_data = pd.DataFrame(train_data, columns = train_columns) "
      ],
      "execution_count": null,
      "outputs": []
    },
    {
      "cell_type": "markdown",
      "metadata": {
        "id": "HyH6Ku3CAU3a"
      },
      "source": [
        "###Checking Ratios\r\n"
      ]
    },
    {
      "cell_type": "code",
      "metadata": {
        "colab": {
          "base_uri": "https://localhost:8080/"
        },
        "id": "gCLUA35uVkt1",
        "outputId": "a4d61106-d9a5-464a-ea49-f03dc84c01d2"
      },
      "source": [
        "print(\"No of Check-In in training data : \" +str((train_labels == 1).sum()))\r\n",
        "print(\"No of Canceled in training data : \" +str((train_labels == 2).sum()))\r\n",
        "print(\"No of No-Show in training data : \" +str((train_labels == 3).sum()))\r\n",
        "tot=(train_labels == 1).sum()+(train_labels == 2).sum()+(train_labels == 3).sum()\r\n",
        "print(\"Ratio of Check-In : Canceled : No-Show  in training data = \" +str((train_labels == 1).sum()/tot)+' : '+str((train_labels == 2).sum()/tot)+' : '+str((train_labels == 3).sum()/tot))\r\n",
        "\r\n",
        "\r\n",
        "print(\"No of Check-In in validation data : \" +str((val_labels == 1).sum()))\r\n",
        "print(\"No of Canceled in validation data : \" +str((val_labels == 2).sum()))\r\n",
        "print(\"No of No-Show in validation data : \" +str((val_labels == 3).sum()))\r\n",
        "tot=(val_labels == 1).sum()+(val_labels == 2).sum()+(val_labels == 3).sum()\r\n",
        "print(\"Ratio of Check-In : Canceled : No-Show  in Validation data = \" +str((val_labels == 1).sum()/tot)+' : '+str((val_labels == 2).sum()/tot)+' : '+str((val_labels == 3).sum()/tot))\r\n"
      ],
      "execution_count": 27,
      "outputs": [
        {
          "output_type": "stream",
          "text": [
            "No of Check-In in training data : 0    21240\n",
            "dtype: int64\n",
            "No of Canceled in training data : 0    20670\n",
            "dtype: int64\n",
            "No of No-Show in training data : 0    19125\n",
            "dtype: int64\n",
            "Ratio of Check-In : Canceled : No-Show  in training data = 0    0.347997\n",
            "dtype: float64 : 0    0.338658\n",
            "dtype: float64 : 0    0.313345\n",
            "dtype: float64\n",
            "No of Check-In in validation data : 1610\n",
            "No of Canceled in validation data : 741\n",
            "No of No-Show in validation data : 398\n",
            "Ratio of Check-In : Canceled : No-Show  in Validation data = 0.5856675154601674 : 0.26955256456893417 : 0.1447799199708985\n"
          ],
          "name": "stdout"
        }
      ]
    },
    {
      "cell_type": "markdown",
      "metadata": {
        "id": "64k5nSUH1OMG"
      },
      "source": [
        "## Encoding Categorical data"
      ]
    },
    {
      "cell_type": "code",
      "metadata": {
        "colab": {
          "base_uri": "https://localhost:8080/"
        },
        "id": "uT50RVYZrf2p",
        "outputId": "3be8108e-fa7b-46d3-8a78-0043d2029d69"
      },
      "source": [
        "print(train_data.columns)\r\n",
        "print(len(train_data.columns))\r\n",
        "\r\n",
        "print(val_data.columns)\r\n",
        "print(len(val_data.columns))\r\n",
        "\r\n",
        "print(test_data.columns)\r\n",
        "print(len(test_data.columns))"
      ],
      "execution_count": 32,
      "outputs": [
        {
          "output_type": "stream",
          "text": [
            "Index(['Reservation-id', 'Gender', 'Age', 'Ethnicity', 'Educational_Level',\n",
            "       'Income', 'Country_region', 'Hotel_Type', 'Expected_checkin',\n",
            "       'Expected_checkout', 'Booking_date', 'Adults', 'Children', 'Babies',\n",
            "       'Meal_Type', 'Visted_Previously', 'Previous_Cancellations',\n",
            "       'Deposit_type', 'Booking_channel', 'Required_Car_Parking',\n",
            "       'Use_Promotion', 'Discount_Rate', 'Room_Rate', 'week_end',\n",
            "       'stay_duration', 'reserve_duration', 'trust_customer',\n",
            "       'not_trust_customer', 'num_rooms', 'tot_cost_per_day', 'tot_cost'],\n",
            "      dtype='object')\n",
            "31\n",
            "Index(['Reservation-id', 'Gender', 'Age', 'Ethnicity', 'Educational_Level',\n",
            "       'Income', 'Country_region', 'Hotel_Type', 'Expected_checkin',\n",
            "       'Expected_checkout', 'Booking_date', 'Adults', 'Children', 'Babies',\n",
            "       'Meal_Type', 'Visted_Previously', 'Previous_Cancellations',\n",
            "       'Deposit_type', 'Booking_channel', 'Required_Car_Parking',\n",
            "       'Use_Promotion', 'Discount_Rate', 'Room_Rate', 'week_end',\n",
            "       'stay_duration', 'reserve_duration', 'trust_customer',\n",
            "       'not_trust_customer', 'num_rooms', 'tot_cost_per_day', 'tot_cost'],\n",
            "      dtype='object')\n",
            "31\n",
            "Index(['Reservation-id', 'Gender', 'Age', 'Ethnicity', 'Educational_Level',\n",
            "       'Income', 'Country_region', 'Hotel_Type', 'Expected_checkin',\n",
            "       'Expected_checkout', 'Booking_date', 'Adults', 'Children', 'Babies',\n",
            "       'Meal_Type', 'Visted_Previously', 'Previous_Cancellations',\n",
            "       'Deposit_type', 'Booking_channel', 'Required_Car_Parking',\n",
            "       'Use_Promotion', 'Discount_Rate', 'Room_Rate', 'week_end',\n",
            "       'stay_duration', 'reserve_duration', 'trust_customer',\n",
            "       'not_trust_customer', 'num_rooms', 'tot_cost_per_day', 'tot_cost'],\n",
            "      dtype='object')\n",
            "31\n"
          ],
          "name": "stdout"
        }
      ]
    },
    {
      "cell_type": "code",
      "metadata": {
        "colab": {
          "base_uri": "https://localhost:8080/"
        },
        "id": "2xBgwQPDryDt",
        "outputId": "cdb0243e-d304-4023-9d77-df70a9966b92"
      },
      "source": [
        "#train data\r\n",
        "gender_dummies=pd.get_dummies(train_data['Gender'],drop_first=True, prefix='Gen')\r\n",
        "gender=train_data.pop('Gender')\r\n",
        "train_data=pd.concat([train_data,gender_dummies],axis=1)\r\n",
        "\r\n",
        "eth_dummies=pd.get_dummies(train_data['Ethnicity'],drop_first=False, prefix='Eth')\r\n",
        "eth=train_data.pop('Ethnicity')\r\n",
        "train_data=pd.concat([train_data,eth_dummies],axis=1)\r\n",
        "\r\n",
        "edu_dummies=pd.get_dummies(train_data['Educational_Level'],drop_first=False, prefix='Edu')\r\n",
        "edu=train_data.pop('Educational_Level')\r\n",
        "train_data=pd.concat([train_data,edu_dummies],axis=1)\r\n",
        "\r\n",
        "in_dummies=pd.get_dummies(train_data['Income'],drop_first=False, prefix='In')\r\n",
        "in_dummies=in_dummies.rename(columns={'In_25K --50K': 'In_25K_50K', 'In_50K -- 100K': 'In_50K_100K', 'In_<25K':'In_below25K', 'In_>100K':'In_above100K' })\r\n",
        "income=train_data.pop('Income')\r\n",
        "train_data=pd.concat([train_data,in_dummies],axis=1)\r\n",
        "\r\n",
        "region_dummies=pd.get_dummies(train_data['Country_region'],drop_first=False, prefix='Coun')\r\n",
        "region=train_data.pop('Country_region')\r\n",
        "train_data=pd.concat([train_data,region_dummies],axis=1)\r\n",
        "\r\n",
        "hotel_dummies=pd.get_dummies(train_data['Hotel_Type'],drop_first=False, prefix='Hotel')\r\n",
        "hotel=train_data.pop('Hotel_Type')\r\n",
        "train_data=pd.concat([train_data,hotel_dummies],axis=1)\r\n",
        "\r\n",
        "meal_dummies=pd.get_dummies(train_data['Meal_Type'],drop_first=False, prefix='Meal')\r\n",
        "meal=train_data.pop('Meal_Type')\r\n",
        "train_data=pd.concat([train_data,meal_dummies],axis=1)\r\n",
        "\r\n",
        "visit_prev_dummies=pd.get_dummies(train_data['Visted_Previously'],drop_first=True, prefix='Visit')\r\n",
        "visit_prev=train_data.pop('Visted_Previously')\r\n",
        "train_data=pd.concat([train_data,visit_prev_dummies],axis=1)\r\n",
        "\r\n",
        "prev_can_dummies=pd.get_dummies(train_data['Previous_Cancellations'],drop_first=True, prefix='Prev_can')\r\n",
        "prev_can=train_data.pop('Previous_Cancellations')\r\n",
        "train_data=pd.concat([train_data,prev_can_dummies],axis=1)\r\n",
        "\r\n",
        "dep_dummies=pd.get_dummies(train_data['Deposit_type'],drop_first=False, prefix='Dep')\r\n",
        "dep=train_data.pop('Deposit_type')\r\n",
        "train_data=pd.concat([train_data,dep_dummies],axis=1)\r\n",
        "\r\n",
        "book_dummies=pd.get_dummies(train_data['Booking_channel'],drop_first=False, prefix='Book')\r\n",
        "book=train_data.pop('Booking_channel')\r\n",
        "train_data=pd.concat([train_data,book_dummies],axis=1)\r\n",
        "\r\n",
        "car_dummies=pd.get_dummies(train_data['Required_Car_Parking'],drop_first=True, prefix='Car')\r\n",
        "car=train_data.pop('Required_Car_Parking')\r\n",
        "train_data=pd.concat([train_data,car_dummies],axis=1)\r\n",
        "\r\n",
        "promo_dummies=pd.get_dummies(train_data['Use_Promotion'],drop_first=True, prefix='Promo')\r\n",
        "promo=train_data.pop('Use_Promotion')\r\n",
        "train_data=pd.concat([train_data,promo_dummies],axis=1)\r\n",
        "\r\n",
        "\r\n",
        "\r\n",
        "print(train_data.columns)\r\n",
        "print(train_data.head())"
      ],
      "execution_count": 33,
      "outputs": [
        {
          "output_type": "stream",
          "text": [
            "Index(['Reservation-id', 'Age', 'Expected_checkin', 'Expected_checkout',\n",
            "       'Booking_date', 'Adults', 'Children', 'Babies', 'Discount_Rate',\n",
            "       'Room_Rate', 'week_end', 'stay_duration', 'reserve_duration',\n",
            "       'trust_customer', 'not_trust_customer', 'num_rooms', 'tot_cost_per_day',\n",
            "       'tot_cost', 'Gen_M', 'Eth_African American', 'Eth_Asian American',\n",
            "       'Eth_Latino', 'Eth_caucasian', 'Edu_College', 'Edu_Grad',\n",
            "       'Edu_High-School', 'Edu_Mid-School', 'In_25K_50K', 'In_50K_100K',\n",
            "       'In_below25K', 'In_above100K', 'Coun_East', 'Coun_North', 'Coun_South',\n",
            "       'Coun_West', 'Hotel_Airport Hotels', 'Hotel_City Hotel', 'Hotel_Resort',\n",
            "       'Meal_BB', 'Meal_FB', 'Meal_HB', 'Visit_Yes', 'Prev_can_Yes',\n",
            "       'Dep_No Deposit', 'Dep_Non-Refundable', 'Dep_Refundable', 'Book_Agent',\n",
            "       'Book_Direct', 'Book_Online', 'Car_Yes', 'Promo_Yes'],\n",
            "      dtype='object')\n",
            "   Reservation-id  Age Expected_checkin  ... Book_Online Car_Yes  Promo_Yes\n",
            "0        39428300   40         7/1/2015  ...           1       1          1\n",
            "1        77491756   49         7/1/2015  ...           1       1          0\n",
            "2        73747291   42         7/2/2015  ...           1       1          0\n",
            "3        67301739   25         7/2/2015  ...           0       1          1\n",
            "4        77222321   62         7/3/2015  ...           0       0          1\n",
            "\n",
            "[5 rows x 51 columns]\n"
          ],
          "name": "stdout"
        }
      ]
    },
    {
      "cell_type": "code",
      "metadata": {
        "colab": {
          "base_uri": "https://localhost:8080/"
        },
        "id": "Nr3piP9Z2_aX",
        "outputId": "74490d75-5a88-4c3f-8b36-8a9366b0e664"
      },
      "source": [
        "#Val data\r\n",
        "gender_dummies=pd.get_dummies(val_data['Gender'],drop_first=True, prefix='Gen')\r\n",
        "gender=val_data.pop('Gender')\r\n",
        "val_data=pd.concat([val_data,gender_dummies],axis=1)\r\n",
        "\r\n",
        "eth_dummies=pd.get_dummies(val_data['Ethnicity'],drop_first=False, prefix='Eth')\r\n",
        "eth=val_data.pop('Ethnicity')\r\n",
        "val_data=pd.concat([val_data,eth_dummies],axis=1)\r\n",
        "\r\n",
        "edu_dummies=pd.get_dummies(val_data['Educational_Level'],drop_first=False, prefix='Edu')\r\n",
        "edu=val_data.pop('Educational_Level')\r\n",
        "val_data=pd.concat([val_data,edu_dummies],axis=1)\r\n",
        "\r\n",
        "in_dummies=pd.get_dummies(val_data['Income'],drop_first=False, prefix='In')\r\n",
        "in_dummies=in_dummies.rename(columns={'In_25K --50K': 'In_25K_50K', 'In_50K -- 100K': 'In_50K_100K', 'In_<25K':'In_below25K', 'In_>100K':'In_above100K' })\r\n",
        "income=val_data.pop('Income')\r\n",
        "val_data=pd.concat([val_data,in_dummies],axis=1)\r\n",
        "\r\n",
        "region_dummies=pd.get_dummies(val_data['Country_region'],drop_first=False, prefix='Coun')\r\n",
        "region=val_data.pop('Country_region')\r\n",
        "val_data=pd.concat([val_data,region_dummies],axis=1)\r\n",
        "\r\n",
        "hotel_dummies=pd.get_dummies(val_data['Hotel_Type'],drop_first=False, prefix='Hotel')\r\n",
        "hotel=val_data.pop('Hotel_Type')\r\n",
        "val_data=pd.concat([val_data,hotel_dummies],axis=1)\r\n",
        "\r\n",
        "meal_dummies=pd.get_dummies(val_data['Meal_Type'],drop_first=False, prefix='Meal')\r\n",
        "meal=val_data.pop('Meal_Type')\r\n",
        "val_data=pd.concat([val_data,meal_dummies],axis=1)\r\n",
        "\r\n",
        "visit_prev_dummies=pd.get_dummies(val_data['Visted_Previously'],drop_first=True, prefix='Visit')\r\n",
        "visit_prev=val_data.pop('Visted_Previously')\r\n",
        "val_data=pd.concat([val_data,visit_prev_dummies],axis=1)\r\n",
        "\r\n",
        "prev_can_dummies=pd.get_dummies(val_data['Previous_Cancellations'],drop_first=True, prefix='Prev_can')\r\n",
        "prev_can=val_data.pop('Previous_Cancellations')\r\n",
        "val_data=pd.concat([val_data,prev_can_dummies],axis=1)\r\n",
        "\r\n",
        "dep_dummies=pd.get_dummies(val_data['Deposit_type'],drop_first=False, prefix='Dep')\r\n",
        "dep=val_data.pop('Deposit_type')\r\n",
        "val_data=pd.concat([val_data,dep_dummies],axis=1)\r\n",
        "\r\n",
        "book_dummies=pd.get_dummies(val_data['Booking_channel'],drop_first=False, prefix='Book')\r\n",
        "book=val_data.pop('Booking_channel')\r\n",
        "val_data=pd.concat([val_data,book_dummies],axis=1)\r\n",
        "\r\n",
        "car_dummies=pd.get_dummies(val_data['Required_Car_Parking'],drop_first=True, prefix='Car')\r\n",
        "car=val_data.pop('Required_Car_Parking')\r\n",
        "val_data=pd.concat([val_data,car_dummies],axis=1)\r\n",
        "\r\n",
        "promo_dummies=pd.get_dummies(val_data['Use_Promotion'],drop_first=True, prefix='Promo')\r\n",
        "promo=val_data.pop('Use_Promotion')\r\n",
        "val_data=pd.concat([val_data,promo_dummies],axis=1)\r\n",
        "\r\n",
        "\r\n",
        "\r\n",
        "print(val_data.columns)\r\n",
        "print(val_data.head())"
      ],
      "execution_count": 34,
      "outputs": [
        {
          "output_type": "stream",
          "text": [
            "Index(['Reservation-id', 'Age', 'Expected_checkin', 'Expected_checkout',\n",
            "       'Booking_date', 'Adults', 'Children', 'Babies', 'Discount_Rate',\n",
            "       'Room_Rate', 'week_end', 'stay_duration', 'reserve_duration',\n",
            "       'trust_customer', 'not_trust_customer', 'num_rooms', 'tot_cost_per_day',\n",
            "       'tot_cost', 'Gen_M', 'Eth_African American', 'Eth_Asian American',\n",
            "       'Eth_Latino', 'Eth_caucasian', 'Edu_College', 'Edu_Grad',\n",
            "       'Edu_High-School', 'Edu_Mid-School', 'In_25K_50K', 'In_50K_100K',\n",
            "       'In_below25K', 'In_above100K', 'Coun_East', 'Coun_North', 'Coun_South',\n",
            "       'Coun_West', 'Hotel_Airport Hotels', 'Hotel_City Hotel', 'Hotel_Resort',\n",
            "       'Meal_BB', 'Meal_FB', 'Meal_HB', 'Visit_Yes', 'Prev_can_Yes',\n",
            "       'Dep_No Deposit', 'Dep_Non-Refundable', 'Dep_Refundable', 'Book_Agent',\n",
            "       'Book_Direct', 'Book_Online', 'Car_Yes', 'Promo_Yes'],\n",
            "      dtype='object')\n",
            "   Reservation-id  Age Expected_checkin  ... Book_Online Car_Yes  Promo_Yes\n",
            "0        45716350   56        8/31/2016  ...           0       0          1\n",
            "1        88857401   60        8/31/2016  ...           1       1          0\n",
            "2        16074440   58         9/1/2016  ...           0       0          1\n",
            "3        10992124   23        8/31/2016  ...           0       0          1\n",
            "4        15934351   47        8/31/2016  ...           1       1          1\n",
            "\n",
            "[5 rows x 51 columns]\n"
          ],
          "name": "stdout"
        }
      ]
    },
    {
      "cell_type": "code",
      "metadata": {
        "colab": {
          "base_uri": "https://localhost:8080/"
        },
        "id": "02iRprdrxcou",
        "outputId": "927478eb-a114-4174-91e6-406174d443e3"
      },
      "source": [
        "#test data\r\n",
        "gender_dummies=pd.get_dummies(test_data['Gender'],drop_first=True, prefix='Gen')\r\n",
        "gender=test_data.pop('Gender')\r\n",
        "test_data=pd.concat([test_data,gender_dummies],axis=1)\r\n",
        "\r\n",
        "eth_dummies=pd.get_dummies(test_data['Ethnicity'],drop_first=False, prefix='Eth')\r\n",
        "eth=test_data.pop('Ethnicity')\r\n",
        "test_data=pd.concat([test_data,eth_dummies],axis=1)\r\n",
        "\r\n",
        "edu_dummies=pd.get_dummies(test_data['Educational_Level'],drop_first=False, prefix='Edu')\r\n",
        "edu=test_data.pop('Educational_Level')\r\n",
        "test_data=pd.concat([test_data,edu_dummies],axis=1)\r\n",
        "\r\n",
        "in_dummies=pd.get_dummies(test_data['Income'],drop_first=False, prefix='In')\r\n",
        "in_dummies=in_dummies.rename(columns={'In_25K --50K': 'In_25K_50K', 'In_50K -- 100K': 'In_50K_100K', 'In_<25K':'In_below25K', 'In_>100K':'In_above100K' })\r\n",
        "income=test_data.pop('Income')\r\n",
        "test_data=pd.concat([test_data,in_dummies],axis=1)\r\n",
        "\r\n",
        "region_dummies=pd.get_dummies(test_data['Country_region'],drop_first=False, prefix='Coun')\r\n",
        "region=test_data.pop('Country_region')\r\n",
        "test_data=pd.concat([test_data,region_dummies],axis=1)\r\n",
        "\r\n",
        "hotel_dummies=pd.get_dummies(test_data['Hotel_Type'],drop_first=False, prefix='Hotel')\r\n",
        "hotel=test_data.pop('Hotel_Type')\r\n",
        "test_data=pd.concat([test_data,hotel_dummies],axis=1)\r\n",
        "\r\n",
        "meal_dummies=pd.get_dummies(test_data['Meal_Type'],drop_first=False, prefix='Meal')\r\n",
        "meal=test_data.pop('Meal_Type')\r\n",
        "test_data=pd.concat([test_data,meal_dummies],axis=1)\r\n",
        "\r\n",
        "visit_prev_dummies=pd.get_dummies(test_data['Visted_Previously'],drop_first=True, prefix='Visit')\r\n",
        "visit_prev=test_data.pop('Visted_Previously')\r\n",
        "test_data=pd.concat([test_data,visit_prev_dummies],axis=1)\r\n",
        "\r\n",
        "prev_can_dummies=pd.get_dummies(test_data['Previous_Cancellations'],drop_first=True, prefix='Prev_can')\r\n",
        "prev_can=test_data.pop('Previous_Cancellations')\r\n",
        "test_data=pd.concat([test_data,prev_can_dummies],axis=1)\r\n",
        "\r\n",
        "dep_dummies=pd.get_dummies(test_data['Deposit_type'],drop_first=False, prefix='Dep')\r\n",
        "dep=test_data.pop('Deposit_type')\r\n",
        "test_data=pd.concat([test_data,dep_dummies],axis=1)\r\n",
        "\r\n",
        "book_dummies=pd.get_dummies(test_data['Booking_channel'],drop_first=False, prefix='Book')\r\n",
        "book=test_data.pop('Booking_channel')\r\n",
        "test_data=pd.concat([test_data,book_dummies],axis=1)\r\n",
        "\r\n",
        "car_dummies=pd.get_dummies(test_data['Required_Car_Parking'],drop_first=True, prefix='Car')\r\n",
        "car=test_data.pop('Required_Car_Parking')\r\n",
        "test_data=pd.concat([test_data,car_dummies],axis=1)\r\n",
        "\r\n",
        "promo_dummies=pd.get_dummies(test_data['Use_Promotion'],drop_first=True, prefix='Promo')\r\n",
        "promo=test_data.pop('Use_Promotion')\r\n",
        "test_data=pd.concat([test_data,promo_dummies],axis=1)\r\n",
        "\r\n",
        "\r\n",
        "\r\n",
        "print(test_data.columns)\r\n",
        "print(test_data.head())"
      ],
      "execution_count": 35,
      "outputs": [
        {
          "output_type": "stream",
          "text": [
            "Index(['Reservation-id', 'Age', 'Expected_checkin', 'Expected_checkout',\n",
            "       'Booking_date', 'Adults', 'Children', 'Babies', 'Discount_Rate',\n",
            "       'Room_Rate', 'week_end', 'stay_duration', 'reserve_duration',\n",
            "       'trust_customer', 'not_trust_customer', 'num_rooms', 'tot_cost_per_day',\n",
            "       'tot_cost', 'Gen_M', 'Eth_African American', 'Eth_Asian American',\n",
            "       'Eth_Latino', 'Eth_caucasian', 'Edu_College', 'Edu_Grad',\n",
            "       'Edu_High-School', 'Edu_Mid-School', 'In_25K_50K', 'In_50K_100K',\n",
            "       'In_below25K', 'In_above100K', 'Coun_East', 'Coun_North', 'Coun_South',\n",
            "       'Coun_West', 'Hotel_Airport Hotels', 'Hotel_City Hotel', 'Hotel_Resort',\n",
            "       'Meal_BB', 'Meal_FB', 'Meal_HB', 'Visit_Yes', 'Prev_can_Yes',\n",
            "       'Dep_No Deposit', 'Dep_Non-Refundable', 'Dep_Refundable', 'Book_Agent',\n",
            "       'Book_Direct', 'Book_Online', 'Car_Yes', 'Promo_Yes'],\n",
            "      dtype='object')\n",
            "   Reservation-id  Age Expected_checkin  ... Book_Online Car_Yes  Promo_Yes\n",
            "0        62931593   52       11/18/2016  ...           0       1          1\n",
            "1        70586099   47       11/18/2016  ...           1       0          0\n",
            "2         4230648   28        4/28/2017  ...           0       0          1\n",
            "3        25192322   65       11/18/2016  ...           1       1          1\n",
            "4        80931528   45       11/18/2016  ...           0       0          0\n",
            "\n",
            "[5 rows x 51 columns]\n"
          ],
          "name": "stdout"
        }
      ]
    },
    {
      "cell_type": "code",
      "metadata": {
        "id": "lzxIiA4iyyo6"
      },
      "source": [
        "for i in train_data.columns:\r\n",
        "  if i not in test_data.columns:\r\n",
        "    print(i)"
      ],
      "execution_count": 36,
      "outputs": []
    },
    {
      "cell_type": "markdown",
      "metadata": {
        "id": "EFfqO5nIDMdv"
      },
      "source": [
        "##Label Encoding\r\n"
      ]
    },
    {
      "cell_type": "code",
      "metadata": {
        "colab": {
          "base_uri": "https://localhost:8080/"
        },
        "id": "7Pq4KZq_DQj_",
        "outputId": "a522bd11-ecdc-4e5f-f22a-6a3e65a0aee0"
      },
      "source": [
        "from sklearn import preprocessing\r\n",
        "le = preprocessing.LabelEncoder()\r\n",
        "le.fit(train_labels)\r\n",
        "print(le.classes_)\r\n",
        "train_label=le.transform(train_labels)\r\n",
        "\r\n",
        "le = preprocessing.LabelEncoder()\r\n",
        "le.fit(val_labels)\r\n",
        "print(le.classes_)\r\n",
        "val_label=le.transform(val_labels)"
      ],
      "execution_count": 37,
      "outputs": [
        {
          "output_type": "stream",
          "text": [
            "[1 2 3]\n",
            "[1 2 3]\n"
          ],
          "name": "stdout"
        },
        {
          "output_type": "stream",
          "text": [
            "/usr/local/lib/python3.7/dist-packages/sklearn/preprocessing/_label.py:235: DataConversionWarning: A column-vector y was passed when a 1d array was expected. Please change the shape of y to (n_samples, ), for example using ravel().\n",
            "  y = column_or_1d(y, warn=True)\n",
            "/usr/local/lib/python3.7/dist-packages/sklearn/preprocessing/_label.py:268: DataConversionWarning: A column-vector y was passed when a 1d array was expected. Please change the shape of y to (n_samples, ), for example using ravel().\n",
            "  y = column_or_1d(y, warn=True)\n"
          ],
          "name": "stderr"
        }
      ]
    },
    {
      "cell_type": "markdown",
      "metadata": {
        "id": "tMVdeHLoA-5V"
      },
      "source": [
        "##Remove unnecessary columns"
      ]
    },
    {
      "cell_type": "code",
      "metadata": {
        "colab": {
          "base_uri": "https://localhost:8080/"
        },
        "id": "stSzwpKa9v19",
        "outputId": "7780129b-3102-415c-826d-1871a0f8eb4b"
      },
      "source": [
        "train_data.pop('Reservation-id')\r\n",
        "val_data.pop('Reservation-id')\r\n",
        "test_reservation=test_data['Reservation-id']\r\n",
        "test_data.pop('Reservation-id')\r\n",
        "\r\n",
        "train_data.pop('Expected_checkin')\r\n",
        "val_data.pop('Expected_checkin')\r\n",
        "test_data.pop('Expected_checkin')\r\n",
        "\r\n",
        "train_data.pop('Expected_checkout')\r\n",
        "val_data.pop('Expected_checkout')\r\n",
        "test_data.pop('Expected_checkout')\r\n",
        "\r\n",
        "train_data.pop('Booking_date')\r\n",
        "val_data.pop('Booking_date')\r\n",
        "test_data.pop('Booking_date')"
      ],
      "execution_count": 38,
      "outputs": [
        {
          "output_type": "execute_result",
          "data": {
            "text/plain": [
              "0       10/28/2016\n",
              "1         8/6/2016\n",
              "2         4/8/2017\n",
              "3        5/20/2016\n",
              "4       10/31/2016\n",
              "           ...    \n",
              "4313     9/11/2016\n",
              "4314     2/10/2017\n",
              "4315     8/26/2016\n",
              "4316      3/4/2017\n",
              "4317     3/29/2017\n",
              "Name: Booking_date, Length: 4318, dtype: object"
            ]
          },
          "metadata": {
            "tags": []
          },
          "execution_count": 38
        }
      ]
    },
    {
      "cell_type": "markdown",
      "metadata": {
        "id": "uBiIdXTUtSJ9"
      },
      "source": [
        "#Neptune Create Experiment"
      ]
    },
    {
      "cell_type": "code",
      "metadata": {
        "colab": {
          "base_uri": "https://localhost:8080/"
        },
        "id": "LjjNq-PBtV8c",
        "outputId": "69220061-c098-4ec2-b0f1-64dd8f1e0263"
      },
      "source": [
        "neptune.create_experiment(name = 'Experiment without dates data and testing on multiple models - upsampled to 0.333 ratio - All features with new 3 features')"
      ],
      "execution_count": null,
      "outputs": [
        {
          "output_type": "stream",
          "text": [
            "https://ui.neptune.ai/jathurshan0330/DataStorm2-round1/e/DAT-9\n"
          ],
          "name": "stdout"
        },
        {
          "output_type": "execute_result",
          "data": {
            "text/plain": [
              "Experiment(DAT-9)"
            ]
          },
          "metadata": {
            "tags": []
          },
          "execution_count": 74
        }
      ]
    },
    {
      "cell_type": "markdown",
      "metadata": {
        "id": "a7DH4R1Y_JkX"
      },
      "source": [
        "#Model Building"
      ]
    },
    {
      "cell_type": "code",
      "metadata": {
        "id": "5GBW17Hj_Li5"
      },
      "source": [
        "from sklearn.model_selection import train_test_split\r\n",
        "from sklearn.tree import DecisionTreeClassifier\r\n",
        "from sklearn.metrics import accuracy_score, confusion_matrix, f1_score, roc_auc_score, classification_report, plot_confusion_matrix, precision_score, recall_score\r\n",
        "from sklearn import tree, svm\r\n",
        "from sklearn.ensemble import RandomForestClassifier\r\n",
        "import xgboost\r\n",
        "from sklearn.linear_model import LogisticRegression\r\n",
        "from sklearn.neighbors import NearestNeighbors,KNeighborsClassifier"
      ],
      "execution_count": 39,
      "outputs": []
    },
    {
      "cell_type": "code",
      "metadata": {
        "colab": {
          "base_uri": "https://localhost:8080/"
        },
        "id": "_UWOLaqAWoyr",
        "outputId": "c9828b9f-75ea-41de-be3c-281dda8446d7"
      },
      "source": [
        "#train_data=train_data[['Age','Adults','Discount_Rate','Room_Rate','week_end','stay_duration','reserve_duration','Eth_African American','Eth_caucasian','Coun_East','Hotel_Airport Hotels','Meal_BB','Meal_FB','Visit_Yes','Prev_can_Yes','Dep_No Deposit']]\r\n",
        "#val_data=val_data[['Age','Adults','Discount_Rate','Room_Rate','week_end','stay_duration','reserve_duration','Eth_African American','Eth_caucasian','Coun_East','Hotel_Airport Hotels','Meal_BB','Meal_FB','Visit_Yes','Prev_can_Yes','Dep_No Deposit']]\r\n",
        "#test_data=test_data[['Age','Adults','Discount_Rate','Room_Rate','week_end','stay_duration','reserve_duration','Eth_African American','Eth_caucasian','Coun_East','Hotel_Airport Hotels','Meal_BB','Meal_FB','Visit_Yes','Prev_can_Yes','Dep_No Deposit']]\r\n",
        "\r\n",
        "#train_data = train_data[selected_features]\r\n",
        "#val_data = val_data[selected_features]\r\n",
        "#test_data = test_data[selected_features]\r\n",
        "\r\n",
        "print(train_data.shape)\r\n",
        "print(val_data.shape)\r\n",
        "print(test_data.shape)"
      ],
      "execution_count": 40,
      "outputs": [
        {
          "output_type": "stream",
          "text": [
            "(61035, 47)\n",
            "(2749, 47)\n",
            "(4318, 47)\n"
          ],
          "name": "stdout"
        }
      ]
    },
    {
      "cell_type": "code",
      "metadata": {
        "id": "x8hT0owBGc_w"
      },
      "source": [
        "#heat map\r\n",
        "#correlations between each features\r\n",
        "import pandas as pd\r\n",
        "import numpy as np\r\n",
        "import matplotlib.pyplot as plt\r\n",
        "data  = pd.concat([train_data,train_labels],axis=1)\r\n",
        "corrmat = data.corr()\r\n",
        "top_corr_features = corrmat.index\r\n",
        "plt.figure(figsize=(20,20))\r\n",
        "#plot heat map\r\n",
        "g=sns.heatmap(data[top_corr_features].corr(),annot=True,cmap=\"RdYlGn\")\r\n"
      ],
      "execution_count": null,
      "outputs": []
    },
    {
      "cell_type": "markdown",
      "metadata": {
        "id": "YYLNXH6JAFmR"
      },
      "source": [
        "##logistic regression approach"
      ]
    },
    {
      "cell_type": "code",
      "metadata": {
        "colab": {
          "base_uri": "https://localhost:8080/"
        },
        "id": "7n-apf4__XlR",
        "outputId": "9aa94091-cfc1-41e1-e964-ad973af7da07"
      },
      "source": [
        "model= LogisticRegression(multi_class='multinomial', solver='saga',max_iter=100) \r\n",
        "model.fit(train_data,train_label) \r\n",
        "y_predict=model.predict(val_data)\r\n",
        "print(\"Train accuracy : \"+str(model.score(train_data,train_label)))\r\n",
        "print(\"Validation accuracy : \"+str(model.score(val_data,val_label)))\r\n",
        "print(\"Precision : \"+str(precision_score(val_label,y_predict,average='macro', zero_division=0)))\r\n",
        "print(\"Recall : \"+str(recall_score(val_label,y_predict,average='macro', zero_division=0)))\r\n",
        "print(\"F1-Score : \"+str(f1_score(val_label,y_predict,average='macro', zero_division=0)))\r\n",
        "print(\"Classification Report\")\r\n",
        "print(classification_report(val_label,y_predict,zero_division=0))\r\n",
        "print(\"Confusion Matrix\")\r\n",
        "print(confusion_matrix(val_label,y_predict))\r\n",
        "#fig, ax = plt.subplots()\r\n",
        "#plot_confusion_matrix(val_label, y_predict, ax=ax)\r\n",
        "\r\n",
        "\r\n",
        "#neptune.log_metric('Training Accuracy', model.score(train_data,train_label))\r\n",
        "#neptune.log_metric('Validation Accuracy', model.score(val_data,val_label))\r\n",
        "#neptune.log_metric('Precision',precision_score(val_label,y_predict,average='macro', zero_division=0))\r\n",
        "#neptune.log_metric('Recall', recall_score(val_label,y_predict,average='macro', zero_division=0))\r\n",
        "#neptune.log_metric('F1-Score',f1_score(val_label,y_predict,average='macro', zero_division=0))"
      ],
      "execution_count": 51,
      "outputs": [
        {
          "output_type": "stream",
          "text": [
            "Train accuracy : 0.416047017102328\n",
            "Validation accuracy : 0.37868315751182247\n",
            "Precision : 0.34732056567076725\n",
            "Recall : 0.3482070778645184\n",
            "F1-Score : 0.31888240569548226\n",
            "Classification Report\n",
            "              precision    recall  f1-score   support\n",
            "\n",
            "           0       0.62      0.35      0.45      1610\n",
            "           1       0.29      0.58      0.38       741\n",
            "           2       0.14      0.12      0.13       398\n",
            "\n",
            "    accuracy                           0.38      2749\n",
            "   macro avg       0.35      0.35      0.32      2749\n",
            "weighted avg       0.46      0.38      0.38      2749\n",
            "\n",
            "Confusion Matrix\n",
            "[[568 842 200]\n",
            " [225 427  89]\n",
            " [124 228  46]]\n"
          ],
          "name": "stdout"
        },
        {
          "output_type": "stream",
          "text": [
            "/usr/local/lib/python3.7/dist-packages/sklearn/linear_model/_sag.py:330: ConvergenceWarning: The max_iter was reached which means the coef_ did not converge\n",
            "  \"the coef_ did not converge\", ConvergenceWarning)\n"
          ],
          "name": "stderr"
        }
      ]
    },
    {
      "cell_type": "markdown",
      "metadata": {
        "id": "GQJoQ1ALFzlt"
      },
      "source": [
        "##Decision Tree Classifier model approach"
      ]
    },
    {
      "cell_type": "code",
      "metadata": {
        "colab": {
          "base_uri": "https://localhost:8080/"
        },
        "id": "zVZ5EWioAjgq",
        "outputId": "24033a87-90c6-4b32-f252-64e25659f1f2"
      },
      "source": [
        "#model = DecisionTreeClassifier(max_depth=20, class_weight = 'balanced' ).fit(train_data,train_label)\r\n",
        "model = DecisionTreeClassifier( max_depth = 20, class_weight = 'balanced', max_features = 'log2', random_state = 8  ).fit(train_data,train_label) #hypertuned for all features\r\n",
        "#model = DecisionTreeClassifier( max_depth = 21, class_weight = 'balanced', max_features = 'log2', random_state = 31  ).fit(train_data,train_label) #hypertuned for 28 features\r\n",
        "\r\n",
        "#model = DecisionTreeClassifier(max_depth = None, min_samples_split=17, class_weight = 'balanced', max_features = 'log2', random_state = 29  ).fit(train_data,train_label) #hypertuned for 28 features without max depth\r\n",
        "#model = DecisionTreeClassifier( max_depth = 21, class_weight = 'balanced', max_features = 'log2', random_state = 11  ).fit(train_data,train_label) #hypertuned for 10 features\r\n",
        " \r\n",
        "\r\n",
        "y_predict=model.predict(val_data)\r\n",
        "print(\"Train accuracy : \"+str(model.score(train_data,train_label)))\r\n",
        "print(\"Validation accuracy : \"+str(model.score(val_data,val_label)))\r\n",
        "print(\"Precision : \"+str(precision_score(val_label,y_predict,average='macro', zero_division=0)))\r\n",
        "print(\"Recall : \"+str(recall_score(val_label,y_predict,average='macro', zero_division=0)))\r\n",
        "print(\"F1-Score : \"+str(f1_score(val_label,y_predict,average='macro', zero_division=0)))\r\n",
        "print(\"Classification Report\")\r\n",
        "print(classification_report(val_label,y_predict,zero_division=0))\r\n",
        "print(\"Confusion Matrix\")\r\n",
        "print(confusion_matrix(val_label,y_predict))\r\n",
        "#fig, ax = plt.subplots()\r\n",
        "#plot_confusion_matrix(val_label, y_predict, ax=ax)\r\n",
        "\r\n",
        "\r\n",
        "#neptune.log_metric('Training Accuracy', model.score(train_data,train_label))\r\n",
        "#neptune.log_metric('Validation Accuracy', model.score(val_data,val_label))\r\n",
        "#neptune.log_metric('Precision',precision_score(val_label,y_predict,average='macro', zero_division=0))\r\n",
        "#neptune.log_metric('Recall', recall_score(val_label,y_predict,average='macro', zero_division=0))\r\n",
        "#neptune.log_metric('F1-Score',f1_score(val_label,y_predict,average='macro', zero_division=0))"
      ],
      "execution_count": 42,
      "outputs": [
        {
          "output_type": "stream",
          "text": [
            "Train accuracy : 0.8834439256164496\n",
            "Validation accuracy : 0.45580210985813024\n",
            "Precision : 0.35379668176574497\n",
            "Recall : 0.35347353667328824\n",
            "F1-Score : 0.35321851917632824\n",
            "Classification Report\n",
            "              precision    recall  f1-score   support\n",
            "\n",
            "           0       0.60      0.61      0.60      1610\n",
            "           1       0.30      0.27      0.29       741\n",
            "           2       0.16      0.18      0.17       398\n",
            "\n",
            "    accuracy                           0.46      2749\n",
            "   macro avg       0.35      0.35      0.35      2749\n",
            "weighted avg       0.46      0.46      0.46      2749\n",
            "\n",
            "Confusion Matrix\n",
            "[[979 366 265]\n",
            " [426 203 112]\n",
            " [222 105  71]]\n"
          ],
          "name": "stdout"
        }
      ]
    },
    {
      "cell_type": "code",
      "metadata": {
        "colab": {
          "base_uri": "https://localhost:8080/",
          "height": 715
        },
        "id": "nXmmtS8drHj0",
        "outputId": "3495b1d2-23e5-4e6f-bed2-95c3437e016d"
      },
      "source": [
        "# Plot non-normalized confusion matrix\r\n",
        "titles_options = [(\"Confusion matrix, without normalization\", None),\r\n",
        "                  (\"Normalized confusion matrix\", 'true')]\r\n",
        "class_names = [\"Check-In\", \"Canceled\", \"No-Show\"]\r\n",
        "for title, normalize in titles_options:\r\n",
        "    disp = plot_confusion_matrix(model, val_data, val_label,\r\n",
        "                                 display_labels=class_names,\r\n",
        "                                 cmap=plt.cm.Blues,\r\n",
        "                                 normalize=normalize)\r\n",
        "    disp.ax_.set_title(title)\r\n",
        "\r\n",
        "    print(title)\r\n",
        "    print(disp.confusion_matrix)"
      ],
      "execution_count": 44,
      "outputs": [
        {
          "output_type": "stream",
          "text": [
            "Confusion matrix, without normalization\n",
            "[[979 366 265]\n",
            " [426 203 112]\n",
            " [222 105  71]]\n",
            "Normalized confusion matrix\n",
            "[[0.60807453 0.22732919 0.16459627]\n",
            " [0.57489879 0.27395412 0.1511471 ]\n",
            " [0.55778894 0.2638191  0.17839196]]\n"
          ],
          "name": "stdout"
        },
        {
          "output_type": "display_data",
          "data": {
            "image/png": "[encoded data removed]",
            "text/plain": [
              "<Figure size 432x288 with 2 Axes>"
            ]
          },
          "metadata": {
            "tags": [],
            "needs_background": "light"
          }
        },
        {
          "output_type": "display_data",
          "data": {
            "image/png": "[encoded data removed]",
            "text/plain": [
              "<Figure size 432x288 with 2 Axes>"
            ]
          },
          "metadata": {
            "tags": [],
            "needs_background": "light"
          }
        }
      ]
    },
    {
      "cell_type": "code",
      "metadata": {
        "colab": {
          "base_uri": "https://localhost:8080/",
          "height": 807
        },
        "id": "rksmHrHxrHcc",
        "outputId": "3a60480b-bca3-42eb-c2a4-2a91faff4359"
      },
      "source": [
        "#Feature Importance in Decision Tree Classifier\r\n",
        "print(\"Feature Importance\")\r\n",
        "print(model.feature_importances_) #use inbuilt class feature_importances of tree based classifiers\r\n",
        "#plot graph of feature importances for better visualization\r\n",
        "plt.figure(figsize=[10,10])\r\n",
        "feat_importances = pd.Series(model.feature_importances_, index=train_data.columns)\r\n",
        "feat_importances.nlargest(47).plot(kind='barh')\r\n",
        "\r\n",
        "plt.show()\r\n",
        "#print(feat_importances)\r\n",
        "results=pd.DataFrame()\r\n",
        "results['columns']=train_data.columns\r\n",
        "results['importances'] = model.feature_importances_\r\n",
        "results.sort_values(by='importances',ascending=False,inplace=True)\r\n",
        "\r\n",
        "results[:44]\r\n",
        "selected_features = results['columns'][:28].tolist()\r\n",
        "print(selected_features)\r\n",
        "print(len(selected_features))"
      ],
      "execution_count": 45,
      "outputs": [
        {
          "output_type": "stream",
          "text": [
            "Feature Importance\n",
            "[0.06483356 0.03201356 0.03013934 0.01806648 0.04914002 0.07515194\n",
            " 0.01452496 0.02641356 0.10706459 0.0111192  0.00808425 0.00467614\n",
            " 0.07060248 0.0794272  0.01472368 0.01164027 0.01146818 0.01349512\n",
            " 0.01158553 0.01560216 0.01303577 0.01127082 0.01163608 0.0144941\n",
            " 0.01286694 0.01507667 0.01126019 0.01012376 0.01352282 0.0168668\n",
            " 0.01027978 0.00837017 0.01058331 0.01085746 0.02841161 0.00568969\n",
            " 0.00243591 0.01427852 0.00826982 0.01338304 0.00754559 0.01396739\n",
            " 0.0116539  0.01297885 0.01362554 0.01286878 0.01487448]\n"
          ],
          "name": "stdout"
        },
        {
          "output_type": "display_data",
          "data": {
            "image/png": "[encoded data removed]",
            "text/plain": [
              "<Figure size 720x720 with 1 Axes>"
            ]
          },
          "metadata": {
            "tags": [],
            "needs_background": "light"
          }
        },
        {
          "output_type": "stream",
          "text": [
            "['reserve_duration', 'tot_cost', 'Room_Rate', 'tot_cost_per_day', 'Age', 'Discount_Rate', 'Adults', 'Children', 'Meal_BB', 'stay_duration', 'Babies', 'Coun_South', 'Edu_College', 'In_below25K', 'Promo_Yes', 'Gen_M', 'week_end', 'In_25K_50K', 'Visit_Yes', 'Dep_Refundable', 'Book_Online', 'Coun_North', 'Eth_Latino', 'Dep_No Deposit', 'Edu_Grad', 'Book_Direct', 'Car_Yes', 'In_50K_100K']\n",
            "28\n"
          ],
          "name": "stdout"
        }
      ]
    },
    {
      "cell_type": "code",
      "metadata": {
        "id": "B1T79y6xXyfT"
      },
      "source": [
        "selected_features = ['reserve_duration', 'tot_cost', 'Room_Rate', 'tot_cost_per_day', 'Age', 'Discount_Rate', 'Adults', 'Children', 'Meal_BB', 'stay_duration', 'Babies', 'Coun_South', 'Edu_College', 'In_below25K', 'Promo_Yes', 'Gen_M', 'week_end', 'In_25K_50K', 'Visit_Yes', 'Dep_Refundable', 'Book_Online', 'Coun_North', 'Eth_Latino', 'Dep_No Deposit', 'Edu_Grad', 'Book_Direct', 'Car_Yes', 'In_50K_100K']\r\n"
      ],
      "execution_count": 35,
      "outputs": []
    },
    {
      "cell_type": "markdown",
      "metadata": {
        "id": "jyCco_VLIODd"
      },
      "source": [
        "##XGB Boost Approach"
      ]
    },
    {
      "cell_type": "code",
      "metadata": {
        "colab": {
          "base_uri": "https://localhost:8080/"
        },
        "id": "4i3SWgo-GCQi",
        "outputId": "a9b9cb8b-d734-4a4b-87a6-97ce076596f4"
      },
      "source": [
        "clf = DecisionTreeClassifier(max_depth=50, class_weight = 'balanced')\r\n",
        "#clf = DecisionTreeClassifier( max_depth = 50, class_weight = 'balanced', max_features = 'log2', random_state = 8  )\r\n",
        "#model=xgboost.XGBClassifier(base_estimator=clf,max_depth=20,n_estimators=15,objective='multi:softmax',gamma=4.63,learning_rate=0.2,reg_lambda=1).fit(train_data,train_label) # day 2 second submission model\r\n",
        "model=xgboost.XGBClassifier(base_estimator = clf, max_depth = 22, n_estimators = 15, objective = 'multi:softmax', gamma = 4.5, learning_rate = 0.05, reg_lambda = 3.4).fit(train_data,train_label)    #hypertuned model\r\n",
        "#model=xgboost.XGBClassifier(base_estimator = clf, max_depth = 19, n_estimators = 15, objective = 'multi:softmax', gamma = 4.5, learning_rate = 0.24, reg_lambda = 3.4).fit(train_data,train_label)    #hypertuned model\r\n",
        "\r\n",
        "y_predict=model.predict(val_data)\r\n",
        "print(\"Train accuracy : \"+str(model.score(train_data,train_label)))\r\n",
        "print(\"Validation accuracy : \"+str(model.score(val_data,val_label)))\r\n",
        "print(\"Precision : \"+str(precision_score(val_label,y_predict,average='macro', zero_division=0)))\r\n",
        "print(\"Recall : \"+str(recall_score(val_label,y_predict,average='macro', zero_division=0)))\r\n",
        "print(\"F1-Score : \"+str(f1_score(val_label,y_predict,average='macro', zero_division=0)))\r\n",
        "print(\"Classification Report\")\r\n",
        "print(classification_report(val_label,y_predict,zero_division=0))\r\n",
        "print(\"Confusion Matrix\")\r\n",
        "print(confusion_matrix(val_label,y_predict))\r\n",
        "#fig, ax = plt.subplots()\r\n",
        "#plot_confusion_matrix(val_label, y_predict, ax=ax)\r\n",
        "\r\n",
        "\r\n",
        "#neptune.log_metric('Training Accuracy', model.score(train_data,train_label))\r\n",
        "#neptune.log_metric('Validation Accuracy', model.score(val_data,val_label))\r\n",
        "#neptune.log_metric('Precision',precision_score(val_label,y_predict,average='macro', zero_division=0))\r\n",
        "#neptune.log_metric('Recall', recall_score(val_label,y_predict,average='macro', zero_division=0))\r\n",
        "#neptune.log_metric('F1-Score',f1_score(val_label,y_predict,average='macro', zero_division=0))"
      ],
      "execution_count": 70,
      "outputs": [
        {
          "output_type": "stream",
          "text": [
            "Train accuracy : 0.9637421151798149\n",
            "Validation accuracy : 0.4634412513641324\n",
            "Precision : 0.323205802626113\n",
            "Recall : 0.3260933589751593\n",
            "F1-Score : 0.32237316574933145\n",
            "Classification Report\n",
            "              precision    recall  f1-score   support\n",
            "\n",
            "           0       0.59      0.66      0.62      1610\n",
            "           1       0.26      0.23      0.25       741\n",
            "           2       0.12      0.08      0.10       398\n",
            "\n",
            "    accuracy                           0.46      2749\n",
            "   macro avg       0.32      0.33      0.32      2749\n",
            "weighted avg       0.43      0.46      0.45      2749\n",
            "\n",
            "Confusion Matrix\n",
            "[[1070  374  166]\n",
            " [ 494  171   76]\n",
            " [ 259  106   33]]\n"
          ],
          "name": "stdout"
        }
      ]
    },
    {
      "cell_type": "code",
      "metadata": {
        "colab": {
          "base_uri": "https://localhost:8080/",
          "height": 715
        },
        "id": "Dgv9UNq7SJYB",
        "outputId": "3e3b50cb-0639-4850-cd22-a28c0d1f0414"
      },
      "source": [
        "# Plot non-normalized confusion matrix\r\n",
        "titles_options = [(\"Confusion matrix, without normalization\", None),\r\n",
        "                  (\"Normalized confusion matrix\", 'true')]\r\n",
        "class_names = [\"Check-In\", \"Canceled\", \"No-Show\"]\r\n",
        "for title, normalize in titles_options:\r\n",
        "    disp = plot_confusion_matrix(model, val_data, val_label,\r\n",
        "                                 display_labels=class_names,\r\n",
        "                                 cmap=plt.cm.Blues,\r\n",
        "                                 normalize=normalize)\r\n",
        "    disp.ax_.set_title(title)\r\n",
        "\r\n",
        "    print(title)\r\n",
        "    print(disp.confusion_matrix)\r\n"
      ],
      "execution_count": 71,
      "outputs": [
        {
          "output_type": "stream",
          "text": [
            "Confusion matrix, without normalization\n",
            "[[1070  374  166]\n",
            " [ 494  171   76]\n",
            " [ 259  106   33]]\n",
            "Normalized confusion matrix\n",
            "[[0.66459627 0.23229814 0.10310559]\n",
            " [0.66666667 0.23076923 0.1025641 ]\n",
            " [0.65075377 0.26633166 0.08291457]]\n"
          ],
          "name": "stdout"
        },
        {
          "output_type": "display_data",
          "data": {
            "image/png": "[encoded data removed]",
            "text/plain": [
              "<Figure size 432x288 with 2 Axes>"
            ]
          },
          "metadata": {
            "tags": [],
            "needs_background": "light"
          }
        },
        {
          "output_type": "display_data",
          "data": {
            "image/png": "[encoded data removed]",
            "text/plain": [
              "<Figure size 432x288 with 2 Axes>"
            ]
          },
          "metadata": {
            "tags": [],
            "needs_background": "light"
          }
        }
      ]
    },
    {
      "cell_type": "code",
      "metadata": {
        "colab": {
          "base_uri": "https://localhost:8080/",
          "height": 790
        },
        "id": "sCNZzsP9HdQN",
        "outputId": "2c04ee0f-1008-4ca5-e94f-43b469cf84ad"
      },
      "source": [
        "#Feature Importance in XGBoost\r\n",
        "print(\"Feature Importance\")\r\n",
        "print(model.feature_importances_) #use inbuilt class feature_importances of tree based classifiers\r\n",
        "#plot graph of feature importances for better visualization\r\n",
        "plt.figure(figsize=[10,10])\r\n",
        "feat_importances = pd.Series(model.feature_importances_, index=train_data.columns)\r\n",
        "feat_importances.nlargest(40).plot(kind='barh')\r\n",
        "\r\n",
        "plt.show()\r\n",
        "#print(feat_importances)\r\n",
        "results=pd.DataFrame()\r\n",
        "results['columns']=train_data.columns\r\n",
        "results['importances'] = model.feature_importances_\r\n",
        "results.sort_values(by='importances',ascending=False,inplace=True)\r\n",
        "\r\n",
        "results[2:]\r\n",
        "selected_features = results['columns'][2:].tolist()\r\n",
        "print(selected_features)"
      ],
      "execution_count": 68,
      "outputs": [
        {
          "output_type": "stream",
          "text": [
            "Feature Importance\n",
            "[0.00938519 0.00901144 0.00935158 0.00888289 0.00920785 0.0092671\n",
            " 0.01007036 0.00856156 0.01268241 0.00970933 0.00859753 0.01061335\n",
            " 0.01029411 0.00988167 0.00896911 0.00906738 0.00917875 0.00933467\n",
            " 0.0093548  0.00923854 0.00943735 0.0090448  0.0091553  0.00920322\n",
            " 0.00879535 0.00901972 0.00946203 0.00917535 0.00919815 0.00908225\n",
            " 0.00866043 0.00988227 0.00981438 0.00980525 0.541726   0.06526121\n",
            " 0.         0.00948114 0.         0.00943249 0.00907647 0.0092856\n",
            " 0.00860859 0.00884191 0.00914356 0.00874772 0.        ]\n"
          ],
          "name": "stdout"
        },
        {
          "output_type": "display_data",
          "data": {
            "image/png": "[encoded data removed]",
            "text/plain": [
              "<Figure size 720x720 with 1 Axes>"
            ]
          },
          "metadata": {
            "tags": [],
            "needs_background": "light"
          }
        },
        {
          "output_type": "stream",
          "text": [
            "['reserve_duration', 'num_rooms', 'tot_cost_per_day', 'week_end', 'Hotel_Airport Hotels', 'tot_cost', 'Hotel_City Hotel', 'Hotel_Resort', 'trust_customer', 'Visit_Yes', 'In_above100K', 'Edu_Grad', 'Dep_No Deposit', 'Age', 'Eth_caucasian', 'Children', 'Eth_Latino', 'Dep_Refundable', 'Room_Rate', 'Edu_College', 'Discount_Rate', 'In_25K_50K', 'Coun_North', 'Eth_Asian American', 'Coun_East', 'Edu_Mid-School', 'Book_Online', 'Coun_South', 'Dep_Non-Refundable', 'Eth_African American', 'Edu_High-School', 'In_below25K', 'Adults', 'Gen_M', 'Babies', 'Book_Direct', 'In_50K_100K', 'Car_Yes', 'Coun_West', 'Book_Agent', 'not_trust_customer', 'stay_duration', 'Prev_can_Yes', 'Meal_HB', 'Promo_Yes']\n"
          ],
          "name": "stdout"
        }
      ]
    },
    {
      "cell_type": "markdown",
      "metadata": {
        "id": "eZyhpjSRkKP0"
      },
      "source": [
        "##Support Vector Machine Approach"
      ]
    },
    {
      "cell_type": "code",
      "metadata": {
        "id": "WlUk1KK_GYpW"
      },
      "source": [
        "\r\n",
        "model = svm.SVC(degree=5,decision_function_shape='ovo', class_weight = 'balanced')\r\n",
        "model.fit(train_data,train_label)       \r\n",
        "y_predict=model.predict(val_data)\r\n",
        "print(\"Train accuracy : \"+str(model.score(train_data,train_label)))\r\n",
        "print(\"Validation accuracy : \"+str(model.score(val_data,val_label)))\r\n",
        "print(\"Precision : \"+str(precision_score(val_label,y_predict,average='macro', zero_division=0)))\r\n",
        "print(\"Recall : \"+str(recall_score(val_label,y_predict,average='macro', zero_division=0)))\r\n",
        "print(\"F1-Score : \"+str(f1_score(val_label,y_predict,average='macro', zero_division=0)))\r\n",
        "print(\"Classification Report\")\r\n",
        "print(classification_report(val_label,y_predict,zero_division=0))\r\n",
        "print(\"Confusion Matrix\")\r\n",
        "print(confusion_matrix(val_label,y_predict))\r\n",
        "#fig, ax = plt.subplots()\r\n",
        "#plot_confusion_matrix(val_label, y_predict, ax=ax)\r\n",
        "\r\n",
        "\r\n",
        "#neptune.log_metric('Training Accuracy', model.score(train_data,train_label))\r\n",
        "#neptune.log_metric('Validation Accuracy', model.score(val_data,val_label))\r\n",
        "#neptune.log_metric('Precision',precision_score(val_label,y_predict,average='macro', zero_division=0))\r\n",
        "#neptune.log_metric('Recall', recall_score(val_label,y_predict,average='macro', zero_division=0))\r\n",
        "#neptune.log_metric('F1-Score',f1_score(val_label,y_predict,average='macro', zero_division=0))"
      ],
      "execution_count": null,
      "outputs": []
    },
    {
      "cell_type": "code",
      "metadata": {
        "id": "OOnweckGIccZ"
      },
      "source": [
        "# Plot non-normalized confusion matrix\r\n",
        "titles_options = [(\"Confusion matrix, without normalization\", None),\r\n",
        "                  (\"Normalized confusion matrix\", 'true')]\r\n",
        "class_names = [\"Check-In\", \"Canceled\", \"No-Show\"]\r\n",
        "for title, normalize in titles_options:\r\n",
        "    disp = plot_confusion_matrix(model, val_data, val_label,\r\n",
        "                                 display_labels=class_names,\r\n",
        "                                 cmap=plt.cm.Blues,\r\n",
        "                                 normalize=normalize)\r\n",
        "    disp.ax_.set_title(title)\r\n",
        "\r\n",
        "    print(title)\r\n",
        "    print(disp.confusion_matrix)"
      ],
      "execution_count": null,
      "outputs": []
    },
    {
      "cell_type": "code",
      "metadata": {
        "id": "CFaCWvy7Iht2"
      },
      "source": [
        "#Feature Importance in XGBoost\r\n",
        "print(\"Feature Importance\")\r\n",
        "print(model.feature_importances_) #use inbuilt class feature_importances of tree based classifiers\r\n",
        "#plot graph of feature importances for better visualization\r\n",
        "plt.figure(figsize=[10,10])\r\n",
        "feat_importances = pd.Series(model.feature_importances_, index=train_data.columns)\r\n",
        "feat_importances.nlargest(40).plot(kind='barh')\r\n",
        "\r\n",
        "plt.show()\r\n",
        "#print(feat_importances)\r\n",
        "results=pd.DataFrame()\r\n",
        "results['columns']=train_data.columns\r\n",
        "results['importances'] = model.feature_importances_\r\n",
        "results.sort_values(by='importances',ascending=False,inplace=True)\r\n",
        "\r\n",
        "results[2:]\r\n",
        "selected_features = results['columns'][2:].tolist()\r\n",
        "print(selected_features)"
      ],
      "execution_count": null,
      "outputs": []
    },
    {
      "cell_type": "markdown",
      "metadata": {
        "id": "dyUkW5lnkjZj"
      },
      "source": [
        "##MLP classifier approach"
      ]
    },
    {
      "cell_type": "code",
      "metadata": {
        "colab": {
          "base_uri": "https://localhost:8080/"
        },
        "id": "VwHV9cdakpoD",
        "outputId": "dab67c78-5466-4994-bce7-50114d14b446"
      },
      "source": [
        "from sklearn.neural_network import MLPClassifier\r\n",
        "model = MLPClassifier(solver='adam',learning_rate = 'adaptive',learning_rate_init=0.01,activation= 'relu', alpha=1e-6, hidden_layer_sizes=(150, ), random_state=91,max_iter=400)\r\n",
        "model.fit(train_data,train_label) \r\n",
        "y_predict=model.predict(val_data)\r\n",
        "print(\"Train accuracy : \"+str(model.score(train_data,train_label)))\r\n",
        "print(\"Validation accuracy : \"+str(model.score(val_data,val_label)))\r\n",
        "print(\"Precision : \"+str(precision_score(val_label,y_predict,average='macro', zero_division=0)))\r\n",
        "print(\"Recall : \"+str(recall_score(val_label,y_predict,average='macro', zero_division=0)))\r\n",
        "print(\"F1-Score : \"+str(f1_score(val_label,y_predict,average='macro', zero_division=0)))\r\n",
        "print(\"Classification Report\")\r\n",
        "print(classification_report(val_label,y_predict,zero_division=0))\r\n",
        "print(\"Confusion Matrix\")\r\n",
        "print(confusion_matrix(val_label,y_predict))\r\n",
        "#fig, ax = plt.subplots()\r\n",
        "#plot_confusion_matrix(val_label, y_predict, ax=ax)\r\n",
        "\r\n",
        "\r\n",
        "#neptune.log_metric('Training Accuracy', model.score(train_data,train_label))\r\n",
        "#neptune.log_metric('Validation Accuracy', model.score(val_data,val_label))\r\n",
        "#neptune.log_metric('Precision',precision_score(val_label,y_predict,average='macro', zero_division=0))\r\n",
        "#neptune.log_metric('Recall', recall_score(val_label,y_predict,average='macro', zero_division=0))\r\n",
        "#neptune.log_metric('F1-Score',f1_score(val_label,y_predict,average='macro', zero_division=0))"
      ],
      "execution_count": 64,
      "outputs": [
        {
          "output_type": "stream",
          "text": [
            "Train accuracy : 0.41264848038010976\n",
            "Validation accuracy : 0.37140778464896324\n",
            "Precision : 0.3573782652679491\n",
            "Recall : 0.35776231557195876\n",
            "F1-Score : 0.33108676553798505\n",
            "Classification Report\n",
            "              precision    recall  f1-score   support\n",
            "\n",
            "           0       0.61      0.42      0.50      1610\n",
            "           1       0.31      0.24      0.27       741\n",
            "           2       0.16      0.41      0.23       398\n",
            "\n",
            "    accuracy                           0.37      2749\n",
            "   macro avg       0.36      0.36      0.33      2749\n",
            "weighted avg       0.46      0.37      0.40      2749\n",
            "\n",
            "Confusion Matrix\n",
            "[[680 322 608]\n",
            " [278 177 286]\n",
            " [162  72 164]]\n"
          ],
          "name": "stdout"
        }
      ]
    },
    {
      "cell_type": "markdown",
      "metadata": {
        "id": "_gorpXkYk0DB"
      },
      "source": [
        "##Random Forest approach"
      ]
    },
    {
      "cell_type": "code",
      "metadata": {
        "colab": {
          "base_uri": "https://localhost:8080/"
        },
        "id": "Hig8auxNk0Q2",
        "outputId": "a29fff96-fd6d-4046-b7f3-77c0f0f93b6f"
      },
      "source": [
        "#model = RandomForestClassifier(max_depth=7,max_features=10,n_estimators=75, class_weight = 'balanced' )\r\n",
        "model = RandomForestClassifier(max_depth = 12, n_estimators = 115, class_weight = 'balanced', random_state = 39  )\r\n",
        "model.fit(train_data,train_label)       \r\n",
        "y_predict=model.predict(val_data)\r\n",
        "print(\"Train accuracy : \"+str(model.score(train_data,train_label)))\r\n",
        "print(\"Validation accuracy : \"+str(model.score(val_data,val_label)))\r\n",
        "print(\"Precision : \"+str(precision_score(val_label,y_predict,average='macro', zero_division=0)))\r\n",
        "print(\"Recall : \"+str(recall_score(val_label,y_predict,average='macro', zero_division=0)))\r\n",
        "print(\"F1-Score : \"+str(f1_score(val_label,y_predict,average='macro', zero_division=0)))\r\n",
        "print(\"Classification Report\")\r\n",
        "print(classification_report(val_label,y_predict,zero_division=0))\r\n",
        "print(\"Confusion Matrix\")\r\n",
        "print(confusion_matrix(val_label,y_predict))\r\n",
        "#fig, ax = plt.subplots()\r\n",
        "#plot_confusion_matrix(val_label, y_predict, ax=ax)\r\n",
        "\r\n",
        "\r\n",
        "#neptune.log_metric('Training Accuracy', model.score(train_data,train_label))\r\n",
        "#neptune.log_metric('Validation Accuracy', model.score(val_data,val_label))\r\n",
        "#neptune.log_metric('Precision',precision_score(val_label,y_predict,average='macro', zero_division=0))\r\n",
        "#neptune.log_metric('Recall', recall_score(val_label,y_predict,average='macro', zero_division=0))\r\n",
        "#neptune.log_metric('F1-Score',f1_score(val_label,y_predict,average='macro', zero_division=0))"
      ],
      "execution_count": 33,
      "outputs": [
        {
          "output_type": "stream",
          "text": [
            "Train accuracy : 0.8822970426804293\n",
            "Validation accuracy : 0.4267006184066933\n",
            "Precision : 0.3436850452745497\n",
            "Recall : 0.3463019562429656\n",
            "F1-Score : 0.34019120621358073\n",
            "Classification Report\n",
            "              precision    recall  f1-score   support\n",
            "\n",
            "           0       0.60      0.51      0.55      1610\n",
            "           1       0.29      0.41      0.34       741\n",
            "           2       0.14      0.12      0.13       398\n",
            "\n",
            "    accuracy                           0.43      2749\n",
            "   macro avg       0.34      0.35      0.34      2749\n",
            "weighted avg       0.45      0.43      0.43      2749\n",
            "\n",
            "Confusion Matrix\n",
            "[[822 580 208]\n",
            " [355 304  82]\n",
            " [194 157  47]]\n"
          ],
          "name": "stdout"
        }
      ]
    },
    {
      "cell_type": "code",
      "metadata": {
        "colab": {
          "base_uri": "https://localhost:8080/",
          "height": 715
        },
        "id": "HZt9eny7tIQd",
        "outputId": "1aee0d1c-31a2-4b23-bbba-a51dca1be276"
      },
      "source": [
        "# Plot non-normalized confusion matrix\r\n",
        "titles_options = [(\"Confusion matrix, without normalization\", None),\r\n",
        "                  (\"Normalized confusion matrix\", 'true')]\r\n",
        "class_names = [\"Check-In\", \"Canceled\", \"No-Show\"]\r\n",
        "for title, normalize in titles_options:\r\n",
        "    disp = plot_confusion_matrix(model, val_data, val_label,\r\n",
        "                                 display_labels=class_names,\r\n",
        "                                 cmap=plt.cm.Blues,\r\n",
        "                                 normalize=normalize)\r\n",
        "    disp.ax_.set_title(title)\r\n",
        "\r\n",
        "    print(title)\r\n",
        "    print(disp.confusion_matrix)"
      ],
      "execution_count": 34,
      "outputs": [
        {
          "output_type": "stream",
          "text": [
            "Confusion matrix, without normalization\n",
            "[[822 580 208]\n",
            " [355 304  82]\n",
            " [194 157  47]]\n",
            "Normalized confusion matrix\n",
            "[[0.51055901 0.36024845 0.12919255]\n",
            " [0.47908232 0.41025641 0.11066127]\n",
            " [0.48743719 0.39447236 0.11809045]]\n"
          ],
          "name": "stdout"
        },
        {
          "output_type": "display_data",
          "data": {
            "image/png": "[encoded data removed]",
            "text/plain": [
              "<Figure size 432x288 with 2 Axes>"
            ]
          },
          "metadata": {
            "tags": [],
            "needs_background": "light"
          }
        },
        {
          "output_type": "display_data",
          "data": {
            "image/png": "[encoded data removed]",
            "text/plain": [
              "<Figure size 432x288 with 2 Axes>"
            ]
          },
          "metadata": {
            "tags": [],
            "needs_background": "light"
          }
        }
      ]
    },
    {
      "cell_type": "code",
      "metadata": {
        "colab": {
          "base_uri": "https://localhost:8080/",
          "height": 772
        },
        "id": "EBGiyhuytaTj",
        "outputId": "9b288ab7-c59a-479c-bedd-4ea5228407c4"
      },
      "source": [
        "#Feature Importance in Random Forest\r\n",
        "print(\"Feature Importance\")\r\n",
        "print(model.feature_importances_) #use inbuilt class feature_importances of tree based classifiers\r\n",
        "#plot graph of feature importances for better visualization\r\n",
        "plt.figure(figsize=[10,10])\r\n",
        "feat_importances = pd.Series(model.feature_importances_, index=train_data.columns)\r\n",
        "feat_importances.nlargest(40).plot(kind='barh')\r\n",
        "\r\n",
        "plt.show()\r\n",
        "#print(feat_importances)\r\n",
        "results=pd.DataFrame()\r\n",
        "results['columns']=train_data.columns\r\n",
        "results['importances'] = model.feature_importances_\r\n",
        "results.sort_values(by='importances',ascending=False,inplace=True)\r\n",
        "\r\n",
        "results[:30]\r\n",
        "selected_features = results['columns'][:20].tolist()\r\n",
        "print(selected_features)"
      ],
      "execution_count": 35,
      "outputs": [
        {
          "output_type": "stream",
          "text": [
            "Feature Importance\n",
            "[0.08584866 0.03793096 0.02688872 0.01923623 0.04672821 0.09445047\n",
            " 0.01485588 0.03326261 0.16131474 0.01714245 0.01208127 0.01162939\n",
            " 0.01195224 0.0112702  0.01401106 0.01229349 0.01257382 0.01243994\n",
            " 0.01362323 0.01258157 0.01349531 0.01149027 0.01256036 0.01250653\n",
            " 0.01455315 0.01276202 0.0136999  0.0128383  0.01425294 0.05031764\n",
            " 0.03339296 0.01233007 0.01585412 0.01112389 0.01168173 0.00827472\n",
            " 0.01096204 0.01208913 0.01254293 0.01470582 0.01518509 0.01126594]\n"
          ],
          "name": "stdout"
        },
        {
          "output_type": "display_data",
          "data": {
            "image/png": "[encoded data removed]",
            "text/plain": [
              "<Figure size 720x720 with 1 Axes>"
            ]
          },
          "metadata": {
            "tags": [],
            "needs_background": "light"
          }
        },
        {
          "output_type": "stream",
          "text": [
            "['reserve_duration', 'Room_Rate', 'Age', 'Meal_BB', 'Discount_Rate', 'Adults', 'Meal_FB', 'stay_duration', 'Children', 'Babies', 'Gen_M', 'Visit_Yes', 'Car_Yes', 'week_end', 'Book_Online', 'Coun_South', 'Hotel_Resort', 'Edu_College', 'Hotel_Airport Hotels', 'In_25K_50K']\n"
          ],
          "name": "stdout"
        }
      ]
    },
    {
      "cell_type": "markdown",
      "metadata": {
        "id": "Tz8G7CNjk90q"
      },
      "source": [
        "##KNN approach"
      ]
    },
    {
      "cell_type": "code",
      "metadata": {
        "colab": {
          "base_uri": "https://localhost:8080/"
        },
        "id": "6TX_NkuJk-Ji",
        "outputId": "b4187dae-88d7-4f47-d71c-9c58f8f62395"
      },
      "source": [
        "model=KNeighborsClassifier(n_neighbors=3,algorithm='auto',weights='distance')\r\n",
        "model.fit(train_data,train_label)       \r\n",
        "y_predict=model.predict(val_data)\r\n",
        "print(\"Train accuracy : \"+str(model.score(train_data,train_label)))\r\n",
        "print(\"Validation accuracy : \"+str(model.score(val_data,val_label)))\r\n",
        "print(\"Precision : \"+str(precision_score(val_label,y_predict,average='macro', zero_division=0)))\r\n",
        "print(\"Recall : \"+str(recall_score(val_label,y_predict,average='macro', zero_division=0)))\r\n",
        "print(\"F1-Score : \"+str(f1_score(val_label,y_predict,average='macro', zero_division=0)))\r\n",
        "print(\"Classification Report\")\r\n",
        "print(classification_report(val_label,y_predict,zero_division=0))\r\n",
        "print(\"Confusion Matrix\")\r\n",
        "print(confusion_matrix(val_label,y_predict))\r\n",
        "#fig, ax = plt.subplots()\r\n",
        "#plot_confusion_matrix(val_label, y_predict, ax=ax)\r\n",
        "\r\n",
        "\r\n",
        "#neptune.log_metric('Training Accuracy', model.score(train_data,train_label))\r\n",
        "#neptune.log_metric('Validation Accuracy', model.score(val_data,val_label))\r\n",
        "#neptune.log_metric('Precision',precision_score(val_label,y_predict,average='macro', zero_division=0))\r\n",
        "#neptune.log_metric('Recall', recall_score(val_label,y_predict,average='macro', zero_division=0))\r\n",
        "#neptune.log_metric('F1-Score',f1_score(val_label,y_predict,average='macro', zero_division=0))"
      ],
      "execution_count": 66,
      "outputs": [
        {
          "output_type": "stream",
          "text": [
            "Train accuracy : 1.0\n",
            "Validation accuracy : 0.4219716260458348\n",
            "Precision : 0.3212005365678779\n",
            "Recall : 0.3208768027978497\n",
            "F1-Score : 0.3209910453437807\n",
            "Classification Report\n",
            "              precision    recall  f1-score   support\n",
            "\n",
            "           0       0.58      0.57      0.57      1610\n",
            "           1       0.24      0.25      0.25       741\n",
            "           2       0.14      0.14      0.14       398\n",
            "\n",
            "    accuracy                           0.42      2749\n",
            "   macro avg       0.32      0.32      0.32      2749\n",
            "weighted avg       0.42      0.42      0.42      2749\n",
            "\n",
            "Confusion Matrix\n",
            "[[917 475 218]\n",
            " [440 187 114]\n",
            " [233 109  56]]\n"
          ],
          "name": "stdout"
        }
      ]
    },
    {
      "cell_type": "code",
      "metadata": {
        "colab": {
          "base_uri": "https://localhost:8080/"
        },
        "id": "G-RZNEVgTXo_",
        "outputId": "1ad05ce4-fb83-421b-c14b-0a950d90db4b"
      },
      "source": [
        "# Plot non-normalized confusion matrix\r\n",
        "titles_options = [(\"Confusion matrix, without normalization\", None),\r\n",
        "                  (\"Normalized confusion matrix\", 'true')]\r\n",
        "class_names = [\"Check-In\", \"Canceled\", \"No-Show\"]\r\n",
        "for title, normalize in titles_options:\r\n",
        "    disp = plot_confusion_matrix(model, val_data, val_label,\r\n",
        "                                 display_labels=class_names,\r\n",
        "                                 cmap=plt.cm.Blues,\r\n",
        "                                 normalize=normalize)\r\n",
        "    disp.ax_.set_title(title)\r\n",
        "\r\n",
        "    print(title)\r\n",
        "    print(disp.confusion_matrix)"
      ],
      "execution_count": null,
      "outputs": [
        {
          "output_type": "stream",
          "text": [
            "Confusion matrix, without normalization\n",
            "[[990 415 205]\n",
            " [426 208 107]\n",
            " [215 114  69]]\n",
            "Normalized confusion matrix\n",
            "[[0.61490683 0.25776398 0.12732919]\n",
            " [0.57489879 0.28070175 0.14439946]\n",
            " [0.54020101 0.28643216 0.17336683]]\n"
          ],
          "name": "stdout"
        },
        {
          "output_type": "display_data",
          "data": {
            "image/png": "[encoded data removed]",
            "text/plain": [
              "<Figure size 432x288 with 2 Axes>"
            ]
          },
          "metadata": {
            "tags": [],
            "needs_background": "light"
          }
        },
        {
          "output_type": "display_data",
          "data": {
            "image/png": "[encoded data removed]",
            "text/plain": [
              "<Figure size 432x288 with 2 Axes>"
            ]
          },
          "metadata": {
            "tags": [],
            "needs_background": "light"
          }
        }
      ]
    },
    {
      "cell_type": "markdown",
      "metadata": {
        "id": "_KibxSrOmO7g"
      },
      "source": [
        "##Ensemble - extra tree classifier approach"
      ]
    },
    {
      "cell_type": "code",
      "metadata": {
        "colab": {
          "base_uri": "https://localhost:8080/"
        },
        "id": "fN0CwJ5OmPHe",
        "outputId": "0eaad658-5807-41fe-b43c-8d290104070f"
      },
      "source": [
        "from sklearn.ensemble import ExtraTreesClassifier\r\n",
        "model = ExtraTreesClassifier(max_depth=12,n_estimators=100, class_weight = 'balanced')\r\n",
        "model.fit(train_data, train_label)\r\n",
        "y_predict= model.predict(val_data)\r\n",
        "print(\"Train accuracy : \"+str(model.score(train_data,train_label)))\r\n",
        "print(\"Validation accuracy : \"+str(model.score(val_data,val_label)))\r\n",
        "print(\"Precision : \"+str(precision_score(val_label,y_predict,average='macro', zero_division=0)))\r\n",
        "print(\"Recall : \"+str(recall_score(val_label,y_predict,average='macro', zero_division=0)))\r\n",
        "print(\"F1-Score : \"+str(f1_score(val_label,y_predict,average='macro', zero_division=0)))\r\n",
        "print(\"Classification Report\")\r\n",
        "print(classification_report(val_label,y_predict,zero_division=0))\r\n",
        "print(\"Confusion Matrix\")\r\n",
        "print(confusion_matrix(val_label,y_predict))\r\n",
        "#fig, ax = plt.subplots()\r\n",
        "#plot_confusion_matrix(val_label, y_predict, ax=ax)\r\n",
        "\r\n",
        "\r\n",
        "#neptune.log_metric('Training Accuracy', model.score(train_data,train_label))\r\n",
        "#neptune.log_metric('Validation Accuracy', model.score(val_data,val_label))\r\n",
        "#neptune.log_metric('Precision',precision_score(val_label,y_predict,average='macro', zero_division=0))\r\n",
        "#neptune.log_metric('Recall', recall_score(val_label,y_predict,average='macro', zero_division=0))\r\n",
        "#neptune.log_metric('F1-Score',f1_score(val_label,y_predict,average='macro', zero_division=0))"
      ],
      "execution_count": 67,
      "outputs": [
        {
          "output_type": "stream",
          "text": [
            "Train accuracy : 0.8600638977635783\n",
            "Validation accuracy : 0.45180065478355763\n",
            "Precision : 0.3508459196357407\n",
            "Recall : 0.3517447928151331\n",
            "F1-Score : 0.35057768866857825\n",
            "Classification Report\n",
            "              precision    recall  f1-score   support\n",
            "\n",
            "           0       0.61      0.58      0.59      1610\n",
            "           1       0.30      0.34      0.32       741\n",
            "           2       0.15      0.13      0.14       398\n",
            "\n",
            "    accuracy                           0.45      2749\n",
            "   macro avg       0.35      0.35      0.35      2749\n",
            "weighted avg       0.46      0.45      0.45      2749\n",
            "\n",
            "Confusion Matrix\n",
            "[[937 471 202]\n",
            " [387 252 102]\n",
            " [219 126  53]]\n"
          ],
          "name": "stdout"
        }
      ]
    },
    {
      "cell_type": "markdown",
      "metadata": {
        "id": "H1QoIIBvL7gH"
      },
      "source": [
        "##Hypertuning the model"
      ]
    },
    {
      "cell_type": "code",
      "metadata": {
        "colab": {
          "base_uri": "https://localhost:8080/",
          "height": 405
        },
        "id": "GuBKtqwcL-mP",
        "outputId": "aae1c716-2876-4076-81c5-5dc841aab2ff"
      },
      "source": [
        "#Hypertuning Parameters for Accuracy F1score and AUC score\r\n",
        "#max_depth\r\n",
        "#learning_rate\r\n",
        "#min_child_weight \r\n",
        "#gamma 4.63\r\n",
        "#colsample_bytree\r\n",
        "#scale_pos_weight \r\n",
        "#subsample\r\n",
        "#reg_lambda\r\n",
        "#x=np.linspace(3,25,num=23,dtype=int)\r\n",
        "x=np.linspace(0,500,num=1001,dtype=int)\r\n",
        "train_acc = []\r\n",
        "val_acc = []\r\n",
        "F = []\r\n",
        "#clf = DecisionTreeClassifier(max_depth=50, class_weight = 'balanced')\r\n",
        "#x = [True, False]\r\n",
        "for i in x:\r\n",
        "     print(i)\r\n",
        "     #model=xgboost.XGBClassifier(base_estimator = clf, max_depth = 19, n_estimators = 15, objective = 'multi:softmax', gamma = 4.5, learning_rate = i, reg_lambda = 3.4).fit(train_data,train_label)    #hypertuned model\r\n",
        "     #model = DecisionTreeClassifier( max_depth = 20, class_weight = 'balanced', max_features = 'log2', random_state = 8  ).fit(train_data,train_label)\r\n",
        "     #model = RandomForestClassifier(max_depth = 12, n_estimators = 115, class_weight = 'balanced', random_state = 39  ).fit(train_data,train_label)  # 115\r\n",
        "     model = DecisionTreeClassifier(max_depth = None, min_samples_split=i, class_weight = 'balanced', max_features = 'log2', random_state = 29  ).fit(train_data,train_label)\r\n",
        "     y_pred= model.predict(val_data)\r\n",
        "     f=f1_score(val_label,y_pred ,average='macro', zero_division=0)\r\n",
        "     F.append(f)\r\n",
        "     #auc=roc_auc_score(val_label,y_pred,average='macro')\r\n",
        "     #AUC.append(auc)\r\n",
        "     train_acc.append(model.score(train_data,train_label))\r\n",
        "     val_acc.append(model.score(val_data,val_label))\r\n",
        "     if f > 0.3697:\r\n",
        "       print(\"improvement\")\r\n",
        " #ploting hypertuning results\r\n",
        " \r\n",
        "import matplotlib.pyplot as plt\r\n",
        "#plt.plot(x,AUC)\r\n",
        "#plt.title('AUC Score')\r\n",
        "#plt.ylabel('Auc')\r\n",
        "#plt.xlabel('Parameters')\r\n",
        "#plt.show()\r\n",
        "plt.plot(x,F)\r\n",
        "plt.title('F1 Score')\r\n",
        "plt.ylabel('F1')\r\n",
        "plt.xlabel('Parameters')\r\n",
        "plt.show()\r\n",
        "plt.plot(x,train_acc)\r\n",
        "plt.title('Train accuracy')\r\n",
        "plt.ylabel('Acc')\r\n",
        "plt.xlabel('Parameters')\r\n",
        "plt.show()\r\n",
        "plt.plot(x,val_acc)\r\n",
        "plt.title('Validation Accuracy')\r\n",
        "plt.ylabel('Acc')\r\n",
        "plt.xlabel('Parameters')\r\n",
        "plt.show()\r\n",
        "\r\n",
        "print(\"Maximum Training Acc : \"+str(max(train_acc)))\r\n",
        "print(x[train_acc.index(max(train_acc))])\r\n",
        "\r\n",
        "print(\"Maximum Validation Acc : \"+str(max(val_acc)))\r\n",
        "print(x[val_acc.index(max(val_acc))])\r\n",
        "\r\n",
        "print(\"Maximum F1 Score : \"+str(max(F)))\r\n",
        "print(x[F.index(max(F))])\r\n",
        "\r\n",
        "\r\n"
      ],
      "execution_count": 242,
      "outputs": [
        {
          "output_type": "stream",
          "text": [
            "0\n"
          ],
          "name": "stdout"
        },
        {
          "output_type": "error",
          "ename": "ValueError",
          "evalue": "ignored",
          "traceback": [
            "\u001b[0;31m---------------------------------------------------------------------------\u001b[0m",
            "\u001b[0;31mValueError\u001b[0m                                Traceback (most recent call last)",
            "\u001b[0;32m<ipython-input-242-94f7e6a89238>\u001b[0m in \u001b[0;36m<module>\u001b[0;34m()\u001b[0m\n\u001b[1;32m     20\u001b[0m      \u001b[0;31m#model = DecisionTreeClassifier( max_depth = 20, class_weight = 'balanced', max_features = 'log2', random_state = 8  ).fit(train_data,train_label)\u001b[0m\u001b[0;34m\u001b[0m\u001b[0;34m\u001b[0m\u001b[0;34m\u001b[0m\u001b[0m\n\u001b[1;32m     21\u001b[0m      \u001b[0;31m#model = RandomForestClassifier(max_depth = 12, n_estimators = 115, class_weight = 'balanced', random_state = 39  ).fit(train_data,train_label)  # 115\u001b[0m\u001b[0;34m\u001b[0m\u001b[0;34m\u001b[0m\u001b[0;34m\u001b[0m\u001b[0m\n\u001b[0;32m---> 22\u001b[0;31m      \u001b[0mmodel\u001b[0m \u001b[0;34m=\u001b[0m \u001b[0mDecisionTreeClassifier\u001b[0m\u001b[0;34m(\u001b[0m\u001b[0mmax_depth\u001b[0m \u001b[0;34m=\u001b[0m \u001b[0;32mNone\u001b[0m\u001b[0;34m,\u001b[0m \u001b[0mmin_samples_split\u001b[0m\u001b[0;34m=\u001b[0m\u001b[0mi\u001b[0m\u001b[0;34m,\u001b[0m \u001b[0mclass_weight\u001b[0m \u001b[0;34m=\u001b[0m \u001b[0;34m'balanced'\u001b[0m\u001b[0;34m,\u001b[0m \u001b[0mmax_features\u001b[0m \u001b[0;34m=\u001b[0m \u001b[0;34m'log2'\u001b[0m\u001b[0;34m,\u001b[0m \u001b[0mrandom_state\u001b[0m \u001b[0;34m=\u001b[0m \u001b[0;36m29\u001b[0m  \u001b[0;34m)\u001b[0m\u001b[0;34m.\u001b[0m\u001b[0mfit\u001b[0m\u001b[0;34m(\u001b[0m\u001b[0mtrain_data\u001b[0m\u001b[0;34m,\u001b[0m\u001b[0mtrain_label\u001b[0m\u001b[0;34m)\u001b[0m\u001b[0;34m\u001b[0m\u001b[0;34m\u001b[0m\u001b[0m\n\u001b[0m\u001b[1;32m     23\u001b[0m      \u001b[0my_pred\u001b[0m\u001b[0;34m=\u001b[0m \u001b[0mmodel\u001b[0m\u001b[0;34m.\u001b[0m\u001b[0mpredict\u001b[0m\u001b[0;34m(\u001b[0m\u001b[0mval_data\u001b[0m\u001b[0;34m)\u001b[0m\u001b[0;34m\u001b[0m\u001b[0;34m\u001b[0m\u001b[0m\n\u001b[1;32m     24\u001b[0m      \u001b[0mf\u001b[0m\u001b[0;34m=\u001b[0m\u001b[0mf1_score\u001b[0m\u001b[0;34m(\u001b[0m\u001b[0mval_label\u001b[0m\u001b[0;34m,\u001b[0m\u001b[0my_pred\u001b[0m \u001b[0;34m,\u001b[0m\u001b[0maverage\u001b[0m\u001b[0;34m=\u001b[0m\u001b[0;34m'macro'\u001b[0m\u001b[0;34m,\u001b[0m \u001b[0mzero_division\u001b[0m\u001b[0;34m=\u001b[0m\u001b[0;36m0\u001b[0m\u001b[0;34m)\u001b[0m\u001b[0;34m\u001b[0m\u001b[0;34m\u001b[0m\u001b[0m\n",
            "\u001b[0;32m/usr/local/lib/python3.7/dist-packages/sklearn/tree/_classes.py\u001b[0m in \u001b[0;36mfit\u001b[0;34m(self, X, y, sample_weight, check_input, X_idx_sorted)\u001b[0m\n\u001b[1;32m    875\u001b[0m             \u001b[0msample_weight\u001b[0m\u001b[0;34m=\u001b[0m\u001b[0msample_weight\u001b[0m\u001b[0;34m,\u001b[0m\u001b[0;34m\u001b[0m\u001b[0;34m\u001b[0m\u001b[0m\n\u001b[1;32m    876\u001b[0m             \u001b[0mcheck_input\u001b[0m\u001b[0;34m=\u001b[0m\u001b[0mcheck_input\u001b[0m\u001b[0;34m,\u001b[0m\u001b[0;34m\u001b[0m\u001b[0;34m\u001b[0m\u001b[0m\n\u001b[0;32m--> 877\u001b[0;31m             X_idx_sorted=X_idx_sorted)\n\u001b[0m\u001b[1;32m    878\u001b[0m         \u001b[0;32mreturn\u001b[0m \u001b[0mself\u001b[0m\u001b[0;34m\u001b[0m\u001b[0;34m\u001b[0m\u001b[0m\n\u001b[1;32m    879\u001b[0m \u001b[0;34m\u001b[0m\u001b[0m\n",
            "\u001b[0;32m/usr/local/lib/python3.7/dist-packages/sklearn/tree/_classes.py\u001b[0m in \u001b[0;36mfit\u001b[0;34m(self, X, y, sample_weight, check_input, X_idx_sorted)\u001b[0m\n\u001b[1;32m    221\u001b[0m                                  \u001b[0;34m\"greater than 1 or a float in (0.0, 1.0]; \"\u001b[0m\u001b[0;34m\u001b[0m\u001b[0;34m\u001b[0m\u001b[0m\n\u001b[1;32m    222\u001b[0m                                  \u001b[0;34m\"got the integer %s\"\u001b[0m\u001b[0;34m\u001b[0m\u001b[0;34m\u001b[0m\u001b[0m\n\u001b[0;32m--> 223\u001b[0;31m                                  % self.min_samples_split)\n\u001b[0m\u001b[1;32m    224\u001b[0m             \u001b[0mmin_samples_split\u001b[0m \u001b[0;34m=\u001b[0m \u001b[0mself\u001b[0m\u001b[0;34m.\u001b[0m\u001b[0mmin_samples_split\u001b[0m\u001b[0;34m\u001b[0m\u001b[0;34m\u001b[0m\u001b[0m\n\u001b[1;32m    225\u001b[0m         \u001b[0;32melse\u001b[0m\u001b[0;34m:\u001b[0m  \u001b[0;31m# float\u001b[0m\u001b[0;34m\u001b[0m\u001b[0;34m\u001b[0m\u001b[0m\n",
            "\u001b[0;31mValueError\u001b[0m: min_samples_split must be an integer greater than 1 or a float in (0.0, 1.0]; got the integer 0"
          ]
        }
      ]
    },
    {
      "cell_type": "code",
      "metadata": {
        "colab": {
          "base_uri": "https://localhost:8080/",
          "height": 957
        },
        "id": "T4nYf5PtkW1r",
        "outputId": "fc4bdf16-93ea-48b5-8097-190137d7c924"
      },
      "source": [
        "import matplotlib.pyplot as plt\r\n",
        "x=x[:len(F)]\r\n",
        "#plt.plot(x,AUC)\r\n",
        "#plt.title('AUC Score')\r\n",
        "#plt.ylabel('Auc')\r\n",
        "#plt.xlabel('Parameters')\r\n",
        "#plt.show()\r\n",
        "plt.plot(x,F)\r\n",
        "plt.title('F1 Score')\r\n",
        "plt.ylabel('F1')\r\n",
        "plt.xlabel('Parameters')\r\n",
        "plt.show()\r\n",
        "plt.plot(x,train_acc)\r\n",
        "plt.title('Train accuracy')\r\n",
        "plt.ylabel('Acc')\r\n",
        "plt.xlabel('Parameters')\r\n",
        "plt.show()\r\n",
        "plt.plot(x,val_acc)\r\n",
        "plt.title('Validation Accuracy')\r\n",
        "plt.ylabel('Acc')\r\n",
        "plt.xlabel('Parameters')\r\n",
        "plt.show()\r\n",
        "\r\n",
        "print(\"Maximum Training Acc : \"+str(max(train_acc)))\r\n",
        "print(x[train_acc.index(max(train_acc))])\r\n",
        "\r\n",
        "print(\"Maximum Validation Acc : \"+str(max(val_acc)))\r\n",
        "print(x[val_acc.index(max(val_acc))])\r\n",
        "\r\n",
        "print(\"Maximum F1 Score : \"+str(max(F)))\r\n",
        "print(x[F.index(max(F))])"
      ],
      "execution_count": 79,
      "outputs": [
        {
          "output_type": "display_data",
          "data": {
            "image/png": "[encoded data removed]",
            "text/plain": [
              "<Figure size 432x288 with 1 Axes>"
            ]
          },
          "metadata": {
            "tags": [],
            "needs_background": "light"
          }
        },
        {
          "output_type": "display_data",
          "data": {
            "image/png": "[encoded data removed]",
            "text/plain": [
              "<Figure size 432x288 with 1 Axes>"
            ]
          },
          "metadata": {
            "tags": [],
            "needs_background": "light"
          }
        },
        {
          "output_type": "display_data",
          "data": {
            "image/png": "[encoded data removed]",
            "text/plain": [
              "<Figure size 432x288 with 1 Axes>"
            ]
          },
          "metadata": {
            "tags": [],
            "needs_background": "light"
          }
        },
        {
          "output_type": "stream",
          "text": [
            "Maximum Training Acc : 0.85580404685836\n",
            "6\n",
            "Maximum Validation Acc : 0.4026918879592579\n",
            "19\n",
            "Maximum F1 Score : 0.32789929472167473\n",
            "19\n"
          ],
          "name": "stdout"
        }
      ]
    },
    {
      "cell_type": "code",
      "metadata": {
        "colab": {
          "base_uri": "https://localhost:8080/"
        },
        "id": "u73R4i_Aa3ED",
        "outputId": "ba43ed65-fd69-40ff-cb10-a5efceb8c374"
      },
      "source": [
        "print(x[F.index(max(F))])"
      ],
      "execution_count": null,
      "outputs": [
        {
          "output_type": "error",
          "ename": "ValueError",
          "evalue": "ignored",
          "traceback": [
            "\u001b[0;31m---------------------------------------------------------------------------\u001b[0m",
            "\u001b[0;31mValueError\u001b[0m                                Traceback (most recent call last)",
            "\u001b[0;32m<ipython-input-43-324e1c9db776>\u001b[0m in \u001b[0;36m<module>\u001b[0;34m()\u001b[0m\n\u001b[0;32m----> 1\u001b[0;31m \u001b[0mprint\u001b[0m\u001b[0;34m(\u001b[0m\u001b[0mx\u001b[0m\u001b[0;34m[\u001b[0m\u001b[0mval_acc\u001b[0m\u001b[0;34m.\u001b[0m\u001b[0mindex\u001b[0m\u001b[0;34m(\u001b[0m\u001b[0mmax\u001b[0m\u001b[0;34m(\u001b[0m\u001b[0mF\u001b[0m\u001b[0;34m)\u001b[0m\u001b[0;34m)\u001b[0m\u001b[0;34m]\u001b[0m\u001b[0;34m)\u001b[0m\u001b[0;34m\u001b[0m\u001b[0;34m\u001b[0m\u001b[0m\n\u001b[0m",
            "\u001b[0;31mValueError\u001b[0m: 0.36587881543503675 is not in list"
          ]
        }
      ]
    },
    {
      "cell_type": "markdown",
      "metadata": {
        "id": "mRUR6NojwRxg"
      },
      "source": [
        "##Neptune log order of Models"
      ]
    },
    {
      "cell_type": "code",
      "metadata": {
        "id": "a7SKhMljwRCf"
      },
      "source": [
        "model_list=['logistic regression','Decision Tree Classifier', 'XGB Boost','MLP classifier', 'Random Forest', 'KNN', 'Ensemble - extra tree classifier'  ]\r\n",
        "for i in model_list:\r\n",
        "  neptune.log_text('Model order',i)\r\n",
        "  "
      ],
      "execution_count": null,
      "outputs": []
    },
    {
      "cell_type": "code",
      "metadata": {
        "id": "Vtb-7X-f7h_d"
      },
      "source": [
        "neptune.stop()"
      ],
      "execution_count": null,
      "outputs": []
    },
    {
      "cell_type": "markdown",
      "metadata": {
        "id": "Y2FHQ8Do-IOA"
      },
      "source": [
        "#Prediction For submission"
      ]
    },
    {
      "cell_type": "code",
      "metadata": {
        "colab": {
          "base_uri": "https://localhost:8080/"
        },
        "id": "TgHPByDBlQ_a",
        "outputId": "2d1d0be1-0ffe-4cde-c172-4774c3f4ccc4"
      },
      "source": [
        "y_predict_2= model.predict(test_data)\r\n",
        "y_predict_2\r\n"
      ],
      "execution_count": 41,
      "outputs": [
        {
          "output_type": "execute_result",
          "data": {
            "text/plain": [
              "array([0, 0, 0, ..., 1, 0, 2])"
            ]
          },
          "metadata": {
            "tags": []
          },
          "execution_count": 41
        }
      ]
    },
    {
      "cell_type": "code",
      "metadata": {
        "colab": {
          "base_uri": "https://localhost:8080/"
        },
        "id": "S_rvCd4wQVc-",
        "outputId": "475d7db7-d358-4e77-bd88-0cdf42d41000"
      },
      "source": [
        "y_predict_2=le.inverse_transform(y_predict_2)\r\n",
        "y_predict_2"
      ],
      "execution_count": 42,
      "outputs": [
        {
          "output_type": "execute_result",
          "data": {
            "text/plain": [
              "array([1, 1, 1, ..., 2, 1, 3], dtype=object)"
            ]
          },
          "metadata": {
            "tags": []
          },
          "execution_count": 42
        }
      ]
    },
    {
      "cell_type": "code",
      "metadata": {
        "colab": {
          "base_uri": "https://localhost:8080/",
          "height": 406
        },
        "id": "AF0UopPkQtGk",
        "outputId": "299281c6-d4be-4183-db05-a1fba628e59b"
      },
      "source": [
        "y_predict_2=pd.DataFrame(y_predict_2,columns=['Reservation_status'] )\r\n",
        "y_predict_2"
      ],
      "execution_count": 43,
      "outputs": [
        {
          "output_type": "execute_result",
          "data": {
            "text/html": [
              "<div>\n",
              "<style scoped>\n",
              "    .dataframe tbody tr th:only-of-type {\n",
              "        vertical-align: middle;\n",
              "    }\n",
              "\n",
              "    .dataframe tbody tr th {\n",
              "        vertical-align: top;\n",
              "    }\n",
              "\n",
              "    .dataframe thead th {\n",
              "        text-align: right;\n",
              "    }\n",
              "</style>\n",
              "<table border=\"1\" class=\"dataframe\">\n",
              "  <thead>\n",
              "    <tr style=\"text-align: right;\">\n",
              "      <th></th>\n",
              "      <th>Reservation_status</th>\n",
              "    </tr>\n",
              "  </thead>\n",
              "  <tbody>\n",
              "    <tr>\n",
              "      <th>0</th>\n",
              "      <td>1</td>\n",
              "    </tr>\n",
              "    <tr>\n",
              "      <th>1</th>\n",
              "      <td>1</td>\n",
              "    </tr>\n",
              "    <tr>\n",
              "      <th>2</th>\n",
              "      <td>1</td>\n",
              "    </tr>\n",
              "    <tr>\n",
              "      <th>3</th>\n",
              "      <td>1</td>\n",
              "    </tr>\n",
              "    <tr>\n",
              "      <th>4</th>\n",
              "      <td>1</td>\n",
              "    </tr>\n",
              "    <tr>\n",
              "      <th>...</th>\n",
              "      <td>...</td>\n",
              "    </tr>\n",
              "    <tr>\n",
              "      <th>4313</th>\n",
              "      <td>3</td>\n",
              "    </tr>\n",
              "    <tr>\n",
              "      <th>4314</th>\n",
              "      <td>1</td>\n",
              "    </tr>\n",
              "    <tr>\n",
              "      <th>4315</th>\n",
              "      <td>2</td>\n",
              "    </tr>\n",
              "    <tr>\n",
              "      <th>4316</th>\n",
              "      <td>1</td>\n",
              "    </tr>\n",
              "    <tr>\n",
              "      <th>4317</th>\n",
              "      <td>3</td>\n",
              "    </tr>\n",
              "  </tbody>\n",
              "</table>\n",
              "<p>4318 rows × 1 columns</p>\n",
              "</div>"
            ],
            "text/plain": [
              "     Reservation_status\n",
              "0                     1\n",
              "1                     1\n",
              "2                     1\n",
              "3                     1\n",
              "4                     1\n",
              "...                 ...\n",
              "4313                  3\n",
              "4314                  1\n",
              "4315                  2\n",
              "4316                  1\n",
              "4317                  3\n",
              "\n",
              "[4318 rows x 1 columns]"
            ]
          },
          "metadata": {
            "tags": []
          },
          "execution_count": 43
        }
      ]
    },
    {
      "cell_type": "code",
      "metadata": {
        "colab": {
          "base_uri": "https://localhost:8080/",
          "height": 406
        },
        "id": "52bWVSSXSEj3",
        "outputId": "b57b8765-42fa-40c6-c63a-950866e9db8b"
      },
      "source": [
        "test_reservation=pd.DataFrame(test_reservation)\r\n",
        "test_reservation"
      ],
      "execution_count": 44,
      "outputs": [
        {
          "output_type": "execute_result",
          "data": {
            "text/html": [
              "<div>\n",
              "<style scoped>\n",
              "    .dataframe tbody tr th:only-of-type {\n",
              "        vertical-align: middle;\n",
              "    }\n",
              "\n",
              "    .dataframe tbody tr th {\n",
              "        vertical-align: top;\n",
              "    }\n",
              "\n",
              "    .dataframe thead th {\n",
              "        text-align: right;\n",
              "    }\n",
              "</style>\n",
              "<table border=\"1\" class=\"dataframe\">\n",
              "  <thead>\n",
              "    <tr style=\"text-align: right;\">\n",
              "      <th></th>\n",
              "      <th>Reservation-id</th>\n",
              "    </tr>\n",
              "  </thead>\n",
              "  <tbody>\n",
              "    <tr>\n",
              "      <th>0</th>\n",
              "      <td>62931593</td>\n",
              "    </tr>\n",
              "    <tr>\n",
              "      <th>1</th>\n",
              "      <td>70586099</td>\n",
              "    </tr>\n",
              "    <tr>\n",
              "      <th>2</th>\n",
              "      <td>4230648</td>\n",
              "    </tr>\n",
              "    <tr>\n",
              "      <th>3</th>\n",
              "      <td>25192322</td>\n",
              "    </tr>\n",
              "    <tr>\n",
              "      <th>4</th>\n",
              "      <td>80931528</td>\n",
              "    </tr>\n",
              "    <tr>\n",
              "      <th>...</th>\n",
              "      <td>...</td>\n",
              "    </tr>\n",
              "    <tr>\n",
              "      <th>4313</th>\n",
              "      <td>39110574</td>\n",
              "    </tr>\n",
              "    <tr>\n",
              "      <th>4314</th>\n",
              "      <td>5496554</td>\n",
              "    </tr>\n",
              "    <tr>\n",
              "      <th>4315</th>\n",
              "      <td>59004046</td>\n",
              "    </tr>\n",
              "    <tr>\n",
              "      <th>4316</th>\n",
              "      <td>65838682</td>\n",
              "    </tr>\n",
              "    <tr>\n",
              "      <th>4317</th>\n",
              "      <td>14474101</td>\n",
              "    </tr>\n",
              "  </tbody>\n",
              "</table>\n",
              "<p>4318 rows × 1 columns</p>\n",
              "</div>"
            ],
            "text/plain": [
              "      Reservation-id\n",
              "0           62931593\n",
              "1           70586099\n",
              "2            4230648\n",
              "3           25192322\n",
              "4           80931528\n",
              "...              ...\n",
              "4313        39110574\n",
              "4314         5496554\n",
              "4315        59004046\n",
              "4316        65838682\n",
              "4317        14474101\n",
              "\n",
              "[4318 rows x 1 columns]"
            ]
          },
          "metadata": {
            "tags": []
          },
          "execution_count": 44
        }
      ]
    },
    {
      "cell_type": "code",
      "metadata": {
        "colab": {
          "base_uri": "https://localhost:8080/",
          "height": 406
        },
        "id": "aR96ORxqQxHa",
        "outputId": "f451d0cb-059a-4a46-bf78-9934d5e44d35"
      },
      "source": [
        "test_reservation=pd.concat([test_reservation,y_predict_2],axis=1)\r\n",
        "test_reservation"
      ],
      "execution_count": 45,
      "outputs": [
        {
          "output_type": "execute_result",
          "data": {
            "text/html": [
              "<div>\n",
              "<style scoped>\n",
              "    .dataframe tbody tr th:only-of-type {\n",
              "        vertical-align: middle;\n",
              "    }\n",
              "\n",
              "    .dataframe tbody tr th {\n",
              "        vertical-align: top;\n",
              "    }\n",
              "\n",
              "    .dataframe thead th {\n",
              "        text-align: right;\n",
              "    }\n",
              "</style>\n",
              "<table border=\"1\" class=\"dataframe\">\n",
              "  <thead>\n",
              "    <tr style=\"text-align: right;\">\n",
              "      <th></th>\n",
              "      <th>Reservation-id</th>\n",
              "      <th>Reservation_status</th>\n",
              "    </tr>\n",
              "  </thead>\n",
              "  <tbody>\n",
              "    <tr>\n",
              "      <th>0</th>\n",
              "      <td>62931593</td>\n",
              "      <td>1</td>\n",
              "    </tr>\n",
              "    <tr>\n",
              "      <th>1</th>\n",
              "      <td>70586099</td>\n",
              "      <td>1</td>\n",
              "    </tr>\n",
              "    <tr>\n",
              "      <th>2</th>\n",
              "      <td>4230648</td>\n",
              "      <td>1</td>\n",
              "    </tr>\n",
              "    <tr>\n",
              "      <th>3</th>\n",
              "      <td>25192322</td>\n",
              "      <td>1</td>\n",
              "    </tr>\n",
              "    <tr>\n",
              "      <th>4</th>\n",
              "      <td>80931528</td>\n",
              "      <td>1</td>\n",
              "    </tr>\n",
              "    <tr>\n",
              "      <th>...</th>\n",
              "      <td>...</td>\n",
              "      <td>...</td>\n",
              "    </tr>\n",
              "    <tr>\n",
              "      <th>4313</th>\n",
              "      <td>39110574</td>\n",
              "      <td>3</td>\n",
              "    </tr>\n",
              "    <tr>\n",
              "      <th>4314</th>\n",
              "      <td>5496554</td>\n",
              "      <td>1</td>\n",
              "    </tr>\n",
              "    <tr>\n",
              "      <th>4315</th>\n",
              "      <td>59004046</td>\n",
              "      <td>2</td>\n",
              "    </tr>\n",
              "    <tr>\n",
              "      <th>4316</th>\n",
              "      <td>65838682</td>\n",
              "      <td>1</td>\n",
              "    </tr>\n",
              "    <tr>\n",
              "      <th>4317</th>\n",
              "      <td>14474101</td>\n",
              "      <td>3</td>\n",
              "    </tr>\n",
              "  </tbody>\n",
              "</table>\n",
              "<p>4318 rows × 2 columns</p>\n",
              "</div>"
            ],
            "text/plain": [
              "      Reservation-id Reservation_status\n",
              "0           62931593                  1\n",
              "1           70586099                  1\n",
              "2            4230648                  1\n",
              "3           25192322                  1\n",
              "4           80931528                  1\n",
              "...              ...                ...\n",
              "4313        39110574                  3\n",
              "4314         5496554                  1\n",
              "4315        59004046                  2\n",
              "4316        65838682                  1\n",
              "4317        14474101                  3\n",
              "\n",
              "[4318 rows x 2 columns]"
            ]
          },
          "metadata": {
            "tags": []
          },
          "execution_count": 45
        }
      ]
    },
    {
      "cell_type": "code",
      "metadata": {
        "id": "YJHlvr10SaS4"
      },
      "source": [
        "test_reservation.to_csv('submission_DecisionTree_upsampled_0.33_0.33_0.33_hypertuned_28features.csv',index=False)"
      ],
      "execution_count": 47,
      "outputs": []
    },
    {
      "cell_type": "code",
      "metadata": {
        "id": "5qXZnp-qWa-l"
      },
      "source": [
        ""
      ],
      "execution_count": null,
      "outputs": []
    }
  ]
}