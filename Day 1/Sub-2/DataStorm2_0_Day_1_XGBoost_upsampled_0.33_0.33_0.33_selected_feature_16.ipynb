{
  "nbformat": 4,
  "nbformat_minor": 0,
  "metadata": {
    "colab": {
      "name": "DataStorm2.0 Day 1-2.ipynb",
      "provenance": [],
      "collapsed_sections": [
        "oD1VC3Ntrt1o",
        "Y8QYGdzrsMLz",
        "pyDUk13liskQ",
        "3HrriTpoiyaD",
        "64k5nSUH1OMG",
        "EFfqO5nIDMdv",
        "tMVdeHLoA-5V",
        "uBiIdXTUtSJ9"
      ]
    },
    "kernelspec": {
      "name": "python3",
      "display_name": "Python 3"
    },
    "accelerator": "GPU"
  },
  "cells": [
    {
      "cell_type": "markdown",
      "metadata": {
        "id": "KvcMYg7Eg7Mp"
      },
      "source": [
        "#Import Libraries"
      ]
    },
    {
      "cell_type": "markdown",
      "metadata": {
        "id": "oD1VC3Ntrt1o"
      },
      "source": [
        "##Neptune Ai"
      ]
    },
    {
      "cell_type": "code",
      "metadata": {
        "colab": {
          "base_uri": "https://localhost:8080/"
        },
        "id": "_r09JJunrtPs",
        "outputId": "233d4ec4-baaf-4a05-efcf-5c7bd50ca065"
      },
      "source": [
        "! pip install neptune-client==0.4.132\r\n"
      ],
      "execution_count": 1,
      "outputs": [
        {
          "output_type": "stream",
          "text": [
            "Requirement already satisfied: neptune-client==0.4.132 in /usr/local/lib/python3.7/dist-packages (0.4.132)\n",
            "Requirement already satisfied: requests>=2.20.0 in /usr/local/lib/python3.7/dist-packages (from neptune-client==0.4.132) (2.23.0)\n",
            "Requirement already satisfied: Pillow>=1.1.6 in /usr/local/lib/python3.7/dist-packages (from neptune-client==0.4.132) (7.0.0)\n",
            "Requirement already satisfied: packaging in /usr/local/lib/python3.7/dist-packages (from neptune-client==0.4.132) (20.9)\n",
            "Requirement already satisfied: websocket-client>=0.35.0 in /usr/local/lib/python3.7/dist-packages (from neptune-client==0.4.132) (0.58.0)\n",
            "Requirement already satisfied: bravado in /usr/local/lib/python3.7/dist-packages (from neptune-client==0.4.132) (11.0.3)\n",
            "Requirement already satisfied: oauthlib>=2.1.0 in /usr/local/lib/python3.7/dist-packages (from neptune-client==0.4.132) (3.1.0)\n",
            "Requirement already satisfied: requests-oauthlib>=1.0.0 in /usr/local/lib/python3.7/dist-packages (from neptune-client==0.4.132) (1.3.0)\n",
            "Requirement already satisfied: pandas in /usr/local/lib/python3.7/dist-packages (from neptune-client==0.4.132) (1.1.5)\n",
            "Requirement already satisfied: six>=1.12.0 in /usr/local/lib/python3.7/dist-packages (from neptune-client==0.4.132) (1.15.0)\n",
            "Requirement already satisfied: GitPython>=2.0.8 in /usr/local/lib/python3.7/dist-packages (from neptune-client==0.4.132) (3.1.14)\n",
            "Requirement already satisfied: PyJWT in /usr/local/lib/python3.7/dist-packages (from neptune-client==0.4.132) (2.0.1)\n",
            "Requirement already satisfied: future>=0.17.1 in /usr/local/lib/python3.7/dist-packages (from neptune-client==0.4.132) (0.18.2)\n",
            "Requirement already satisfied: click>=7.0 in /usr/local/lib/python3.7/dist-packages (from neptune-client==0.4.132) (7.1.2)\n",
            "Requirement already satisfied: idna<3,>=2.5 in /usr/local/lib/python3.7/dist-packages (from requests>=2.20.0->neptune-client==0.4.132) (2.10)\n",
            "Requirement already satisfied: urllib3!=1.25.0,!=1.25.1,<1.26,>=1.21.1 in /usr/local/lib/python3.7/dist-packages (from requests>=2.20.0->neptune-client==0.4.132) (1.24.3)\n",
            "Requirement already satisfied: certifi>=2017.4.17 in /usr/local/lib/python3.7/dist-packages (from requests>=2.20.0->neptune-client==0.4.132) (2020.12.5)\n",
            "Requirement already satisfied: chardet<4,>=3.0.2 in /usr/local/lib/python3.7/dist-packages (from requests>=2.20.0->neptune-client==0.4.132) (3.0.4)\n",
            "Requirement already satisfied: pyparsing>=2.0.2 in /usr/local/lib/python3.7/dist-packages (from packaging->neptune-client==0.4.132) (2.4.7)\n",
            "Requirement already satisfied: python-dateutil in /usr/local/lib/python3.7/dist-packages (from bravado->neptune-client==0.4.132) (2.8.1)\n",
            "Requirement already satisfied: msgpack in /usr/local/lib/python3.7/dist-packages (from bravado->neptune-client==0.4.132) (1.0.2)\n",
            "Requirement already satisfied: simplejson in /usr/local/lib/python3.7/dist-packages (from bravado->neptune-client==0.4.132) (3.17.2)\n",
            "Requirement already satisfied: monotonic in /usr/local/lib/python3.7/dist-packages (from bravado->neptune-client==0.4.132) (1.5)\n",
            "Requirement already satisfied: bravado-core>=5.16.1 in /usr/local/lib/python3.7/dist-packages (from bravado->neptune-client==0.4.132) (5.17.0)\n",
            "Requirement already satisfied: pyyaml in /usr/local/lib/python3.7/dist-packages (from bravado->neptune-client==0.4.132) (3.13)\n",
            "Requirement already satisfied: typing-extensions in /usr/local/lib/python3.7/dist-packages (from bravado->neptune-client==0.4.132) (3.7.4.3)\n",
            "Requirement already satisfied: pytz>=2017.2 in /usr/local/lib/python3.7/dist-packages (from pandas->neptune-client==0.4.132) (2018.9)\n",
            "Requirement already satisfied: numpy>=1.15.4 in /usr/local/lib/python3.7/dist-packages (from pandas->neptune-client==0.4.132) (1.19.5)\n",
            "Requirement already satisfied: gitdb<5,>=4.0.1 in /usr/local/lib/python3.7/dist-packages (from GitPython>=2.0.8->neptune-client==0.4.132) (4.0.5)\n",
            "Requirement already satisfied: swagger-spec-validator>=2.0.1 in /usr/local/lib/python3.7/dist-packages (from bravado-core>=5.16.1->bravado->neptune-client==0.4.132) (2.7.3)\n",
            "Requirement already satisfied: jsonschema[format]>=2.5.1 in /usr/local/lib/python3.7/dist-packages (from bravado-core>=5.16.1->bravado->neptune-client==0.4.132) (2.6.0)\n",
            "Requirement already satisfied: jsonref in /usr/local/lib/python3.7/dist-packages (from bravado-core>=5.16.1->bravado->neptune-client==0.4.132) (0.2)\n",
            "Requirement already satisfied: smmap<4,>=3.0.1 in /usr/local/lib/python3.7/dist-packages (from gitdb<5,>=4.0.1->GitPython>=2.0.8->neptune-client==0.4.132) (3.0.5)\n",
            "Requirement already satisfied: rfc3987; extra == \"format\" in /usr/local/lib/python3.7/dist-packages (from jsonschema[format]>=2.5.1->bravado-core>=5.16.1->bravado->neptune-client==0.4.132) (1.3.8)\n",
            "Requirement already satisfied: strict-rfc3339; extra == \"format\" in /usr/local/lib/python3.7/dist-packages (from jsonschema[format]>=2.5.1->bravado-core>=5.16.1->bravado->neptune-client==0.4.132) (0.7)\n",
            "Requirement already satisfied: webcolors; extra == \"format\" in /usr/local/lib/python3.7/dist-packages (from jsonschema[format]>=2.5.1->bravado-core>=5.16.1->bravado->neptune-client==0.4.132) (1.11.1)\n"
          ],
          "name": "stdout"
        }
      ]
    },
    {
      "cell_type": "code",
      "metadata": {
        "colab": {
          "base_uri": "https://localhost:8080/"
        },
        "id": "D1Bu88-Ks_Ij",
        "outputId": "a1a6b350-82d2-4e0f-ae98-22ccf42c56e5"
      },
      "source": [
        "pip install  neptune-contrib neptune-client\r\n"
      ],
      "execution_count": 2,
      "outputs": [
        {
          "output_type": "stream",
          "text": [
            "Requirement already satisfied: neptune-contrib in /usr/local/lib/python3.7/dist-packages (0.27.1)\n",
            "Requirement already satisfied: neptune-client in /usr/local/lib/python3.7/dist-packages (0.4.132)\n",
            "Requirement already satisfied: joblib>=0.13 in /usr/local/lib/python3.7/dist-packages (from neptune-contrib) (1.0.1)\n",
            "Requirement already satisfied: Pillow>=6.2.0 in /usr/local/lib/python3.7/dist-packages (from neptune-contrib) (7.0.0)\n",
            "Requirement already satisfied: matplotlib in /usr/local/lib/python3.7/dist-packages (from neptune-contrib) (3.2.2)\n",
            "Requirement already satisfied: pandas in /usr/local/lib/python3.7/dist-packages (from neptune-contrib) (1.1.5)\n",
            "Requirement already satisfied: attrdict>=2.0.0 in /usr/local/lib/python3.7/dist-packages (from neptune-contrib) (2.0.1)\n",
            "Requirement already satisfied: requests-oauthlib>=1.0.0 in /usr/local/lib/python3.7/dist-packages (from neptune-client) (1.3.0)\n",
            "Requirement already satisfied: six>=1.12.0 in /usr/local/lib/python3.7/dist-packages (from neptune-client) (1.15.0)\n",
            "Requirement already satisfied: bravado in /usr/local/lib/python3.7/dist-packages (from neptune-client) (11.0.3)\n",
            "Requirement already satisfied: packaging in /usr/local/lib/python3.7/dist-packages (from neptune-client) (20.9)\n",
            "Requirement already satisfied: GitPython>=2.0.8 in /usr/local/lib/python3.7/dist-packages (from neptune-client) (3.1.14)\n",
            "Requirement already satisfied: websocket-client>=0.35.0 in /usr/local/lib/python3.7/dist-packages (from neptune-client) (0.58.0)\n",
            "Requirement already satisfied: click>=7.0 in /usr/local/lib/python3.7/dist-packages (from neptune-client) (7.1.2)\n",
            "Requirement already satisfied: requests>=2.20.0 in /usr/local/lib/python3.7/dist-packages (from neptune-client) (2.23.0)\n",
            "Requirement already satisfied: future>=0.17.1 in /usr/local/lib/python3.7/dist-packages (from neptune-client) (0.18.2)\n",
            "Requirement already satisfied: oauthlib>=2.1.0 in /usr/local/lib/python3.7/dist-packages (from neptune-client) (3.1.0)\n",
            "Requirement already satisfied: PyJWT in /usr/local/lib/python3.7/dist-packages (from neptune-client) (2.0.1)\n",
            "Requirement already satisfied: pyparsing!=2.0.4,!=2.1.2,!=2.1.6,>=2.0.1 in /usr/local/lib/python3.7/dist-packages (from matplotlib->neptune-contrib) (2.4.7)\n",
            "Requirement already satisfied: python-dateutil>=2.1 in /usr/local/lib/python3.7/dist-packages (from matplotlib->neptune-contrib) (2.8.1)\n",
            "Requirement already satisfied: numpy>=1.11 in /usr/local/lib/python3.7/dist-packages (from matplotlib->neptune-contrib) (1.19.5)\n",
            "Requirement already satisfied: kiwisolver>=1.0.1 in /usr/local/lib/python3.7/dist-packages (from matplotlib->neptune-contrib) (1.3.1)\n",
            "Requirement already satisfied: cycler>=0.10 in /usr/local/lib/python3.7/dist-packages (from matplotlib->neptune-contrib) (0.10.0)\n",
            "Requirement already satisfied: pytz>=2017.2 in /usr/local/lib/python3.7/dist-packages (from pandas->neptune-contrib) (2018.9)\n",
            "Requirement already satisfied: msgpack in /usr/local/lib/python3.7/dist-packages (from bravado->neptune-client) (1.0.2)\n",
            "Requirement already satisfied: simplejson in /usr/local/lib/python3.7/dist-packages (from bravado->neptune-client) (3.17.2)\n",
            "Requirement already satisfied: typing-extensions in /usr/local/lib/python3.7/dist-packages (from bravado->neptune-client) (3.7.4.3)\n",
            "Requirement already satisfied: monotonic in /usr/local/lib/python3.7/dist-packages (from bravado->neptune-client) (1.5)\n",
            "Requirement already satisfied: bravado-core>=5.16.1 in /usr/local/lib/python3.7/dist-packages (from bravado->neptune-client) (5.17.0)\n",
            "Requirement already satisfied: pyyaml in /usr/local/lib/python3.7/dist-packages (from bravado->neptune-client) (3.13)\n",
            "Requirement already satisfied: gitdb<5,>=4.0.1 in /usr/local/lib/python3.7/dist-packages (from GitPython>=2.0.8->neptune-client) (4.0.5)\n",
            "Requirement already satisfied: certifi>=2017.4.17 in /usr/local/lib/python3.7/dist-packages (from requests>=2.20.0->neptune-client) (2020.12.5)\n",
            "Requirement already satisfied: urllib3!=1.25.0,!=1.25.1,<1.26,>=1.21.1 in /usr/local/lib/python3.7/dist-packages (from requests>=2.20.0->neptune-client) (1.24.3)\n",
            "Requirement already satisfied: idna<3,>=2.5 in /usr/local/lib/python3.7/dist-packages (from requests>=2.20.0->neptune-client) (2.10)\n",
            "Requirement already satisfied: chardet<4,>=3.0.2 in /usr/local/lib/python3.7/dist-packages (from requests>=2.20.0->neptune-client) (3.0.4)\n",
            "Requirement already satisfied: swagger-spec-validator>=2.0.1 in /usr/local/lib/python3.7/dist-packages (from bravado-core>=5.16.1->bravado->neptune-client) (2.7.3)\n",
            "Requirement already satisfied: jsonschema[format]>=2.5.1 in /usr/local/lib/python3.7/dist-packages (from bravado-core>=5.16.1->bravado->neptune-client) (2.6.0)\n",
            "Requirement already satisfied: jsonref in /usr/local/lib/python3.7/dist-packages (from bravado-core>=5.16.1->bravado->neptune-client) (0.2)\n",
            "Requirement already satisfied: smmap<4,>=3.0.1 in /usr/local/lib/python3.7/dist-packages (from gitdb<5,>=4.0.1->GitPython>=2.0.8->neptune-client) (3.0.5)\n",
            "Requirement already satisfied: strict-rfc3339; extra == \"format\" in /usr/local/lib/python3.7/dist-packages (from jsonschema[format]>=2.5.1->bravado-core>=5.16.1->bravado->neptune-client) (0.7)\n",
            "Requirement already satisfied: webcolors; extra == \"format\" in /usr/local/lib/python3.7/dist-packages (from jsonschema[format]>=2.5.1->bravado-core>=5.16.1->bravado->neptune-client) (1.11.1)\n",
            "Requirement already satisfied: rfc3987; extra == \"format\" in /usr/local/lib/python3.7/dist-packages (from jsonschema[format]>=2.5.1->bravado-core>=5.16.1->bravado->neptune-client) (1.3.8)\n"
          ],
          "name": "stdout"
        }
      ]
    },
    {
      "cell_type": "code",
      "metadata": {
        "colab": {
          "base_uri": "https://localhost:8080/"
        },
        "id": "xODauqvZr2_e",
        "outputId": "19ef4b1b-67e8-456b-d7d3-7af92fa6d73c"
      },
      "source": [
        "import neptune\r\n",
        "from neptunecontrib.monitoring.keras import NeptuneMonitor\r\n",
        "neptune.init(project_qualified_name='jathurshan0330/DataStorm2-round1', # change this to your `workspace_name/project_name`\r\n",
        "             api_token='eyJhcGlfYWRkcmVzcyI6Imh0dHBzOi8vdWkubmVwdHVuZS5haSIsImFwaV91cmwiOiJodHRwczovL3VpLm5lcHR1bmUuYWkiLCJhcGlfa2V5IjoiZmJkZjYxNGYtMTA0ZC00ZTc1LWJiMTYtNzczNjgwZWQ3OTUzIn0=', # change this to your api token\r\n",
        "            )"
      ],
      "execution_count": 3,
      "outputs": [
        {
          "output_type": "execute_result",
          "data": {
            "text/plain": [
              "Project(jathurshan0330/DataStorm2-round1)"
            ]
          },
          "metadata": {
            "tags": []
          },
          "execution_count": 3
        }
      ]
    },
    {
      "cell_type": "markdown",
      "metadata": {
        "id": "Y8QYGdzrsMLz"
      },
      "source": [
        "##other necessary libraries"
      ]
    },
    {
      "cell_type": "code",
      "metadata": {
        "id": "vgWUBI95eR_-"
      },
      "source": [
        "import os\r\n",
        "import sys\r\n",
        "import numpy as np\r\n",
        "import pandas as pd\r\n",
        "import matplotlib.pyplot as plt\r\n",
        "import scipy.io\r\n",
        "import seaborn as sns\r\n",
        "from sklearn.model_selection import train_test_split\r\n",
        "import tensorflow as tf\r\n",
        "from scipy import stats \r\n",
        "from tensorflow.keras.models import Sequential,Model\r\n",
        "from tensorflow.keras.layers import Dense, Input,LSTM,Reshape,Conv2D,Flatten,Dropout,BatchNormalization, LeakyReLU, concatenate, GRU, GlobalMaxPooling1D, GlobalMaxPooling2D, Bidirectional"
      ],
      "execution_count": 4,
      "outputs": []
    },
    {
      "cell_type": "code",
      "metadata": {
        "colab": {
          "base_uri": "https://localhost:8080/"
        },
        "id": "qVw6UsLvAk8y",
        "outputId": "2510358b-3fe0-4686-9b9e-bd4f353b89a3"
      },
      "source": [
        "!pip install scikit-plot"
      ],
      "execution_count": 5,
      "outputs": [
        {
          "output_type": "stream",
          "text": [
            "Requirement already satisfied: scikit-plot in /usr/local/lib/python3.7/dist-packages (0.3.7)\n",
            "Requirement already satisfied: matplotlib>=1.4.0 in /usr/local/lib/python3.7/dist-packages (from scikit-plot) (3.2.2)\n",
            "Requirement already satisfied: scipy>=0.9 in /usr/local/lib/python3.7/dist-packages (from scikit-plot) (1.4.1)\n",
            "Requirement already satisfied: scikit-learn>=0.18 in /usr/local/lib/python3.7/dist-packages (from scikit-plot) (0.22.2.post1)\n",
            "Requirement already satisfied: joblib>=0.10 in /usr/local/lib/python3.7/dist-packages (from scikit-plot) (1.0.1)\n",
            "Requirement already satisfied: numpy>=1.11 in /usr/local/lib/python3.7/dist-packages (from matplotlib>=1.4.0->scikit-plot) (1.19.5)\n",
            "Requirement already satisfied: pyparsing!=2.0.4,!=2.1.2,!=2.1.6,>=2.0.1 in /usr/local/lib/python3.7/dist-packages (from matplotlib>=1.4.0->scikit-plot) (2.4.7)\n",
            "Requirement already satisfied: kiwisolver>=1.0.1 in /usr/local/lib/python3.7/dist-packages (from matplotlib>=1.4.0->scikit-plot) (1.3.1)\n",
            "Requirement already satisfied: cycler>=0.10 in /usr/local/lib/python3.7/dist-packages (from matplotlib>=1.4.0->scikit-plot) (0.10.0)\n",
            "Requirement already satisfied: python-dateutil>=2.1 in /usr/local/lib/python3.7/dist-packages (from matplotlib>=1.4.0->scikit-plot) (2.8.1)\n",
            "Requirement already satisfied: six in /usr/local/lib/python3.7/dist-packages (from cycler>=0.10->matplotlib>=1.4.0->scikit-plot) (1.15.0)\n"
          ],
          "name": "stdout"
        }
      ]
    },
    {
      "cell_type": "markdown",
      "metadata": {
        "id": "SJ9fLI4PhB-F"
      },
      "source": [
        "#Read Data"
      ]
    },
    {
      "cell_type": "markdown",
      "metadata": {
        "id": "pyDUk13liskQ"
      },
      "source": [
        "##Mount Drive"
      ]
    },
    {
      "cell_type": "code",
      "metadata": {
        "colab": {
          "base_uri": "https://localhost:8080/"
        },
        "id": "8tMfAusZeXlc",
        "outputId": "8c0483ee-a502-4339-c28d-19c757554074"
      },
      "source": [
        "from google.colab import drive\r\n",
        "drive.mount('/content/drive')"
      ],
      "execution_count": 6,
      "outputs": [
        {
          "output_type": "stream",
          "text": [
            "Drive already mounted at /content/drive; to attempt to forcibly remount, call drive.mount(\"/content/drive\", force_remount=True).\n"
          ],
          "name": "stdout"
        }
      ]
    },
    {
      "cell_type": "code",
      "metadata": {
        "colab": {
          "base_uri": "https://localhost:8080/"
        },
        "id": "h73RjtZveaoz",
        "outputId": "d72ae8e5-d38a-40f0-c125-c600258ca62c"
      },
      "source": [
        "cd '/content/drive/My Drive/Datastorm2.0'"
      ],
      "execution_count": 7,
      "outputs": [
        {
          "output_type": "stream",
          "text": [
            "/content/drive/My Drive/Datastorm2.0\n"
          ],
          "name": "stdout"
        }
      ]
    },
    {
      "cell_type": "code",
      "metadata": {
        "colab": {
          "base_uri": "https://localhost:8080/"
        },
        "id": "0kMFX-PPefgF",
        "outputId": "f1bf01a3-a9fc-4916-b62d-4160ec9c0d58"
      },
      "source": [
        "!ls '/content/drive/My Drive/Datastorm2.0'"
      ],
      "execution_count": 8,
      "outputs": [
        {
          "output_type": "stream",
          "text": [
            "DataStorm2.0_Q1-v2.pdf\t\t\t     train_data_upsamp_3.csv\n",
            "Hotel-A-data-dictionary.csv\t\t     train_data_upsamp_4.csv\n",
            "Hotel-A-test.csv\t\t\t     train_data_upsamp.csv\n",
            "Hotel-A-train.csv\t\t\t     train_labels_upsamp_2.csv\n",
            "Hotel-A-validation.csv\t\t\t     train_labels_upsamp_3.csv\n",
            "submission_KNN_upsampled_0.33_0.33_0.33.csv  train_labels_upsamp_4.csv\n",
            "train_data_upsamp_2.csv\t\t\t     train_labels_upsamp.csv\n"
          ],
          "name": "stdout"
        }
      ]
    },
    {
      "cell_type": "markdown",
      "metadata": {
        "id": "3HrriTpoiyaD"
      },
      "source": [
        "##Data"
      ]
    },
    {
      "cell_type": "code",
      "metadata": {
        "colab": {
          "base_uri": "https://localhost:8080/"
        },
        "id": "7NolRjB3fyDJ",
        "outputId": "4e0c6965-ce58-4caa-cb30-60d4c427b7ca"
      },
      "source": [
        "train_data = pd.read_csv('Hotel-A-train.csv')\r\n",
        "print(train_data.head()) \r\n",
        "print(train_data.shape)\r\n",
        "val_data = pd.read_csv('Hotel-A-validation.csv')\r\n",
        "print(val_data.head()) \r\n",
        "print(val_data.shape)\r\n",
        "test_data = pd.read_csv('Hotel-A-test.csv')\r\n",
        "print(test_data.head())\r\n",
        "print(test_data.shape) \r\n",
        "\r\n"
      ],
      "execution_count": 9,
      "outputs": [
        {
          "output_type": "stream",
          "text": [
            "   Reservation-id Gender  Age  ... Use_Promotion Discount_Rate Room_Rate\n",
            "0        39428300      F   40  ...           Yes            10       218\n",
            "1        77491756      F   49  ...            No             0       185\n",
            "2        73747291      F   42  ...            No             0       119\n",
            "3        67301739      M   25  ...           Yes             5       144\n",
            "4        77222321      F   62  ...           Yes            10       242\n",
            "\n",
            "[5 rows x 24 columns]\n",
            "(27499, 24)\n",
            "   Reservation-id Gender  Age  ... Use_Promotion Discount_Rate Room_Rate\n",
            "0        45716350      M   56  ...           Yes            15       192\n",
            "1        88857401      M   60  ...            No             0       187\n",
            "2        16074440      F   58  ...           Yes            10       227\n",
            "3        10992124      F   23  ...           Yes            25       189\n",
            "4        15934351      F   47  ...           Yes            10       218\n",
            "\n",
            "[5 rows x 24 columns]\n",
            "(2749, 24)\n",
            "   Reservation-id Gender  Age  ... Use_Promotion Discount_Rate Room_Rate\n",
            "0        62931593      F   52  ...           Yes            10       153\n",
            "1        70586099      F   47  ...            No             0       210\n",
            "2         4230648      F   28  ...           Yes             5       117\n",
            "3        25192322      F   65  ...           Yes            10       107\n",
            "4        80931528      M   45  ...            No             0       119\n",
            "\n",
            "[5 rows x 23 columns]\n",
            "(4318, 23)\n"
          ],
          "name": "stdout"
        }
      ]
    },
    {
      "cell_type": "code",
      "metadata": {
        "colab": {
          "base_uri": "https://localhost:8080/"
        },
        "id": "_-FAXfn0nCLi",
        "outputId": "dd309b7f-8133-4b0e-8985-c1df1f55b0aa"
      },
      "source": [
        "print(train_data.isna().sum())\r\n",
        "print(val_data.isna().sum())\r\n",
        "print(test_data.isna().sum())"
      ],
      "execution_count": 10,
      "outputs": [
        {
          "output_type": "stream",
          "text": [
            "Reservation-id            0\n",
            "Gender                    0\n",
            "Age                       0\n",
            "Ethnicity                 0\n",
            "Educational_Level         0\n",
            "Income                    0\n",
            "Country_region            0\n",
            "Hotel_Type                0\n",
            "Expected_checkin          0\n",
            "Expected_checkout         0\n",
            "Booking_date              0\n",
            "Adults                    0\n",
            "Children                  0\n",
            "Babies                    0\n",
            "Meal_Type                 0\n",
            "Visted_Previously         0\n",
            "Previous_Cancellations    0\n",
            "Deposit_type              0\n",
            "Booking_channel           0\n",
            "Required_Car_Parking      0\n",
            "Reservation_Status        0\n",
            "Use_Promotion             0\n",
            "Discount_Rate             0\n",
            "Room_Rate                 0\n",
            "dtype: int64\n",
            "Reservation-id            0\n",
            "Gender                    0\n",
            "Age                       0\n",
            "Ethnicity                 0\n",
            "Educational_Level         0\n",
            "Income                    0\n",
            "Country_region            0\n",
            "Hotel_Type                0\n",
            "Expected_checkin          0\n",
            "Expected_checkout         0\n",
            "Booking_date              0\n",
            "Adults                    0\n",
            "Children                  0\n",
            "Babies                    0\n",
            "Meal_Type                 0\n",
            "Visted_Previously         0\n",
            "Previous_Cancellations    0\n",
            "Deposit_type              0\n",
            "Booking_channel           0\n",
            "Required_Car_Parking      0\n",
            "Reservation_Status        0\n",
            "Use_Promotion             0\n",
            "Discount_Rate             0\n",
            "Room_Rate                 0\n",
            "dtype: int64\n",
            "Reservation-id            0\n",
            "Gender                    0\n",
            "Age                       0\n",
            "Ethnicity                 0\n",
            "Educational_Level         0\n",
            "Income                    0\n",
            "Country_region            0\n",
            "Hotel_Type                0\n",
            "Expected_checkin          0\n",
            "Expected_checkout         0\n",
            "Booking_date              0\n",
            "Adults                    0\n",
            "Children                  0\n",
            "Babies                    0\n",
            "Meal_Type                 0\n",
            "Visted_Previously         0\n",
            "Previous_Cancellations    0\n",
            "Deposit_type              0\n",
            "Booking_channel           0\n",
            "Required_Car_Parking      0\n",
            "Use_Promotion             0\n",
            "Discount_Rate             0\n",
            "Room_Rate                 0\n",
            "dtype: int64\n"
          ],
          "name": "stdout"
        }
      ]
    },
    {
      "cell_type": "code",
      "metadata": {
        "colab": {
          "base_uri": "https://localhost:8080/"
        },
        "id": "6nBOmQmHhSew",
        "outputId": "6ead17f9-b401-45d8-cd24-fc63835d64f7"
      },
      "source": [
        "train_labels = train_data.pop(\"Reservation_Status\")\r\n",
        "print(train_labels.head())\r\n",
        "\r\n",
        "for i in range (len(train_labels)):\r\n",
        "  if train_labels[i] == 'Check-In':\r\n",
        "    train_labels[i] = 1\r\n",
        "  if train_labels[i] == 'Canceled':\r\n",
        "    train_labels[i] = 2\r\n",
        "  if train_labels[i] == 'No-Show':\r\n",
        "    train_labels[i] = 3\r\n",
        "\r\n",
        "print(train_labels.head()) \r\n",
        "\r\n",
        "val_labels = val_data.pop(\"Reservation_Status\")\r\n",
        "print(val_labels.head())\r\n",
        "\r\n",
        "for i in range (len(val_labels)):\r\n",
        "  if val_labels[i] == 'Check-In':\r\n",
        "    val_labels[i] = 1\r\n",
        "   \r\n",
        "  if val_labels[i] == 'Canceled':\r\n",
        "    val_labels[i] = 2\r\n",
        "  if val_labels[i] == 'No-Show':\r\n",
        "    val_labels[i] = 3\r\n",
        "\r\n",
        "print(val_labels.head()) "
      ],
      "execution_count": 11,
      "outputs": [
        {
          "output_type": "stream",
          "text": [
            "0    Check-In\n",
            "1    Check-In\n",
            "2    Check-In\n",
            "3    Check-In\n",
            "4    Check-In\n",
            "Name: Reservation_Status, dtype: object\n",
            "0    1\n",
            "1    1\n",
            "2    1\n",
            "3    1\n",
            "4    1\n",
            "Name: Reservation_Status, dtype: object\n",
            "0     No-Show\n",
            "1    Canceled\n",
            "2    Canceled\n",
            "3    Check-In\n",
            "4    Check-In\n",
            "Name: Reservation_Status, dtype: object\n",
            "0    3\n",
            "1    2\n",
            "2    2\n",
            "3    1\n",
            "4    1\n",
            "Name: Reservation_Status, dtype: object\n"
          ],
          "name": "stdout"
        }
      ]
    },
    {
      "cell_type": "code",
      "metadata": {
        "colab": {
          "base_uri": "https://localhost:8080/"
        },
        "id": "2WU1t035i8WK",
        "outputId": "400623d9-95f1-45c9-eafe-8c1db1341f7c"
      },
      "source": [
        "print(\"No of Check-In in training data : \" +str((train_labels == 1).sum()))\r\n",
        "print(\"No of Canceled in training data : \" +str((train_labels == 2).sum()))\r\n",
        "print(\"No of No-Show in training data : \" +str((train_labels == 3).sum()))\r\n",
        "tot=(train_labels == 1).sum()+(train_labels == 2).sum()+(train_labels == 3).sum()\r\n",
        "print(\"Ratio of Check-In : Canceled : No-Show  in training data = \" +str((train_labels == 1).sum()/tot)+' : '+str((train_labels == 2).sum()/tot)+' : '+str((train_labels == 3).sum()/tot))\r\n",
        "\r\n",
        "\r\n",
        "print(\"No of Check-In in validation data : \" +str((val_labels == 1).sum()))\r\n",
        "print(\"No of Canceled in validation data : \" +str((val_labels == 2).sum()))\r\n",
        "print(\"No of No-Show in validation data : \" +str((val_labels == 3).sum()))\r\n",
        "tot=(val_labels == 1).sum()+(val_labels == 2).sum()+(val_labels == 3).sum()\r\n",
        "print(\"Ratio of Check-In : Canceled : No-Show  in Validation data = \" +str((val_labels == 1).sum()/tot)+' : '+str((val_labels == 2).sum()/tot)+' : '+str((val_labels == 3).sum()/tot))\r\n"
      ],
      "execution_count": 12,
      "outputs": [
        {
          "output_type": "stream",
          "text": [
            "No of Check-In in training data : 21240\n",
            "No of Canceled in training data : 4134\n",
            "No of No-Show in training data : 2125\n",
            "Ratio of Check-In : Canceled : No-Show  in training data = 0.772391723335394 : 0.15033273937234082 : 0.07727553729226518\n",
            "No of Check-In in validation data : 1610\n",
            "No of Canceled in validation data : 741\n",
            "No of No-Show in validation data : 398\n",
            "Ratio of Check-In : Canceled : No-Show  in Validation data = 0.5856675154601674 : 0.26955256456893417 : 0.1447799199708985\n"
          ],
          "name": "stdout"
        }
      ]
    },
    {
      "cell_type": "markdown",
      "metadata": {
        "id": "7OdcsXyr1LTH"
      },
      "source": [
        "#Data Preprocessing"
      ]
    },
    {
      "cell_type": "markdown",
      "metadata": {
        "id": "CYo0sRZEu673"
      },
      "source": [
        "##Extracting features from Check in and reservation date"
      ]
    },
    {
      "cell_type": "code",
      "metadata": {
        "id": "_FFfbgsg_gMP"
      },
      "source": [
        "from datetime import datetime\r\n",
        "def days(start_date, end_date):\r\n",
        "  start_date = datetime.strptime(start_date, \"%m/%d/%Y\")\r\n",
        "  end_date = datetime.strptime(end_date, \"%m/%d/%Y\")\r\n",
        "  #print((end_date - start_date).days)\r\n",
        "  return (end_date - start_date).days\r\n",
        "\r\n",
        "def weekday(date):\r\n",
        "  year = datetime.strptime(str(date), '%m/%d/%Y').year\r\n",
        "  month = datetime.strptime(str(date), '%m/%d/%Y').month\r\n",
        "  day = datetime.strptime(str(date), '%m/%d/%Y').day\r\n",
        "  #print(year,month,day)\r\n",
        "  x = datetime(year,month,day)\r\n",
        "  week_no = x.strftime(\"%w\")   #0 = Sunday, 1 = Monday, 2 = Tuesday, 3 = Wednesday, 4 = Thurday, 5 = Friday, 6 = Saturday\r\n",
        "  return int(week_no)\r\n",
        "  \r\n",
        "def weekend(start_date, end_date):\r\n",
        "  weeklist = [0,1,2,3,4,5,6,0,1,2,3,4,5,6]\r\n",
        "  start = weekday(start_date)\r\n",
        "  end = weekday(end_date)\r\n",
        "  duration = days(start_date, end_date)\r\n",
        "  if duration >= 7:\r\n",
        "    return 1\r\n",
        "  else:\r\n",
        "    stayed = weeklist[start : start + duration]\r\n",
        "    #print(\"start day :\", start, \"; end day :\", end)\r\n",
        "    #print(start,duration,stayed)\r\n",
        "    if (0 or 1) in stayed:\r\n",
        "      return 1\r\n",
        "    else:\r\n",
        "      return 0\r\n"
      ],
      "execution_count": 13,
      "outputs": []
    },
    {
      "cell_type": "code",
      "metadata": {
        "colab": {
          "base_uri": "https://localhost:8080/"
        },
        "id": "Vt5YwGoFvKj1",
        "outputId": "c1e374ea-3151-43dd-9f3a-1818a27480bd"
      },
      "source": [
        "#for training data\r\n",
        "week_end_train = []\r\n",
        "stay_duration = []\r\n",
        "reserve_duration = []\r\n",
        "a = 0\r\n",
        "temp_a = []\r\n",
        "b = 0\r\n",
        "temp_b = []\r\n",
        "for i in range(len(train_labels)):\r\n",
        "  checkin = train_data[\"Expected_checkin\"][i]\r\n",
        "  checkout = train_data[\"Expected_checkout\"][i]\r\n",
        "  reserve = train_data[\"Booking_date\"][i]\r\n",
        "  if days(reserve,checkin ) == 0 and train_labels[i] != 1:\r\n",
        "    a+=1\r\n",
        "    temp_a.append(i)\r\n",
        "  if days(reserve,checkout ) < 0 and train_labels[i] != 1:\r\n",
        "    b+=1\r\n",
        "    temp_b.append(i)\r\n",
        "  stay_duration.append(days(checkin,checkout))\r\n",
        "  reserve_duration.append(days(reserve,checkout ))\r\n",
        "  week_end_train.append(weekend(checkin, checkout))\r\n",
        "\r\n",
        "stay_duration = pd.DataFrame(stay_duration, columns=['stay_duration'])\r\n",
        "reserve_duration = pd.DataFrame(reserve_duration, columns=['reserve_duration'])\r\n",
        "week_end_train = pd.DataFrame(week_end_train, columns=['week_end'])\r\n",
        "print(temp_a)\r\n",
        "print(temp_b)\r\n",
        "#print(train_data[\"Expected_checkin\"][6])\r\n",
        "#print(train_data[\"Booking_date\"][6])\r\n",
        "print(a)\r\n",
        "print(b)\r\n",
        "print(stay_duration.head())\r\n",
        "print(stay_duration.shape)\r\n",
        "print(week_end_train.head())\r\n",
        "print(week_end_train.shape)\r\n",
        "print(reserve_duration.head())\r\n",
        "print(reserve_duration.shape)"
      ],
      "execution_count": 14,
      "outputs": [
        {
          "output_type": "stream",
          "text": [
            "[13037, 13670, 13914, 14353, 14413, 14917, 17124, 17370, 17409, 18272, 18855, 20622, 21445, 21558, 22491, 23216, 23739, 24359, 24505, 24988, 25506, 26021, 27049, 27285]\n",
            "[]\n",
            "24\n",
            "0\n",
            "   stay_duration\n",
            "0              1\n",
            "1              1\n",
            "2              4\n",
            "3              1\n",
            "4              1\n",
            "(27499, 1)\n",
            "   week_end\n",
            "0         0\n",
            "1         0\n",
            "2         0\n",
            "3         0\n",
            "4         0\n",
            "(27499, 1)\n",
            "   reserve_duration\n",
            "0                42\n",
            "1                37\n",
            "2                 7\n",
            "3                13\n",
            "4                14\n",
            "(27499, 1)\n"
          ],
          "name": "stdout"
        }
      ]
    },
    {
      "cell_type": "code",
      "metadata": {
        "colab": {
          "base_uri": "https://localhost:8080/"
        },
        "id": "HcCEEDIq2qWs",
        "outputId": "8535b302-f0bf-480a-d654-67d8b5db14c5"
      },
      "source": [
        "#for validation data\r\n",
        "week_end_val = []\r\n",
        "stay_duration_val = []\r\n",
        "reserve_duration_val = []\r\n",
        "a = 0\r\n",
        "temp_a = []\r\n",
        "b = 0\r\n",
        "temp_b = []\r\n",
        "for i in range(len(val_labels)):\r\n",
        "  checkin = val_data[\"Expected_checkin\"][i]\r\n",
        "  checkout = val_data[\"Expected_checkout\"][i]\r\n",
        "  reserve = val_data[\"Booking_date\"][i]\r\n",
        "  if days(reserve,checkin ) == 0 and val_labels[i] != 1:\r\n",
        "    a+=1\r\n",
        "    temp_a.append(i)\r\n",
        "  if days(reserve,checkin ) < 0 and val_labels[i] != 1:\r\n",
        "    b+=1\r\n",
        "    temp_b.append(i)\r\n",
        "  stay_duration_val.append(days(checkin,checkout))\r\n",
        "  reserve_duration_val.append(days(reserve,checkout ))\r\n",
        "  week_end_val.append(weekend(checkin, checkout))\r\n",
        "\r\n",
        "stay_duration_val = pd.DataFrame(stay_duration_val, columns=['stay_duration'])\r\n",
        "reserve_duration_val = pd.DataFrame(reserve_duration_val, columns=['reserve_duration'])\r\n",
        "week_end_val = pd.DataFrame(week_end_val, columns=['week_end'])\r\n",
        "print(temp_a)\r\n",
        "print(temp_b)\r\n",
        "#print(train_data[\"Expected_checkin\"][6])\r\n",
        "#print(train_data[\"Booking_date\"][6])\r\n",
        "print(a)\r\n",
        "print(b)\r\n",
        "print(stay_duration_val.head())\r\n",
        "print(stay_duration_val.shape)\r\n",
        "print(week_end_val.head())\r\n",
        "print(week_end_val.shape)\r\n",
        "print(reserve_duration_val.head())\r\n",
        "print(reserve_duration_val.shape)"
      ],
      "execution_count": 15,
      "outputs": [
        {
          "output_type": "stream",
          "text": [
            "[286, 1862, 1924, 1928]\n",
            "[200, 256, 780, 1066, 1338, 1384, 1789, 2324]\n",
            "4\n",
            "8\n",
            "   stay_duration\n",
            "0              2\n",
            "1              4\n",
            "2              1\n",
            "3              2\n",
            "4              1\n",
            "(2749, 1)\n",
            "   week_end\n",
            "0         0\n",
            "1         0\n",
            "2         0\n",
            "3         0\n",
            "4         0\n",
            "(2749, 1)\n",
            "   reserve_duration\n",
            "0               197\n",
            "1               179\n",
            "2               194\n",
            "3               105\n",
            "4                93\n",
            "(2749, 1)\n"
          ],
          "name": "stdout"
        }
      ]
    },
    {
      "cell_type": "code",
      "metadata": {
        "colab": {
          "base_uri": "https://localhost:8080/"
        },
        "id": "1qWjnxVA4G-P",
        "outputId": "860e262b-b508-4941-db8a-1570cae85cb4"
      },
      "source": [
        "#for test data\r\n",
        "week_end_test = []\r\n",
        "stay_duration_test = []\r\n",
        "reserve_duration_test = []\r\n",
        "a = 0\r\n",
        "temp_a = []\r\n",
        "b = 0\r\n",
        "temp_b = []\r\n",
        "for i in range(len(test_data[\"Expected_checkin\"])):\r\n",
        "  checkin = test_data[\"Expected_checkin\"][i]\r\n",
        "  checkout = test_data[\"Expected_checkout\"][i]\r\n",
        "  reserve = test_data[\"Booking_date\"][i]\r\n",
        "  if days(reserve,checkin ) == 0:\r\n",
        "    a+=1\r\n",
        "    temp_a.append(i)\r\n",
        "  if days(reserve,checkin ) < 0 :\r\n",
        "    b+=1\r\n",
        "    temp_b.append(i)\r\n",
        "  stay_duration_test.append(days(checkin,checkout))\r\n",
        "  reserve_duration_test.append(days(reserve,checkout ))\r\n",
        "  week_end_test.append(weekend(checkin, checkout))\r\n",
        "\r\n",
        "stay_duration_test = pd.DataFrame(stay_duration_test, columns=['stay_duration'])\r\n",
        "reserve_duration_test = pd.DataFrame(reserve_duration_test, columns=['reserve_duration'])\r\n",
        "week_end_test = pd.DataFrame(week_end_test, columns=['week_end'])\r\n",
        "print(temp_a)\r\n",
        "print(temp_b)\r\n",
        "#print(train_data[\"Expected_checkin\"][6])\r\n",
        "#print(train_data[\"Booking_date\"][6])\r\n",
        "print(a)\r\n",
        "print(b)\r\n",
        "print(stay_duration_test.head())\r\n",
        "print(stay_duration_test.shape)\r\n",
        "print(week_end_test.head())\r\n",
        "print(week_end_test.shape)\r\n",
        "print(reserve_duration_test.head())\r\n",
        "print(reserve_duration_test.shape)"
      ],
      "execution_count": 16,
      "outputs": [
        {
          "output_type": "stream",
          "text": [
            "[134, 449, 470, 604, 690, 767, 982, 1157, 1557, 1824, 2490, 2601, 2709, 2813, 2973, 3041, 3300, 3923, 3978, 4209, 4248, 4317]\n",
            "[72, 439, 465, 487, 632, 803, 915, 918, 1070, 1406, 1469, 1521, 1580, 1797, 1891, 1900, 1914, 2082, 2176, 2313, 2789, 3063, 3375, 3444, 3476, 3478, 3535]\n",
            "22\n",
            "27\n",
            "   stay_duration\n",
            "0              1\n",
            "1              1\n",
            "2              3\n",
            "3              2\n",
            "4              2\n",
            "(4318, 1)\n",
            "   week_end\n",
            "0         0\n",
            "1         0\n",
            "2         0\n",
            "3         0\n",
            "4         0\n",
            "(4318, 1)\n",
            "   reserve_duration\n",
            "0                22\n",
            "1               105\n",
            "2                23\n",
            "3               184\n",
            "4                20\n",
            "(4318, 1)\n"
          ],
          "name": "stdout"
        }
      ]
    },
    {
      "cell_type": "code",
      "metadata": {
        "colab": {
          "base_uri": "https://localhost:8080/"
        },
        "id": "AGTBnWN5PU75",
        "outputId": "f480f232-a14e-430a-c311-49e6e2afb27c"
      },
      "source": [
        "#concat features\r\n",
        "\r\n",
        "train_data=pd.concat([train_data,week_end_train],axis=1)\r\n",
        "train_data=pd.concat([train_data,stay_duration],axis=1)\r\n",
        "train_data=pd.concat([train_data,reserve_duration],axis=1)\r\n",
        "\r\n",
        "val_data=pd.concat([val_data,week_end_val],axis=1)\r\n",
        "val_data=pd.concat([val_data,stay_duration_val],axis=1)\r\n",
        "val_data=pd.concat([val_data,reserve_duration_val],axis=1)\r\n",
        "\r\n",
        "test_data=pd.concat([test_data,week_end_test],axis=1)\r\n",
        "test_data=pd.concat([test_data,stay_duration_test],axis=1)\r\n",
        "test_data=pd.concat([test_data,reserve_duration_test],axis=1)\r\n",
        "\r\n",
        "print(train_data.shape)\r\n",
        "print(val_data.shape)\r\n",
        "print(test_data.shape)"
      ],
      "execution_count": 17,
      "outputs": [
        {
          "output_type": "stream",
          "text": [
            "(27499, 26)\n",
            "(2749, 26)\n",
            "(4318, 26)\n"
          ],
          "name": "stdout"
        }
      ]
    },
    {
      "cell_type": "markdown",
      "metadata": {
        "id": "zHyuG1ul-gNf"
      },
      "source": [
        "##Imbalanced Data Handling"
      ]
    },
    {
      "cell_type": "markdown",
      "metadata": {
        "id": "sYXslpnd_gNj"
      },
      "source": [
        "###READ previously saved data"
      ]
    },
    {
      "cell_type": "code",
      "metadata": {
        "colab": {
          "base_uri": "https://localhost:8080/"
        },
        "id": "bCvSDfRz_kcO",
        "outputId": "151a511e-c83f-45ce-8e49-109d349008ea"
      },
      "source": [
        "train_data = pd.read_csv('train_data_upsamp_3.csv')\r\n",
        "print(train_data.head()) \r\n",
        "print(train_data.shape)\r\n",
        "train_labels = pd.read_csv('train_labels_upsamp_3.csv')\r\n",
        "print(train_labels.head()) \r\n",
        "print(train_labels.shape)\r\n",
        "\r\n"
      ],
      "execution_count": 18,
      "outputs": [
        {
          "output_type": "stream",
          "text": [
            "   Reservation-id Gender  Age  ... week_end stay_duration reserve_duration\n",
            "0        39428300      F   40  ...        0             1               42\n",
            "1        77491756      F   49  ...        0             1               37\n",
            "2        73747291      F   42  ...        0             4                7\n",
            "3        67301739      M   25  ...        0             1               13\n",
            "4        77222321      F   62  ...        0             1               14\n",
            "\n",
            "[5 rows x 26 columns]\n",
            "(61035, 26)\n",
            "   0\n",
            "0  1\n",
            "1  1\n",
            "2  1\n",
            "3  1\n",
            "4  1\n",
            "(61035, 1)\n"
          ],
          "name": "stdout"
        }
      ]
    },
    {
      "cell_type": "markdown",
      "metadata": {
        "id": "UEQwgPDXANnq"
      },
      "source": [
        "###Upsampling"
      ]
    },
    {
      "cell_type": "code",
      "metadata": {
        "colab": {
          "base_uri": "https://localhost:8080/"
        },
        "id": "ktV9K9ZE-kja",
        "outputId": "fdc0bab8-8153-4d9f-f348-c4d4c544bc7f"
      },
      "source": [
        "#Up Sampling   data.iloc [[3, 4], [1, 2]]\r\n",
        "temp = train_labels.copy()\r\n",
        "for i in range(len(temp)):\r\n",
        "  if i%(len(temp)//10)==0:\r\n",
        "    print('.',end='')\r\n",
        "  if temp[i]==2:\r\n",
        "    x = train_data.iloc[i,:]\r\n",
        "    x1 = pd.Series(data={'Reservation_Status':2})\r\n",
        "  \r\n",
        "    train_data = train_data.append(x, ignore_index = True) \r\n",
        "    train_data = train_data.append(x, ignore_index = True) \r\n",
        "    #train_data = train_data.append(x, ignore_index = True) \r\n",
        "    #train_data = train_data.append(x, ignore_index = True) \r\n",
        "     \r\n",
        "\r\n",
        "    train_labels = train_labels.append(x1, ignore_index = True)\r\n",
        "    train_labels = train_labels.append(x1, ignore_index = True)\r\n",
        "    #train_labels = train_labels.append(x1, ignore_index = True)\r\n",
        "    #train_labels = train_labels.append(x1, ignore_index = True)\r\n",
        "    \r\n",
        "\r\n",
        "  if temp[i]==3:\r\n",
        "    x=train_data.iloc[i,:]\r\n",
        "    x1 = pd.Series(data={'Reservation_Status':3})\r\n",
        "    train_data = train_data.append(x, ignore_index = True) \r\n",
        "    train_data = train_data.append(x, ignore_index = True) \r\n",
        "    #train_data = train_data.append(x, ignore_index = True) \r\n",
        "    #train_data = train_data.append(x, ignore_index = True) \r\n",
        "    #train_data = train_data.append(x, ignore_index = True) \r\n",
        "    #train_data = train_data.append(x, ignore_index = True) \r\n",
        "    #train_data = train_data.append(x, ignore_index = True) \r\n",
        "    #train_data = train_data.append(x, ignore_index = True)\r\n",
        "    \r\n",
        "    train_labels = train_labels.append(x1, ignore_index = True)\r\n",
        "    train_labels = train_labels.append(x1, ignore_index = True)\r\n",
        "    #train_labels = train_labels.append(x1, ignore_index = True)\r\n",
        "    #train_labels = train_labels.append(x1, ignore_index = True)\r\n",
        "    #train_labels = train_labels.append(x1, ignore_index = True)\r\n",
        "    #train_labels = train_labels.append(x1, ignore_index = True)\r\n",
        "    #train_labels = train_labels.append(x1, ignore_index = True)\r\n",
        "    #train_labels = train_labels.append(x1, ignore_index = True)\r\n",
        "    #break\r\n",
        "\r\n",
        "print(train_data.shape)\r\n",
        "print(x)\r\n",
        "print(train_data.iloc[-1,:])\r\n",
        "print(train_labels.shape)\r\n",
        "print(train_labels.iloc[-1])\r\n",
        "print(x1)"
      ],
      "execution_count": 18,
      "outputs": [
        {
          "output_type": "stream",
          "text": [
            "...........(40017, 26)\n",
            "Reservation-id              55243988\n",
            "Gender                             F\n",
            "Age                               48\n",
            "Ethnicity                  caucasian\n",
            "Educational_Level            College\n",
            "Income                     25K --50K\n",
            "Country_region                 North\n",
            "Hotel_Type                    Resort\n",
            "Expected_checkin           8/31/2016\n",
            "Expected_checkout           9/1/2016\n",
            "Booking_date               6/27/2016\n",
            "Adults                             3\n",
            "Children                           1\n",
            "Babies                             0\n",
            "Meal_Type                         HB\n",
            "Visted_Previously                 No\n",
            "Previous_Cancellations            No\n",
            "Deposit_type              No Deposit\n",
            "Booking_channel               Online\n",
            "Required_Car_Parking              No\n",
            "Use_Promotion                     No\n",
            "Discount_Rate                      0\n",
            "Room_Rate                        210\n",
            "week_end                           0\n",
            "stay_duration                      1\n",
            "reserve_duration                  66\n",
            "Name: 27498, dtype: object\n",
            "Reservation-id              55243988\n",
            "Gender                             F\n",
            "Age                               48\n",
            "Ethnicity                  caucasian\n",
            "Educational_Level            College\n",
            "Income                     25K --50K\n",
            "Country_region                 North\n",
            "Hotel_Type                    Resort\n",
            "Expected_checkin           8/31/2016\n",
            "Expected_checkout           9/1/2016\n",
            "Booking_date               6/27/2016\n",
            "Adults                             3\n",
            "Children                           1\n",
            "Babies                             0\n",
            "Meal_Type                         HB\n",
            "Visted_Previously                 No\n",
            "Previous_Cancellations            No\n",
            "Deposit_type              No Deposit\n",
            "Booking_channel               Online\n",
            "Required_Car_Parking              No\n",
            "Use_Promotion                     No\n",
            "Discount_Rate                      0\n",
            "Room_Rate                        210\n",
            "week_end                           0\n",
            "stay_duration                      1\n",
            "reserve_duration                  66\n",
            "Name: 40016, dtype: object\n",
            "(40017,)\n",
            "3\n",
            "Reservation_Status    3\n",
            "dtype: int64\n"
          ],
          "name": "stdout"
        }
      ]
    },
    {
      "cell_type": "code",
      "metadata": {
        "id": "8i1YIEa_T3O7"
      },
      "source": [
        "#Save upsampled data\r\n",
        "train_data.to_csv('train_data_upsamp_4.csv',index=False)\r\n",
        "train_labels.to_csv('train_labels_upsamp_4.csv',index=False)"
      ],
      "execution_count": 21,
      "outputs": []
    },
    {
      "cell_type": "markdown",
      "metadata": {
        "id": "HyH6Ku3CAU3a"
      },
      "source": [
        "###Checking Ratios\r\n"
      ]
    },
    {
      "cell_type": "code",
      "metadata": {
        "colab": {
          "base_uri": "https://localhost:8080/"
        },
        "id": "gCLUA35uVkt1",
        "outputId": "fee86aed-1a5d-4eac-8b2f-b6d418eb8779"
      },
      "source": [
        "print(\"No of Check-In in training data : \" +str((train_labels == 1).sum()))\r\n",
        "print(\"No of Canceled in training data : \" +str((train_labels == 2).sum()))\r\n",
        "print(\"No of No-Show in training data : \" +str((train_labels == 3).sum()))\r\n",
        "tot=(train_labels == 1).sum()+(train_labels == 2).sum()+(train_labels == 3).sum()\r\n",
        "print(\"Ratio of Check-In : Canceled : No-Show  in training data = \" +str((train_labels == 1).sum()/tot)+' : '+str((train_labels == 2).sum()/tot)+' : '+str((train_labels == 3).sum()/tot))\r\n",
        "\r\n",
        "\r\n",
        "print(\"No of Check-In in validation data : \" +str((val_labels == 1).sum()))\r\n",
        "print(\"No of Canceled in validation data : \" +str((val_labels == 2).sum()))\r\n",
        "print(\"No of No-Show in validation data : \" +str((val_labels == 3).sum()))\r\n",
        "tot=(val_labels == 1).sum()+(val_labels == 2).sum()+(val_labels == 3).sum()\r\n",
        "print(\"Ratio of Check-In : Canceled : No-Show  in Validation data = \" +str((val_labels == 1).sum()/tot)+' : '+str((val_labels == 2).sum()/tot)+' : '+str((val_labels == 3).sum()/tot))\r\n"
      ],
      "execution_count": 19,
      "outputs": [
        {
          "output_type": "stream",
          "text": [
            "No of Check-In in training data : 0    21240\n",
            "dtype: int64\n",
            "No of Canceled in training data : 0    20670\n",
            "dtype: int64\n",
            "No of No-Show in training data : 0    19125\n",
            "dtype: int64\n",
            "Ratio of Check-In : Canceled : No-Show  in training data = 0    0.347997\n",
            "dtype: float64 : 0    0.338658\n",
            "dtype: float64 : 0    0.313345\n",
            "dtype: float64\n",
            "No of Check-In in validation data : 1610\n",
            "No of Canceled in validation data : 741\n",
            "No of No-Show in validation data : 398\n",
            "Ratio of Check-In : Canceled : No-Show  in Validation data = 0.5856675154601674 : 0.26955256456893417 : 0.1447799199708985\n"
          ],
          "name": "stdout"
        }
      ]
    },
    {
      "cell_type": "markdown",
      "metadata": {
        "id": "64k5nSUH1OMG"
      },
      "source": [
        "## Encoding Categorical data"
      ]
    },
    {
      "cell_type": "code",
      "metadata": {
        "colab": {
          "base_uri": "https://localhost:8080/"
        },
        "id": "uT50RVYZrf2p",
        "outputId": "6062f8ca-018c-41a1-9b0d-0767c2da97af"
      },
      "source": [
        "print(train_data.columns)\r\n",
        "print(len(train_data.columns))"
      ],
      "execution_count": 20,
      "outputs": [
        {
          "output_type": "stream",
          "text": [
            "Index(['Reservation-id', 'Gender', 'Age', 'Ethnicity', 'Educational_Level',\n",
            "       'Income', 'Country_region', 'Hotel_Type', 'Expected_checkin',\n",
            "       'Expected_checkout', 'Booking_date', 'Adults', 'Children', 'Babies',\n",
            "       'Meal_Type', 'Visted_Previously', 'Previous_Cancellations',\n",
            "       'Deposit_type', 'Booking_channel', 'Required_Car_Parking',\n",
            "       'Use_Promotion', 'Discount_Rate', 'Room_Rate', 'week_end',\n",
            "       'stay_duration', 'reserve_duration'],\n",
            "      dtype='object')\n",
            "26\n"
          ],
          "name": "stdout"
        }
      ]
    },
    {
      "cell_type": "code",
      "metadata": {
        "colab": {
          "base_uri": "https://localhost:8080/"
        },
        "id": "2xBgwQPDryDt",
        "outputId": "44c65946-989f-4278-9910-08e0f721b2d8"
      },
      "source": [
        "#train data\r\n",
        "gender_dummies=pd.get_dummies(train_data['Gender'],drop_first=True, prefix='Gen')\r\n",
        "gender=train_data.pop('Gender')\r\n",
        "train_data=pd.concat([train_data,gender_dummies],axis=1)\r\n",
        "\r\n",
        "eth_dummies=pd.get_dummies(train_data['Ethnicity'],drop_first=False, prefix='Eth')\r\n",
        "eth=train_data.pop('Ethnicity')\r\n",
        "train_data=pd.concat([train_data,eth_dummies],axis=1)\r\n",
        "\r\n",
        "edu_dummies=pd.get_dummies(train_data['Educational_Level'],drop_first=False, prefix='Edu')\r\n",
        "edu=train_data.pop('Educational_Level')\r\n",
        "train_data=pd.concat([train_data,edu_dummies],axis=1)\r\n",
        "\r\n",
        "in_dummies=pd.get_dummies(train_data['Income'],drop_first=False, prefix='In')\r\n",
        "in_dummies=in_dummies.rename(columns={'In_25K --50K': 'In_25K_50K', 'In_50K -- 100K': 'In_50K_100K', 'In_<25K':'In_below25K', 'In_>100K':'In_above100K' })\r\n",
        "income=train_data.pop('Income')\r\n",
        "train_data=pd.concat([train_data,in_dummies],axis=1)\r\n",
        "\r\n",
        "region_dummies=pd.get_dummies(train_data['Country_region'],drop_first=False, prefix='Coun')\r\n",
        "region=train_data.pop('Country_region')\r\n",
        "train_data=pd.concat([train_data,region_dummies],axis=1)\r\n",
        "\r\n",
        "hotel_dummies=pd.get_dummies(train_data['Hotel_Type'],drop_first=False, prefix='Hotel')\r\n",
        "hotel=train_data.pop('Hotel_Type')\r\n",
        "train_data=pd.concat([train_data,hotel_dummies],axis=1)\r\n",
        "\r\n",
        "meal_dummies=pd.get_dummies(train_data['Meal_Type'],drop_first=False, prefix='Meal')\r\n",
        "meal=train_data.pop('Meal_Type')\r\n",
        "train_data=pd.concat([train_data,meal_dummies],axis=1)\r\n",
        "\r\n",
        "visit_prev_dummies=pd.get_dummies(train_data['Visted_Previously'],drop_first=True, prefix='Visit')\r\n",
        "visit_prev=train_data.pop('Visted_Previously')\r\n",
        "train_data=pd.concat([train_data,visit_prev_dummies],axis=1)\r\n",
        "\r\n",
        "prev_can_dummies=pd.get_dummies(train_data['Previous_Cancellations'],drop_first=True, prefix='Prev_can')\r\n",
        "prev_can=train_data.pop('Previous_Cancellations')\r\n",
        "train_data=pd.concat([train_data,prev_can_dummies],axis=1)\r\n",
        "\r\n",
        "dep_dummies=pd.get_dummies(train_data['Deposit_type'],drop_first=False, prefix='Dep')\r\n",
        "dep=train_data.pop('Deposit_type')\r\n",
        "train_data=pd.concat([train_data,dep_dummies],axis=1)\r\n",
        "\r\n",
        "book_dummies=pd.get_dummies(train_data['Booking_channel'],drop_first=False, prefix='Book')\r\n",
        "book=train_data.pop('Booking_channel')\r\n",
        "train_data=pd.concat([train_data,book_dummies],axis=1)\r\n",
        "\r\n",
        "car_dummies=pd.get_dummies(train_data['Required_Car_Parking'],drop_first=True, prefix='Car')\r\n",
        "car=train_data.pop('Required_Car_Parking')\r\n",
        "train_data=pd.concat([train_data,car_dummies],axis=1)\r\n",
        "\r\n",
        "promo_dummies=pd.get_dummies(train_data['Use_Promotion'],drop_first=True, prefix='Promo')\r\n",
        "promo=train_data.pop('Use_Promotion')\r\n",
        "train_data=pd.concat([train_data,promo_dummies],axis=1)\r\n",
        "\r\n",
        "\r\n",
        "\r\n",
        "print(train_data.columns)\r\n",
        "print(train_data.head())"
      ],
      "execution_count": 21,
      "outputs": [
        {
          "output_type": "stream",
          "text": [
            "Index(['Reservation-id', 'Age', 'Expected_checkin', 'Expected_checkout',\n",
            "       'Booking_date', 'Adults', 'Children', 'Babies', 'Discount_Rate',\n",
            "       'Room_Rate', 'week_end', 'stay_duration', 'reserve_duration', 'Gen_M',\n",
            "       'Eth_African American', 'Eth_Asian American', 'Eth_Latino',\n",
            "       'Eth_caucasian', 'Edu_College', 'Edu_Grad', 'Edu_High-School',\n",
            "       'Edu_Mid-School', 'In_25K_50K', 'In_50K_100K', 'In_below25K',\n",
            "       'In_above100K', 'Coun_East', 'Coun_North', 'Coun_South', 'Coun_West',\n",
            "       'Hotel_Airport Hotels', 'Hotel_City Hotel', 'Hotel_Resort', 'Meal_BB',\n",
            "       'Meal_FB', 'Meal_HB', 'Visit_Yes', 'Prev_can_Yes', 'Dep_No Deposit',\n",
            "       'Dep_Non-Refundable', 'Dep_Refundable', 'Book_Agent', 'Book_Direct',\n",
            "       'Book_Online', 'Car_Yes', 'Promo_Yes'],\n",
            "      dtype='object')\n",
            "   Reservation-id  Age Expected_checkin  ... Book_Online Car_Yes  Promo_Yes\n",
            "0        39428300   40         7/1/2015  ...           1       1          1\n",
            "1        77491756   49         7/1/2015  ...           1       1          0\n",
            "2        73747291   42         7/2/2015  ...           1       1          0\n",
            "3        67301739   25         7/2/2015  ...           0       1          1\n",
            "4        77222321   62         7/3/2015  ...           0       0          1\n",
            "\n",
            "[5 rows x 46 columns]\n"
          ],
          "name": "stdout"
        }
      ]
    },
    {
      "cell_type": "code",
      "metadata": {
        "colab": {
          "base_uri": "https://localhost:8080/"
        },
        "id": "Nr3piP9Z2_aX",
        "outputId": "d4afced5-9bf2-4ecf-fef5-4ea4cea35401"
      },
      "source": [
        "#Val data\r\n",
        "gender_dummies=pd.get_dummies(val_data['Gender'],drop_first=True, prefix='Gen')\r\n",
        "gender=val_data.pop('Gender')\r\n",
        "val_data=pd.concat([val_data,gender_dummies],axis=1)\r\n",
        "\r\n",
        "eth_dummies=pd.get_dummies(val_data['Ethnicity'],drop_first=False, prefix='Eth')\r\n",
        "eth=val_data.pop('Ethnicity')\r\n",
        "val_data=pd.concat([val_data,eth_dummies],axis=1)\r\n",
        "\r\n",
        "edu_dummies=pd.get_dummies(val_data['Educational_Level'],drop_first=False, prefix='Edu')\r\n",
        "edu=val_data.pop('Educational_Level')\r\n",
        "val_data=pd.concat([val_data,edu_dummies],axis=1)\r\n",
        "\r\n",
        "in_dummies=pd.get_dummies(val_data['Income'],drop_first=False, prefix='In')\r\n",
        "in_dummies=in_dummies.rename(columns={'In_25K --50K': 'In_25K_50K', 'In_50K -- 100K': 'In_50K_100K', 'In_<25K':'In_below25K', 'In_>100K':'In_above100K' })\r\n",
        "income=val_data.pop('Income')\r\n",
        "val_data=pd.concat([val_data,in_dummies],axis=1)\r\n",
        "\r\n",
        "region_dummies=pd.get_dummies(val_data['Country_region'],drop_first=False, prefix='Coun')\r\n",
        "region=val_data.pop('Country_region')\r\n",
        "val_data=pd.concat([val_data,region_dummies],axis=1)\r\n",
        "\r\n",
        "hotel_dummies=pd.get_dummies(val_data['Hotel_Type'],drop_first=False, prefix='Hotel')\r\n",
        "hotel=val_data.pop('Hotel_Type')\r\n",
        "val_data=pd.concat([val_data,hotel_dummies],axis=1)\r\n",
        "\r\n",
        "meal_dummies=pd.get_dummies(val_data['Meal_Type'],drop_first=False, prefix='Meal')\r\n",
        "meal=val_data.pop('Meal_Type')\r\n",
        "val_data=pd.concat([val_data,meal_dummies],axis=1)\r\n",
        "\r\n",
        "visit_prev_dummies=pd.get_dummies(val_data['Visted_Previously'],drop_first=True, prefix='Visit')\r\n",
        "visit_prev=val_data.pop('Visted_Previously')\r\n",
        "val_data=pd.concat([val_data,visit_prev_dummies],axis=1)\r\n",
        "\r\n",
        "prev_can_dummies=pd.get_dummies(val_data['Previous_Cancellations'],drop_first=True, prefix='Prev_can')\r\n",
        "prev_can=val_data.pop('Previous_Cancellations')\r\n",
        "val_data=pd.concat([val_data,prev_can_dummies],axis=1)\r\n",
        "\r\n",
        "dep_dummies=pd.get_dummies(val_data['Deposit_type'],drop_first=False, prefix='Dep')\r\n",
        "dep=val_data.pop('Deposit_type')\r\n",
        "val_data=pd.concat([val_data,dep_dummies],axis=1)\r\n",
        "\r\n",
        "book_dummies=pd.get_dummies(val_data['Booking_channel'],drop_first=False, prefix='Book')\r\n",
        "book=val_data.pop('Booking_channel')\r\n",
        "val_data=pd.concat([val_data,book_dummies],axis=1)\r\n",
        "\r\n",
        "car_dummies=pd.get_dummies(val_data['Required_Car_Parking'],drop_first=True, prefix='Car')\r\n",
        "car=val_data.pop('Required_Car_Parking')\r\n",
        "val_data=pd.concat([val_data,car_dummies],axis=1)\r\n",
        "\r\n",
        "promo_dummies=pd.get_dummies(val_data['Use_Promotion'],drop_first=True, prefix='Promo')\r\n",
        "promo=val_data.pop('Use_Promotion')\r\n",
        "val_data=pd.concat([val_data,promo_dummies],axis=1)\r\n",
        "\r\n",
        "\r\n",
        "\r\n",
        "print(val_data.columns)\r\n",
        "print(val_data.head())"
      ],
      "execution_count": 22,
      "outputs": [
        {
          "output_type": "stream",
          "text": [
            "Index(['Reservation-id', 'Age', 'Expected_checkin', 'Expected_checkout',\n",
            "       'Booking_date', 'Adults', 'Children', 'Babies', 'Discount_Rate',\n",
            "       'Room_Rate', 'week_end', 'stay_duration', 'reserve_duration', 'Gen_M',\n",
            "       'Eth_African American', 'Eth_Asian American', 'Eth_Latino',\n",
            "       'Eth_caucasian', 'Edu_College', 'Edu_Grad', 'Edu_High-School',\n",
            "       'Edu_Mid-School', 'In_25K_50K', 'In_50K_100K', 'In_below25K',\n",
            "       'In_above100K', 'Coun_East', 'Coun_North', 'Coun_South', 'Coun_West',\n",
            "       'Hotel_Airport Hotels', 'Hotel_City Hotel', 'Hotel_Resort', 'Meal_BB',\n",
            "       'Meal_FB', 'Meal_HB', 'Visit_Yes', 'Prev_can_Yes', 'Dep_No Deposit',\n",
            "       'Dep_Non-Refundable', 'Dep_Refundable', 'Book_Agent', 'Book_Direct',\n",
            "       'Book_Online', 'Car_Yes', 'Promo_Yes'],\n",
            "      dtype='object')\n",
            "   Reservation-id  Age Expected_checkin  ... Book_Online Car_Yes  Promo_Yes\n",
            "0        45716350   56        8/31/2016  ...           0       0          1\n",
            "1        88857401   60        8/31/2016  ...           1       1          0\n",
            "2        16074440   58         9/1/2016  ...           0       0          1\n",
            "3        10992124   23        8/31/2016  ...           0       0          1\n",
            "4        15934351   47        8/31/2016  ...           1       1          1\n",
            "\n",
            "[5 rows x 46 columns]\n"
          ],
          "name": "stdout"
        }
      ]
    },
    {
      "cell_type": "code",
      "metadata": {
        "colab": {
          "base_uri": "https://localhost:8080/"
        },
        "id": "02iRprdrxcou",
        "outputId": "f65984ed-2a64-4921-eb98-da3817521df1"
      },
      "source": [
        "#test data\r\n",
        "gender_dummies=pd.get_dummies(test_data['Gender'],drop_first=True, prefix='Gen')\r\n",
        "gender=test_data.pop('Gender')\r\n",
        "test_data=pd.concat([test_data,gender_dummies],axis=1)\r\n",
        "\r\n",
        "eth_dummies=pd.get_dummies(test_data['Ethnicity'],drop_first=False, prefix='Eth')\r\n",
        "eth=test_data.pop('Ethnicity')\r\n",
        "test_data=pd.concat([test_data,eth_dummies],axis=1)\r\n",
        "\r\n",
        "edu_dummies=pd.get_dummies(test_data['Educational_Level'],drop_first=False, prefix='Edu')\r\n",
        "edu=test_data.pop('Educational_Level')\r\n",
        "test_data=pd.concat([test_data,edu_dummies],axis=1)\r\n",
        "\r\n",
        "in_dummies=pd.get_dummies(test_data['Income'],drop_first=False, prefix='In')\r\n",
        "in_dummies=in_dummies.rename(columns={'In_25K --50K': 'In_25K_50K', 'In_50K -- 100K': 'In_50K_100K', 'In_<25K':'In_below25K', 'In_>100K':'In_above100K' })\r\n",
        "income=test_data.pop('Income')\r\n",
        "test_data=pd.concat([test_data,in_dummies],axis=1)\r\n",
        "\r\n",
        "region_dummies=pd.get_dummies(test_data['Country_region'],drop_first=False, prefix='Coun')\r\n",
        "region=test_data.pop('Country_region')\r\n",
        "test_data=pd.concat([test_data,region_dummies],axis=1)\r\n",
        "\r\n",
        "hotel_dummies=pd.get_dummies(test_data['Hotel_Type'],drop_first=False, prefix='Hotel')\r\n",
        "hotel=test_data.pop('Hotel_Type')\r\n",
        "test_data=pd.concat([test_data,hotel_dummies],axis=1)\r\n",
        "\r\n",
        "meal_dummies=pd.get_dummies(test_data['Meal_Type'],drop_first=False, prefix='Meal')\r\n",
        "meal=test_data.pop('Meal_Type')\r\n",
        "test_data=pd.concat([test_data,meal_dummies],axis=1)\r\n",
        "\r\n",
        "visit_prev_dummies=pd.get_dummies(test_data['Visted_Previously'],drop_first=True, prefix='Visit')\r\n",
        "visit_prev=test_data.pop('Visted_Previously')\r\n",
        "test_data=pd.concat([test_data,visit_prev_dummies],axis=1)\r\n",
        "\r\n",
        "prev_can_dummies=pd.get_dummies(test_data['Previous_Cancellations'],drop_first=True, prefix='Prev_can')\r\n",
        "prev_can=test_data.pop('Previous_Cancellations')\r\n",
        "test_data=pd.concat([test_data,prev_can_dummies],axis=1)\r\n",
        "\r\n",
        "dep_dummies=pd.get_dummies(test_data['Deposit_type'],drop_first=False, prefix='Dep')\r\n",
        "dep=test_data.pop('Deposit_type')\r\n",
        "test_data=pd.concat([test_data,dep_dummies],axis=1)\r\n",
        "\r\n",
        "book_dummies=pd.get_dummies(test_data['Booking_channel'],drop_first=False, prefix='Book')\r\n",
        "book=test_data.pop('Booking_channel')\r\n",
        "test_data=pd.concat([test_data,book_dummies],axis=1)\r\n",
        "\r\n",
        "car_dummies=pd.get_dummies(test_data['Required_Car_Parking'],drop_first=True, prefix='Car')\r\n",
        "car=test_data.pop('Required_Car_Parking')\r\n",
        "test_data=pd.concat([test_data,car_dummies],axis=1)\r\n",
        "\r\n",
        "promo_dummies=pd.get_dummies(test_data['Use_Promotion'],drop_first=True, prefix='Promo')\r\n",
        "promo=test_data.pop('Use_Promotion')\r\n",
        "test_data=pd.concat([test_data,promo_dummies],axis=1)\r\n",
        "\r\n",
        "\r\n",
        "\r\n",
        "print(test_data.columns)\r\n",
        "print(test_data.head())"
      ],
      "execution_count": 23,
      "outputs": [
        {
          "output_type": "stream",
          "text": [
            "Index(['Reservation-id', 'Age', 'Expected_checkin', 'Expected_checkout',\n",
            "       'Booking_date', 'Adults', 'Children', 'Babies', 'Discount_Rate',\n",
            "       'Room_Rate', 'week_end', 'stay_duration', 'reserve_duration', 'Gen_M',\n",
            "       'Eth_African American', 'Eth_Asian American', 'Eth_Latino',\n",
            "       'Eth_caucasian', 'Edu_College', 'Edu_Grad', 'Edu_High-School',\n",
            "       'Edu_Mid-School', 'In_25K_50K', 'In_50K_100K', 'In_below25K',\n",
            "       'In_above100K', 'Coun_East', 'Coun_North', 'Coun_South', 'Coun_West',\n",
            "       'Hotel_Airport Hotels', 'Hotel_City Hotel', 'Hotel_Resort', 'Meal_BB',\n",
            "       'Meal_FB', 'Meal_HB', 'Visit_Yes', 'Prev_can_Yes', 'Dep_No Deposit',\n",
            "       'Dep_Non-Refundable', 'Dep_Refundable', 'Book_Agent', 'Book_Direct',\n",
            "       'Book_Online', 'Car_Yes', 'Promo_Yes'],\n",
            "      dtype='object')\n",
            "   Reservation-id  Age Expected_checkin  ... Book_Online Car_Yes  Promo_Yes\n",
            "0        62931593   52       11/18/2016  ...           0       1          1\n",
            "1        70586099   47       11/18/2016  ...           1       0          0\n",
            "2         4230648   28        4/28/2017  ...           0       0          1\n",
            "3        25192322   65       11/18/2016  ...           1       1          1\n",
            "4        80931528   45       11/18/2016  ...           0       0          0\n",
            "\n",
            "[5 rows x 46 columns]\n"
          ],
          "name": "stdout"
        }
      ]
    },
    {
      "cell_type": "code",
      "metadata": {
        "id": "lzxIiA4iyyo6"
      },
      "source": [
        "for i in train_data.columns:\r\n",
        "  if i not in test_data.columns:\r\n",
        "    print(i)"
      ],
      "execution_count": 24,
      "outputs": []
    },
    {
      "cell_type": "markdown",
      "metadata": {
        "id": "EFfqO5nIDMdv"
      },
      "source": [
        "##Label Encoding\r\n"
      ]
    },
    {
      "cell_type": "code",
      "metadata": {
        "colab": {
          "base_uri": "https://localhost:8080/"
        },
        "id": "7Pq4KZq_DQj_",
        "outputId": "dd088f3e-cf8a-4065-cc6c-6aaf7c5463bd"
      },
      "source": [
        "from sklearn import preprocessing\r\n",
        "le = preprocessing.LabelEncoder()\r\n",
        "le.fit(train_labels)\r\n",
        "print(le.classes_)\r\n",
        "train_label=le.transform(train_labels)\r\n",
        "\r\n",
        "le = preprocessing.LabelEncoder()\r\n",
        "le.fit(val_labels)\r\n",
        "print(le.classes_)\r\n",
        "val_label=le.transform(val_labels)"
      ],
      "execution_count": 25,
      "outputs": [
        {
          "output_type": "stream",
          "text": [
            "[1 2 3]\n",
            "[1 2 3]\n"
          ],
          "name": "stdout"
        },
        {
          "output_type": "stream",
          "text": [
            "/usr/local/lib/python3.7/dist-packages/sklearn/preprocessing/_label.py:235: DataConversionWarning: A column-vector y was passed when a 1d array was expected. Please change the shape of y to (n_samples, ), for example using ravel().\n",
            "  y = column_or_1d(y, warn=True)\n",
            "/usr/local/lib/python3.7/dist-packages/sklearn/preprocessing/_label.py:268: DataConversionWarning: A column-vector y was passed when a 1d array was expected. Please change the shape of y to (n_samples, ), for example using ravel().\n",
            "  y = column_or_1d(y, warn=True)\n"
          ],
          "name": "stderr"
        }
      ]
    },
    {
      "cell_type": "markdown",
      "metadata": {
        "id": "tMVdeHLoA-5V"
      },
      "source": [
        "##Remove unnecessary columns"
      ]
    },
    {
      "cell_type": "code",
      "metadata": {
        "colab": {
          "base_uri": "https://localhost:8080/"
        },
        "id": "stSzwpKa9v19",
        "outputId": "ec0752c7-0da7-41e6-aaee-2f77f2e30386"
      },
      "source": [
        "train_data.pop('Reservation-id')\r\n",
        "val_data.pop('Reservation-id')\r\n",
        "test_reservation=test_data['Reservation-id']\r\n",
        "test_data.pop('Reservation-id')\r\n",
        "\r\n",
        "train_data.pop('Expected_checkin')\r\n",
        "val_data.pop('Expected_checkin')\r\n",
        "test_data.pop('Expected_checkin')\r\n",
        "\r\n",
        "train_data.pop('Expected_checkout')\r\n",
        "val_data.pop('Expected_checkout')\r\n",
        "test_data.pop('Expected_checkout')\r\n",
        "\r\n",
        "train_data.pop('Booking_date')\r\n",
        "val_data.pop('Booking_date')\r\n",
        "test_data.pop('Booking_date')"
      ],
      "execution_count": 26,
      "outputs": [
        {
          "output_type": "execute_result",
          "data": {
            "text/plain": [
              "0       10/28/2016\n",
              "1         8/6/2016\n",
              "2         4/8/2017\n",
              "3        5/20/2016\n",
              "4       10/31/2016\n",
              "           ...    \n",
              "4313     9/11/2016\n",
              "4314     2/10/2017\n",
              "4315     8/26/2016\n",
              "4316      3/4/2017\n",
              "4317     3/29/2017\n",
              "Name: Booking_date, Length: 4318, dtype: object"
            ]
          },
          "metadata": {
            "tags": []
          },
          "execution_count": 26
        }
      ]
    },
    {
      "cell_type": "code",
      "metadata": {
        "colab": {
          "base_uri": "https://localhost:8080/"
        },
        "id": "uhAhW1EhsdHD",
        "outputId": "8b5598a5-6380-4aee-fa5c-db493984f899"
      },
      "source": [
        "train_data.pop('Promo_Yes')\r\n",
        "val_data.pop('Promo_Yes')\r\n",
        "test_data.pop('Promo_Yes')\r\n",
        "\r\n",
        "train_data.pop('Coun_South')\r\n",
        "val_data.pop('Coun_South')\r\n",
        "test_data.pop('Coun_South')\r\n",
        "\r\n",
        "train_data.pop('Coun_North')\r\n",
        "val_data.pop('Coun_North')\r\n",
        "test_data.pop('Coun_North')\r\n",
        "\r\n",
        "train_data.pop('Prev_can_Yes')\r\n",
        "val_data.pop('Prev_can_Yes')\r\n",
        "test_data.pop('Prev_can_Yes')\r\n",
        "\r\n",
        "train_data.pop('Gen_M')\r\n",
        "val_data.pop('Gen_M')\r\n",
        "test_data.pop('Gen_M')\r\n",
        "\r\n",
        "train_data.pop('Book_Agent')\r\n",
        "val_data.pop('Book_Agent')\r\n",
        "test_data.pop('Book_Agent')\r\n",
        "\r\n",
        "train_data.pop('Book_Online')\r\n",
        "val_data.pop('Book_Online')\r\n",
        "test_data.pop('Book_Online')\r\n",
        "\r\n",
        "train_data.pop('Car_Yes')\r\n",
        "val_data.pop('Car_Yes')\r\n",
        "test_data.pop('Car_Yes')\r\n",
        "\r\n",
        "train_data.pop('Babies')\r\n",
        "val_data.pop('Babies')\r\n",
        "test_data.pop('Babies')"
      ],
      "execution_count": 22,
      "outputs": [
        {
          "output_type": "execute_result",
          "data": {
            "text/plain": [
              "0       0\n",
              "1       0\n",
              "2       0\n",
              "3       2\n",
              "4       0\n",
              "       ..\n",
              "4313    1\n",
              "4314    0\n",
              "4315    0\n",
              "4316    1\n",
              "4317    0\n",
              "Name: Babies, Length: 4318, dtype: int64"
            ]
          },
          "metadata": {
            "tags": []
          },
          "execution_count": 22
        }
      ]
    },
    {
      "cell_type": "markdown",
      "metadata": {
        "id": "uBiIdXTUtSJ9"
      },
      "source": [
        "#Neptune Create Experiment"
      ]
    },
    {
      "cell_type": "code",
      "metadata": {
        "colab": {
          "base_uri": "https://localhost:8080/"
        },
        "id": "LjjNq-PBtV8c",
        "outputId": "dd6aebb2-c925-48f3-d7d7-bd1bf58e7165"
      },
      "source": [
        "neptune.create_experiment(name = 'Experiment without dates data and testing on multiple models - upsampled to 0.333 ratio - Selected 16 features including new 3 features')"
      ],
      "execution_count": 37,
      "outputs": [
        {
          "output_type": "stream",
          "text": [
            "https://ui.neptune.ai/jathurshan0330/DataStorm2-round1/e/DAT-8\n"
          ],
          "name": "stdout"
        },
        {
          "output_type": "execute_result",
          "data": {
            "text/plain": [
              "Experiment(DAT-8)"
            ]
          },
          "metadata": {
            "tags": []
          },
          "execution_count": 37
        }
      ]
    },
    {
      "cell_type": "markdown",
      "metadata": {
        "id": "a7DH4R1Y_JkX"
      },
      "source": [
        "#Model Building"
      ]
    },
    {
      "cell_type": "code",
      "metadata": {
        "id": "5GBW17Hj_Li5"
      },
      "source": [
        "from sklearn.model_selection import train_test_split\r\n",
        "from sklearn.tree import DecisionTreeClassifier\r\n",
        "from sklearn.metrics import accuracy_score, confusion_matrix, f1_score, roc_auc_score, classification_report, plot_confusion_matrix, precision_score, recall_score\r\n",
        "from sklearn import tree, svm\r\n",
        "from sklearn.ensemble import RandomForestClassifier\r\n",
        "import xgboost\r\n",
        "from sklearn.linear_model import LogisticRegression\r\n",
        "from sklearn.neighbors import NearestNeighbors,KNeighborsClassifier"
      ],
      "execution_count": 38,
      "outputs": []
    },
    {
      "cell_type": "code",
      "metadata": {
        "colab": {
          "base_uri": "https://localhost:8080/"
        },
        "id": "_UWOLaqAWoyr",
        "outputId": "e9cd0434-06e3-4dbf-c19d-23a9fc615fb9"
      },
      "source": [
        "train_data=train_data[['Age','Adults','Discount_Rate','Room_Rate','week_end','stay_duration','reserve_duration','Eth_African American','Eth_caucasian','Coun_East','Hotel_Airport Hotels','Meal_BB','Meal_FB','Visit_Yes','Prev_can_Yes','Dep_No Deposit']]\r\n",
        "val_data=val_data[['Age','Adults','Discount_Rate','Room_Rate','week_end','stay_duration','reserve_duration','Eth_African American','Eth_caucasian','Coun_East','Hotel_Airport Hotels','Meal_BB','Meal_FB','Visit_Yes','Prev_can_Yes','Dep_No Deposit']]\r\n",
        "test_data=test_data[['Age','Adults','Discount_Rate','Room_Rate','week_end','stay_duration','reserve_duration','Eth_African American','Eth_caucasian','Coun_East','Hotel_Airport Hotels','Meal_BB','Meal_FB','Visit_Yes','Prev_can_Yes','Dep_No Deposit']]\r\n",
        "\r\n",
        "\r\n",
        "print(train_data.shape)\r\n",
        "print(val_data.shape)\r\n",
        "print(test_data.shape)"
      ],
      "execution_count": 39,
      "outputs": [
        {
          "output_type": "stream",
          "text": [
            "(61035, 16)\n",
            "(2749, 16)\n",
            "(4318, 16)\n"
          ],
          "name": "stdout"
        }
      ]
    },
    {
      "cell_type": "markdown",
      "metadata": {
        "id": "YYLNXH6JAFmR"
      },
      "source": [
        "##logistic regression approach"
      ]
    },
    {
      "cell_type": "code",
      "metadata": {
        "colab": {
          "base_uri": "https://localhost:8080/"
        },
        "id": "7n-apf4__XlR",
        "outputId": "3f881101-daa1-4411-a9bf-4b626af07d45"
      },
      "source": [
        "model= LogisticRegression(multi_class='multinomial', solver='saga',max_iter=100) \r\n",
        "model.fit(train_data,train_label) \r\n",
        "y_predict=model.predict(val_data)\r\n",
        "print(\"Train accuracy : \"+str(model.score(train_data,train_label)))\r\n",
        "print(\"Validation accuracy : \"+str(model.score(val_data,val_label)))\r\n",
        "print(\"Precision : \"+str(precision_score(val_label,y_predict,average='macro', zero_division=0)))\r\n",
        "print(\"Recall : \"+str(recall_score(val_label,y_predict,average='macro', zero_division=0)))\r\n",
        "print(\"F1-Score : \"+str(f1_score(val_label,y_predict,average='macro', zero_division=0)))\r\n",
        "print(\"Classification Report\")\r\n",
        "print(classification_report(val_label,y_predict,zero_division=0))\r\n",
        "print(\"Confusion Matrix\")\r\n",
        "print(confusion_matrix(val_label,y_predict))\r\n",
        "#fig, ax = plt.subplots()\r\n",
        "#plot_confusion_matrix(val_label, y_predict, ax=ax)\r\n",
        "\r\n",
        "\r\n",
        "neptune.log_metric('Training Accuracy', model.score(train_data,train_label))\r\n",
        "neptune.log_metric('Validation Accuracy', model.score(val_data,val_label))\r\n",
        "neptune.log_metric('Precision',precision_score(val_label,y_predict,average='macro', zero_division=0))\r\n",
        "neptune.log_metric('Recall', recall_score(val_label,y_predict,average='macro', zero_division=0))\r\n",
        "neptune.log_metric('F1-Score',f1_score(val_label,y_predict,average='macro', zero_division=0))"
      ],
      "execution_count": 43,
      "outputs": [
        {
          "output_type": "stream",
          "text": [
            "/usr/local/lib/python3.7/dist-packages/sklearn/linear_model/_sag.py:330: ConvergenceWarning: The max_iter was reached which means the coef_ did not converge\n",
            "  \"the coef_ did not converge\", ConvergenceWarning)\n"
          ],
          "name": "stderr"
        },
        {
          "output_type": "stream",
          "text": [
            "Train accuracy : 0.42298681084623574\n",
            "Validation accuracy : 0.37613677700982173\n",
            "Precision : 0.3553117595324698\n",
            "Recall : 0.3570211950833595\n",
            "F1-Score : 0.3343401434008251\n",
            "Classification Report\n",
            "              precision    recall  f1-score   support\n",
            "\n",
            "           0       0.62      0.36      0.46      1610\n",
            "           1       0.29      0.50      0.37       741\n",
            "           2       0.16      0.21      0.18       398\n",
            "\n",
            "    accuracy                           0.38      2749\n",
            "   macro avg       0.36      0.36      0.33      2749\n",
            "weighted avg       0.46      0.38      0.39      2749\n",
            "\n",
            "Confusion Matrix\n",
            "[[581 710 319]\n",
            " [230 368 143]\n",
            " [127 186  85]]\n"
          ],
          "name": "stdout"
        }
      ]
    },
    {
      "cell_type": "markdown",
      "metadata": {
        "id": "GQJoQ1ALFzlt"
      },
      "source": [
        "##Decision Tree Classifier model approach"
      ]
    },
    {
      "cell_type": "code",
      "metadata": {
        "colab": {
          "base_uri": "https://localhost:8080/"
        },
        "id": "zVZ5EWioAjgq",
        "outputId": "92905fbb-d0e6-47d9-adc9-f6afc8d4d2b7"
      },
      "source": [
        "model = DecisionTreeClassifier(max_depth=6, class_weight = 'balanced' ).fit(train_data,train_label)\r\n",
        "y_predict=model.predict(val_data)\r\n",
        "print(\"Train accuracy : \"+str(model.score(train_data,train_label)))\r\n",
        "print(\"Validation accuracy : \"+str(model.score(val_data,val_label)))\r\n",
        "print(\"Precision : \"+str(precision_score(val_label,y_predict,average='macro', zero_division=0)))\r\n",
        "print(\"Recall : \"+str(recall_score(val_label,y_predict,average='macro', zero_division=0)))\r\n",
        "print(\"F1-Score : \"+str(f1_score(val_label,y_predict,average='macro', zero_division=0)))\r\n",
        "print(\"Classification Report\")\r\n",
        "print(classification_report(val_label,y_predict,zero_division=0))\r\n",
        "print(\"Confusion Matrix\")\r\n",
        "print(confusion_matrix(val_label,y_predict))\r\n",
        "#fig, ax = plt.subplots()\r\n",
        "#plot_confusion_matrix(val_label, y_predict, ax=ax)\r\n",
        "\r\n",
        "\r\n",
        "neptune.log_metric('Training Accuracy', model.score(train_data,train_label))\r\n",
        "neptune.log_metric('Validation Accuracy', model.score(val_data,val_label))\r\n",
        "neptune.log_metric('Precision',precision_score(val_label,y_predict,average='macro', zero_division=0))\r\n",
        "neptune.log_metric('Recall', recall_score(val_label,y_predict,average='macro', zero_division=0))\r\n",
        "neptune.log_metric('F1-Score',f1_score(val_label,y_predict,average='macro', zero_division=0))"
      ],
      "execution_count": 45,
      "outputs": [
        {
          "output_type": "stream",
          "text": [
            "Train accuracy : 0.44682559187351517\n",
            "Validation accuracy : 0.32048017460894873\n",
            "Precision : 0.35138795980918625\n",
            "Recall : 0.34761495622666466\n",
            "F1-Score : 0.2997948124818552\n",
            "Classification Report\n",
            "              precision    recall  f1-score   support\n",
            "\n",
            "           0       0.62      0.23      0.34      1610\n",
            "           1       0.28      0.54      0.37       741\n",
            "           2       0.15      0.27      0.19       398\n",
            "\n",
            "    accuracy                           0.32      2749\n",
            "   macro avg       0.35      0.35      0.30      2749\n",
            "weighted avg       0.46      0.32      0.33      2749\n",
            "\n",
            "Confusion Matrix\n",
            "[[373 818 419]\n",
            " [151 400 190]\n",
            " [ 73 217 108]]\n"
          ],
          "name": "stdout"
        }
      ]
    },
    {
      "cell_type": "code",
      "metadata": {
        "colab": {
          "base_uri": "https://localhost:8080/",
          "height": 933
        },
        "id": "rksmHrHxrHcc",
        "outputId": "0acfdfdf-02e1-4702-ddda-8f48dd31a0e5"
      },
      "source": [
        "#Feature Importance in Decision Tree Classifier\r\n",
        "print(\"Feature Importance\")\r\n",
        "print(model.feature_importances_) #use inbuilt class feature_importances of tree based classifiers\r\n",
        "#plot graph of feature importances for better visualization\r\n",
        "plt.figure(figsize=[10,10])\r\n",
        "feat_importances = pd.Series(model.feature_importances_, index=train_data.columns)\r\n",
        "feat_importances.nlargest(40).plot(kind='barh')\r\n",
        "\r\n",
        "plt.show()\r\n",
        "print(feat_importances)"
      ],
      "execution_count": 42,
      "outputs": [
        {
          "output_type": "stream",
          "text": [
            "Feature Importance\n",
            "[0.0232659  0.01646638 0.00344796 0.02052356 0.01559444 0.01042985\n",
            " 0.4927063  0.00760993 0.00763499 0.01011777 0.01257581 0.294616\n",
            " 0.04475097 0.01358844 0.0199549  0.00671679]\n"
          ],
          "name": "stdout"
        },
        {
          "output_type": "display_data",
          "data": {
            "image/png": "[encoded data removed]",
            "text/plain": [
              "<Figure size 720x720 with 1 Axes>"
            ]
          },
          "metadata": {
            "tags": [],
            "needs_background": "light"
          }
        },
        {
          "output_type": "stream",
          "text": [
            "Age                     0.023266\n",
            "Adults                  0.016466\n",
            "Discount_Rate           0.003448\n",
            "Room_Rate               0.020524\n",
            "week_end                0.015594\n",
            "stay_duration           0.010430\n",
            "reserve_duration        0.492706\n",
            "Eth_African American    0.007610\n",
            "Eth_caucasian           0.007635\n",
            "Coun_East               0.010118\n",
            "Hotel_Airport Hotels    0.012576\n",
            "Meal_BB                 0.294616\n",
            "Meal_FB                 0.044751\n",
            "Visit_Yes               0.013588\n",
            "Prev_can_Yes            0.019955\n",
            "Dep_No Deposit          0.006717\n",
            "dtype: float64\n"
          ],
          "name": "stdout"
        }
      ]
    },
    {
      "cell_type": "code",
      "metadata": {
        "colab": {
          "base_uri": "https://localhost:8080/"
        },
        "id": "B1T79y6xXyfT",
        "outputId": "93c3230b-61fc-42c1-a3f1-48259ce64710"
      },
      "source": [
        "['Age','Adults','Discount_Rate','Room_Rate','week_end','stay_duration','reserve_duration','Eth_African American','Eth_caucasian','Coun_East','Hotel_Airport Hotels','Meal_BB','Meal_FB','Visit_Yes','Prev_can_Yes','Dep_No Deposit']"
      ],
      "execution_count": 45,
      "outputs": [
        {
          "output_type": "execute_result",
          "data": {
            "text/plain": [
              "['Age',\n",
              " 'Adults',\n",
              " 'Discount_Rate',\n",
              " 'Room_Rate',\n",
              " 'week_end',\n",
              " 'stay_duration',\n",
              " 'reserve_duration',\n",
              " 'Eth_African American',\n",
              " 'Eth_caucasian',\n",
              " 'Coun_East',\n",
              " 'Hotel_Airport Hotels',\n",
              " 'Meal_BB',\n",
              " 'Meal_FB',\n",
              " 'Visit_Yes',\n",
              " 'Prev_can_Yes',\n",
              " 'Dep_No Deposit']"
            ]
          },
          "metadata": {
            "tags": []
          },
          "execution_count": 45
        }
      ]
    },
    {
      "cell_type": "markdown",
      "metadata": {
        "id": "jyCco_VLIODd"
      },
      "source": [
        "##XGB Boost Approach"
      ]
    },
    {
      "cell_type": "code",
      "metadata": {
        "colab": {
          "base_uri": "https://localhost:8080/"
        },
        "id": "4i3SWgo-GCQi",
        "outputId": "179717b1-2026-4b36-f4e0-f58765498a73"
      },
      "source": [
        "clf = DecisionTreeClassifier(max_depth=50, class_weight = 'balanced')\r\n",
        "model=xgboost.XGBClassifier(base_estimator=clf,max_depth=20,n_estimators=15,objective='multi:softmax',gamma=4.63,learning_rate=0.2,reg_lambda=1).fit(train_data,train_label)\r\n",
        "y_predict=model.predict(val_data)\r\n",
        "print(\"Train accuracy : \"+str(model.score(train_data,train_label)))\r\n",
        "print(\"Validation accuracy : \"+str(model.score(val_data,val_label)))\r\n",
        "print(\"Precision : \"+str(precision_score(val_label,y_predict,average='macro', zero_division=0)))\r\n",
        "print(\"Recall : \"+str(recall_score(val_label,y_predict,average='macro', zero_division=0)))\r\n",
        "print(\"F1-Score : \"+str(f1_score(val_label,y_predict,average='macro', zero_division=0)))\r\n",
        "print(\"Classification Report\")\r\n",
        "print(classification_report(val_label,y_predict,zero_division=0))\r\n",
        "print(\"Confusion Matrix\")\r\n",
        "print(confusion_matrix(val_label,y_predict))\r\n",
        "#fig, ax = plt.subplots()\r\n",
        "#plot_confusion_matrix(val_label, y_predict, ax=ax)\r\n",
        "\r\n",
        "\r\n",
        "neptune.log_metric('Training Accuracy', model.score(train_data,train_label))\r\n",
        "neptune.log_metric('Validation Accuracy', model.score(val_data,val_label))\r\n",
        "neptune.log_metric('Precision',precision_score(val_label,y_predict,average='macro', zero_division=0))\r\n",
        "neptune.log_metric('Recall', recall_score(val_label,y_predict,average='macro', zero_division=0))\r\n",
        "neptune.log_metric('F1-Score',f1_score(val_label,y_predict,average='macro', zero_division=0))"
      ],
      "execution_count": 46,
      "outputs": [
        {
          "output_type": "stream",
          "text": [
            "Train accuracy : 0.970770869173425\n",
            "Validation accuracy : 0.4721716987995635\n",
            "Precision : 0.35822553260591405\n",
            "Recall : 0.3544022237742556\n",
            "F1-Score : 0.3547096787336328\n",
            "Classification Report\n",
            "              precision    recall  f1-score   support\n",
            "\n",
            "           0       0.60      0.64      0.62      1610\n",
            "           1       0.28      0.28      0.28       741\n",
            "           2       0.19      0.14      0.16       398\n",
            "\n",
            "    accuracy                           0.47      2749\n",
            "   macro avg       0.36      0.35      0.35      2749\n",
            "weighted avg       0.46      0.47      0.46      2749\n",
            "\n",
            "Confusion Matrix\n",
            "[[1033  418  159]\n",
            " [ 456  210   75]\n",
            " [ 231  112   55]]\n"
          ],
          "name": "stdout"
        }
      ]
    },
    {
      "cell_type": "markdown",
      "metadata": {
        "id": "eZyhpjSRkKP0"
      },
      "source": [
        "##Support Vector Machine Approach"
      ]
    },
    {
      "cell_type": "code",
      "metadata": {
        "id": "WlUk1KK_GYpW"
      },
      "source": [
        "\r\n",
        "model = svm.SVC(degree=9,decision_function_shape='ovo', class_weight = 'balanced')\r\n",
        "model.fit(train_data,train_label)       \r\n",
        "y_predict=model.predict(val_data)\r\n",
        "print(\"Train accuracy : \"+str(model.score(train_data,train_label)))\r\n",
        "print(\"Validation accuracy : \"+str(model.score(val_data,val_label)))\r\n",
        "print(\"Precision : \"+str(precision_score(val_label,y_predict,average='macro', zero_division=0)))\r\n",
        "print(\"Recall : \"+str(recall_score(val_label,y_predict,average='macro', zero_division=0)))\r\n",
        "print(\"F1-Score : \"+str(f1_score(val_label,y_predict,average='macro', zero_division=0)))\r\n",
        "print(\"Classification Report\")\r\n",
        "print(classification_report(val_label,y_predict,zero_division=0))\r\n",
        "print(\"Confusion Matrix\")\r\n",
        "print(confusion_matrix(val_label,y_predict))\r\n",
        "#fig, ax = plt.subplots()\r\n",
        "#plot_confusion_matrix(val_label, y_predict, ax=ax)\r\n",
        "\r\n",
        "\r\n",
        "neptune.log_metric('Training Accuracy', model.score(train_data,train_label))\r\n",
        "neptune.log_metric('Validation Accuracy', model.score(val_data,val_label))\r\n",
        "neptune.log_metric('Precision',precision_score(val_label,y_predict,average='macro', zero_division=0))\r\n",
        "neptune.log_metric('Recall', recall_score(val_label,y_predict,average='macro', zero_division=0))\r\n",
        "neptune.log_metric('F1-Score',f1_score(val_label,y_predict,average='macro', zero_division=0))"
      ],
      "execution_count": null,
      "outputs": []
    },
    {
      "cell_type": "markdown",
      "metadata": {
        "id": "dyUkW5lnkjZj"
      },
      "source": [
        "##MLP classifier approach"
      ]
    },
    {
      "cell_type": "code",
      "metadata": {
        "colab": {
          "base_uri": "https://localhost:8080/"
        },
        "id": "VwHV9cdakpoD",
        "outputId": "74441309-c717-4e9c-9639-194836427d57"
      },
      "source": [
        "from sklearn.neural_network import MLPClassifier\r\n",
        "model = MLPClassifier(solver='adam',learning_rate = 'adaptive',learning_rate_init=0.01,activation= 'relu', alpha=1e-6, hidden_layer_sizes=(150, ), random_state=91,max_iter=400)\r\n",
        "model.fit(train_data,train_label) \r\n",
        "y_predict=model.predict(val_data)\r\n",
        "print(\"Train accuracy : \"+str(model.score(train_data,train_label)))\r\n",
        "print(\"Validation accuracy : \"+str(model.score(val_data,val_label)))\r\n",
        "print(\"Precision : \"+str(precision_score(val_label,y_predict,average='macro', zero_division=0)))\r\n",
        "print(\"Recall : \"+str(recall_score(val_label,y_predict,average='macro', zero_division=0)))\r\n",
        "print(\"F1-Score : \"+str(f1_score(val_label,y_predict,average='macro', zero_division=0)))\r\n",
        "print(\"Classification Report\")\r\n",
        "print(classification_report(val_label,y_predict,zero_division=0))\r\n",
        "print(\"Confusion Matrix\")\r\n",
        "print(confusion_matrix(val_label,y_predict))\r\n",
        "#fig, ax = plt.subplots()\r\n",
        "#plot_confusion_matrix(val_label, y_predict, ax=ax)\r\n",
        "\r\n",
        "\r\n",
        "neptune.log_metric('Training Accuracy', model.score(train_data,train_label))\r\n",
        "neptune.log_metric('Validation Accuracy', model.score(val_data,val_label))\r\n",
        "neptune.log_metric('Precision',precision_score(val_label,y_predict,average='macro', zero_division=0))\r\n",
        "neptune.log_metric('Recall', recall_score(val_label,y_predict,average='macro', zero_division=0))\r\n",
        "neptune.log_metric('F1-Score',f1_score(val_label,y_predict,average='macro', zero_division=0))"
      ],
      "execution_count": 47,
      "outputs": [
        {
          "output_type": "stream",
          "text": [
            "Train accuracy : 0.41458179732940115\n",
            "Validation accuracy : 0.38523099308839576\n",
            "Precision : 0.34352386792782275\n",
            "Recall : 0.3419062451398042\n",
            "F1-Score : 0.3252878536007796\n",
            "Classification Report\n",
            "              precision    recall  f1-score   support\n",
            "\n",
            "           0       0.60      0.48      0.53      1610\n",
            "           1       0.28      0.21      0.24       741\n",
            "           2       0.15      0.34      0.20       398\n",
            "\n",
            "    accuracy                           0.39      2749\n",
            "   macro avg       0.34      0.34      0.33      2749\n",
            "weighted avg       0.45      0.39      0.41      2749\n",
            "\n",
            "Confusion Matrix\n",
            "[[771 298 541]\n",
            " [337 152 252]\n",
            " [178  84 136]]\n"
          ],
          "name": "stdout"
        }
      ]
    },
    {
      "cell_type": "markdown",
      "metadata": {
        "id": "_gorpXkYk0DB"
      },
      "source": [
        "##Random Forest approach"
      ]
    },
    {
      "cell_type": "code",
      "metadata": {
        "colab": {
          "base_uri": "https://localhost:8080/"
        },
        "id": "Hig8auxNk0Q2",
        "outputId": "62c25ead-4de6-4a78-dd42-7b5f96362b2a"
      },
      "source": [
        "model = RandomForestClassifier(max_depth=7,max_features=10,n_estimators=75, class_weight = 'balanced' )\r\n",
        "model.fit(train_data,train_label)       \r\n",
        "y_predict=model.predict(val_data)\r\n",
        "print(\"Train accuracy : \"+str(model.score(train_data,train_label)))\r\n",
        "print(\"Validation accuracy : \"+str(model.score(val_data,val_label)))\r\n",
        "print(\"Precision : \"+str(precision_score(val_label,y_predict,average='macro', zero_division=0)))\r\n",
        "print(\"Recall : \"+str(recall_score(val_label,y_predict,average='macro', zero_division=0)))\r\n",
        "print(\"F1-Score : \"+str(f1_score(val_label,y_predict,average='macro', zero_division=0)))\r\n",
        "print(\"Classification Report\")\r\n",
        "print(classification_report(val_label,y_predict,zero_division=0))\r\n",
        "print(\"Confusion Matrix\")\r\n",
        "print(confusion_matrix(val_label,y_predict))\r\n",
        "#fig, ax = plt.subplots()\r\n",
        "#plot_confusion_matrix(val_label, y_predict, ax=ax)\r\n",
        "\r\n",
        "\r\n",
        "neptune.log_metric('Training Accuracy', model.score(train_data,train_label))\r\n",
        "neptune.log_metric('Validation Accuracy', model.score(val_data,val_label))\r\n",
        "neptune.log_metric('Precision',precision_score(val_label,y_predict,average='macro', zero_division=0))\r\n",
        "neptune.log_metric('Recall', recall_score(val_label,y_predict,average='macro', zero_division=0))\r\n",
        "neptune.log_metric('F1-Score',f1_score(val_label,y_predict,average='macro', zero_division=0))"
      ],
      "execution_count": 48,
      "outputs": [
        {
          "output_type": "stream",
          "text": [
            "Train accuracy : 0.5107069714098468\n",
            "Validation accuracy : 0.34085121862495454\n",
            "Precision : 0.35179415102872064\n",
            "Recall : 0.34885444734001014\n",
            "F1-Score : 0.31800211728952177\n",
            "Classification Report\n",
            "              precision    recall  f1-score   support\n",
            "\n",
            "           0       0.62      0.31      0.41      1610\n",
            "           1       0.29      0.43      0.35       741\n",
            "           2       0.15      0.31      0.20       398\n",
            "\n",
            "    accuracy                           0.34      2749\n",
            "   macro avg       0.35      0.35      0.32      2749\n",
            "weighted avg       0.46      0.34      0.36      2749\n",
            "\n",
            "Confusion Matrix\n",
            "[[494 623 493]\n",
            " [194 321 226]\n",
            " [106 170 122]]\n"
          ],
          "name": "stdout"
        }
      ]
    },
    {
      "cell_type": "markdown",
      "metadata": {
        "id": "Tz8G7CNjk90q"
      },
      "source": [
        "##KNN approach"
      ]
    },
    {
      "cell_type": "code",
      "metadata": {
        "colab": {
          "base_uri": "https://localhost:8080/"
        },
        "id": "6TX_NkuJk-Ji",
        "outputId": "4e13db71-9091-42bb-b2f4-bf306574da7d"
      },
      "source": [
        "model=KNeighborsClassifier(n_neighbors=3,algorithm='auto',weights='distance')\r\n",
        "model.fit(train_data,train_label)       \r\n",
        "y_predict=model.predict(val_data)\r\n",
        "print(\"Train accuracy : \"+str(model.score(train_data,train_label)))\r\n",
        "print(\"Validation accuracy : \"+str(model.score(val_data,val_label)))\r\n",
        "print(\"Precision : \"+str(precision_score(val_label,y_predict,average='macro', zero_division=0)))\r\n",
        "print(\"Recall : \"+str(recall_score(val_label,y_predict,average='macro', zero_division=0)))\r\n",
        "print(\"F1-Score : \"+str(f1_score(val_label,y_predict,average='macro', zero_division=0)))\r\n",
        "print(\"Classification Report\")\r\n",
        "print(classification_report(val_label,y_predict,zero_division=0))\r\n",
        "print(\"Confusion Matrix\")\r\n",
        "print(confusion_matrix(val_label,y_predict))\r\n",
        "#fig, ax = plt.subplots()\r\n",
        "#plot_confusion_matrix(val_label, y_predict, ax=ax)\r\n",
        "\r\n",
        "\r\n",
        "neptune.log_metric('Training Accuracy', model.score(train_data,train_label))\r\n",
        "neptune.log_metric('Validation Accuracy', model.score(val_data,val_label))\r\n",
        "neptune.log_metric('Precision',precision_score(val_label,y_predict,average='macro', zero_division=0))\r\n",
        "neptune.log_metric('Recall', recall_score(val_label,y_predict,average='macro', zero_division=0))\r\n",
        "neptune.log_metric('F1-Score',f1_score(val_label,y_predict,average='macro', zero_division=0))"
      ],
      "execution_count": 49,
      "outputs": [
        {
          "output_type": "stream",
          "text": [
            "Train accuracy : 1.0\n",
            "Validation accuracy : 0.42779192433612223\n",
            "Precision : 0.3273920266375233\n",
            "Recall : 0.3274397682525277\n",
            "F1-Score : 0.3274104464273428\n",
            "Classification Report\n",
            "              precision    recall  f1-score   support\n",
            "\n",
            "           0       0.57      0.58      0.57      1610\n",
            "           1       0.26      0.26      0.26       741\n",
            "           2       0.15      0.15      0.15       398\n",
            "\n",
            "    accuracy                           0.43      2749\n",
            "   macro avg       0.33      0.33      0.33      2749\n",
            "weighted avg       0.43      0.43      0.43      2749\n",
            "\n",
            "Confusion Matrix\n",
            "[[926 440 244]\n",
            " [452 190  99]\n",
            " [236 102  60]]\n"
          ],
          "name": "stdout"
        }
      ]
    },
    {
      "cell_type": "markdown",
      "metadata": {
        "id": "_KibxSrOmO7g"
      },
      "source": [
        "##Ensemble - extra tree classifier approach"
      ]
    },
    {
      "cell_type": "code",
      "metadata": {
        "colab": {
          "base_uri": "https://localhost:8080/"
        },
        "id": "fN0CwJ5OmPHe",
        "outputId": "e2cc4a99-0c25-4dd5-cbac-488349c7c83f"
      },
      "source": [
        "from sklearn.ensemble import ExtraTreesClassifier\r\n",
        "model = ExtraTreesClassifier(max_depth=6,n_estimators=100, class_weight = 'balanced')\r\n",
        "model.fit(train_data, train_label)\r\n",
        "y_predict= model.predict(val_data)\r\n",
        "print(\"Train accuracy : \"+str(model.score(train_data,train_label)))\r\n",
        "print(\"Validation accuracy : \"+str(model.score(val_data,val_label)))\r\n",
        "print(\"Precision : \"+str(precision_score(val_label,y_predict,average='macro', zero_division=0)))\r\n",
        "print(\"Recall : \"+str(recall_score(val_label,y_predict,average='macro', zero_division=0)))\r\n",
        "print(\"F1-Score : \"+str(f1_score(val_label,y_predict,average='macro', zero_division=0)))\r\n",
        "print(\"Classification Report\")\r\n",
        "print(classification_report(val_label,y_predict,zero_division=0))\r\n",
        "print(\"Confusion Matrix\")\r\n",
        "print(confusion_matrix(val_label,y_predict))\r\n",
        "#fig, ax = plt.subplots()\r\n",
        "#plot_confusion_matrix(val_label, y_predict, ax=ax)\r\n",
        "\r\n",
        "\r\n",
        "neptune.log_metric('Training Accuracy', model.score(train_data,train_label))\r\n",
        "neptune.log_metric('Validation Accuracy', model.score(val_data,val_label))\r\n",
        "neptune.log_metric('Precision',precision_score(val_label,y_predict,average='macro', zero_division=0))\r\n",
        "neptune.log_metric('Recall', recall_score(val_label,y_predict,average='macro', zero_division=0))\r\n",
        "neptune.log_metric('F1-Score',f1_score(val_label,y_predict,average='macro', zero_division=0))"
      ],
      "execution_count": 50,
      "outputs": [
        {
          "output_type": "stream",
          "text": [
            "Train accuracy : 0.4656836241500778\n",
            "Validation accuracy : 0.35685703892324483\n",
            "Precision : 0.35497140562764806\n",
            "Recall : 0.35499149098495947\n",
            "F1-Score : 0.3295084221965394\n",
            "Classification Report\n",
            "              precision    recall  f1-score   support\n",
            "\n",
            "           0       0.62      0.35      0.45      1610\n",
            "           1       0.29      0.37      0.33       741\n",
            "           2       0.15      0.34      0.21       398\n",
            "\n",
            "    accuracy                           0.36      2749\n",
            "   macro avg       0.35      0.35      0.33      2749\n",
            "weighted avg       0.46      0.36      0.38      2749\n",
            "\n",
            "Confusion Matrix\n",
            "[[571 521 518]\n",
            " [226 275 240]\n",
            " [125 138 135]]\n"
          ],
          "name": "stdout"
        }
      ]
    },
    {
      "cell_type": "markdown",
      "metadata": {
        "id": "mRUR6NojwRxg"
      },
      "source": [
        "##Neptune log order of Models"
      ]
    },
    {
      "cell_type": "code",
      "metadata": {
        "id": "a7SKhMljwRCf"
      },
      "source": [
        "model_list=['logistic regression','Decision Tree Classifier', 'XGB Boost','MLP classifier', 'Random Forest', 'KNN', 'Ensemble - extra tree classifier'  ]\r\n",
        "for i in model_list:\r\n",
        "  neptune.log_text('Model order',i)\r\n",
        "  "
      ],
      "execution_count": 51,
      "outputs": []
    },
    {
      "cell_type": "code",
      "metadata": {
        "id": "Vtb-7X-f7h_d"
      },
      "source": [
        "neptune.stop()"
      ],
      "execution_count": 52,
      "outputs": []
    },
    {
      "cell_type": "markdown",
      "metadata": {
        "id": "Y2FHQ8Do-IOA"
      },
      "source": [
        "#Prediction For submission"
      ]
    },
    {
      "cell_type": "code",
      "metadata": {
        "colab": {
          "base_uri": "https://localhost:8080/"
        },
        "id": "TgHPByDBlQ_a",
        "outputId": "2bb5610b-eaa9-4d73-cc47-9747b8103692"
      },
      "source": [
        "y_predict_2= model.predict(test_data)\r\n",
        "y_predict_2\r\n"
      ],
      "execution_count": 30,
      "outputs": [
        {
          "output_type": "execute_result",
          "data": {
            "text/plain": [
              "array([0, 0, 2, ..., 0, 0, 1])"
            ]
          },
          "metadata": {
            "tags": []
          },
          "execution_count": 30
        }
      ]
    },
    {
      "cell_type": "code",
      "metadata": {
        "colab": {
          "base_uri": "https://localhost:8080/"
        },
        "id": "S_rvCd4wQVc-",
        "outputId": "2cedd8ae-0249-4ccf-e659-fe319877836c"
      },
      "source": [
        "y_predict_2=le.inverse_transform(y_predict_2)\r\n",
        "y_predict_2"
      ],
      "execution_count": 31,
      "outputs": [
        {
          "output_type": "execute_result",
          "data": {
            "text/plain": [
              "array([1, 1, 3, ..., 1, 1, 2], dtype=object)"
            ]
          },
          "metadata": {
            "tags": []
          },
          "execution_count": 31
        }
      ]
    },
    {
      "cell_type": "code",
      "metadata": {
        "colab": {
          "base_uri": "https://localhost:8080/",
          "height": 391
        },
        "id": "AF0UopPkQtGk",
        "outputId": "a991ce70-a483-4672-8c6b-af878ea360ee"
      },
      "source": [
        "y_predict_2=pd.DataFrame(y_predict_2,columns=['Reservation_status'] )\r\n",
        "y_predict_2"
      ],
      "execution_count": 32,
      "outputs": [
        {
          "output_type": "execute_result",
          "data": {
            "text/html": [
              "<div>\n",
              "<style scoped>\n",
              "    .dataframe tbody tr th:only-of-type {\n",
              "        vertical-align: middle;\n",
              "    }\n",
              "\n",
              "    .dataframe tbody tr th {\n",
              "        vertical-align: top;\n",
              "    }\n",
              "\n",
              "    .dataframe thead th {\n",
              "        text-align: right;\n",
              "    }\n",
              "</style>\n",
              "<table border=\"1\" class=\"dataframe\">\n",
              "  <thead>\n",
              "    <tr style=\"text-align: right;\">\n",
              "      <th></th>\n",
              "      <th>Reservation_status</th>\n",
              "    </tr>\n",
              "  </thead>\n",
              "  <tbody>\n",
              "    <tr>\n",
              "      <th>0</th>\n",
              "      <td>1</td>\n",
              "    </tr>\n",
              "    <tr>\n",
              "      <th>1</th>\n",
              "      <td>1</td>\n",
              "    </tr>\n",
              "    <tr>\n",
              "      <th>2</th>\n",
              "      <td>3</td>\n",
              "    </tr>\n",
              "    <tr>\n",
              "      <th>3</th>\n",
              "      <td>1</td>\n",
              "    </tr>\n",
              "    <tr>\n",
              "      <th>4</th>\n",
              "      <td>1</td>\n",
              "    </tr>\n",
              "    <tr>\n",
              "      <th>...</th>\n",
              "      <td>...</td>\n",
              "    </tr>\n",
              "    <tr>\n",
              "      <th>4313</th>\n",
              "      <td>2</td>\n",
              "    </tr>\n",
              "    <tr>\n",
              "      <th>4314</th>\n",
              "      <td>1</td>\n",
              "    </tr>\n",
              "    <tr>\n",
              "      <th>4315</th>\n",
              "      <td>1</td>\n",
              "    </tr>\n",
              "    <tr>\n",
              "      <th>4316</th>\n",
              "      <td>1</td>\n",
              "    </tr>\n",
              "    <tr>\n",
              "      <th>4317</th>\n",
              "      <td>2</td>\n",
              "    </tr>\n",
              "  </tbody>\n",
              "</table>\n",
              "<p>4318 rows × 1 columns</p>\n",
              "</div>"
            ],
            "text/plain": [
              "     Reservation_status\n",
              "0                     1\n",
              "1                     1\n",
              "2                     3\n",
              "3                     1\n",
              "4                     1\n",
              "...                 ...\n",
              "4313                  2\n",
              "4314                  1\n",
              "4315                  1\n",
              "4316                  1\n",
              "4317                  2\n",
              "\n",
              "[4318 rows x 1 columns]"
            ]
          },
          "metadata": {
            "tags": []
          },
          "execution_count": 32
        }
      ]
    },
    {
      "cell_type": "code",
      "metadata": {
        "colab": {
          "base_uri": "https://localhost:8080/",
          "height": 0
        },
        "id": "52bWVSSXSEj3",
        "outputId": "3cf3f098-13d4-4757-dd0c-a992c982ba42"
      },
      "source": [
        "test_reservation=pd.DataFrame(test_reservation)\r\n",
        "test_reservation"
      ],
      "execution_count": 33,
      "outputs": [
        {
          "output_type": "execute_result",
          "data": {
            "text/html": [
              "<div>\n",
              "<style scoped>\n",
              "    .dataframe tbody tr th:only-of-type {\n",
              "        vertical-align: middle;\n",
              "    }\n",
              "\n",
              "    .dataframe tbody tr th {\n",
              "        vertical-align: top;\n",
              "    }\n",
              "\n",
              "    .dataframe thead th {\n",
              "        text-align: right;\n",
              "    }\n",
              "</style>\n",
              "<table border=\"1\" class=\"dataframe\">\n",
              "  <thead>\n",
              "    <tr style=\"text-align: right;\">\n",
              "      <th></th>\n",
              "      <th>Reservation-id</th>\n",
              "    </tr>\n",
              "  </thead>\n",
              "  <tbody>\n",
              "    <tr>\n",
              "      <th>0</th>\n",
              "      <td>62931593</td>\n",
              "    </tr>\n",
              "    <tr>\n",
              "      <th>1</th>\n",
              "      <td>70586099</td>\n",
              "    </tr>\n",
              "    <tr>\n",
              "      <th>2</th>\n",
              "      <td>4230648</td>\n",
              "    </tr>\n",
              "    <tr>\n",
              "      <th>3</th>\n",
              "      <td>25192322</td>\n",
              "    </tr>\n",
              "    <tr>\n",
              "      <th>4</th>\n",
              "      <td>80931528</td>\n",
              "    </tr>\n",
              "    <tr>\n",
              "      <th>...</th>\n",
              "      <td>...</td>\n",
              "    </tr>\n",
              "    <tr>\n",
              "      <th>4313</th>\n",
              "      <td>39110574</td>\n",
              "    </tr>\n",
              "    <tr>\n",
              "      <th>4314</th>\n",
              "      <td>5496554</td>\n",
              "    </tr>\n",
              "    <tr>\n",
              "      <th>4315</th>\n",
              "      <td>59004046</td>\n",
              "    </tr>\n",
              "    <tr>\n",
              "      <th>4316</th>\n",
              "      <td>65838682</td>\n",
              "    </tr>\n",
              "    <tr>\n",
              "      <th>4317</th>\n",
              "      <td>14474101</td>\n",
              "    </tr>\n",
              "  </tbody>\n",
              "</table>\n",
              "<p>4318 rows × 1 columns</p>\n",
              "</div>"
            ],
            "text/plain": [
              "      Reservation-id\n",
              "0           62931593\n",
              "1           70586099\n",
              "2            4230648\n",
              "3           25192322\n",
              "4           80931528\n",
              "...              ...\n",
              "4313        39110574\n",
              "4314         5496554\n",
              "4315        59004046\n",
              "4316        65838682\n",
              "4317        14474101\n",
              "\n",
              "[4318 rows x 1 columns]"
            ]
          },
          "metadata": {
            "tags": []
          },
          "execution_count": 33
        }
      ]
    },
    {
      "cell_type": "code",
      "metadata": {
        "colab": {
          "base_uri": "https://localhost:8080/",
          "height": 0
        },
        "id": "aR96ORxqQxHa",
        "outputId": "78cf1f3d-0751-4033-e123-e7b5e5759e97"
      },
      "source": [
        "test_reservation=pd.concat([test_reservation,y_predict_2],axis=1)\r\n",
        "test_reservation"
      ],
      "execution_count": 34,
      "outputs": [
        {
          "output_type": "execute_result",
          "data": {
            "text/html": [
              "<div>\n",
              "<style scoped>\n",
              "    .dataframe tbody tr th:only-of-type {\n",
              "        vertical-align: middle;\n",
              "    }\n",
              "\n",
              "    .dataframe tbody tr th {\n",
              "        vertical-align: top;\n",
              "    }\n",
              "\n",
              "    .dataframe thead th {\n",
              "        text-align: right;\n",
              "    }\n",
              "</style>\n",
              "<table border=\"1\" class=\"dataframe\">\n",
              "  <thead>\n",
              "    <tr style=\"text-align: right;\">\n",
              "      <th></th>\n",
              "      <th>Reservation-id</th>\n",
              "      <th>Reservation_status</th>\n",
              "    </tr>\n",
              "  </thead>\n",
              "  <tbody>\n",
              "    <tr>\n",
              "      <th>0</th>\n",
              "      <td>62931593</td>\n",
              "      <td>1</td>\n",
              "    </tr>\n",
              "    <tr>\n",
              "      <th>1</th>\n",
              "      <td>70586099</td>\n",
              "      <td>1</td>\n",
              "    </tr>\n",
              "    <tr>\n",
              "      <th>2</th>\n",
              "      <td>4230648</td>\n",
              "      <td>3</td>\n",
              "    </tr>\n",
              "    <tr>\n",
              "      <th>3</th>\n",
              "      <td>25192322</td>\n",
              "      <td>1</td>\n",
              "    </tr>\n",
              "    <tr>\n",
              "      <th>4</th>\n",
              "      <td>80931528</td>\n",
              "      <td>1</td>\n",
              "    </tr>\n",
              "    <tr>\n",
              "      <th>...</th>\n",
              "      <td>...</td>\n",
              "      <td>...</td>\n",
              "    </tr>\n",
              "    <tr>\n",
              "      <th>4313</th>\n",
              "      <td>39110574</td>\n",
              "      <td>2</td>\n",
              "    </tr>\n",
              "    <tr>\n",
              "      <th>4314</th>\n",
              "      <td>5496554</td>\n",
              "      <td>1</td>\n",
              "    </tr>\n",
              "    <tr>\n",
              "      <th>4315</th>\n",
              "      <td>59004046</td>\n",
              "      <td>1</td>\n",
              "    </tr>\n",
              "    <tr>\n",
              "      <th>4316</th>\n",
              "      <td>65838682</td>\n",
              "      <td>1</td>\n",
              "    </tr>\n",
              "    <tr>\n",
              "      <th>4317</th>\n",
              "      <td>14474101</td>\n",
              "      <td>2</td>\n",
              "    </tr>\n",
              "  </tbody>\n",
              "</table>\n",
              "<p>4318 rows × 2 columns</p>\n",
              "</div>"
            ],
            "text/plain": [
              "      Reservation-id Reservation_status\n",
              "0           62931593                  1\n",
              "1           70586099                  1\n",
              "2            4230648                  3\n",
              "3           25192322                  1\n",
              "4           80931528                  1\n",
              "...              ...                ...\n",
              "4313        39110574                  2\n",
              "4314         5496554                  1\n",
              "4315        59004046                  1\n",
              "4316        65838682                  1\n",
              "4317        14474101                  2\n",
              "\n",
              "[4318 rows x 2 columns]"
            ]
          },
          "metadata": {
            "tags": []
          },
          "execution_count": 34
        }
      ]
    },
    {
      "cell_type": "code",
      "metadata": {
        "id": "YJHlvr10SaS4"
      },
      "source": [
        "test_reservation.to_csv('submission_XGBoost_upsampled_0.33_0.33_0.33_selected_feature_16.csv',index=False)"
      ],
      "execution_count": 35,
      "outputs": []
    },
    {
      "cell_type": "code",
      "metadata": {
        "id": "5qXZnp-qWa-l"
      },
      "source": [
        ""
      ],
      "execution_count": null,
      "outputs": []
    }
  ]
}