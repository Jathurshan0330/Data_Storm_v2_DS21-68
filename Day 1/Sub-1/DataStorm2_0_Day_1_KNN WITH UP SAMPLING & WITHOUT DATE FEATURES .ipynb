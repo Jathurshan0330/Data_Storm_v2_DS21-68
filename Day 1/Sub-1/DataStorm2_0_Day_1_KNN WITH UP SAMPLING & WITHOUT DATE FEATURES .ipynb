{
  "nbformat": 4,
  "nbformat_minor": 0,
  "metadata": {
    "colab": {
      "name": "DataStorm2.0 Day 1.ipynb",
      "provenance": [],
      "collapsed_sections": [
        "oD1VC3Ntrt1o",
        "Y8QYGdzrsMLz",
        "pyDUk13liskQ",
        "3HrriTpoiyaD",
        "64k5nSUH1OMG",
        "EFfqO5nIDMdv",
        "tMVdeHLoA-5V",
        "uBiIdXTUtSJ9"
      ]
    },
    "kernelspec": {
      "name": "python3",
      "display_name": "Python 3"
    }
  },
  "cells": [
    {
      "cell_type": "markdown",
      "metadata": {
        "id": "KvcMYg7Eg7Mp"
      },
      "source": [
        "#Import Libraries"
      ]
    },
    {
      "cell_type": "markdown",
      "metadata": {
        "id": "oD1VC3Ntrt1o"
      },
      "source": [
        "##Neptune Ai"
      ]
    },
    {
      "cell_type": "code",
      "metadata": {
        "colab": {
          "base_uri": "https://localhost:8080/"
        },
        "id": "_r09JJunrtPs",
        "outputId": "879aa308-958c-47d1-adb0-adb4b18032b1"
      },
      "source": [
        "! pip install neptune-client==0.4.132\r\n"
      ],
      "execution_count": 1,
      "outputs": [
        {
          "output_type": "stream",
          "text": [
            "Requirement already satisfied: neptune-client==0.4.132 in /usr/local/lib/python3.7/dist-packages (0.4.132)\n",
            "Requirement already satisfied: Pillow>=1.1.6 in /usr/local/lib/python3.7/dist-packages (from neptune-client==0.4.132) (7.0.0)\n",
            "Requirement already satisfied: future>=0.17.1 in /usr/local/lib/python3.7/dist-packages (from neptune-client==0.4.132) (0.18.2)\n",
            "Requirement already satisfied: packaging in /usr/local/lib/python3.7/dist-packages (from neptune-client==0.4.132) (20.9)\n",
            "Requirement already satisfied: GitPython>=2.0.8 in /usr/local/lib/python3.7/dist-packages (from neptune-client==0.4.132) (3.1.14)\n",
            "Requirement already satisfied: pandas in /usr/local/lib/python3.7/dist-packages (from neptune-client==0.4.132) (1.1.5)\n",
            "Requirement already satisfied: six>=1.12.0 in /usr/local/lib/python3.7/dist-packages (from neptune-client==0.4.132) (1.15.0)\n",
            "Requirement already satisfied: requests-oauthlib>=1.0.0 in /usr/local/lib/python3.7/dist-packages (from neptune-client==0.4.132) (1.3.0)\n",
            "Requirement already satisfied: click>=7.0 in /usr/local/lib/python3.7/dist-packages (from neptune-client==0.4.132) (7.1.2)\n",
            "Requirement already satisfied: bravado in /usr/local/lib/python3.7/dist-packages (from neptune-client==0.4.132) (11.0.3)\n",
            "Requirement already satisfied: PyJWT in /usr/local/lib/python3.7/dist-packages (from neptune-client==0.4.132) (2.0.1)\n",
            "Requirement already satisfied: requests>=2.20.0 in /usr/local/lib/python3.7/dist-packages (from neptune-client==0.4.132) (2.23.0)\n",
            "Requirement already satisfied: websocket-client>=0.35.0 in /usr/local/lib/python3.7/dist-packages (from neptune-client==0.4.132) (0.58.0)\n",
            "Requirement already satisfied: oauthlib>=2.1.0 in /usr/local/lib/python3.7/dist-packages (from neptune-client==0.4.132) (3.1.0)\n",
            "Requirement already satisfied: pyparsing>=2.0.2 in /usr/local/lib/python3.7/dist-packages (from packaging->neptune-client==0.4.132) (2.4.7)\n",
            "Requirement already satisfied: gitdb<5,>=4.0.1 in /usr/local/lib/python3.7/dist-packages (from GitPython>=2.0.8->neptune-client==0.4.132) (4.0.5)\n",
            "Requirement already satisfied: python-dateutil>=2.7.3 in /usr/local/lib/python3.7/dist-packages (from pandas->neptune-client==0.4.132) (2.8.1)\n",
            "Requirement already satisfied: pytz>=2017.2 in /usr/local/lib/python3.7/dist-packages (from pandas->neptune-client==0.4.132) (2018.9)\n",
            "Requirement already satisfied: numpy>=1.15.4 in /usr/local/lib/python3.7/dist-packages (from pandas->neptune-client==0.4.132) (1.19.5)\n",
            "Requirement already satisfied: typing-extensions in /usr/local/lib/python3.7/dist-packages (from bravado->neptune-client==0.4.132) (3.7.4.3)\n",
            "Requirement already satisfied: msgpack in /usr/local/lib/python3.7/dist-packages (from bravado->neptune-client==0.4.132) (1.0.2)\n",
            "Requirement already satisfied: monotonic in /usr/local/lib/python3.7/dist-packages (from bravado->neptune-client==0.4.132) (1.5)\n",
            "Requirement already satisfied: pyyaml in /usr/local/lib/python3.7/dist-packages (from bravado->neptune-client==0.4.132) (3.13)\n",
            "Requirement already satisfied: bravado-core>=5.16.1 in /usr/local/lib/python3.7/dist-packages (from bravado->neptune-client==0.4.132) (5.17.0)\n",
            "Requirement already satisfied: simplejson in /usr/local/lib/python3.7/dist-packages (from bravado->neptune-client==0.4.132) (3.17.2)\n",
            "Requirement already satisfied: certifi>=2017.4.17 in /usr/local/lib/python3.7/dist-packages (from requests>=2.20.0->neptune-client==0.4.132) (2020.12.5)\n",
            "Requirement already satisfied: idna<3,>=2.5 in /usr/local/lib/python3.7/dist-packages (from requests>=2.20.0->neptune-client==0.4.132) (2.10)\n",
            "Requirement already satisfied: urllib3!=1.25.0,!=1.25.1,<1.26,>=1.21.1 in /usr/local/lib/python3.7/dist-packages (from requests>=2.20.0->neptune-client==0.4.132) (1.24.3)\n",
            "Requirement already satisfied: chardet<4,>=3.0.2 in /usr/local/lib/python3.7/dist-packages (from requests>=2.20.0->neptune-client==0.4.132) (3.0.4)\n",
            "Requirement already satisfied: smmap<4,>=3.0.1 in /usr/local/lib/python3.7/dist-packages (from gitdb<5,>=4.0.1->GitPython>=2.0.8->neptune-client==0.4.132) (3.0.5)\n",
            "Requirement already satisfied: jsonschema[format]>=2.5.1 in /usr/local/lib/python3.7/dist-packages (from bravado-core>=5.16.1->bravado->neptune-client==0.4.132) (2.6.0)\n",
            "Requirement already satisfied: jsonref in /usr/local/lib/python3.7/dist-packages (from bravado-core>=5.16.1->bravado->neptune-client==0.4.132) (0.2)\n",
            "Requirement already satisfied: swagger-spec-validator>=2.0.1 in /usr/local/lib/python3.7/dist-packages (from bravado-core>=5.16.1->bravado->neptune-client==0.4.132) (2.7.3)\n",
            "Requirement already satisfied: strict-rfc3339; extra == \"format\" in /usr/local/lib/python3.7/dist-packages (from jsonschema[format]>=2.5.1->bravado-core>=5.16.1->bravado->neptune-client==0.4.132) (0.7)\n",
            "Requirement already satisfied: webcolors; extra == \"format\" in /usr/local/lib/python3.7/dist-packages (from jsonschema[format]>=2.5.1->bravado-core>=5.16.1->bravado->neptune-client==0.4.132) (1.11.1)\n",
            "Requirement already satisfied: rfc3987; extra == \"format\" in /usr/local/lib/python3.7/dist-packages (from jsonschema[format]>=2.5.1->bravado-core>=5.16.1->bravado->neptune-client==0.4.132) (1.3.8)\n"
          ],
          "name": "stdout"
        }
      ]
    },
    {
      "cell_type": "code",
      "metadata": {
        "colab": {
          "base_uri": "https://localhost:8080/"
        },
        "id": "D1Bu88-Ks_Ij",
        "outputId": "ebb4c52d-3dfb-4d24-cde8-ef27858d2694"
      },
      "source": [
        "pip install  neptune-contrib neptune-client\r\n"
      ],
      "execution_count": 2,
      "outputs": [
        {
          "output_type": "stream",
          "text": [
            "Requirement already satisfied: neptune-contrib in /usr/local/lib/python3.7/dist-packages (0.27.1)\n",
            "Requirement already satisfied: neptune-client in /usr/local/lib/python3.7/dist-packages (0.4.132)\n",
            "Requirement already satisfied: attrdict>=2.0.0 in /usr/local/lib/python3.7/dist-packages (from neptune-contrib) (2.0.1)\n",
            "Requirement already satisfied: pandas in /usr/local/lib/python3.7/dist-packages (from neptune-contrib) (1.1.5)\n",
            "Requirement already satisfied: Pillow>=6.2.0 in /usr/local/lib/python3.7/dist-packages (from neptune-contrib) (7.0.0)\n",
            "Requirement already satisfied: matplotlib in /usr/local/lib/python3.7/dist-packages (from neptune-contrib) (3.2.2)\n",
            "Requirement already satisfied: joblib>=0.13 in /usr/local/lib/python3.7/dist-packages (from neptune-contrib) (1.0.1)\n",
            "Requirement already satisfied: click>=7.0 in /usr/local/lib/python3.7/dist-packages (from neptune-client) (7.1.2)\n",
            "Requirement already satisfied: PyJWT in /usr/local/lib/python3.7/dist-packages (from neptune-client) (2.0.1)\n",
            "Requirement already satisfied: GitPython>=2.0.8 in /usr/local/lib/python3.7/dist-packages (from neptune-client) (3.1.14)\n",
            "Requirement already satisfied: requests-oauthlib>=1.0.0 in /usr/local/lib/python3.7/dist-packages (from neptune-client) (1.3.0)\n",
            "Requirement already satisfied: future>=0.17.1 in /usr/local/lib/python3.7/dist-packages (from neptune-client) (0.18.2)\n",
            "Requirement already satisfied: packaging in /usr/local/lib/python3.7/dist-packages (from neptune-client) (20.9)\n",
            "Requirement already satisfied: requests>=2.20.0 in /usr/local/lib/python3.7/dist-packages (from neptune-client) (2.23.0)\n",
            "Requirement already satisfied: websocket-client>=0.35.0 in /usr/local/lib/python3.7/dist-packages (from neptune-client) (0.58.0)\n",
            "Requirement already satisfied: bravado in /usr/local/lib/python3.7/dist-packages (from neptune-client) (11.0.3)\n",
            "Requirement already satisfied: oauthlib>=2.1.0 in /usr/local/lib/python3.7/dist-packages (from neptune-client) (3.1.0)\n",
            "Requirement already satisfied: six>=1.12.0 in /usr/local/lib/python3.7/dist-packages (from neptune-client) (1.15.0)\n",
            "Requirement already satisfied: python-dateutil>=2.7.3 in /usr/local/lib/python3.7/dist-packages (from pandas->neptune-contrib) (2.8.1)\n",
            "Requirement already satisfied: pytz>=2017.2 in /usr/local/lib/python3.7/dist-packages (from pandas->neptune-contrib) (2018.9)\n",
            "Requirement already satisfied: numpy>=1.15.4 in /usr/local/lib/python3.7/dist-packages (from pandas->neptune-contrib) (1.19.5)\n",
            "Requirement already satisfied: pyparsing!=2.0.4,!=2.1.2,!=2.1.6,>=2.0.1 in /usr/local/lib/python3.7/dist-packages (from matplotlib->neptune-contrib) (2.4.7)\n",
            "Requirement already satisfied: cycler>=0.10 in /usr/local/lib/python3.7/dist-packages (from matplotlib->neptune-contrib) (0.10.0)\n",
            "Requirement already satisfied: kiwisolver>=1.0.1 in /usr/local/lib/python3.7/dist-packages (from matplotlib->neptune-contrib) (1.3.1)\n",
            "Requirement already satisfied: gitdb<5,>=4.0.1 in /usr/local/lib/python3.7/dist-packages (from GitPython>=2.0.8->neptune-client) (4.0.5)\n",
            "Requirement already satisfied: idna<3,>=2.5 in /usr/local/lib/python3.7/dist-packages (from requests>=2.20.0->neptune-client) (2.10)\n",
            "Requirement already satisfied: certifi>=2017.4.17 in /usr/local/lib/python3.7/dist-packages (from requests>=2.20.0->neptune-client) (2020.12.5)\n",
            "Requirement already satisfied: chardet<4,>=3.0.2 in /usr/local/lib/python3.7/dist-packages (from requests>=2.20.0->neptune-client) (3.0.4)\n",
            "Requirement already satisfied: urllib3!=1.25.0,!=1.25.1,<1.26,>=1.21.1 in /usr/local/lib/python3.7/dist-packages (from requests>=2.20.0->neptune-client) (1.24.3)\n",
            "Requirement already satisfied: typing-extensions in /usr/local/lib/python3.7/dist-packages (from bravado->neptune-client) (3.7.4.3)\n",
            "Requirement already satisfied: pyyaml in /usr/local/lib/python3.7/dist-packages (from bravado->neptune-client) (3.13)\n",
            "Requirement already satisfied: simplejson in /usr/local/lib/python3.7/dist-packages (from bravado->neptune-client) (3.17.2)\n",
            "Requirement already satisfied: monotonic in /usr/local/lib/python3.7/dist-packages (from bravado->neptune-client) (1.5)\n",
            "Requirement already satisfied: bravado-core>=5.16.1 in /usr/local/lib/python3.7/dist-packages (from bravado->neptune-client) (5.17.0)\n",
            "Requirement already satisfied: msgpack in /usr/local/lib/python3.7/dist-packages (from bravado->neptune-client) (1.0.2)\n",
            "Requirement already satisfied: smmap<4,>=3.0.1 in /usr/local/lib/python3.7/dist-packages (from gitdb<5,>=4.0.1->GitPython>=2.0.8->neptune-client) (3.0.5)\n",
            "Requirement already satisfied: jsonschema[format]>=2.5.1 in /usr/local/lib/python3.7/dist-packages (from bravado-core>=5.16.1->bravado->neptune-client) (2.6.0)\n",
            "Requirement already satisfied: swagger-spec-validator>=2.0.1 in /usr/local/lib/python3.7/dist-packages (from bravado-core>=5.16.1->bravado->neptune-client) (2.7.3)\n",
            "Requirement already satisfied: jsonref in /usr/local/lib/python3.7/dist-packages (from bravado-core>=5.16.1->bravado->neptune-client) (0.2)\n",
            "Requirement already satisfied: rfc3987; extra == \"format\" in /usr/local/lib/python3.7/dist-packages (from jsonschema[format]>=2.5.1->bravado-core>=5.16.1->bravado->neptune-client) (1.3.8)\n",
            "Requirement already satisfied: webcolors; extra == \"format\" in /usr/local/lib/python3.7/dist-packages (from jsonschema[format]>=2.5.1->bravado-core>=5.16.1->bravado->neptune-client) (1.11.1)\n",
            "Requirement already satisfied: strict-rfc3339; extra == \"format\" in /usr/local/lib/python3.7/dist-packages (from jsonschema[format]>=2.5.1->bravado-core>=5.16.1->bravado->neptune-client) (0.7)\n"
          ],
          "name": "stdout"
        }
      ]
    },
    {
      "cell_type": "code",
      "metadata": {
        "colab": {
          "base_uri": "https://localhost:8080/"
        },
        "id": "xODauqvZr2_e",
        "outputId": "35c21bfc-835e-4abd-d4a5-148203faf9a1"
      },
      "source": [
        "import neptune\r\n",
        "from neptunecontrib.monitoring.keras import NeptuneMonitor\r\n",
        "neptune.init(project_qualified_name='jathurshan0330/DataStorm2-round1', # change this to your `workspace_name/project_name`\r\n",
        "             api_token='eyJhcGlfYWRkcmVzcyI6Imh0dHBzOi8vdWkubmVwdHVuZS5haSIsImFwaV91cmwiOiJodHRwczovL3VpLm5lcHR1bmUuYWkiLCJhcGlfa2V5IjoiZmJkZjYxNGYtMTA0ZC00ZTc1LWJiMTYtNzczNjgwZWQ3OTUzIn0=', # change this to your api token\r\n",
        "            )"
      ],
      "execution_count": 3,
      "outputs": [
        {
          "output_type": "execute_result",
          "data": {
            "text/plain": [
              "Project(jathurshan0330/DataStorm2-round1)"
            ]
          },
          "metadata": {
            "tags": []
          },
          "execution_count": 3
        }
      ]
    },
    {
      "cell_type": "markdown",
      "metadata": {
        "id": "Y8QYGdzrsMLz"
      },
      "source": [
        "##other necessary libraries"
      ]
    },
    {
      "cell_type": "code",
      "metadata": {
        "id": "vgWUBI95eR_-"
      },
      "source": [
        "import os\r\n",
        "import sys\r\n",
        "import numpy as np\r\n",
        "import pandas as pd\r\n",
        "import matplotlib.pyplot as plt\r\n",
        "import scipy.io\r\n",
        "import seaborn as sns\r\n",
        "from sklearn.model_selection import train_test_split\r\n",
        "import tensorflow as tf\r\n",
        "from scipy import stats \r\n",
        "from tensorflow.keras.models import Sequential,Model\r\n",
        "from tensorflow.keras.layers import Dense, Input,LSTM,Reshape,Conv2D,Flatten,Dropout,BatchNormalization, LeakyReLU, concatenate, GRU, GlobalMaxPooling1D, GlobalMaxPooling2D, Bidirectional"
      ],
      "execution_count": 4,
      "outputs": []
    },
    {
      "cell_type": "code",
      "metadata": {
        "colab": {
          "base_uri": "https://localhost:8080/"
        },
        "id": "qVw6UsLvAk8y",
        "outputId": "6648484c-3d73-47ee-e23f-1031a6f991ff"
      },
      "source": [
        "!pip install scikit-plot"
      ],
      "execution_count": 5,
      "outputs": [
        {
          "output_type": "stream",
          "text": [
            "Requirement already satisfied: scikit-plot in /usr/local/lib/python3.7/dist-packages (0.3.7)\n",
            "Requirement already satisfied: joblib>=0.10 in /usr/local/lib/python3.7/dist-packages (from scikit-plot) (1.0.1)\n",
            "Requirement already satisfied: scipy>=0.9 in /usr/local/lib/python3.7/dist-packages (from scikit-plot) (1.4.1)\n",
            "Requirement already satisfied: matplotlib>=1.4.0 in /usr/local/lib/python3.7/dist-packages (from scikit-plot) (3.2.2)\n",
            "Requirement already satisfied: scikit-learn>=0.18 in /usr/local/lib/python3.7/dist-packages (from scikit-plot) (0.22.2.post1)\n",
            "Requirement already satisfied: numpy>=1.13.3 in /usr/local/lib/python3.7/dist-packages (from scipy>=0.9->scikit-plot) (1.19.5)\n",
            "Requirement already satisfied: cycler>=0.10 in /usr/local/lib/python3.7/dist-packages (from matplotlib>=1.4.0->scikit-plot) (0.10.0)\n",
            "Requirement already satisfied: kiwisolver>=1.0.1 in /usr/local/lib/python3.7/dist-packages (from matplotlib>=1.4.0->scikit-plot) (1.3.1)\n",
            "Requirement already satisfied: pyparsing!=2.0.4,!=2.1.2,!=2.1.6,>=2.0.1 in /usr/local/lib/python3.7/dist-packages (from matplotlib>=1.4.0->scikit-plot) (2.4.7)\n",
            "Requirement already satisfied: python-dateutil>=2.1 in /usr/local/lib/python3.7/dist-packages (from matplotlib>=1.4.0->scikit-plot) (2.8.1)\n",
            "Requirement already satisfied: six in /usr/local/lib/python3.7/dist-packages (from cycler>=0.10->matplotlib>=1.4.0->scikit-plot) (1.15.0)\n"
          ],
          "name": "stdout"
        }
      ]
    },
    {
      "cell_type": "markdown",
      "metadata": {
        "id": "SJ9fLI4PhB-F"
      },
      "source": [
        "#Read Data"
      ]
    },
    {
      "cell_type": "markdown",
      "metadata": {
        "id": "pyDUk13liskQ"
      },
      "source": [
        "##Mount Drive"
      ]
    },
    {
      "cell_type": "code",
      "metadata": {
        "colab": {
          "base_uri": "https://localhost:8080/"
        },
        "id": "8tMfAusZeXlc",
        "outputId": "c3b92e6e-26ee-4690-f23a-35b1f88fb827"
      },
      "source": [
        "from google.colab import drive\r\n",
        "drive.mount('/content/drive')"
      ],
      "execution_count": 6,
      "outputs": [
        {
          "output_type": "stream",
          "text": [
            "Drive already mounted at /content/drive; to attempt to forcibly remount, call drive.mount(\"/content/drive\", force_remount=True).\n"
          ],
          "name": "stdout"
        }
      ]
    },
    {
      "cell_type": "code",
      "metadata": {
        "colab": {
          "base_uri": "https://localhost:8080/"
        },
        "id": "h73RjtZveaoz",
        "outputId": "0a122604-1dce-44ce-8575-b1f440f4b1e2"
      },
      "source": [
        "cd '/content/drive/My Drive/Datastorm2.0'"
      ],
      "execution_count": 7,
      "outputs": [
        {
          "output_type": "stream",
          "text": [
            "/content/drive/My Drive/Datastorm2.0\n"
          ],
          "name": "stdout"
        }
      ]
    },
    {
      "cell_type": "code",
      "metadata": {
        "colab": {
          "base_uri": "https://localhost:8080/"
        },
        "id": "0kMFX-PPefgF",
        "outputId": "9cfc1543-5504-4997-b2f7-b1cabe6d9702"
      },
      "source": [
        "!ls '/content/drive/My Drive/Datastorm2.0'"
      ],
      "execution_count": 8,
      "outputs": [
        {
          "output_type": "stream",
          "text": [
            "DataStorm2.0_Q1-v2.pdf\t     Hotel-A-train.csv\t      train_data_upsamp.csv\n",
            "Hotel-A-data-dictionary.csv  Hotel-A-validation.csv   train_labels_upsamp_2.csv\n",
            "Hotel-A-test.csv\t     train_data_upsamp_2.csv  train_labels_upsamp.csv\n"
          ],
          "name": "stdout"
        }
      ]
    },
    {
      "cell_type": "markdown",
      "metadata": {
        "id": "3HrriTpoiyaD"
      },
      "source": [
        "##Data"
      ]
    },
    {
      "cell_type": "code",
      "metadata": {
        "colab": {
          "base_uri": "https://localhost:8080/"
        },
        "id": "7NolRjB3fyDJ",
        "outputId": "81809a2c-7ddd-4631-ed1e-e4a38582e15c"
      },
      "source": [
        "train_data = pd.read_csv('Hotel-A-train.csv')\r\n",
        "print(train_data.head()) \r\n",
        "print(train_data.shape)\r\n",
        "val_data = pd.read_csv('Hotel-A-validation.csv')\r\n",
        "print(val_data.head()) \r\n",
        "print(val_data.shape)\r\n",
        "test_data = pd.read_csv('Hotel-A-test.csv')\r\n",
        "print(test_data.head())\r\n",
        "print(test_data.shape) \r\n",
        "\r\n"
      ],
      "execution_count": 9,
      "outputs": [
        {
          "output_type": "stream",
          "text": [
            "   Reservation-id Gender  Age  ... Use_Promotion Discount_Rate Room_Rate\n",
            "0        39428300      F   40  ...           Yes            10       218\n",
            "1        77491756      F   49  ...            No             0       185\n",
            "2        73747291      F   42  ...            No             0       119\n",
            "3        67301739      M   25  ...           Yes             5       144\n",
            "4        77222321      F   62  ...           Yes            10       242\n",
            "\n",
            "[5 rows x 24 columns]\n",
            "(27499, 24)\n",
            "   Reservation-id Gender  Age  ... Use_Promotion Discount_Rate Room_Rate\n",
            "0        45716350      M   56  ...           Yes            15       192\n",
            "1        88857401      M   60  ...            No             0       187\n",
            "2        16074440      F   58  ...           Yes            10       227\n",
            "3        10992124      F   23  ...           Yes            25       189\n",
            "4        15934351      F   47  ...           Yes            10       218\n",
            "\n",
            "[5 rows x 24 columns]\n",
            "(2749, 24)\n",
            "   Reservation-id Gender  Age  ... Use_Promotion Discount_Rate Room_Rate\n",
            "0        62931593      F   52  ...           Yes            10       153\n",
            "1        70586099      F   47  ...            No             0       210\n",
            "2         4230648      F   28  ...           Yes             5       117\n",
            "3        25192322      F   65  ...           Yes            10       107\n",
            "4        80931528      M   45  ...            No             0       119\n",
            "\n",
            "[5 rows x 23 columns]\n",
            "(4318, 23)\n"
          ],
          "name": "stdout"
        }
      ]
    },
    {
      "cell_type": "code",
      "metadata": {
        "colab": {
          "base_uri": "https://localhost:8080/"
        },
        "id": "_-FAXfn0nCLi",
        "outputId": "09d77a0a-68b5-4ce4-a851-1cf064e5a59b"
      },
      "source": [
        "print(train_data.isna().sum())\r\n",
        "print(val_data.isna().sum())\r\n",
        "print(test_data.isna().sum())"
      ],
      "execution_count": 10,
      "outputs": [
        {
          "output_type": "stream",
          "text": [
            "Reservation-id            0\n",
            "Gender                    0\n",
            "Age                       0\n",
            "Ethnicity                 0\n",
            "Educational_Level         0\n",
            "Income                    0\n",
            "Country_region            0\n",
            "Hotel_Type                0\n",
            "Expected_checkin          0\n",
            "Expected_checkout         0\n",
            "Booking_date              0\n",
            "Adults                    0\n",
            "Children                  0\n",
            "Babies                    0\n",
            "Meal_Type                 0\n",
            "Visted_Previously         0\n",
            "Previous_Cancellations    0\n",
            "Deposit_type              0\n",
            "Booking_channel           0\n",
            "Required_Car_Parking      0\n",
            "Reservation_Status        0\n",
            "Use_Promotion             0\n",
            "Discount_Rate             0\n",
            "Room_Rate                 0\n",
            "dtype: int64\n",
            "Reservation-id            0\n",
            "Gender                    0\n",
            "Age                       0\n",
            "Ethnicity                 0\n",
            "Educational_Level         0\n",
            "Income                    0\n",
            "Country_region            0\n",
            "Hotel_Type                0\n",
            "Expected_checkin          0\n",
            "Expected_checkout         0\n",
            "Booking_date              0\n",
            "Adults                    0\n",
            "Children                  0\n",
            "Babies                    0\n",
            "Meal_Type                 0\n",
            "Visted_Previously         0\n",
            "Previous_Cancellations    0\n",
            "Deposit_type              0\n",
            "Booking_channel           0\n",
            "Required_Car_Parking      0\n",
            "Reservation_Status        0\n",
            "Use_Promotion             0\n",
            "Discount_Rate             0\n",
            "Room_Rate                 0\n",
            "dtype: int64\n",
            "Reservation-id            0\n",
            "Gender                    0\n",
            "Age                       0\n",
            "Ethnicity                 0\n",
            "Educational_Level         0\n",
            "Income                    0\n",
            "Country_region            0\n",
            "Hotel_Type                0\n",
            "Expected_checkin          0\n",
            "Expected_checkout         0\n",
            "Booking_date              0\n",
            "Adults                    0\n",
            "Children                  0\n",
            "Babies                    0\n",
            "Meal_Type                 0\n",
            "Visted_Previously         0\n",
            "Previous_Cancellations    0\n",
            "Deposit_type              0\n",
            "Booking_channel           0\n",
            "Required_Car_Parking      0\n",
            "Use_Promotion             0\n",
            "Discount_Rate             0\n",
            "Room_Rate                 0\n",
            "dtype: int64\n"
          ],
          "name": "stdout"
        }
      ]
    },
    {
      "cell_type": "code",
      "metadata": {
        "colab": {
          "base_uri": "https://localhost:8080/"
        },
        "id": "6nBOmQmHhSew",
        "outputId": "3ae73abf-146e-4d36-901f-ededc4a3a637"
      },
      "source": [
        "train_labels = train_data.pop(\"Reservation_Status\")\r\n",
        "print(train_labels.head())\r\n",
        "\r\n",
        "for i in range (len(train_labels)):\r\n",
        "  if train_labels[i] == 'Check-In':\r\n",
        "    train_labels[i] = 1\r\n",
        "  if train_labels[i] == 'Canceled':\r\n",
        "    train_labels[i] = 2\r\n",
        "  if train_labels[i] == 'No-Show':\r\n",
        "    train_labels[i] = 3\r\n",
        "\r\n",
        "print(train_labels.head()) \r\n",
        "\r\n",
        "val_labels = val_data.pop(\"Reservation_Status\")\r\n",
        "print(val_labels.head())\r\n",
        "\r\n",
        "for i in range (len(val_labels)):\r\n",
        "  if val_labels[i] == 'Check-In':\r\n",
        "    val_labels[i] = 1\r\n",
        "   \r\n",
        "  if val_labels[i] == 'Canceled':\r\n",
        "    val_labels[i] = 2\r\n",
        "  if val_labels[i] == 'No-Show':\r\n",
        "    val_labels[i] = 3\r\n",
        "\r\n",
        "print(val_labels.head()) "
      ],
      "execution_count": 11,
      "outputs": [
        {
          "output_type": "stream",
          "text": [
            "0    Check-In\n",
            "1    Check-In\n",
            "2    Check-In\n",
            "3    Check-In\n",
            "4    Check-In\n",
            "Name: Reservation_Status, dtype: object\n",
            "0    1\n",
            "1    1\n",
            "2    1\n",
            "3    1\n",
            "4    1\n",
            "Name: Reservation_Status, dtype: object\n",
            "0     No-Show\n",
            "1    Canceled\n",
            "2    Canceled\n",
            "3    Check-In\n",
            "4    Check-In\n",
            "Name: Reservation_Status, dtype: object\n",
            "0    3\n",
            "1    2\n",
            "2    2\n",
            "3    1\n",
            "4    1\n",
            "Name: Reservation_Status, dtype: object\n"
          ],
          "name": "stdout"
        }
      ]
    },
    {
      "cell_type": "code",
      "metadata": {
        "colab": {
          "base_uri": "https://localhost:8080/"
        },
        "id": "2WU1t035i8WK",
        "outputId": "198177fe-e368-406e-d819-515affd26189"
      },
      "source": [
        "print(\"No of Check-In in training data : \" +str((train_labels == 1).sum()))\r\n",
        "print(\"No of Canceled in training data : \" +str((train_labels == 2).sum()))\r\n",
        "print(\"No of No-Show in training data : \" +str((train_labels == 3).sum()))\r\n",
        "tot=(train_labels == 1).sum()+(train_labels == 2).sum()+(train_labels == 3).sum()\r\n",
        "print(\"Ratio of Check-In : Canceled : No-Show  in training data = \" +str((train_labels == 1).sum()/tot)+' : '+str((train_labels == 2).sum()/tot)+' : '+str((train_labels == 3).sum()/tot))\r\n",
        "\r\n",
        "\r\n",
        "print(\"No of Check-In in validation data : \" +str((val_labels == 1).sum()))\r\n",
        "print(\"No of Canceled in validation data : \" +str((val_labels == 2).sum()))\r\n",
        "print(\"No of No-Show in validation data : \" +str((val_labels == 3).sum()))\r\n",
        "tot=(val_labels == 1).sum()+(val_labels == 2).sum()+(val_labels == 3).sum()\r\n",
        "print(\"Ratio of Check-In : Canceled : No-Show  in Validation data = \" +str((val_labels == 1).sum()/tot)+' : '+str((val_labels == 2).sum()/tot)+' : '+str((val_labels == 3).sum()/tot))\r\n"
      ],
      "execution_count": 12,
      "outputs": [
        {
          "output_type": "stream",
          "text": [
            "No of Check-In in training data : 21240\n",
            "No of Canceled in training data : 4134\n",
            "No of No-Show in training data : 2125\n",
            "Ratio of Check-In : Canceled : No-Show  in training data = 0.772391723335394 : 0.15033273937234082 : 0.07727553729226518\n",
            "No of Check-In in validation data : 1610\n",
            "No of Canceled in validation data : 741\n",
            "No of No-Show in validation data : 398\n",
            "Ratio of Check-In : Canceled : No-Show  in Validation data = 0.5856675154601674 : 0.26955256456893417 : 0.1447799199708985\n"
          ],
          "name": "stdout"
        }
      ]
    },
    {
      "cell_type": "markdown",
      "metadata": {
        "id": "7OdcsXyr1LTH"
      },
      "source": [
        "#Data Preprocessing"
      ]
    },
    {
      "cell_type": "markdown",
      "metadata": {
        "id": "zHyuG1ul-gNf"
      },
      "source": [
        "##Imbalanced Data Handling"
      ]
    },
    {
      "cell_type": "markdown",
      "metadata": {
        "id": "sYXslpnd_gNj"
      },
      "source": [
        "###READ previously saved data"
      ]
    },
    {
      "cell_type": "code",
      "metadata": {
        "colab": {
          "base_uri": "https://localhost:8080/"
        },
        "id": "bCvSDfRz_kcO",
        "outputId": "d60699c7-c3cb-4919-a8ea-6947f5c954fb"
      },
      "source": [
        "train_data = pd.read_csv('train_data_upsamp.csv')\r\n",
        "print(train_data.head()) \r\n",
        "print(train_data.shape)\r\n",
        "train_labels = pd.read_csv('train_labels_upsamp.csv')\r\n",
        "print(train_labels.head()) \r\n",
        "print(train_labels.shape)\r\n",
        " "
      ],
      "execution_count": 13,
      "outputs": [
        {
          "output_type": "stream",
          "text": [
            "   Reservation-id Gender  Age  ... Use_Promotion Discount_Rate Room_Rate\n",
            "0        39428300      F   40  ...           Yes            10       218\n",
            "1        77491756      F   49  ...            No             0       185\n",
            "2        73747291      F   42  ...            No             0       119\n",
            "3        67301739      M   25  ...           Yes             5       144\n",
            "4        77222321      F   62  ...           Yes            10       242\n",
            "\n",
            "[5 rows x 23 columns]\n",
            "(61035, 23)\n",
            "   0\n",
            "0  1\n",
            "1  1\n",
            "2  1\n",
            "3  1\n",
            "4  1\n",
            "(61035, 1)\n"
          ],
          "name": "stdout"
        }
      ]
    },
    {
      "cell_type": "markdown",
      "metadata": {
        "id": "UEQwgPDXANnq"
      },
      "source": [
        "###Upsampling"
      ]
    },
    {
      "cell_type": "code",
      "metadata": {
        "colab": {
          "base_uri": "https://localhost:8080/"
        },
        "id": "ktV9K9ZE-kja",
        "outputId": "097912b7-439d-4687-e2e5-3b79b71bc9ea"
      },
      "source": [
        "#Up Sampling   data.iloc [[3, 4], [1, 2]]\r\n",
        "temp = train_labels.copy()\r\n",
        "for i in range(len(temp)):\r\n",
        "  if i%(len(temp)//10)==0:\r\n",
        "    print('.',end='')\r\n",
        "  if temp[i]==2:\r\n",
        "    x = train_data.iloc[i,:]\r\n",
        "    x1 = pd.Series(data={'Reservation_Status':2})\r\n",
        "  \r\n",
        "    train_data = train_data.append(x, ignore_index = True) \r\n",
        "    train_data = train_data.append(x, ignore_index = True) \r\n",
        "    train_data = train_data.append(x, ignore_index = True) \r\n",
        "    train_data = train_data.append(x, ignore_index = True) \r\n",
        "     \r\n",
        "\r\n",
        "    train_labels = train_labels.append(x1, ignore_index = True)\r\n",
        "    train_labels = train_labels.append(x1, ignore_index = True)\r\n",
        "    train_labels = train_labels.append(x1, ignore_index = True)\r\n",
        "    train_labels = train_labels.append(x1, ignore_index = True)\r\n",
        "    \r\n",
        "\r\n",
        "  if temp[i]==3:\r\n",
        "    x=train_data.iloc[i,:]\r\n",
        "    x1 = pd.Series(data={'Reservation_Status':3})\r\n",
        "    train_data = train_data.append(x, ignore_index = True) \r\n",
        "    train_data = train_data.append(x, ignore_index = True) \r\n",
        "    train_data = train_data.append(x, ignore_index = True) \r\n",
        "    train_data = train_data.append(x, ignore_index = True) \r\n",
        "    train_data = train_data.append(x, ignore_index = True) \r\n",
        "    train_data = train_data.append(x, ignore_index = True) \r\n",
        "    train_data = train_data.append(x, ignore_index = True) \r\n",
        "    train_data = train_data.append(x, ignore_index = True)\r\n",
        "    \r\n",
        "    train_labels = train_labels.append(x1, ignore_index = True)\r\n",
        "    train_labels = train_labels.append(x1, ignore_index = True)\r\n",
        "    train_labels = train_labels.append(x1, ignore_index = True)\r\n",
        "    train_labels = train_labels.append(x1, ignore_index = True)\r\n",
        "    train_labels = train_labels.append(x1, ignore_index = True)\r\n",
        "    train_labels = train_labels.append(x1, ignore_index = True)\r\n",
        "    train_labels = train_labels.append(x1, ignore_index = True)\r\n",
        "    train_labels = train_labels.append(x1, ignore_index = True)\r\n",
        "    #break\r\n",
        "\r\n",
        "print(train_data.shape)\r\n",
        "print(x)\r\n",
        "print(train_data.iloc[-1,:])\r\n",
        "print(train_labels.shape)\r\n",
        "print(train_labels.iloc[-1])\r\n",
        "print(x1)"
      ],
      "execution_count": 50,
      "outputs": [
        {
          "output_type": "stream",
          "text": [
            "...........(61035, 23)\n",
            "Reservation-id              55243988\n",
            "Gender                             F\n",
            "Age                               48\n",
            "Ethnicity                  caucasian\n",
            "Educational_Level            College\n",
            "Income                     25K --50K\n",
            "Country_region                 North\n",
            "Hotel_Type                    Resort\n",
            "Expected_checkin           8/31/2016\n",
            "Expected_checkout           9/1/2016\n",
            "Booking_date               6/27/2016\n",
            "Adults                             3\n",
            "Children                           1\n",
            "Babies                             0\n",
            "Meal_Type                         HB\n",
            "Visted_Previously                 No\n",
            "Previous_Cancellations            No\n",
            "Deposit_type              No Deposit\n",
            "Booking_channel               Online\n",
            "Required_Car_Parking              No\n",
            "Use_Promotion                     No\n",
            "Discount_Rate                      0\n",
            "Room_Rate                        210\n",
            "Name: 27498, dtype: object\n",
            "Reservation-id              55243988\n",
            "Gender                             F\n",
            "Age                               48\n",
            "Ethnicity                  caucasian\n",
            "Educational_Level            College\n",
            "Income                     25K --50K\n",
            "Country_region                 North\n",
            "Hotel_Type                    Resort\n",
            "Expected_checkin           8/31/2016\n",
            "Expected_checkout           9/1/2016\n",
            "Booking_date               6/27/2016\n",
            "Adults                             3\n",
            "Children                           1\n",
            "Babies                             0\n",
            "Meal_Type                         HB\n",
            "Visted_Previously                 No\n",
            "Previous_Cancellations            No\n",
            "Deposit_type              No Deposit\n",
            "Booking_channel               Online\n",
            "Required_Car_Parking              No\n",
            "Use_Promotion                     No\n",
            "Discount_Rate                      0\n",
            "Room_Rate                        210\n",
            "Name: 61034, dtype: object\n",
            "(61035,)\n",
            "3\n",
            "Reservation_Status    3\n",
            "dtype: int64\n"
          ],
          "name": "stdout"
        }
      ]
    },
    {
      "cell_type": "code",
      "metadata": {
        "id": "8i1YIEa_T3O7"
      },
      "source": [
        "#Save upsampled data\r\n",
        "train_data.to_csv('train_data_upsamp.csv',index=False)\r\n",
        "train_labels.to_csv('train_labels_upsamp.csv',index=False)"
      ],
      "execution_count": 51,
      "outputs": []
    },
    {
      "cell_type": "markdown",
      "metadata": {
        "id": "HyH6Ku3CAU3a"
      },
      "source": [
        "###Checking Ratios\r\n"
      ]
    },
    {
      "cell_type": "code",
      "metadata": {
        "colab": {
          "base_uri": "https://localhost:8080/"
        },
        "id": "gCLUA35uVkt1",
        "outputId": "f8369a4d-d457-43c0-ca79-6189bf4b2c1a"
      },
      "source": [
        "print(\"No of Check-In in training data : \" +str((train_labels == 1).sum()))\r\n",
        "print(\"No of Canceled in training data : \" +str((train_labels == 2).sum()))\r\n",
        "print(\"No of No-Show in training data : \" +str((train_labels == 3).sum()))\r\n",
        "tot=(train_labels == 1).sum()+(train_labels == 2).sum()+(train_labels == 3).sum()\r\n",
        "print(\"Ratio of Check-In : Canceled : No-Show  in training data = \" +str((train_labels == 1).sum()/tot)+' : '+str((train_labels == 2).sum()/tot)+' : '+str((train_labels == 3).sum()/tot))\r\n",
        "\r\n",
        "\r\n",
        "print(\"No of Check-In in validation data : \" +str((val_labels == 1).sum()))\r\n",
        "print(\"No of Canceled in validation data : \" +str((val_labels == 2).sum()))\r\n",
        "print(\"No of No-Show in validation data : \" +str((val_labels == 3).sum()))\r\n",
        "tot=(val_labels == 1).sum()+(val_labels == 2).sum()+(val_labels == 3).sum()\r\n",
        "print(\"Ratio of Check-In : Canceled : No-Show  in Validation data = \" +str((val_labels == 1).sum()/tot)+' : '+str((val_labels == 2).sum()/tot)+' : '+str((val_labels == 3).sum()/tot))\r\n"
      ],
      "execution_count": 14,
      "outputs": [
        {
          "output_type": "stream",
          "text": [
            "No of Check-In in training data : 0    21240\n",
            "dtype: int64\n",
            "No of Canceled in training data : 0    20670\n",
            "dtype: int64\n",
            "No of No-Show in training data : 0    19125\n",
            "dtype: int64\n",
            "Ratio of Check-In : Canceled : No-Show  in training data = 0    0.347997\n",
            "dtype: float64 : 0    0.338658\n",
            "dtype: float64 : 0    0.313345\n",
            "dtype: float64\n",
            "No of Check-In in validation data : 1610\n",
            "No of Canceled in validation data : 741\n",
            "No of No-Show in validation data : 398\n",
            "Ratio of Check-In : Canceled : No-Show  in Validation data = 0.5856675154601674 : 0.26955256456893417 : 0.1447799199708985\n"
          ],
          "name": "stdout"
        }
      ]
    },
    {
      "cell_type": "markdown",
      "metadata": {
        "id": "64k5nSUH1OMG"
      },
      "source": [
        "## Encoding Categorical data"
      ]
    },
    {
      "cell_type": "code",
      "metadata": {
        "colab": {
          "base_uri": "https://localhost:8080/"
        },
        "id": "uT50RVYZrf2p",
        "outputId": "e23d72b8-9cf5-487a-ad02-948a1a818397"
      },
      "source": [
        "print(train_data.columns)\r\n",
        "print(len(train_data.columns))"
      ],
      "execution_count": 15,
      "outputs": [
        {
          "output_type": "stream",
          "text": [
            "Index(['Reservation-id', 'Gender', 'Age', 'Ethnicity', 'Educational_Level',\n",
            "       'Income', 'Country_region', 'Hotel_Type', 'Expected_checkin',\n",
            "       'Expected_checkout', 'Booking_date', 'Adults', 'Children', 'Babies',\n",
            "       'Meal_Type', 'Visted_Previously', 'Previous_Cancellations',\n",
            "       'Deposit_type', 'Booking_channel', 'Required_Car_Parking',\n",
            "       'Use_Promotion', 'Discount_Rate', 'Room_Rate'],\n",
            "      dtype='object')\n",
            "23\n"
          ],
          "name": "stdout"
        }
      ]
    },
    {
      "cell_type": "code",
      "metadata": {
        "colab": {
          "base_uri": "https://localhost:8080/"
        },
        "id": "2xBgwQPDryDt",
        "outputId": "aae1b8f0-2e58-4e54-98d4-8b26dd875459"
      },
      "source": [
        "#train data\r\n",
        "gender_dummies=pd.get_dummies(train_data['Gender'],drop_first=True, prefix='Gen')\r\n",
        "gender=train_data.pop('Gender')\r\n",
        "train_data=pd.concat([train_data,gender_dummies],axis=1)\r\n",
        "\r\n",
        "eth_dummies=pd.get_dummies(train_data['Ethnicity'],drop_first=False, prefix='Eth')\r\n",
        "eth=train_data.pop('Ethnicity')\r\n",
        "train_data=pd.concat([train_data,eth_dummies],axis=1)\r\n",
        "\r\n",
        "edu_dummies=pd.get_dummies(train_data['Educational_Level'],drop_first=False, prefix='Edu')\r\n",
        "edu=train_data.pop('Educational_Level')\r\n",
        "train_data=pd.concat([train_data,edu_dummies],axis=1)\r\n",
        "\r\n",
        "in_dummies=pd.get_dummies(train_data['Income'],drop_first=False, prefix='In')\r\n",
        "in_dummies=in_dummies.rename(columns={'In_25K --50K': 'In_25K_50K', 'In_50K -- 100K': 'In_50K_100K', 'In_<25K':'In_below25K', 'In_>100K':'In_above100K' })\r\n",
        "income=train_data.pop('Income')\r\n",
        "train_data=pd.concat([train_data,in_dummies],axis=1)\r\n",
        "\r\n",
        "region_dummies=pd.get_dummies(train_data['Country_region'],drop_first=False, prefix='Coun')\r\n",
        "region=train_data.pop('Country_region')\r\n",
        "train_data=pd.concat([train_data,region_dummies],axis=1)\r\n",
        "\r\n",
        "hotel_dummies=pd.get_dummies(train_data['Hotel_Type'],drop_first=False, prefix='Hotel')\r\n",
        "hotel=train_data.pop('Hotel_Type')\r\n",
        "train_data=pd.concat([train_data,hotel_dummies],axis=1)\r\n",
        "\r\n",
        "meal_dummies=pd.get_dummies(train_data['Meal_Type'],drop_first=False, prefix='Meal')\r\n",
        "meal=train_data.pop('Meal_Type')\r\n",
        "train_data=pd.concat([train_data,meal_dummies],axis=1)\r\n",
        "\r\n",
        "visit_prev_dummies=pd.get_dummies(train_data['Visted_Previously'],drop_first=True, prefix='Visit')\r\n",
        "visit_prev=train_data.pop('Visted_Previously')\r\n",
        "train_data=pd.concat([train_data,visit_prev_dummies],axis=1)\r\n",
        "\r\n",
        "prev_can_dummies=pd.get_dummies(train_data['Previous_Cancellations'],drop_first=True, prefix='Prev_can')\r\n",
        "prev_can=train_data.pop('Previous_Cancellations')\r\n",
        "train_data=pd.concat([train_data,prev_can_dummies],axis=1)\r\n",
        "\r\n",
        "dep_dummies=pd.get_dummies(train_data['Deposit_type'],drop_first=False, prefix='Dep')\r\n",
        "dep=train_data.pop('Deposit_type')\r\n",
        "train_data=pd.concat([train_data,dep_dummies],axis=1)\r\n",
        "\r\n",
        "book_dummies=pd.get_dummies(train_data['Booking_channel'],drop_first=False, prefix='Book')\r\n",
        "book=train_data.pop('Booking_channel')\r\n",
        "train_data=pd.concat([train_data,book_dummies],axis=1)\r\n",
        "\r\n",
        "car_dummies=pd.get_dummies(train_data['Required_Car_Parking'],drop_first=True, prefix='Car')\r\n",
        "car=train_data.pop('Required_Car_Parking')\r\n",
        "train_data=pd.concat([train_data,car_dummies],axis=1)\r\n",
        "\r\n",
        "promo_dummies=pd.get_dummies(train_data['Use_Promotion'],drop_first=True, prefix='Promo')\r\n",
        "promo=train_data.pop('Use_Promotion')\r\n",
        "train_data=pd.concat([train_data,promo_dummies],axis=1)\r\n",
        "\r\n",
        "\r\n",
        "\r\n",
        "print(train_data.columns)\r\n",
        "print(train_data.head())"
      ],
      "execution_count": 16,
      "outputs": [
        {
          "output_type": "stream",
          "text": [
            "Index(['Reservation-id', 'Age', 'Expected_checkin', 'Expected_checkout',\n",
            "       'Booking_date', 'Adults', 'Children', 'Babies', 'Discount_Rate',\n",
            "       'Room_Rate', 'Gen_M', 'Eth_African American', 'Eth_Asian American',\n",
            "       'Eth_Latino', 'Eth_caucasian', 'Edu_College', 'Edu_Grad',\n",
            "       'Edu_High-School', 'Edu_Mid-School', 'In_25K_50K', 'In_50K_100K',\n",
            "       'In_below25K', 'In_above100K', 'Coun_East', 'Coun_North', 'Coun_South',\n",
            "       'Coun_West', 'Hotel_Airport Hotels', 'Hotel_City Hotel', 'Hotel_Resort',\n",
            "       'Meal_BB', 'Meal_FB', 'Meal_HB', 'Visit_Yes', 'Prev_can_Yes',\n",
            "       'Dep_No Deposit', 'Dep_Non-Refundable', 'Dep_Refundable', 'Book_Agent',\n",
            "       'Book_Direct', 'Book_Online', 'Car_Yes', 'Promo_Yes'],\n",
            "      dtype='object')\n",
            "   Reservation-id  Age Expected_checkin  ... Book_Online Car_Yes  Promo_Yes\n",
            "0        39428300   40         7/1/2015  ...           1       1          1\n",
            "1        77491756   49         7/1/2015  ...           1       1          0\n",
            "2        73747291   42         7/2/2015  ...           1       1          0\n",
            "3        67301739   25         7/2/2015  ...           0       1          1\n",
            "4        77222321   62         7/3/2015  ...           0       0          1\n",
            "\n",
            "[5 rows x 43 columns]\n"
          ],
          "name": "stdout"
        }
      ]
    },
    {
      "cell_type": "code",
      "metadata": {
        "colab": {
          "base_uri": "https://localhost:8080/"
        },
        "id": "Nr3piP9Z2_aX",
        "outputId": "eb5a49d0-ae6b-4fad-dfa4-f26da32afdf3"
      },
      "source": [
        "#Val data\r\n",
        "gender_dummies=pd.get_dummies(val_data['Gender'],drop_first=True, prefix='Gen')\r\n",
        "gender=val_data.pop('Gender')\r\n",
        "val_data=pd.concat([val_data,gender_dummies],axis=1)\r\n",
        "\r\n",
        "eth_dummies=pd.get_dummies(val_data['Ethnicity'],drop_first=False, prefix='Eth')\r\n",
        "eth=val_data.pop('Ethnicity')\r\n",
        "val_data=pd.concat([val_data,eth_dummies],axis=1)\r\n",
        "\r\n",
        "edu_dummies=pd.get_dummies(val_data['Educational_Level'],drop_first=False, prefix='Edu')\r\n",
        "edu=val_data.pop('Educational_Level')\r\n",
        "val_data=pd.concat([val_data,edu_dummies],axis=1)\r\n",
        "\r\n",
        "in_dummies=pd.get_dummies(val_data['Income'],drop_first=False, prefix='In')\r\n",
        "in_dummies=in_dummies.rename(columns={'In_25K --50K': 'In_25K_50K', 'In_50K -- 100K': 'In_50K_100K', 'In_<25K':'In_below25K', 'In_>100K':'In_above100K' })\r\n",
        "income=val_data.pop('Income')\r\n",
        "val_data=pd.concat([val_data,in_dummies],axis=1)\r\n",
        "\r\n",
        "region_dummies=pd.get_dummies(val_data['Country_region'],drop_first=False, prefix='Coun')\r\n",
        "region=val_data.pop('Country_region')\r\n",
        "val_data=pd.concat([val_data,region_dummies],axis=1)\r\n",
        "\r\n",
        "hotel_dummies=pd.get_dummies(val_data['Hotel_Type'],drop_first=False, prefix='Hotel')\r\n",
        "hotel=val_data.pop('Hotel_Type')\r\n",
        "val_data=pd.concat([val_data,hotel_dummies],axis=1)\r\n",
        "\r\n",
        "meal_dummies=pd.get_dummies(val_data['Meal_Type'],drop_first=False, prefix='Meal')\r\n",
        "meal=val_data.pop('Meal_Type')\r\n",
        "val_data=pd.concat([val_data,meal_dummies],axis=1)\r\n",
        "\r\n",
        "visit_prev_dummies=pd.get_dummies(val_data['Visted_Previously'],drop_first=True, prefix='Visit')\r\n",
        "visit_prev=val_data.pop('Visted_Previously')\r\n",
        "val_data=pd.concat([val_data,visit_prev_dummies],axis=1)\r\n",
        "\r\n",
        "prev_can_dummies=pd.get_dummies(val_data['Previous_Cancellations'],drop_first=True, prefix='Prev_can')\r\n",
        "prev_can=val_data.pop('Previous_Cancellations')\r\n",
        "val_data=pd.concat([val_data,prev_can_dummies],axis=1)\r\n",
        "\r\n",
        "dep_dummies=pd.get_dummies(val_data['Deposit_type'],drop_first=False, prefix='Dep')\r\n",
        "dep=val_data.pop('Deposit_type')\r\n",
        "val_data=pd.concat([val_data,dep_dummies],axis=1)\r\n",
        "\r\n",
        "book_dummies=pd.get_dummies(val_data['Booking_channel'],drop_first=False, prefix='Book')\r\n",
        "book=val_data.pop('Booking_channel')\r\n",
        "val_data=pd.concat([val_data,book_dummies],axis=1)\r\n",
        "\r\n",
        "car_dummies=pd.get_dummies(val_data['Required_Car_Parking'],drop_first=True, prefix='Car')\r\n",
        "car=val_data.pop('Required_Car_Parking')\r\n",
        "val_data=pd.concat([val_data,car_dummies],axis=1)\r\n",
        "\r\n",
        "promo_dummies=pd.get_dummies(val_data['Use_Promotion'],drop_first=True, prefix='Promo')\r\n",
        "promo=val_data.pop('Use_Promotion')\r\n",
        "val_data=pd.concat([val_data,promo_dummies],axis=1)\r\n",
        "\r\n",
        "\r\n",
        "\r\n",
        "print(val_data.columns)\r\n",
        "print(val_data.head())"
      ],
      "execution_count": 17,
      "outputs": [
        {
          "output_type": "stream",
          "text": [
            "Index(['Reservation-id', 'Age', 'Expected_checkin', 'Expected_checkout',\n",
            "       'Booking_date', 'Adults', 'Children', 'Babies', 'Discount_Rate',\n",
            "       'Room_Rate', 'Gen_M', 'Eth_African American', 'Eth_Asian American',\n",
            "       'Eth_Latino', 'Eth_caucasian', 'Edu_College', 'Edu_Grad',\n",
            "       'Edu_High-School', 'Edu_Mid-School', 'In_25K_50K', 'In_50K_100K',\n",
            "       'In_below25K', 'In_above100K', 'Coun_East', 'Coun_North', 'Coun_South',\n",
            "       'Coun_West', 'Hotel_Airport Hotels', 'Hotel_City Hotel', 'Hotel_Resort',\n",
            "       'Meal_BB', 'Meal_FB', 'Meal_HB', 'Visit_Yes', 'Prev_can_Yes',\n",
            "       'Dep_No Deposit', 'Dep_Non-Refundable', 'Dep_Refundable', 'Book_Agent',\n",
            "       'Book_Direct', 'Book_Online', 'Car_Yes', 'Promo_Yes'],\n",
            "      dtype='object')\n",
            "   Reservation-id  Age Expected_checkin  ... Book_Online Car_Yes  Promo_Yes\n",
            "0        45716350   56        8/31/2016  ...           0       0          1\n",
            "1        88857401   60        8/31/2016  ...           1       1          0\n",
            "2        16074440   58         9/1/2016  ...           0       0          1\n",
            "3        10992124   23        8/31/2016  ...           0       0          1\n",
            "4        15934351   47        8/31/2016  ...           1       1          1\n",
            "\n",
            "[5 rows x 43 columns]\n"
          ],
          "name": "stdout"
        }
      ]
    },
    {
      "cell_type": "code",
      "metadata": {
        "colab": {
          "base_uri": "https://localhost:8080/"
        },
        "id": "02iRprdrxcou",
        "outputId": "252f5ba7-1cdd-45ac-e4c4-57ad4622eca3"
      },
      "source": [
        "#test data\r\n",
        "gender_dummies=pd.get_dummies(test_data['Gender'],drop_first=True, prefix='Gen')\r\n",
        "gender=test_data.pop('Gender')\r\n",
        "test_data=pd.concat([test_data,gender_dummies],axis=1)\r\n",
        "\r\n",
        "eth_dummies=pd.get_dummies(test_data['Ethnicity'],drop_first=False, prefix='Eth')\r\n",
        "eth=test_data.pop('Ethnicity')\r\n",
        "test_data=pd.concat([test_data,eth_dummies],axis=1)\r\n",
        "\r\n",
        "edu_dummies=pd.get_dummies(test_data['Educational_Level'],drop_first=False, prefix='Edu')\r\n",
        "edu=test_data.pop('Educational_Level')\r\n",
        "test_data=pd.concat([test_data,edu_dummies],axis=1)\r\n",
        "\r\n",
        "in_dummies=pd.get_dummies(test_data['Income'],drop_first=False, prefix='In')\r\n",
        "in_dummies=in_dummies.rename(columns={'In_25K --50K': 'In_25K_50K', 'In_50K -- 100K': 'In_50K_100K', 'In_<25K':'In_below25K', 'In_>100K':'In_above100K' })\r\n",
        "income=test_data.pop('Income')\r\n",
        "test_data=pd.concat([test_data,in_dummies],axis=1)\r\n",
        "\r\n",
        "region_dummies=pd.get_dummies(test_data['Country_region'],drop_first=False, prefix='Coun')\r\n",
        "region=test_data.pop('Country_region')\r\n",
        "test_data=pd.concat([test_data,region_dummies],axis=1)\r\n",
        "\r\n",
        "hotel_dummies=pd.get_dummies(test_data['Hotel_Type'],drop_first=False, prefix='Hotel')\r\n",
        "hotel=test_data.pop('Hotel_Type')\r\n",
        "test_data=pd.concat([test_data,hotel_dummies],axis=1)\r\n",
        "\r\n",
        "meal_dummies=pd.get_dummies(test_data['Meal_Type'],drop_first=False, prefix='Meal')\r\n",
        "meal=test_data.pop('Meal_Type')\r\n",
        "test_data=pd.concat([test_data,meal_dummies],axis=1)\r\n",
        "\r\n",
        "visit_prev_dummies=pd.get_dummies(test_data['Visted_Previously'],drop_first=True, prefix='Visit')\r\n",
        "visit_prev=test_data.pop('Visted_Previously')\r\n",
        "test_data=pd.concat([test_data,visit_prev_dummies],axis=1)\r\n",
        "\r\n",
        "prev_can_dummies=pd.get_dummies(test_data['Previous_Cancellations'],drop_first=True, prefix='Prev_can')\r\n",
        "prev_can=test_data.pop('Previous_Cancellations')\r\n",
        "test_data=pd.concat([test_data,prev_can_dummies],axis=1)\r\n",
        "\r\n",
        "dep_dummies=pd.get_dummies(test_data['Deposit_type'],drop_first=False, prefix='Dep')\r\n",
        "dep=test_data.pop('Deposit_type')\r\n",
        "test_data=pd.concat([test_data,dep_dummies],axis=1)\r\n",
        "\r\n",
        "book_dummies=pd.get_dummies(test_data['Booking_channel'],drop_first=False, prefix='Book')\r\n",
        "book=test_data.pop('Booking_channel')\r\n",
        "test_data=pd.concat([test_data,book_dummies],axis=1)\r\n",
        "\r\n",
        "car_dummies=pd.get_dummies(test_data['Required_Car_Parking'],drop_first=True, prefix='Car')\r\n",
        "car=test_data.pop('Required_Car_Parking')\r\n",
        "test_data=pd.concat([test_data,car_dummies],axis=1)\r\n",
        "\r\n",
        "promo_dummies=pd.get_dummies(test_data['Use_Promotion'],drop_first=True, prefix='Promo')\r\n",
        "promo=test_data.pop('Use_Promotion')\r\n",
        "test_data=pd.concat([test_data,promo_dummies],axis=1)\r\n",
        "\r\n",
        "\r\n",
        "\r\n",
        "print(test_data.columns)\r\n",
        "print(test_data.head())"
      ],
      "execution_count": 18,
      "outputs": [
        {
          "output_type": "stream",
          "text": [
            "Index(['Reservation-id', 'Age', 'Expected_checkin', 'Expected_checkout',\n",
            "       'Booking_date', 'Adults', 'Children', 'Babies', 'Discount_Rate',\n",
            "       'Room_Rate', 'Gen_M', 'Eth_African American', 'Eth_Asian American',\n",
            "       'Eth_Latino', 'Eth_caucasian', 'Edu_College', 'Edu_Grad',\n",
            "       'Edu_High-School', 'Edu_Mid-School', 'In_25K_50K', 'In_50K_100K',\n",
            "       'In_below25K', 'In_above100K', 'Coun_East', 'Coun_North', 'Coun_South',\n",
            "       'Coun_West', 'Hotel_Airport Hotels', 'Hotel_City Hotel', 'Hotel_Resort',\n",
            "       'Meal_BB', 'Meal_FB', 'Meal_HB', 'Visit_Yes', 'Prev_can_Yes',\n",
            "       'Dep_No Deposit', 'Dep_Non-Refundable', 'Dep_Refundable', 'Book_Agent',\n",
            "       'Book_Direct', 'Book_Online', 'Car_Yes', 'Promo_Yes'],\n",
            "      dtype='object')\n",
            "   Reservation-id  Age Expected_checkin  ... Book_Online Car_Yes  Promo_Yes\n",
            "0        62931593   52       11/18/2016  ...           0       1          1\n",
            "1        70586099   47       11/18/2016  ...           1       0          0\n",
            "2         4230648   28        4/28/2017  ...           0       0          1\n",
            "3        25192322   65       11/18/2016  ...           1       1          1\n",
            "4        80931528   45       11/18/2016  ...           0       0          0\n",
            "\n",
            "[5 rows x 43 columns]\n"
          ],
          "name": "stdout"
        }
      ]
    },
    {
      "cell_type": "code",
      "metadata": {
        "id": "lzxIiA4iyyo6"
      },
      "source": [
        "for i in train_data.columns:\r\n",
        "  if i not in test_data.columns:\r\n",
        "    print(i)"
      ],
      "execution_count": 19,
      "outputs": []
    },
    {
      "cell_type": "markdown",
      "metadata": {
        "id": "EFfqO5nIDMdv"
      },
      "source": [
        "##Label Encoding\r\n"
      ]
    },
    {
      "cell_type": "code",
      "metadata": {
        "colab": {
          "base_uri": "https://localhost:8080/"
        },
        "id": "7Pq4KZq_DQj_",
        "outputId": "765ee598-6082-40e1-e79b-9b0b08f215cc"
      },
      "source": [
        "from sklearn import preprocessing\r\n",
        "le = preprocessing.LabelEncoder()\r\n",
        "le.fit(train_labels)\r\n",
        "print(le.classes_)\r\n",
        "train_label=le.transform(train_labels)\r\n",
        "\r\n",
        "le = preprocessing.LabelEncoder()\r\n",
        "le.fit(val_labels)\r\n",
        "print(le.classes_)\r\n",
        "val_label=le.transform(val_labels)"
      ],
      "execution_count": 20,
      "outputs": [
        {
          "output_type": "stream",
          "text": [
            "[1 2 3]\n",
            "[1 2 3]\n"
          ],
          "name": "stdout"
        },
        {
          "output_type": "stream",
          "text": [
            "/usr/local/lib/python3.7/dist-packages/sklearn/preprocessing/_label.py:235: DataConversionWarning: A column-vector y was passed when a 1d array was expected. Please change the shape of y to (n_samples, ), for example using ravel().\n",
            "  y = column_or_1d(y, warn=True)\n",
            "/usr/local/lib/python3.7/dist-packages/sklearn/preprocessing/_label.py:268: DataConversionWarning: A column-vector y was passed when a 1d array was expected. Please change the shape of y to (n_samples, ), for example using ravel().\n",
            "  y = column_or_1d(y, warn=True)\n"
          ],
          "name": "stderr"
        }
      ]
    },
    {
      "cell_type": "markdown",
      "metadata": {
        "id": "tMVdeHLoA-5V"
      },
      "source": [
        "##Remove unnecessary columns"
      ]
    },
    {
      "cell_type": "code",
      "metadata": {
        "colab": {
          "base_uri": "https://localhost:8080/"
        },
        "id": "stSzwpKa9v19",
        "outputId": "9d578e21-e863-4b67-a1b6-b3a621ac137e"
      },
      "source": [
        "train_data.pop('Reservation-id')\r\n",
        "val_data.pop('Reservation-id')\r\n",
        "test_reservation=test_data['Reservation-id']\r\n",
        "test_data.pop('Reservation-id')\r\n",
        "\r\n",
        "train_data.pop('Expected_checkin')\r\n",
        "val_data.pop('Expected_checkin')\r\n",
        "test_data.pop('Expected_checkin')\r\n",
        "\r\n",
        "train_data.pop('Expected_checkout')\r\n",
        "val_data.pop('Expected_checkout')\r\n",
        "test_data.pop('Expected_checkout')\r\n",
        "\r\n",
        "train_data.pop('Booking_date')\r\n",
        "val_data.pop('Booking_date')\r\n",
        "test_data.pop('Booking_date')"
      ],
      "execution_count": 21,
      "outputs": [
        {
          "output_type": "execute_result",
          "data": {
            "text/plain": [
              "0       10/28/2016\n",
              "1         8/6/2016\n",
              "2         4/8/2017\n",
              "3        5/20/2016\n",
              "4       10/31/2016\n",
              "           ...    \n",
              "4313     9/11/2016\n",
              "4314     2/10/2017\n",
              "4315     8/26/2016\n",
              "4316      3/4/2017\n",
              "4317     3/29/2017\n",
              "Name: Booking_date, Length: 4318, dtype: object"
            ]
          },
          "metadata": {
            "tags": []
          },
          "execution_count": 21
        }
      ]
    },
    {
      "cell_type": "code",
      "metadata": {
        "colab": {
          "base_uri": "https://localhost:8080/"
        },
        "id": "uhAhW1EhsdHD",
        "outputId": "9fab3a58-acb8-4f4d-9291-fdc07b6d623b"
      },
      "source": [
        "train_data.pop('Promo_Yes')\r\n",
        "val_data.pop('Promo_Yes')\r\n",
        "test_data.pop('Promo_Yes')\r\n",
        "\r\n",
        "train_data.pop('Coun_South')\r\n",
        "val_data.pop('Coun_South')\r\n",
        "test_data.pop('Coun_South')\r\n",
        "\r\n",
        "train_data.pop('Coun_North')\r\n",
        "val_data.pop('Coun_North')\r\n",
        "test_data.pop('Coun_North')\r\n",
        "\r\n",
        "train_data.pop('Prev_can_Yes')\r\n",
        "val_data.pop('Prev_can_Yes')\r\n",
        "test_data.pop('Prev_can_Yes')\r\n",
        "\r\n",
        "train_data.pop('Gen_M')\r\n",
        "val_data.pop('Gen_M')\r\n",
        "test_data.pop('Gen_M')\r\n",
        "\r\n",
        "train_data.pop('Book_Agent')\r\n",
        "val_data.pop('Book_Agent')\r\n",
        "test_data.pop('Book_Agent')\r\n",
        "\r\n",
        "train_data.pop('Book_Online')\r\n",
        "val_data.pop('Book_Online')\r\n",
        "test_data.pop('Book_Online')\r\n",
        "\r\n",
        "train_data.pop('Car_Yes')\r\n",
        "val_data.pop('Car_Yes')\r\n",
        "test_data.pop('Car_Yes')\r\n",
        "\r\n",
        "train_data.pop('Babies')\r\n",
        "val_data.pop('Babies')\r\n",
        "test_data.pop('Babies')"
      ],
      "execution_count": 270,
      "outputs": [
        {
          "output_type": "execute_result",
          "data": {
            "text/plain": [
              "0       0\n",
              "1       0\n",
              "2       0\n",
              "3       2\n",
              "4       0\n",
              "       ..\n",
              "4313    1\n",
              "4314    0\n",
              "4315    0\n",
              "4316    1\n",
              "4317    0\n",
              "Name: Babies, Length: 4318, dtype: int64"
            ]
          },
          "metadata": {
            "tags": []
          },
          "execution_count": 270
        }
      ]
    },
    {
      "cell_type": "markdown",
      "metadata": {
        "id": "uBiIdXTUtSJ9"
      },
      "source": [
        "#Neptune Create Experiment"
      ]
    },
    {
      "cell_type": "code",
      "metadata": {
        "colab": {
          "base_uri": "https://localhost:8080/"
        },
        "id": "LjjNq-PBtV8c",
        "outputId": "75129496-00d9-42b1-f408-b6d5ede0b434"
      },
      "source": [
        "neptune.create_experiment(name = 'First Experiment without dates data and testing on multiple models - imbalanced data - up samplin: repeated experiment 3')"
      ],
      "execution_count": 22,
      "outputs": [
        {
          "output_type": "stream",
          "text": [
            "NVMLError: Driver Not Loaded - GPU usage metrics may not be reported.\n"
          ],
          "name": "stderr"
        },
        {
          "output_type": "stream",
          "text": [
            "https://ui.neptune.ai/jathurshan0330/DataStorm2-round1/e/DAT-5\n"
          ],
          "name": "stdout"
        },
        {
          "output_type": "execute_result",
          "data": {
            "text/plain": [
              "Experiment(DAT-5)"
            ]
          },
          "metadata": {
            "tags": []
          },
          "execution_count": 22
        }
      ]
    },
    {
      "cell_type": "markdown",
      "metadata": {
        "id": "a7DH4R1Y_JkX"
      },
      "source": [
        "#Model Building"
      ]
    },
    {
      "cell_type": "code",
      "metadata": {
        "id": "5GBW17Hj_Li5"
      },
      "source": [
        "from sklearn.model_selection import train_test_split\r\n",
        "from sklearn.tree import DecisionTreeClassifier\r\n",
        "from sklearn.metrics import accuracy_score, confusion_matrix, f1_score, roc_auc_score, classification_report, plot_confusion_matrix, precision_score, recall_score\r\n",
        "from sklearn import tree, svm\r\n",
        "from sklearn.ensemble import RandomForestClassifier\r\n",
        "import xgboost\r\n",
        "from sklearn.linear_model import LogisticRegression\r\n",
        "from sklearn.neighbors import NearestNeighbors,KNeighborsClassifier"
      ],
      "execution_count": 22,
      "outputs": []
    },
    {
      "cell_type": "markdown",
      "metadata": {
        "id": "YYLNXH6JAFmR"
      },
      "source": [
        "##logistic regression approach"
      ]
    },
    {
      "cell_type": "code",
      "metadata": {
        "colab": {
          "base_uri": "https://localhost:8080/",
          "height": 913
        },
        "id": "7n-apf4__XlR",
        "outputId": "1281a5eb-10ba-41cc-a335-7553af35d68a"
      },
      "source": [
        "model= LogisticRegression(multi_class='multinomial', solver='saga',max_iter=100) \r\n",
        "model.fit(train_data,train_label) \r\n",
        "y_predict=model.predict(val_data)\r\n",
        "print(\"Train accuracy : \"+str(model.score(train_data,train_label)))\r\n",
        "print(\"Validation accuracy : \"+str(model.score(val_data,val_label)))\r\n",
        "print(\"Precision : \"+str(precision_score(val_label,y_predict,average='macro', zero_division=0)))\r\n",
        "print(\"Recall : \"+str(recall_score(val_label,y_predict,average='macro', zero_division=0)))\r\n",
        "print(\"F1-Score : \"+str(f1_score(val_label,y_predict,average='macro', zero_division=0)))\r\n",
        "print(\"Classification Report\")\r\n",
        "print(classification_report(val_label,y_predict,zero_division=0))\r\n",
        "print(\"Confusion Matrix\")\r\n",
        "print(confusion_matrix(val_label,y_predict))\r\n",
        "#fig, ax = plt.subplots()\r\n",
        "#plot_confusion_matrix(val_label, y_predict, ax=ax)\r\n",
        "\r\n",
        "\r\n",
        "#neptune.log_metric('Training Accuracy', model.score(train_data,train_label))\r\n",
        "#neptune.log_metric('Validation Accuracy', model.score(val_data,val_label))\r\n",
        "#neptune.log_metric('Precision',precision_score(val_label,y_predict,average='macro', zero_division=0))\r\n",
        "#neptune.log_metric('Recall', recall_score(val_label,y_predict,average='macro', zero_division=0))\r\n",
        "#neptune.log_metric('F1-Score',f1_score(val_label,y_predict,average='macro', zero_division=0))"
      ],
      "execution_count": 27,
      "outputs": [
        {
          "output_type": "stream",
          "text": [
            "/usr/local/lib/python3.7/dist-packages/sklearn/linear_model/_sag.py:330: ConvergenceWarning: The max_iter was reached which means the coef_ did not converge\n",
            "  \"the coef_ did not converge\", ConvergenceWarning)\n"
          ],
          "name": "stderr"
        },
        {
          "output_type": "stream",
          "text": [
            "Train accuracy : 0.42239698533628245\n",
            "Validation accuracy : 0.3637686431429611\n",
            "Precision : 0.34506493234186547\n",
            "Recall : 0.3410410518433471\n",
            "F1-Score : 0.32389683097603783\n",
            "Classification Report\n",
            "              precision    recall  f1-score   support\n",
            "\n",
            "           0       0.62      0.37      0.46      1610\n",
            "           1       0.28      0.42      0.34       741\n",
            "           2       0.14      0.23      0.17       398\n",
            "\n",
            "    accuracy                           0.36      2749\n",
            "   macro avg       0.35      0.34      0.32      2749\n",
            "weighted avg       0.46      0.36      0.39      2749\n",
            "\n",
            "Confusion Matrix\n",
            "[[595 637 378]\n",
            " [239 313 189]\n",
            " [129 177  92]]\n"
          ],
          "name": "stdout"
        },
        {
          "output_type": "error",
          "ename": "NeptuneNoExperimentContextException",
          "evalue": "ignored",
          "traceback": [
            "\u001b[0;31m---------------------------------------------------------------------------\u001b[0m",
            "\u001b[0;31mNeptuneNoExperimentContextException\u001b[0m       Traceback (most recent call last)",
            "\u001b[0;32m<ipython-input-27-cfe12e99148e>\u001b[0m in \u001b[0;36m<module>\u001b[0;34m()\u001b[0m\n\u001b[1;32m     15\u001b[0m \u001b[0;34m\u001b[0m\u001b[0m\n\u001b[1;32m     16\u001b[0m \u001b[0;34m\u001b[0m\u001b[0m\n\u001b[0;32m---> 17\u001b[0;31m \u001b[0mneptune\u001b[0m\u001b[0;34m.\u001b[0m\u001b[0mlog_metric\u001b[0m\u001b[0;34m(\u001b[0m\u001b[0;34m'Training Accuracy'\u001b[0m\u001b[0;34m,\u001b[0m \u001b[0mmodel\u001b[0m\u001b[0;34m.\u001b[0m\u001b[0mscore\u001b[0m\u001b[0;34m(\u001b[0m\u001b[0mtrain_data\u001b[0m\u001b[0;34m,\u001b[0m\u001b[0mtrain_label\u001b[0m\u001b[0;34m)\u001b[0m\u001b[0;34m)\u001b[0m\u001b[0;34m\u001b[0m\u001b[0;34m\u001b[0m\u001b[0m\n\u001b[0m\u001b[1;32m     18\u001b[0m \u001b[0mneptune\u001b[0m\u001b[0;34m.\u001b[0m\u001b[0mlog_metric\u001b[0m\u001b[0;34m(\u001b[0m\u001b[0;34m'Validation Accuracy'\u001b[0m\u001b[0;34m,\u001b[0m \u001b[0mmodel\u001b[0m\u001b[0;34m.\u001b[0m\u001b[0mscore\u001b[0m\u001b[0;34m(\u001b[0m\u001b[0mval_data\u001b[0m\u001b[0;34m,\u001b[0m\u001b[0mval_label\u001b[0m\u001b[0;34m)\u001b[0m\u001b[0;34m)\u001b[0m\u001b[0;34m\u001b[0m\u001b[0;34m\u001b[0m\u001b[0m\n\u001b[1;32m     19\u001b[0m \u001b[0mneptune\u001b[0m\u001b[0;34m.\u001b[0m\u001b[0mlog_metric\u001b[0m\u001b[0;34m(\u001b[0m\u001b[0;34m'Precision'\u001b[0m\u001b[0;34m,\u001b[0m\u001b[0mprecision_score\u001b[0m\u001b[0;34m(\u001b[0m\u001b[0mval_label\u001b[0m\u001b[0;34m,\u001b[0m\u001b[0my_predict\u001b[0m\u001b[0;34m,\u001b[0m\u001b[0maverage\u001b[0m\u001b[0;34m=\u001b[0m\u001b[0;34m'macro'\u001b[0m\u001b[0;34m,\u001b[0m \u001b[0mzero_division\u001b[0m\u001b[0;34m=\u001b[0m\u001b[0;36m0\u001b[0m\u001b[0;34m)\u001b[0m\u001b[0;34m)\u001b[0m\u001b[0;34m\u001b[0m\u001b[0;34m\u001b[0m\u001b[0m\n",
            "\u001b[0;32m/usr/local/lib/python3.7/dist-packages/neptune/__init__.py\u001b[0m in \u001b[0;36mlog_metric\u001b[0;34m(log_name, x, y, timestamp)\u001b[0m\n\u001b[1;32m    313\u001b[0m     \u001b[0mAlias\u001b[0m \u001b[0;32mfor\u001b[0m \u001b[0;34m:\u001b[0m\u001b[0mmeth\u001b[0m\u001b[0;34m:\u001b[0m\u001b[0;31m`\u001b[0m\u001b[0;34m~\u001b[0m\u001b[0mneptune\u001b[0m\u001b[0;34m.\u001b[0m\u001b[0mexperiments\u001b[0m\u001b[0;34m.\u001b[0m\u001b[0mExperiment\u001b[0m\u001b[0;34m.\u001b[0m\u001b[0mlog_metric\u001b[0m\u001b[0;31m`\u001b[0m\u001b[0;34m\u001b[0m\u001b[0;34m\u001b[0m\u001b[0m\n\u001b[1;32m    314\u001b[0m     \"\"\"\n\u001b[0;32m--> 315\u001b[0;31m     \u001b[0;32mreturn\u001b[0m \u001b[0mget_experiment\u001b[0m\u001b[0;34m(\u001b[0m\u001b[0;34m)\u001b[0m\u001b[0;34m.\u001b[0m\u001b[0mlog_metric\u001b[0m\u001b[0;34m(\u001b[0m\u001b[0mlog_name\u001b[0m\u001b[0;34m,\u001b[0m \u001b[0mx\u001b[0m\u001b[0;34m,\u001b[0m \u001b[0my\u001b[0m\u001b[0;34m,\u001b[0m \u001b[0mtimestamp\u001b[0m\u001b[0;34m)\u001b[0m\u001b[0;34m\u001b[0m\u001b[0;34m\u001b[0m\u001b[0m\n\u001b[0m\u001b[1;32m    316\u001b[0m \u001b[0;34m\u001b[0m\u001b[0m\n\u001b[1;32m    317\u001b[0m \u001b[0;34m\u001b[0m\u001b[0m\n",
            "\u001b[0;32m/usr/local/lib/python3.7/dist-packages/neptune/__init__.py\u001b[0m in \u001b[0;36mget_experiment\u001b[0;34m()\u001b[0m\n\u001b[1;32m    255\u001b[0m \u001b[0;34m\u001b[0m\u001b[0m\n\u001b[1;32m    256\u001b[0m     \u001b[0;31m# pylint: disable=protected-access\u001b[0m\u001b[0;34m\u001b[0m\u001b[0;34m\u001b[0m\u001b[0;34m\u001b[0m\u001b[0m\n\u001b[0;32m--> 257\u001b[0;31m     \u001b[0;32mreturn\u001b[0m \u001b[0mproject\u001b[0m\u001b[0;34m.\u001b[0m\u001b[0m_get_current_experiment\u001b[0m\u001b[0;34m(\u001b[0m\u001b[0;34m)\u001b[0m\u001b[0;34m\u001b[0m\u001b[0;34m\u001b[0m\u001b[0m\n\u001b[0m\u001b[1;32m    258\u001b[0m \u001b[0;34m\u001b[0m\u001b[0m\n\u001b[1;32m    259\u001b[0m \u001b[0;34m\u001b[0m\u001b[0m\n",
            "\u001b[0;32m/usr/local/lib/python3.7/dist-packages/neptune/projects.py\u001b[0m in \u001b[0;36m_get_current_experiment\u001b[0;34m(self)\u001b[0m\n\u001b[1;32m    610\u001b[0m                 \u001b[0;32mreturn\u001b[0m \u001b[0mself\u001b[0m\u001b[0;34m.\u001b[0m\u001b[0m_experiments_stack\u001b[0m\u001b[0;34m[\u001b[0m\u001b[0;34m-\u001b[0m\u001b[0;36m1\u001b[0m\u001b[0;34m]\u001b[0m\u001b[0;34m\u001b[0m\u001b[0;34m\u001b[0m\u001b[0m\n\u001b[1;32m    611\u001b[0m             \u001b[0;32melse\u001b[0m\u001b[0;34m:\u001b[0m\u001b[0;34m\u001b[0m\u001b[0;34m\u001b[0m\u001b[0m\n\u001b[0;32m--> 612\u001b[0;31m                 \u001b[0;32mraise\u001b[0m \u001b[0mNeptuneNoExperimentContextException\u001b[0m\u001b[0;34m(\u001b[0m\u001b[0;34m)\u001b[0m\u001b[0;34m\u001b[0m\u001b[0;34m\u001b[0m\u001b[0m\n\u001b[0m\u001b[1;32m    613\u001b[0m \u001b[0;34m\u001b[0m\u001b[0m\n\u001b[1;32m    614\u001b[0m     \u001b[0;32mdef\u001b[0m \u001b[0m_push_new_experiment\u001b[0m\u001b[0;34m(\u001b[0m\u001b[0mself\u001b[0m\u001b[0;34m,\u001b[0m \u001b[0mnew_experiment\u001b[0m\u001b[0;34m)\u001b[0m\u001b[0;34m:\u001b[0m\u001b[0;34m\u001b[0m\u001b[0;34m\u001b[0m\u001b[0m\n",
            "\u001b[0;31mNeptuneNoExperimentContextException\u001b[0m: \n\u001b[95m  \n----NeptuneNoExperimentContextException---------------------------------------------------------------------------------\n\u001b[0m\nNeptune couldn't find an active experiment.\n\nLooks like you forgot to run:\n    \u001b[96mneptune.create_experiment()\u001b[0m\n    \nYou may also want to check the following docs pages:\n    - https://docs.neptune.ai/getting-started/quick-starts/log_first_experiment.html\n\n\u001b[92mNeed help?\u001b[0m-> https://docs.neptune.ai/getting-started/getting-help.html\n"
          ]
        }
      ]
    },
    {
      "cell_type": "markdown",
      "metadata": {
        "id": "GQJoQ1ALFzlt"
      },
      "source": [
        "##Decision Tree Classifier model approach"
      ]
    },
    {
      "cell_type": "code",
      "metadata": {
        "colab": {
          "base_uri": "https://localhost:8080/"
        },
        "id": "zVZ5EWioAjgq",
        "outputId": "7cdf651b-cff9-474f-e1b1-5dc77bcd6a63"
      },
      "source": [
        "model = DecisionTreeClassifier(max_depth=6, class_weight = 'balanced' ).fit(train_data,train_label)\r\n",
        "y_predict=model.predict(val_data)\r\n",
        "print(\"Train accuracy : \"+str(model.score(train_data,train_label)))\r\n",
        "print(\"Validation accuracy : \"+str(model.score(val_data,val_label)))\r\n",
        "print(\"Precision : \"+str(precision_score(val_label,y_predict,average='macro', zero_division=0)))\r\n",
        "print(\"Recall : \"+str(recall_score(val_label,y_predict,average='macro', zero_division=0)))\r\n",
        "print(\"F1-Score : \"+str(f1_score(val_label,y_predict,average='macro', zero_division=0)))\r\n",
        "print(\"Classification Report\")\r\n",
        "print(classification_report(val_label,y_predict,zero_division=0))\r\n",
        "print(\"Confusion Matrix\")\r\n",
        "print(confusion_matrix(val_label,y_predict))\r\n",
        "#fig, ax = plt.subplots()\r\n",
        "#plot_confusion_matrix(val_label, y_predict, ax=ax)\r\n",
        "\r\n",
        "\r\n",
        "neptune.log_metric('Training Accuracy', model.score(train_data,train_label))\r\n",
        "neptune.log_metric('Validation Accuracy', model.score(val_data,val_label))\r\n",
        "neptune.log_metric('Precision',precision_score(val_label,y_predict,average='macro', zero_division=0))\r\n",
        "neptune.log_metric('Recall', recall_score(val_label,y_predict,average='macro', zero_division=0))\r\n",
        "neptune.log_metric('F1-Score',f1_score(val_label,y_predict,average='macro', zero_division=0))"
      ],
      "execution_count": 25,
      "outputs": [
        {
          "output_type": "stream",
          "text": [
            "Train accuracy : 0.44947980666830506\n",
            "Validation accuracy : 0.3481265914878138\n",
            "Precision : 0.3544390862203218\n",
            "Recall : 0.34997963359910395\n",
            "F1-Score : 0.3232809372172543\n",
            "Classification Report\n",
            "              precision    recall  f1-score   support\n",
            "\n",
            "           0       0.63      0.33      0.43      1610\n",
            "           1       0.29      0.40      0.34       741\n",
            "           2       0.14      0.32      0.20       398\n",
            "\n",
            "    accuracy                           0.35      2749\n",
            "   macro avg       0.35      0.35      0.32      2749\n",
            "weighted avg       0.47      0.35      0.37      2749\n",
            "\n",
            "Confusion Matrix\n",
            "[[536 548 526]\n",
            " [203 293 245]\n",
            " [117 153 128]]\n"
          ],
          "name": "stdout"
        }
      ]
    },
    {
      "cell_type": "code",
      "metadata": {
        "colab": {
          "base_uri": "https://localhost:8080/",
          "height": 722
        },
        "id": "rksmHrHxrHcc",
        "outputId": "76782da9-72ae-4981-9c4c-eeaa81c03b8d"
      },
      "source": [
        "#Feature Importance in Decision Tree Classifier\r\n",
        "print(\"Feature Importance\")\r\n",
        "print(model.feature_importances_) #use inbuilt class feature_importances of tree based classifiers\r\n",
        "#plot graph of feature importances for better visualization\r\n",
        "plt.figure(figsize=[10,10])\r\n",
        "feat_importances = pd.Series(model.feature_importances_, index=train_data.columns)\r\n",
        "feat_importances.nlargest(40).plot(kind='barh')\r\n",
        "\r\n",
        "plt.show()"
      ],
      "execution_count": 76,
      "outputs": [
        {
          "output_type": "stream",
          "text": [
            "Feature Importance\n",
            "[0.05865143 0.04440717 0.00497012 0.         0.02913891 0.10018184\n",
            " 0.         0.00986069 0.01552003 0.00773025 0.01515455 0.\n",
            " 0.00792749 0.         0.         0.00959574 0.0098942  0.01503647\n",
            " 0.01142425 0.01260973 0.         0.         0.00797237 0.03410114\n",
            " 0.         0.01852521 0.45043774 0.07575361 0.         0.01759748\n",
            " 0.         0.         0.00736867 0.01600308 0.         0.01413789\n",
            " 0.         0.         0.00599992]\n"
          ],
          "name": "stdout"
        },
        {
          "output_type": "display_data",
          "data": {
            "image/png": "[encoded data removed]",
            "text/plain": [
              "<Figure size 720x720 with 1 Axes>"
            ]
          },
          "metadata": {
            "tags": [],
            "needs_background": "light"
          }
        }
      ]
    },
    {
      "cell_type": "markdown",
      "metadata": {
        "id": "jyCco_VLIODd"
      },
      "source": [
        "##XGB Boost Approach"
      ]
    },
    {
      "cell_type": "code",
      "metadata": {
        "colab": {
          "base_uri": "https://localhost:8080/"
        },
        "id": "4i3SWgo-GCQi",
        "outputId": "815cb8f5-14e7-44b9-e23f-6680bcce46f5"
      },
      "source": [
        "clf = DecisionTreeClassifier(max_depth=50, class_weight = 'balanced')\r\n",
        "model=xgboost.XGBClassifier(base_estimator=clf,max_depth=5,n_estimators=15,objective='multi:softmax',gamma=4.63,learning_rate=0.2,reg_lambda=1).fit(train_data,train_label)\r\n",
        "y_predict=model.predict(val_data)\r\n",
        "print(\"Train accuracy : \"+str(model.score(train_data,train_label)))\r\n",
        "print(\"Validation accuracy : \"+str(model.score(val_data,val_label)))\r\n",
        "print(\"Precision : \"+str(precision_score(val_label,y_predict,average='macro', zero_division=0)))\r\n",
        "print(\"Recall : \"+str(recall_score(val_label,y_predict,average='macro', zero_division=0)))\r\n",
        "print(\"F1-Score : \"+str(f1_score(val_label,y_predict,average='macro', zero_division=0)))\r\n",
        "print(\"Classification Report\")\r\n",
        "print(classification_report(val_label,y_predict,zero_division=0))\r\n",
        "print(\"Confusion Matrix\")\r\n",
        "print(confusion_matrix(val_label,y_predict))\r\n",
        "#fig, ax = plt.subplots()\r\n",
        "#plot_confusion_matrix(val_label, y_predict, ax=ax)\r\n",
        "\r\n",
        "\r\n",
        "neptune.log_metric('Training Accuracy', model.score(train_data,train_label))\r\n",
        "neptune.log_metric('Validation Accuracy', model.score(val_data,val_label))\r\n",
        "neptune.log_metric('Precision',precision_score(val_label,y_predict,average='macro', zero_division=0))\r\n",
        "neptune.log_metric('Recall', recall_score(val_label,y_predict,average='macro', zero_division=0))\r\n",
        "neptune.log_metric('F1-Score',f1_score(val_label,y_predict,average='macro', zero_division=0))"
      ],
      "execution_count": 26,
      "outputs": [
        {
          "output_type": "stream",
          "text": [
            "Train accuracy : 0.49827148357499795\n",
            "Validation accuracy : 0.37395416515096397\n",
            "Precision : 0.34461555646846825\n",
            "Recall : 0.34232685403643165\n",
            "F1-Score : 0.3282605929740677\n",
            "Classification Report\n",
            "              precision    recall  f1-score   support\n",
            "\n",
            "           0       0.61      0.39      0.48      1610\n",
            "           1       0.28      0.42      0.34       741\n",
            "           2       0.14      0.22      0.17       398\n",
            "\n",
            "    accuracy                           0.37      2749\n",
            "   macro avg       0.34      0.34      0.33      2749\n",
            "weighted avg       0.46      0.37      0.40      2749\n",
            "\n",
            "Confusion Matrix\n",
            "[[632 617 361]\n",
            " [254 310 177]\n",
            " [146 166  86]]\n"
          ],
          "name": "stdout"
        }
      ]
    },
    {
      "cell_type": "markdown",
      "metadata": {
        "id": "eZyhpjSRkKP0"
      },
      "source": [
        "##Support Vector Machine Approach"
      ]
    },
    {
      "cell_type": "code",
      "metadata": {
        "id": "WlUk1KK_GYpW"
      },
      "source": [
        "\r\n",
        "model = svm.SVC(degree=9,decision_function_shape='ovo', class_weight = 'balanced')\r\n",
        "model.fit(train_data,train_label)       \r\n",
        "y_predict=model.predict(val_data)\r\n",
        "print(\"Train accuracy : \"+str(model.score(train_data,train_label)))\r\n",
        "print(\"Validation accuracy : \"+str(model.score(val_data,val_label)))\r\n",
        "print(\"Precision : \"+str(precision_score(val_label,y_predict,average='macro', zero_division=0)))\r\n",
        "print(\"Recall : \"+str(recall_score(val_label,y_predict,average='macro', zero_division=0)))\r\n",
        "print(\"F1-Score : \"+str(f1_score(val_label,y_predict,average='macro', zero_division=0)))\r\n",
        "print(\"Classification Report\")\r\n",
        "print(classification_report(val_label,y_predict,zero_division=0))\r\n",
        "print(\"Confusion Matrix\")\r\n",
        "print(confusion_matrix(val_label,y_predict))\r\n",
        "#fig, ax = plt.subplots()\r\n",
        "#plot_confusion_matrix(val_label, y_predict, ax=ax)\r\n",
        "\r\n",
        "\r\n",
        "neptune.log_metric('Training Accuracy', model.score(train_data,train_label))\r\n",
        "neptune.log_metric('Validation Accuracy', model.score(val_data,val_label))\r\n",
        "neptune.log_metric('Precision',precision_score(val_label,y_predict,average='macro', zero_division=0))\r\n",
        "neptune.log_metric('Recall', recall_score(val_label,y_predict,average='macro', zero_division=0))\r\n",
        "neptune.log_metric('F1-Score',f1_score(val_label,y_predict,average='macro', zero_division=0))"
      ],
      "execution_count": null,
      "outputs": []
    },
    {
      "cell_type": "markdown",
      "metadata": {
        "id": "dyUkW5lnkjZj"
      },
      "source": [
        "##MLP classifier approach"
      ]
    },
    {
      "cell_type": "code",
      "metadata": {
        "colab": {
          "base_uri": "https://localhost:8080/"
        },
        "id": "VwHV9cdakpoD",
        "outputId": "252e6ee2-b941-4215-a3ba-fcc3e4eb290c"
      },
      "source": [
        "from sklearn.neural_network import MLPClassifier\r\n",
        "model = MLPClassifier(solver='adam',learning_rate = 'adaptive',learning_rate_init=0.01,activation= 'relu', alpha=1e-6, hidden_layer_sizes=(150, ), random_state=91,max_iter=400)\r\n",
        "model.fit(train_data,train_label) \r\n",
        "y_predict=model.predict(val_data)\r\n",
        "print(\"Train accuracy : \"+str(model.score(train_data,train_label)))\r\n",
        "print(\"Validation accuracy : \"+str(model.score(val_data,val_label)))\r\n",
        "print(\"Precision : \"+str(precision_score(val_label,y_predict,average='macro', zero_division=0)))\r\n",
        "print(\"Recall : \"+str(recall_score(val_label,y_predict,average='macro', zero_division=0)))\r\n",
        "print(\"F1-Score : \"+str(f1_score(val_label,y_predict,average='macro', zero_division=0)))\r\n",
        "print(\"Classification Report\")\r\n",
        "print(classification_report(val_label,y_predict,zero_division=0))\r\n",
        "print(\"Confusion Matrix\")\r\n",
        "print(confusion_matrix(val_label,y_predict))\r\n",
        "#fig, ax = plt.subplots()\r\n",
        "#plot_confusion_matrix(val_label, y_predict, ax=ax)\r\n",
        "\r\n",
        "\r\n",
        "neptune.log_metric('Training Accuracy', model.score(train_data,train_label))\r\n",
        "neptune.log_metric('Validation Accuracy', model.score(val_data,val_label))\r\n",
        "neptune.log_metric('Precision',precision_score(val_label,y_predict,average='macro', zero_division=0))\r\n",
        "neptune.log_metric('Recall', recall_score(val_label,y_predict,average='macro', zero_division=0))\r\n",
        "neptune.log_metric('F1-Score',f1_score(val_label,y_predict,average='macro', zero_division=0))"
      ],
      "execution_count": 27,
      "outputs": [
        {
          "output_type": "stream",
          "text": [
            "Train accuracy : 0.4153846153846154\n",
            "Validation accuracy : 0.39578028373954166\n",
            "Precision : 0.30060198356250983\n",
            "Recall : 0.35030245625211304\n",
            "F1-Score : 0.28454348670273094\n",
            "Classification Report\n",
            "              precision    recall  f1-score   support\n",
            "\n",
            "           0       0.62      0.36      0.45      1610\n",
            "           1       0.28      0.70      0.40       741\n",
            "           2       0.00      0.00      0.00       398\n",
            "\n",
            "    accuracy                           0.40      2749\n",
            "   macro avg       0.30      0.35      0.28      2749\n",
            "weighted avg       0.44      0.40      0.37      2749\n",
            "\n",
            "Confusion Matrix\n",
            "[[ 573 1037    0]\n",
            " [ 226  515    0]\n",
            " [ 126  272    0]]\n"
          ],
          "name": "stdout"
        }
      ]
    },
    {
      "cell_type": "markdown",
      "metadata": {
        "id": "_gorpXkYk0DB"
      },
      "source": [
        "##Random Forest approach"
      ]
    },
    {
      "cell_type": "code",
      "metadata": {
        "colab": {
          "base_uri": "https://localhost:8080/",
          "height": 881
        },
        "id": "Hig8auxNk0Q2",
        "outputId": "3543d935-4a45-4a83-ed5d-f2072dbd7054"
      },
      "source": [
        "model = RandomForestClassifier(max_depth=7,max_features=10,n_estimators=75, class_weight = 'balanced' )\r\n",
        "model.fit(train_data,train_label)       \r\n",
        "y_predict=model.predict(val_data)\r\n",
        "print(\"Train accuracy : \"+str(model.score(train_data,train_label)))\r\n",
        "print(\"Validation accuracy : \"+str(model.score(val_data,val_label)))\r\n",
        "print(\"Precision : \"+str(precision_score(val_label,y_predict,average='macro', zero_division=0)))\r\n",
        "print(\"Recall : \"+str(recall_score(val_label,y_predict,average='macro', zero_division=0)))\r\n",
        "print(\"F1-Score : \"+str(f1_score(val_label,y_predict,average='macro', zero_division=0)))\r\n",
        "print(\"Classification Report\")\r\n",
        "print(classification_report(val_label,y_predict,zero_division=0))\r\n",
        "print(\"Confusion Matrix\")\r\n",
        "print(confusion_matrix(val_label,y_predict))\r\n",
        "#fig, ax = plt.subplots()\r\n",
        "#plot_confusion_matrix(val_label, y_predict, ax=ax)\r\n",
        "\r\n",
        "\r\n",
        "#neptune.log_metric('Training Accuracy', model.score(train_data,train_label))\r\n",
        "#neptune.log_metric('Validation Accuracy', model.score(val_data,val_label))\r\n",
        "#neptune.log_metric('Precision',precision_score(val_label,y_predict,average='macro', zero_division=0))\r\n",
        "#neptune.log_metric('Recall', recall_score(val_label,y_predict,average='macro', zero_division=0))\r\n",
        "#neptune.log_metric('F1-Score',f1_score(val_label,y_predict,average='macro', zero_division=0))"
      ],
      "execution_count": 28,
      "outputs": [
        {
          "output_type": "stream",
          "text": [
            "Train accuracy : 0.5347095928565577\n",
            "Validation accuracy : 0.35685703892324483\n",
            "Precision : 0.3529218044904341\n",
            "Recall : 0.3510127452769726\n",
            "F1-Score : 0.327664670064097\n",
            "Classification Report\n",
            "              precision    recall  f1-score   support\n",
            "\n",
            "           0       0.62      0.36      0.46      1610\n",
            "           1       0.29      0.36      0.32       741\n",
            "           2       0.15      0.33      0.20       398\n",
            "\n",
            "    accuracy                           0.36      2749\n",
            "   macro avg       0.35      0.35      0.33      2749\n",
            "weighted avg       0.46      0.36      0.38      2749\n",
            "\n",
            "Confusion Matrix\n",
            "[[581 517 512]\n",
            " [229 269 243]\n",
            " [126 141 131]]\n"
          ],
          "name": "stdout"
        },
        {
          "output_type": "error",
          "ename": "NeptuneNoExperimentContextException",
          "evalue": "ignored",
          "traceback": [
            "\u001b[0;31m---------------------------------------------------------------------------\u001b[0m",
            "\u001b[0;31mNeptuneNoExperimentContextException\u001b[0m       Traceback (most recent call last)",
            "\u001b[0;32m<ipython-input-28-70c9c0d232fa>\u001b[0m in \u001b[0;36m<module>\u001b[0;34m()\u001b[0m\n\u001b[1;32m     15\u001b[0m \u001b[0;34m\u001b[0m\u001b[0m\n\u001b[1;32m     16\u001b[0m \u001b[0;34m\u001b[0m\u001b[0m\n\u001b[0;32m---> 17\u001b[0;31m \u001b[0mneptune\u001b[0m\u001b[0;34m.\u001b[0m\u001b[0mlog_metric\u001b[0m\u001b[0;34m(\u001b[0m\u001b[0;34m'Training Accuracy'\u001b[0m\u001b[0;34m,\u001b[0m \u001b[0mmodel\u001b[0m\u001b[0;34m.\u001b[0m\u001b[0mscore\u001b[0m\u001b[0;34m(\u001b[0m\u001b[0mtrain_data\u001b[0m\u001b[0;34m,\u001b[0m\u001b[0mtrain_label\u001b[0m\u001b[0;34m)\u001b[0m\u001b[0;34m)\u001b[0m\u001b[0;34m\u001b[0m\u001b[0;34m\u001b[0m\u001b[0m\n\u001b[0m\u001b[1;32m     18\u001b[0m \u001b[0mneptune\u001b[0m\u001b[0;34m.\u001b[0m\u001b[0mlog_metric\u001b[0m\u001b[0;34m(\u001b[0m\u001b[0;34m'Validation Accuracy'\u001b[0m\u001b[0;34m,\u001b[0m \u001b[0mmodel\u001b[0m\u001b[0;34m.\u001b[0m\u001b[0mscore\u001b[0m\u001b[0;34m(\u001b[0m\u001b[0mval_data\u001b[0m\u001b[0;34m,\u001b[0m\u001b[0mval_label\u001b[0m\u001b[0;34m)\u001b[0m\u001b[0;34m)\u001b[0m\u001b[0;34m\u001b[0m\u001b[0;34m\u001b[0m\u001b[0m\n\u001b[1;32m     19\u001b[0m \u001b[0mneptune\u001b[0m\u001b[0;34m.\u001b[0m\u001b[0mlog_metric\u001b[0m\u001b[0;34m(\u001b[0m\u001b[0;34m'Precision'\u001b[0m\u001b[0;34m,\u001b[0m\u001b[0mprecision_score\u001b[0m\u001b[0;34m(\u001b[0m\u001b[0mval_label\u001b[0m\u001b[0;34m,\u001b[0m\u001b[0my_predict\u001b[0m\u001b[0;34m,\u001b[0m\u001b[0maverage\u001b[0m\u001b[0;34m=\u001b[0m\u001b[0;34m'macro'\u001b[0m\u001b[0;34m,\u001b[0m \u001b[0mzero_division\u001b[0m\u001b[0;34m=\u001b[0m\u001b[0;36m0\u001b[0m\u001b[0;34m)\u001b[0m\u001b[0;34m)\u001b[0m\u001b[0;34m\u001b[0m\u001b[0;34m\u001b[0m\u001b[0m\n",
            "\u001b[0;32m/usr/local/lib/python3.7/dist-packages/neptune/__init__.py\u001b[0m in \u001b[0;36mlog_metric\u001b[0;34m(log_name, x, y, timestamp)\u001b[0m\n\u001b[1;32m    313\u001b[0m     \u001b[0mAlias\u001b[0m \u001b[0;32mfor\u001b[0m \u001b[0;34m:\u001b[0m\u001b[0mmeth\u001b[0m\u001b[0;34m:\u001b[0m\u001b[0;31m`\u001b[0m\u001b[0;34m~\u001b[0m\u001b[0mneptune\u001b[0m\u001b[0;34m.\u001b[0m\u001b[0mexperiments\u001b[0m\u001b[0;34m.\u001b[0m\u001b[0mExperiment\u001b[0m\u001b[0;34m.\u001b[0m\u001b[0mlog_metric\u001b[0m\u001b[0;31m`\u001b[0m\u001b[0;34m\u001b[0m\u001b[0;34m\u001b[0m\u001b[0m\n\u001b[1;32m    314\u001b[0m     \"\"\"\n\u001b[0;32m--> 315\u001b[0;31m     \u001b[0;32mreturn\u001b[0m \u001b[0mget_experiment\u001b[0m\u001b[0;34m(\u001b[0m\u001b[0;34m)\u001b[0m\u001b[0;34m.\u001b[0m\u001b[0mlog_metric\u001b[0m\u001b[0;34m(\u001b[0m\u001b[0mlog_name\u001b[0m\u001b[0;34m,\u001b[0m \u001b[0mx\u001b[0m\u001b[0;34m,\u001b[0m \u001b[0my\u001b[0m\u001b[0;34m,\u001b[0m \u001b[0mtimestamp\u001b[0m\u001b[0;34m)\u001b[0m\u001b[0;34m\u001b[0m\u001b[0;34m\u001b[0m\u001b[0m\n\u001b[0m\u001b[1;32m    316\u001b[0m \u001b[0;34m\u001b[0m\u001b[0m\n\u001b[1;32m    317\u001b[0m \u001b[0;34m\u001b[0m\u001b[0m\n",
            "\u001b[0;32m/usr/local/lib/python3.7/dist-packages/neptune/__init__.py\u001b[0m in \u001b[0;36mget_experiment\u001b[0;34m()\u001b[0m\n\u001b[1;32m    255\u001b[0m \u001b[0;34m\u001b[0m\u001b[0m\n\u001b[1;32m    256\u001b[0m     \u001b[0;31m# pylint: disable=protected-access\u001b[0m\u001b[0;34m\u001b[0m\u001b[0;34m\u001b[0m\u001b[0;34m\u001b[0m\u001b[0m\n\u001b[0;32m--> 257\u001b[0;31m     \u001b[0;32mreturn\u001b[0m \u001b[0mproject\u001b[0m\u001b[0;34m.\u001b[0m\u001b[0m_get_current_experiment\u001b[0m\u001b[0;34m(\u001b[0m\u001b[0;34m)\u001b[0m\u001b[0;34m\u001b[0m\u001b[0;34m\u001b[0m\u001b[0m\n\u001b[0m\u001b[1;32m    258\u001b[0m \u001b[0;34m\u001b[0m\u001b[0m\n\u001b[1;32m    259\u001b[0m \u001b[0;34m\u001b[0m\u001b[0m\n",
            "\u001b[0;32m/usr/local/lib/python3.7/dist-packages/neptune/projects.py\u001b[0m in \u001b[0;36m_get_current_experiment\u001b[0;34m(self)\u001b[0m\n\u001b[1;32m    610\u001b[0m                 \u001b[0;32mreturn\u001b[0m \u001b[0mself\u001b[0m\u001b[0;34m.\u001b[0m\u001b[0m_experiments_stack\u001b[0m\u001b[0;34m[\u001b[0m\u001b[0;34m-\u001b[0m\u001b[0;36m1\u001b[0m\u001b[0;34m]\u001b[0m\u001b[0;34m\u001b[0m\u001b[0;34m\u001b[0m\u001b[0m\n\u001b[1;32m    611\u001b[0m             \u001b[0;32melse\u001b[0m\u001b[0;34m:\u001b[0m\u001b[0;34m\u001b[0m\u001b[0;34m\u001b[0m\u001b[0m\n\u001b[0;32m--> 612\u001b[0;31m                 \u001b[0;32mraise\u001b[0m \u001b[0mNeptuneNoExperimentContextException\u001b[0m\u001b[0;34m(\u001b[0m\u001b[0;34m)\u001b[0m\u001b[0;34m\u001b[0m\u001b[0;34m\u001b[0m\u001b[0m\n\u001b[0m\u001b[1;32m    613\u001b[0m \u001b[0;34m\u001b[0m\u001b[0m\n\u001b[1;32m    614\u001b[0m     \u001b[0;32mdef\u001b[0m \u001b[0m_push_new_experiment\u001b[0m\u001b[0;34m(\u001b[0m\u001b[0mself\u001b[0m\u001b[0;34m,\u001b[0m \u001b[0mnew_experiment\u001b[0m\u001b[0;34m)\u001b[0m\u001b[0;34m:\u001b[0m\u001b[0;34m\u001b[0m\u001b[0;34m\u001b[0m\u001b[0m\n",
            "\u001b[0;31mNeptuneNoExperimentContextException\u001b[0m: \n\u001b[95m  \n----NeptuneNoExperimentContextException---------------------------------------------------------------------------------\n\u001b[0m\nNeptune couldn't find an active experiment.\n\nLooks like you forgot to run:\n    \u001b[96mneptune.create_experiment()\u001b[0m\n    \nYou may also want to check the following docs pages:\n    - https://docs.neptune.ai/getting-started/quick-starts/log_first_experiment.html\n\n\u001b[92mNeed help?\u001b[0m-> https://docs.neptune.ai/getting-started/getting-help.html\n"
          ]
        }
      ]
    },
    {
      "cell_type": "markdown",
      "metadata": {
        "id": "Tz8G7CNjk90q"
      },
      "source": [
        "##KNN approach"
      ]
    },
    {
      "cell_type": "code",
      "metadata": {
        "colab": {
          "base_uri": "https://localhost:8080/"
        },
        "id": "6TX_NkuJk-Ji",
        "outputId": "ac4cdbac-c455-4332-8606-1d197325ac50"
      },
      "source": [
        "model=KNeighborsClassifier(n_neighbors=3,algorithm='auto',weights='distance')\r\n",
        "model.fit(train_data,train_label)       \r\n",
        "y_predict=model.predict(val_data)\r\n",
        "print(\"Train accuracy : \"+str(model.score(train_data,train_label)))\r\n",
        "print(\"Validation accuracy : \"+str(model.score(val_data,val_label)))\r\n",
        "print(\"Precision : \"+str(precision_score(val_label,y_predict,average='macro', zero_division=0)))\r\n",
        "print(\"Recall : \"+str(recall_score(val_label,y_predict,average='macro', zero_division=0)))\r\n",
        "print(\"F1-Score : \"+str(f1_score(val_label,y_predict,average='macro', zero_division=0)))\r\n",
        "print(\"Classification Report\")\r\n",
        "print(classification_report(val_label,y_predict,zero_division=0))\r\n",
        "print(\"Confusion Matrix\")\r\n",
        "print(confusion_matrix(val_label,y_predict))\r\n",
        "#fig, ax = plt.subplots()\r\n",
        "#plot_confusion_matrix(val_label, y_predict, ax=ax)\r\n",
        "\r\n",
        "\r\n",
        "#neptune.log_metric('Training Accuracy', model.score(train_data,train_label))\r\n",
        "#neptune.log_metric('Validation Accuracy', model.score(val_data,val_label))\r\n",
        "#neptune.log_metric('Precision',precision_score(val_label,y_predict,average='macro', zero_division=0))\r\n",
        "#neptune.log_metric('Recall', recall_score(val_label,y_predict,average='macro', zero_division=0))\r\n",
        "#neptune.log_metric('F1-Score',f1_score(val_label,y_predict,average='macro', zero_division=0))"
      ],
      "execution_count": 23,
      "outputs": [
        {
          "output_type": "stream",
          "text": [
            "Train accuracy : 1.0\n",
            "Validation accuracy : 0.4608948708621317\n",
            "Precision : 0.35677239220016704\n",
            "Recall : 0.35632514028498524\n",
            "F1-Score : 0.3565113938974585\n",
            "Classification Report\n",
            "              precision    recall  f1-score   support\n",
            "\n",
            "           0       0.61      0.61      0.61      1610\n",
            "           1       0.28      0.28      0.28       741\n",
            "           2       0.18      0.17      0.18       398\n",
            "\n",
            "    accuracy                           0.46      2749\n",
            "   macro avg       0.36      0.36      0.36      2749\n",
            "weighted avg       0.46      0.46      0.46      2749\n",
            "\n",
            "Confusion Matrix\n",
            "[[990 415 205]\n",
            " [426 208 107]\n",
            " [215 114  69]]\n"
          ],
          "name": "stdout"
        }
      ]
    },
    {
      "cell_type": "markdown",
      "metadata": {
        "id": "_KibxSrOmO7g"
      },
      "source": [
        "##Ensemble - extra tree classifier approach"
      ]
    },
    {
      "cell_type": "code",
      "metadata": {
        "colab": {
          "base_uri": "https://localhost:8080/"
        },
        "id": "fN0CwJ5OmPHe",
        "outputId": "f8f3c089-ecce-4310-f183-f5dfa048cd7f"
      },
      "source": [
        "from sklearn.ensemble import ExtraTreesClassifier\r\n",
        "model = ExtraTreesClassifier(max_depth=6,n_estimators=100, class_weight = 'balanced')\r\n",
        "model.fit(train_data, train_label)\r\n",
        "y_predict= model.predict(val_data)\r\n",
        "print(\"Train accuracy : \"+str(model.score(train_data,train_label)))\r\n",
        "print(\"Validation accuracy : \"+str(model.score(val_data,val_label)))\r\n",
        "print(\"Precision : \"+str(precision_score(val_label,y_predict,average='macro', zero_division=0)))\r\n",
        "print(\"Recall : \"+str(recall_score(val_label,y_predict,average='macro', zero_division=0)))\r\n",
        "print(\"F1-Score : \"+str(f1_score(val_label,y_predict,average='macro', zero_division=0)))\r\n",
        "print(\"Classification Report\")\r\n",
        "print(classification_report(val_label,y_predict,zero_division=0))\r\n",
        "print(\"Confusion Matrix\")\r\n",
        "print(confusion_matrix(val_label,y_predict))\r\n",
        "#fig, ax = plt.subplots()\r\n",
        "#plot_confusion_matrix(val_label, y_predict, ax=ax)\r\n",
        "\r\n",
        "\r\n",
        "#neptune.log_metric('Training Accuracy', model.score(train_data,train_label))\r\n",
        "#neptune.log_metric('Validation Accuracy', model.score(val_data,val_label))\r\n",
        "#neptune.log_metric('Precision',precision_score(val_label,y_predict,average='macro', zero_division=0))\r\n",
        "#neptune.log_metric('Recall', recall_score(val_label,y_predict,average='macro', zero_division=0))\r\n",
        "#neptune.log_metric('F1-Score',f1_score(val_label,y_predict,average='macro', zero_division=0))"
      ],
      "execution_count": 28,
      "outputs": [
        {
          "output_type": "stream",
          "text": [
            "Train accuracy : 0.48644220529204557\n",
            "Validation accuracy : 0.3481265914878138\n",
            "Precision : 0.35179287439174445\n",
            "Recall : 0.3466662151252149\n",
            "F1-Score : 0.32163322985707016\n",
            "Classification Report\n",
            "              precision    recall  f1-score   support\n",
            "\n",
            "           0       0.62      0.36      0.45      1610\n",
            "           1       0.29      0.33      0.31       741\n",
            "           2       0.14      0.36      0.20       398\n",
            "\n",
            "    accuracy                           0.35      2749\n",
            "   macro avg       0.35      0.35      0.32      2749\n",
            "weighted avg       0.46      0.35      0.38      2749\n",
            "\n",
            "Confusion Matrix\n",
            "[[572 453 585]\n",
            " [226 243 272]\n",
            " [126 130 142]]\n"
          ],
          "name": "stdout"
        }
      ]
    },
    {
      "cell_type": "markdown",
      "metadata": {
        "id": "mRUR6NojwRxg"
      },
      "source": [
        "##Neptune log order of Models"
      ]
    },
    {
      "cell_type": "code",
      "metadata": {
        "id": "a7SKhMljwRCf"
      },
      "source": [
        "model_list=['logistic regression','Decision Tree Classifier', 'XGB Boost','MLP classifier', 'Random Forest', 'KNN', 'Ensemble - extra tree classifier'  ]\r\n",
        "for i in model_list:\r\n",
        "  neptune.log_text('Model order',i)"
      ],
      "execution_count": 31,
      "outputs": []
    },
    {
      "cell_type": "code",
      "metadata": {
        "id": "Vtb-7X-f7h_d"
      },
      "source": [
        "neptune.stop()"
      ],
      "execution_count": 32,
      "outputs": []
    },
    {
      "cell_type": "markdown",
      "metadata": {
        "id": "Y2FHQ8Do-IOA"
      },
      "source": [
        "#Prediction For submission"
      ]
    },
    {
      "cell_type": "code",
      "metadata": {
        "colab": {
          "base_uri": "https://localhost:8080/"
        },
        "id": "TgHPByDBlQ_a",
        "outputId": "9907b929-e883-4b89-edc8-655b0581becc"
      },
      "source": [
        "y_predict_2= model.predict(test_data)\r\n",
        "y_predict_2\r\n"
      ],
      "execution_count": 24,
      "outputs": [
        {
          "output_type": "execute_result",
          "data": {
            "text/plain": [
              "array([0, 2, 0, ..., 0, 1, 0])"
            ]
          },
          "metadata": {
            "tags": []
          },
          "execution_count": 24
        }
      ]
    },
    {
      "cell_type": "code",
      "metadata": {
        "colab": {
          "base_uri": "https://localhost:8080/"
        },
        "id": "S_rvCd4wQVc-",
        "outputId": "d4dd2ce9-7512-49cd-bac4-721ac43b73f3"
      },
      "source": [
        "y_predict_2=le.inverse_transform(y_predict_2)\r\n",
        "y_predict_2"
      ],
      "execution_count": 25,
      "outputs": [
        {
          "output_type": "execute_result",
          "data": {
            "text/plain": [
              "array([1, 3, 1, ..., 1, 2, 1], dtype=object)"
            ]
          },
          "metadata": {
            "tags": []
          },
          "execution_count": 25
        }
      ]
    },
    {
      "cell_type": "code",
      "metadata": {
        "colab": {
          "base_uri": "https://localhost:8080/",
          "height": 391
        },
        "id": "AF0UopPkQtGk",
        "outputId": "27817b74-962d-41c1-b0ba-8561b94d233b"
      },
      "source": [
        "y_predict_2=pd.DataFrame(y_predict_2,columns=['Reservation_status'] )\r\n",
        "y_predict_2"
      ],
      "execution_count": 26,
      "outputs": [
        {
          "output_type": "execute_result",
          "data": {
            "text/html": [
              "<div>\n",
              "<style scoped>\n",
              "    .dataframe tbody tr th:only-of-type {\n",
              "        vertical-align: middle;\n",
              "    }\n",
              "\n",
              "    .dataframe tbody tr th {\n",
              "        vertical-align: top;\n",
              "    }\n",
              "\n",
              "    .dataframe thead th {\n",
              "        text-align: right;\n",
              "    }\n",
              "</style>\n",
              "<table border=\"1\" class=\"dataframe\">\n",
              "  <thead>\n",
              "    <tr style=\"text-align: right;\">\n",
              "      <th></th>\n",
              "      <th>Reservation_status</th>\n",
              "    </tr>\n",
              "  </thead>\n",
              "  <tbody>\n",
              "    <tr>\n",
              "      <th>0</th>\n",
              "      <td>1</td>\n",
              "    </tr>\n",
              "    <tr>\n",
              "      <th>1</th>\n",
              "      <td>3</td>\n",
              "    </tr>\n",
              "    <tr>\n",
              "      <th>2</th>\n",
              "      <td>1</td>\n",
              "    </tr>\n",
              "    <tr>\n",
              "      <th>3</th>\n",
              "      <td>2</td>\n",
              "    </tr>\n",
              "    <tr>\n",
              "      <th>4</th>\n",
              "      <td>2</td>\n",
              "    </tr>\n",
              "    <tr>\n",
              "      <th>...</th>\n",
              "      <td>...</td>\n",
              "    </tr>\n",
              "    <tr>\n",
              "      <th>4313</th>\n",
              "      <td>2</td>\n",
              "    </tr>\n",
              "    <tr>\n",
              "      <th>4314</th>\n",
              "      <td>1</td>\n",
              "    </tr>\n",
              "    <tr>\n",
              "      <th>4315</th>\n",
              "      <td>1</td>\n",
              "    </tr>\n",
              "    <tr>\n",
              "      <th>4316</th>\n",
              "      <td>2</td>\n",
              "    </tr>\n",
              "    <tr>\n",
              "      <th>4317</th>\n",
              "      <td>1</td>\n",
              "    </tr>\n",
              "  </tbody>\n",
              "</table>\n",
              "<p>4318 rows × 1 columns</p>\n",
              "</div>"
            ],
            "text/plain": [
              "     Reservation_status\n",
              "0                     1\n",
              "1                     3\n",
              "2                     1\n",
              "3                     2\n",
              "4                     2\n",
              "...                 ...\n",
              "4313                  2\n",
              "4314                  1\n",
              "4315                  1\n",
              "4316                  2\n",
              "4317                  1\n",
              "\n",
              "[4318 rows x 1 columns]"
            ]
          },
          "metadata": {
            "tags": []
          },
          "execution_count": 26
        }
      ]
    },
    {
      "cell_type": "code",
      "metadata": {
        "colab": {
          "base_uri": "https://localhost:8080/",
          "height": 391
        },
        "id": "52bWVSSXSEj3",
        "outputId": "35b93424-9286-4c67-8c75-cc81ce3ce8ab"
      },
      "source": [
        "test_reservation=pd.DataFrame(test_reservation)\r\n",
        "test_reservation"
      ],
      "execution_count": 27,
      "outputs": [
        {
          "output_type": "execute_result",
          "data": {
            "text/html": [
              "<div>\n",
              "<style scoped>\n",
              "    .dataframe tbody tr th:only-of-type {\n",
              "        vertical-align: middle;\n",
              "    }\n",
              "\n",
              "    .dataframe tbody tr th {\n",
              "        vertical-align: top;\n",
              "    }\n",
              "\n",
              "    .dataframe thead th {\n",
              "        text-align: right;\n",
              "    }\n",
              "</style>\n",
              "<table border=\"1\" class=\"dataframe\">\n",
              "  <thead>\n",
              "    <tr style=\"text-align: right;\">\n",
              "      <th></th>\n",
              "      <th>Reservation-id</th>\n",
              "    </tr>\n",
              "  </thead>\n",
              "  <tbody>\n",
              "    <tr>\n",
              "      <th>0</th>\n",
              "      <td>62931593</td>\n",
              "    </tr>\n",
              "    <tr>\n",
              "      <th>1</th>\n",
              "      <td>70586099</td>\n",
              "    </tr>\n",
              "    <tr>\n",
              "      <th>2</th>\n",
              "      <td>4230648</td>\n",
              "    </tr>\n",
              "    <tr>\n",
              "      <th>3</th>\n",
              "      <td>25192322</td>\n",
              "    </tr>\n",
              "    <tr>\n",
              "      <th>4</th>\n",
              "      <td>80931528</td>\n",
              "    </tr>\n",
              "    <tr>\n",
              "      <th>...</th>\n",
              "      <td>...</td>\n",
              "    </tr>\n",
              "    <tr>\n",
              "      <th>4313</th>\n",
              "      <td>39110574</td>\n",
              "    </tr>\n",
              "    <tr>\n",
              "      <th>4314</th>\n",
              "      <td>5496554</td>\n",
              "    </tr>\n",
              "    <tr>\n",
              "      <th>4315</th>\n",
              "      <td>59004046</td>\n",
              "    </tr>\n",
              "    <tr>\n",
              "      <th>4316</th>\n",
              "      <td>65838682</td>\n",
              "    </tr>\n",
              "    <tr>\n",
              "      <th>4317</th>\n",
              "      <td>14474101</td>\n",
              "    </tr>\n",
              "  </tbody>\n",
              "</table>\n",
              "<p>4318 rows × 1 columns</p>\n",
              "</div>"
            ],
            "text/plain": [
              "      Reservation-id\n",
              "0           62931593\n",
              "1           70586099\n",
              "2            4230648\n",
              "3           25192322\n",
              "4           80931528\n",
              "...              ...\n",
              "4313        39110574\n",
              "4314         5496554\n",
              "4315        59004046\n",
              "4316        65838682\n",
              "4317        14474101\n",
              "\n",
              "[4318 rows x 1 columns]"
            ]
          },
          "metadata": {
            "tags": []
          },
          "execution_count": 27
        }
      ]
    },
    {
      "cell_type": "code",
      "metadata": {
        "colab": {
          "base_uri": "https://localhost:8080/",
          "height": 391
        },
        "id": "aR96ORxqQxHa",
        "outputId": "fb766a06-4ad6-444c-e487-33d0f9f26317"
      },
      "source": [
        "test_reservation=pd.concat([test_reservation,y_predict_2],axis=1)\r\n",
        "test_reservation"
      ],
      "execution_count": 28,
      "outputs": [
        {
          "output_type": "execute_result",
          "data": {
            "text/html": [
              "<div>\n",
              "<style scoped>\n",
              "    .dataframe tbody tr th:only-of-type {\n",
              "        vertical-align: middle;\n",
              "    }\n",
              "\n",
              "    .dataframe tbody tr th {\n",
              "        vertical-align: top;\n",
              "    }\n",
              "\n",
              "    .dataframe thead th {\n",
              "        text-align: right;\n",
              "    }\n",
              "</style>\n",
              "<table border=\"1\" class=\"dataframe\">\n",
              "  <thead>\n",
              "    <tr style=\"text-align: right;\">\n",
              "      <th></th>\n",
              "      <th>Reservation-id</th>\n",
              "      <th>Reservation_status</th>\n",
              "    </tr>\n",
              "  </thead>\n",
              "  <tbody>\n",
              "    <tr>\n",
              "      <th>0</th>\n",
              "      <td>62931593</td>\n",
              "      <td>1</td>\n",
              "    </tr>\n",
              "    <tr>\n",
              "      <th>1</th>\n",
              "      <td>70586099</td>\n",
              "      <td>3</td>\n",
              "    </tr>\n",
              "    <tr>\n",
              "      <th>2</th>\n",
              "      <td>4230648</td>\n",
              "      <td>1</td>\n",
              "    </tr>\n",
              "    <tr>\n",
              "      <th>3</th>\n",
              "      <td>25192322</td>\n",
              "      <td>2</td>\n",
              "    </tr>\n",
              "    <tr>\n",
              "      <th>4</th>\n",
              "      <td>80931528</td>\n",
              "      <td>2</td>\n",
              "    </tr>\n",
              "    <tr>\n",
              "      <th>...</th>\n",
              "      <td>...</td>\n",
              "      <td>...</td>\n",
              "    </tr>\n",
              "    <tr>\n",
              "      <th>4313</th>\n",
              "      <td>39110574</td>\n",
              "      <td>2</td>\n",
              "    </tr>\n",
              "    <tr>\n",
              "      <th>4314</th>\n",
              "      <td>5496554</td>\n",
              "      <td>1</td>\n",
              "    </tr>\n",
              "    <tr>\n",
              "      <th>4315</th>\n",
              "      <td>59004046</td>\n",
              "      <td>1</td>\n",
              "    </tr>\n",
              "    <tr>\n",
              "      <th>4316</th>\n",
              "      <td>65838682</td>\n",
              "      <td>2</td>\n",
              "    </tr>\n",
              "    <tr>\n",
              "      <th>4317</th>\n",
              "      <td>14474101</td>\n",
              "      <td>1</td>\n",
              "    </tr>\n",
              "  </tbody>\n",
              "</table>\n",
              "<p>4318 rows × 2 columns</p>\n",
              "</div>"
            ],
            "text/plain": [
              "      Reservation-id Reservation_status\n",
              "0           62931593                  1\n",
              "1           70586099                  3\n",
              "2            4230648                  1\n",
              "3           25192322                  2\n",
              "4           80931528                  2\n",
              "...              ...                ...\n",
              "4313        39110574                  2\n",
              "4314         5496554                  1\n",
              "4315        59004046                  1\n",
              "4316        65838682                  2\n",
              "4317        14474101                  1\n",
              "\n",
              "[4318 rows x 2 columns]"
            ]
          },
          "metadata": {
            "tags": []
          },
          "execution_count": 28
        }
      ]
    },
    {
      "cell_type": "code",
      "metadata": {
        "id": "YJHlvr10SaS4"
      },
      "source": [
        "test_reservation.to_csv('submission_KNN_upsampled_0.33_0.33_0.33.csv',index=False)"
      ],
      "execution_count": 29,
      "outputs": []
    },
    {
      "cell_type": "code",
      "metadata": {
        "id": "5qXZnp-qWa-l"
      },
      "source": [
        ""
      ],
      "execution_count": null,
      "outputs": []
    }
  ]
}